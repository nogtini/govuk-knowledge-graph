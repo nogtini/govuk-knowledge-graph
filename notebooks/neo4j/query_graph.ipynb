{
 "cells": [
  {
   "cell_type": "markdown",
   "metadata": {},
   "source": [
    "Based on these [py2neo docs](https://py2neo.org/v4/database.html)."
   ]
  },
  {
   "cell_type": "code",
   "execution_count": null,
   "metadata": {
    "ExecuteTime": {
     "end_time": "2019-06-03T19:10:41.931910Z",
     "start_time": "2019-06-03T19:10:39.491638Z"
    }
   },
   "outputs": [],
   "source": [
    "from py2neo import Graph\n",
    "import pandas as pd\n",
    "import os"
   ]
  },
  {
   "cell_type": "code",
   "execution_count": null,
   "metadata": {
    "ExecuteTime": {
     "end_time": "2019-06-03T20:27:00.825604Z",
     "start_time": "2019-06-03T20:27:00.822412Z"
    }
   },
   "outputs": [],
   "source": [
    "NEO4J_AUTH = os.getenv(\"NEO4J_AUTH\")\n",
    "#print(NEO4J_AUTH)"
   ]
  },
  {
   "cell_type": "code",
   "execution_count": null,
   "metadata": {
    "ExecuteTime": {
     "end_time": "2019-06-03T19:10:53.751736Z",
     "start_time": "2019-06-03T19:10:53.746958Z"
    }
   },
   "outputs": [],
   "source": [
    "# the default value of bolt://localhost:7687 is used\n",
    "graph = Graph(auth = NEO4J_AUTH)"
   ]
  },
  {
   "cell_type": "code",
   "execution_count": null,
   "metadata": {
    "ExecuteTime": {
     "end_time": "2019-06-03T20:18:34.464118Z",
     "start_time": "2019-06-03T20:18:34.385426Z"
    }
   },
   "outputs": [],
   "source": [
    "df = graph.run(\"MATCH (c:Cid)-[r:HAS_PRIMARY_PUBLISHING_ORGANISATION]->(o:Organisation{name: 'Government Digital Service'}) RETURN c.name, c.contentID\").to_data_frame()"
   ]
  },
  {
   "cell_type": "code",
   "execution_count": null,
   "metadata": {
    "ExecuteTime": {
     "end_time": "2019-06-03T20:18:34.968928Z",
     "start_time": "2019-06-03T20:18:34.958656Z"
    }
   },
   "outputs": [],
   "source": [
    "print(df.shape)\n",
    "df.head(10)"
   ]
  }
 ],
 "metadata": {
  "kernelspec": {
   "display_name": "Python 3",
   "language": "python",
   "name": "python3"
  },
  "language_info": {
   "codemirror_mode": {
    "name": "ipython",
    "version": 3
   },
   "file_extension": ".py",
   "mimetype": "text/x-python",
   "name": "python",
   "nbconvert_exporter": "python",
   "pygments_lexer": "ipython3",
   "version": "3.7.0"
  },
  "toc": {
   "base_numbering": 1,
   "nav_menu": {},
   "number_sections": true,
   "sideBar": true,
   "skip_h1_title": false,
   "title_cell": "Table of Contents",
   "title_sidebar": "Contents",
   "toc_cell": false,
   "toc_position": {},
   "toc_section_display": true,
   "toc_window_display": false
  }
 },
 "nbformat": 4,
 "nbformat_minor": 2
}
