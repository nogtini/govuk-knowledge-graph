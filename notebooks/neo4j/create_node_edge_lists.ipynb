{
 "cells": [
  {
   "cell_type": "code",
   "execution_count": 1,
   "metadata": {
    "ExecuteTime": {
     "end_time": "2019-06-10T12:49:53.483073Z",
     "start_time": "2019-06-10T12:49:49.844863Z"
    }
   },
   "outputs": [],
   "source": [
    "import os\n",
    "import pandas as pd\n",
    "import numpy as np\n",
    "import ast\n",
    "import json"
   ]
  },
  {
   "cell_type": "markdown",
   "metadata": {},
   "source": [
    "# Organisation"
   ]
  },
  {
   "cell_type": "code",
   "execution_count": 2,
   "metadata": {
    "ExecuteTime": {
     "end_time": "2019-06-10T12:50:01.207200Z",
     "start_time": "2019-06-10T12:50:01.204156Z"
    }
   },
   "outputs": [],
   "source": [
    "DATA_DIR = os.getenv(\"DATA_DIR\")\n",
    "org_edge_list = os.path.join(DATA_DIR, \"org_edgelist_from_api.csv\")"
   ]
  },
  {
   "cell_type": "code",
   "execution_count": 53,
   "metadata": {
    "ExecuteTime": {
     "end_time": "2019-05-25T21:25:48.048107Z",
     "start_time": "2019-05-25T21:25:48.031258Z"
    }
   },
   "outputs": [],
   "source": [
    "df = pd.read_csv(org_edge_list)"
   ]
  },
  {
   "cell_type": "code",
   "execution_count": 54,
   "metadata": {
    "ExecuteTime": {
     "end_time": "2019-05-25T21:25:48.998049Z",
     "start_time": "2019-05-25T21:25:48.978244Z"
    }
   },
   "outputs": [
    {
     "data": {
      "text/html": [
       "<div>\n",
       "<style scoped>\n",
       "    .dataframe tbody tr th:only-of-type {\n",
       "        vertical-align: middle;\n",
       "    }\n",
       "\n",
       "    .dataframe tbody tr th {\n",
       "        vertical-align: top;\n",
       "    }\n",
       "\n",
       "    .dataframe thead th {\n",
       "        text-align: right;\n",
       "    }\n",
       "</style>\n",
       "<table border=\"1\" class=\"dataframe\">\n",
       "  <thead>\n",
       "    <tr style=\"text-align: right;\">\n",
       "      <th></th>\n",
       "      <th>src_base_path</th>\n",
       "      <th>src_cid</th>\n",
       "      <th>src_title</th>\n",
       "      <th>target_base_path</th>\n",
       "      <th>target_cid</th>\n",
       "      <th>target_title</th>\n",
       "      <th>link_type</th>\n",
       "      <th>src_orgid</th>\n",
       "      <th>target_orgid</th>\n",
       "    </tr>\n",
       "  </thead>\n",
       "  <tbody>\n",
       "    <tr>\n",
       "      <th>0</th>\n",
       "      <td>academy-for-social-justice</td>\n",
       "      <td>b854f170-53c8-4098-bf77-e8ef42f93107</td>\n",
       "      <td>Academy for Social Justice</td>\n",
       "      <td>ministry-of-justice</td>\n",
       "      <td>dcc907d6-433c-42df-9ffb-d9c68be5dc4d</td>\n",
       "      <td>Ministry of Justice</td>\n",
       "      <td>has_parent_org</td>\n",
       "      <td>OT1276</td>\n",
       "      <td>D18</td>\n",
       "    </tr>\n",
       "    <tr>\n",
       "      <th>1</th>\n",
       "      <td>academy-for-social-justice</td>\n",
       "      <td>b854f170-53c8-4098-bf77-e8ef42f93107</td>\n",
       "      <td>Academy for Social Justice</td>\n",
       "      <td>academy-for-social-justice-commissioning</td>\n",
       "      <td>ce357bdb-6396-426a-9f1f-8cbfb444cffd</td>\n",
       "      <td>Academy for Social Justice Commissioning</td>\n",
       "      <td>has_superseded_org</td>\n",
       "      <td>OT1276</td>\n",
       "      <td>OT1208</td>\n",
       "    </tr>\n",
       "    <tr>\n",
       "      <th>2</th>\n",
       "      <td>accelerated-access-review</td>\n",
       "      <td>a0f338c5-e94c-42f8-9c26-b9c2eb6850d3</td>\n",
       "      <td>Accelerated Access Review</td>\n",
       "      <td>department-of-health-and-social-care</td>\n",
       "      <td>7cd6bf12-bbe9-4118-8523-f927b0442156</td>\n",
       "      <td>Department of Health and Social Care</td>\n",
       "      <td>has_parent_org</td>\n",
       "      <td>OT1137</td>\n",
       "      <td>D12</td>\n",
       "    </tr>\n",
       "    <tr>\n",
       "      <th>3</th>\n",
       "      <td>administration-of-radioactive-substances-advis...</td>\n",
       "      <td>b5bd9a64-4315-492e-9679-3e2f6799c769</td>\n",
       "      <td>Administration of Radioactive Substances Advis...</td>\n",
       "      <td>department-of-health-and-social-care</td>\n",
       "      <td>7cd6bf12-bbe9-4118-8523-f927b0442156</td>\n",
       "      <td>Department of Health and Social Care</td>\n",
       "      <td>has_parent_org</td>\n",
       "      <td>PB523</td>\n",
       "      <td>D12</td>\n",
       "    </tr>\n",
       "    <tr>\n",
       "      <th>4</th>\n",
       "      <td>administrative-court</td>\n",
       "      <td>b0bdfcf3-2763-4002-961e-a0b2d7825038</td>\n",
       "      <td>Administrative Court</td>\n",
       "      <td>hm-courts-and-tribunals-service</td>\n",
       "      <td>6f757605-ab8f-4b62-84e4-99f79cf085c2</td>\n",
       "      <td>HM Courts &amp; Tribunals Service</td>\n",
       "      <td>has_parent_org</td>\n",
       "      <td>CO1188</td>\n",
       "      <td>EA73</td>\n",
       "    </tr>\n",
       "  </tbody>\n",
       "</table>\n",
       "</div>"
      ],
      "text/plain": [
       "                                       src_base_path  \\\n",
       "0                         academy-for-social-justice   \n",
       "1                         academy-for-social-justice   \n",
       "2                          accelerated-access-review   \n",
       "3  administration-of-radioactive-substances-advis...   \n",
       "4                               administrative-court   \n",
       "\n",
       "                                src_cid  \\\n",
       "0  b854f170-53c8-4098-bf77-e8ef42f93107   \n",
       "1  b854f170-53c8-4098-bf77-e8ef42f93107   \n",
       "2  a0f338c5-e94c-42f8-9c26-b9c2eb6850d3   \n",
       "3  b5bd9a64-4315-492e-9679-3e2f6799c769   \n",
       "4  b0bdfcf3-2763-4002-961e-a0b2d7825038   \n",
       "\n",
       "                                           src_title  \\\n",
       "0                         Academy for Social Justice   \n",
       "1                         Academy for Social Justice   \n",
       "2                          Accelerated Access Review   \n",
       "3  Administration of Radioactive Substances Advis...   \n",
       "4                               Administrative Court   \n",
       "\n",
       "                           target_base_path  \\\n",
       "0                       ministry-of-justice   \n",
       "1  academy-for-social-justice-commissioning   \n",
       "2      department-of-health-and-social-care   \n",
       "3      department-of-health-and-social-care   \n",
       "4           hm-courts-and-tribunals-service   \n",
       "\n",
       "                             target_cid  \\\n",
       "0  dcc907d6-433c-42df-9ffb-d9c68be5dc4d   \n",
       "1  ce357bdb-6396-426a-9f1f-8cbfb444cffd   \n",
       "2  7cd6bf12-bbe9-4118-8523-f927b0442156   \n",
       "3  7cd6bf12-bbe9-4118-8523-f927b0442156   \n",
       "4  6f757605-ab8f-4b62-84e4-99f79cf085c2   \n",
       "\n",
       "                               target_title           link_type src_orgid  \\\n",
       "0                       Ministry of Justice      has_parent_org    OT1276   \n",
       "1  Academy for Social Justice Commissioning  has_superseded_org    OT1276   \n",
       "2      Department of Health and Social Care      has_parent_org    OT1137   \n",
       "3      Department of Health and Social Care      has_parent_org     PB523   \n",
       "4             HM Courts & Tribunals Service      has_parent_org    CO1188   \n",
       "\n",
       "  target_orgid  \n",
       "0          D18  \n",
       "1       OT1208  \n",
       "2          D12  \n",
       "3          D12  \n",
       "4         EA73  "
      ]
     },
     "execution_count": 54,
     "metadata": {},
     "output_type": "execute_result"
    }
   ],
   "source": [
    "df.head()"
   ]
  },
  {
   "cell_type": "markdown",
   "metadata": {},
   "source": [
    "## Org"
   ]
  },
  {
   "cell_type": "code",
   "execution_count": 10,
   "metadata": {
    "ExecuteTime": {
     "end_time": "2019-05-24T15:04:19.431265Z",
     "start_time": "2019-05-24T15:04:19.426135Z"
    }
   },
   "outputs": [],
   "source": [
    "# creating dict removes duplicates, merge the two sets\n",
    "src_dict = dict(zip(df.src_title, df.src_orgid))\n",
    "target_dict = dict(zip(df.target_title, df.target_orgid))\n",
    "# https://stackoverflow.com/questions/38987/how-to-merge-two-dictionaries-in-a-single-expression\n",
    "org_dict = {**src_dict, **target_dict}"
   ]
  },
  {
   "cell_type": "code",
   "execution_count": 47,
   "metadata": {
    "ExecuteTime": {
     "end_time": "2019-05-25T18:41:19.785792Z",
     "start_time": "2019-05-25T18:41:19.774484Z"
    }
   },
   "outputs": [
    {
     "data": {
      "text/plain": [
       "763"
      ]
     },
     "execution_count": 47,
     "metadata": {},
     "output_type": "execute_result"
    }
   ],
   "source": [
    "# this contrasts to the complete set in the Registers API which has almost 1k rows\n",
    "len(org_dict)"
   ]
  },
  {
   "cell_type": "code",
   "execution_count": 29,
   "metadata": {
    "ExecuteTime": {
     "end_time": "2019-05-24T15:19:42.111262Z",
     "start_time": "2019-05-24T15:19:42.098519Z"
    }
   },
   "outputs": [
    {
     "data": {
      "text/html": [
       "<div>\n",
       "<style scoped>\n",
       "    .dataframe tbody tr th:only-of-type {\n",
       "        vertical-align: middle;\n",
       "    }\n",
       "\n",
       "    .dataframe tbody tr th {\n",
       "        vertical-align: top;\n",
       "    }\n",
       "\n",
       "    .dataframe thead th {\n",
       "        text-align: right;\n",
       "    }\n",
       "</style>\n",
       "<table border=\"1\" class=\"dataframe\">\n",
       "  <thead>\n",
       "    <tr style=\"text-align: right;\">\n",
       "      <th></th>\n",
       "      <th>title</th>\n",
       "      <th>orgid</th>\n",
       "    </tr>\n",
       "  </thead>\n",
       "  <tbody>\n",
       "    <tr>\n",
       "      <th>0</th>\n",
       "      <td>Academy for Social Justice</td>\n",
       "      <td>OT1276</td>\n",
       "    </tr>\n",
       "    <tr>\n",
       "      <th>1</th>\n",
       "      <td>Accelerated Access Review</td>\n",
       "      <td>OT1137</td>\n",
       "    </tr>\n",
       "    <tr>\n",
       "      <th>2</th>\n",
       "      <td>Administration of Radioactive Substances Advis...</td>\n",
       "      <td>PB523</td>\n",
       "    </tr>\n",
       "    <tr>\n",
       "      <th>3</th>\n",
       "      <td>Administrative Court</td>\n",
       "      <td>CO1188</td>\n",
       "    </tr>\n",
       "    <tr>\n",
       "      <th>4</th>\n",
       "      <td>Admiralty Court</td>\n",
       "      <td>CO1147</td>\n",
       "    </tr>\n",
       "  </tbody>\n",
       "</table>\n",
       "</div>"
      ],
      "text/plain": [
       "                                               title   orgid\n",
       "0                         Academy for Social Justice  OT1276\n",
       "1                          Accelerated Access Review  OT1137\n",
       "2  Administration of Radioactive Substances Advis...   PB523\n",
       "3                               Administrative Court  CO1188\n",
       "4                                    Admiralty Court  CO1147"
      ]
     },
     "execution_count": 29,
     "metadata": {},
     "output_type": "execute_result"
    }
   ],
   "source": [
    "org_nodes = pd.DataFrame.from_dict(org_dict, orient=\"index\")\n",
    "\n",
    "org_nodes.reset_index(inplace = True)\n",
    "org_nodes.columns = ['title', 'orgid']\n",
    "org_nodes.head()"
   ]
  },
  {
   "cell_type": "code",
   "execution_count": 30,
   "metadata": {
    "ExecuteTime": {
     "end_time": "2019-05-24T15:20:50.682531Z",
     "start_time": "2019-05-24T15:20:50.667555Z"
    }
   },
   "outputs": [],
   "source": [
    "org_nodes.to_csv(os.path.join(DATA_DIR, \"Org.csv\"), index=False)"
   ]
  },
  {
   "cell_type": "markdown",
   "metadata": {},
   "source": [
    "## OrgOrgRel\n"
   ]
  },
  {
   "cell_type": "code",
   "execution_count": 55,
   "metadata": {
    "ExecuteTime": {
     "end_time": "2019-05-25T21:26:01.827710Z",
     "start_time": "2019-05-25T21:26:01.813759Z"
    }
   },
   "outputs": [
    {
     "data": {
      "text/html": [
       "<div>\n",
       "<style scoped>\n",
       "    .dataframe tbody tr th:only-of-type {\n",
       "        vertical-align: middle;\n",
       "    }\n",
       "\n",
       "    .dataframe tbody tr th {\n",
       "        vertical-align: top;\n",
       "    }\n",
       "\n",
       "    .dataframe thead th {\n",
       "        text-align: right;\n",
       "    }\n",
       "</style>\n",
       "<table border=\"1\" class=\"dataframe\">\n",
       "  <thead>\n",
       "    <tr style=\"text-align: right;\">\n",
       "      <th></th>\n",
       "      <th>src_base_path</th>\n",
       "      <th>src_cid</th>\n",
       "      <th>src_title</th>\n",
       "      <th>target_base_path</th>\n",
       "      <th>target_cid</th>\n",
       "      <th>target_title</th>\n",
       "      <th>link_type</th>\n",
       "      <th>src_orgid</th>\n",
       "      <th>target_orgid</th>\n",
       "    </tr>\n",
       "  </thead>\n",
       "  <tbody>\n",
       "    <tr>\n",
       "      <th>0</th>\n",
       "      <td>academy-for-social-justice</td>\n",
       "      <td>b854f170-53c8-4098-bf77-e8ef42f93107</td>\n",
       "      <td>Academy for Social Justice</td>\n",
       "      <td>ministry-of-justice</td>\n",
       "      <td>dcc907d6-433c-42df-9ffb-d9c68be5dc4d</td>\n",
       "      <td>Ministry of Justice</td>\n",
       "      <td>has_parent_org</td>\n",
       "      <td>OT1276</td>\n",
       "      <td>D18</td>\n",
       "    </tr>\n",
       "    <tr>\n",
       "      <th>1</th>\n",
       "      <td>academy-for-social-justice</td>\n",
       "      <td>b854f170-53c8-4098-bf77-e8ef42f93107</td>\n",
       "      <td>Academy for Social Justice</td>\n",
       "      <td>academy-for-social-justice-commissioning</td>\n",
       "      <td>ce357bdb-6396-426a-9f1f-8cbfb444cffd</td>\n",
       "      <td>Academy for Social Justice Commissioning</td>\n",
       "      <td>has_superseded_org</td>\n",
       "      <td>OT1276</td>\n",
       "      <td>OT1208</td>\n",
       "    </tr>\n",
       "    <tr>\n",
       "      <th>2</th>\n",
       "      <td>accelerated-access-review</td>\n",
       "      <td>a0f338c5-e94c-42f8-9c26-b9c2eb6850d3</td>\n",
       "      <td>Accelerated Access Review</td>\n",
       "      <td>department-of-health-and-social-care</td>\n",
       "      <td>7cd6bf12-bbe9-4118-8523-f927b0442156</td>\n",
       "      <td>Department of Health and Social Care</td>\n",
       "      <td>has_parent_org</td>\n",
       "      <td>OT1137</td>\n",
       "      <td>D12</td>\n",
       "    </tr>\n",
       "    <tr>\n",
       "      <th>3</th>\n",
       "      <td>administration-of-radioactive-substances-advis...</td>\n",
       "      <td>b5bd9a64-4315-492e-9679-3e2f6799c769</td>\n",
       "      <td>Administration of Radioactive Substances Advis...</td>\n",
       "      <td>department-of-health-and-social-care</td>\n",
       "      <td>7cd6bf12-bbe9-4118-8523-f927b0442156</td>\n",
       "      <td>Department of Health and Social Care</td>\n",
       "      <td>has_parent_org</td>\n",
       "      <td>PB523</td>\n",
       "      <td>D12</td>\n",
       "    </tr>\n",
       "    <tr>\n",
       "      <th>4</th>\n",
       "      <td>administrative-court</td>\n",
       "      <td>b0bdfcf3-2763-4002-961e-a0b2d7825038</td>\n",
       "      <td>Administrative Court</td>\n",
       "      <td>hm-courts-and-tribunals-service</td>\n",
       "      <td>6f757605-ab8f-4b62-84e4-99f79cf085c2</td>\n",
       "      <td>HM Courts &amp; Tribunals Service</td>\n",
       "      <td>has_parent_org</td>\n",
       "      <td>CO1188</td>\n",
       "      <td>EA73</td>\n",
       "    </tr>\n",
       "  </tbody>\n",
       "</table>\n",
       "</div>"
      ],
      "text/plain": [
       "                                       src_base_path  \\\n",
       "0                         academy-for-social-justice   \n",
       "1                         academy-for-social-justice   \n",
       "2                          accelerated-access-review   \n",
       "3  administration-of-radioactive-substances-advis...   \n",
       "4                               administrative-court   \n",
       "\n",
       "                                src_cid  \\\n",
       "0  b854f170-53c8-4098-bf77-e8ef42f93107   \n",
       "1  b854f170-53c8-4098-bf77-e8ef42f93107   \n",
       "2  a0f338c5-e94c-42f8-9c26-b9c2eb6850d3   \n",
       "3  b5bd9a64-4315-492e-9679-3e2f6799c769   \n",
       "4  b0bdfcf3-2763-4002-961e-a0b2d7825038   \n",
       "\n",
       "                                           src_title  \\\n",
       "0                         Academy for Social Justice   \n",
       "1                         Academy for Social Justice   \n",
       "2                          Accelerated Access Review   \n",
       "3  Administration of Radioactive Substances Advis...   \n",
       "4                               Administrative Court   \n",
       "\n",
       "                           target_base_path  \\\n",
       "0                       ministry-of-justice   \n",
       "1  academy-for-social-justice-commissioning   \n",
       "2      department-of-health-and-social-care   \n",
       "3      department-of-health-and-social-care   \n",
       "4           hm-courts-and-tribunals-service   \n",
       "\n",
       "                             target_cid  \\\n",
       "0  dcc907d6-433c-42df-9ffb-d9c68be5dc4d   \n",
       "1  ce357bdb-6396-426a-9f1f-8cbfb444cffd   \n",
       "2  7cd6bf12-bbe9-4118-8523-f927b0442156   \n",
       "3  7cd6bf12-bbe9-4118-8523-f927b0442156   \n",
       "4  6f757605-ab8f-4b62-84e4-99f79cf085c2   \n",
       "\n",
       "                               target_title           link_type src_orgid  \\\n",
       "0                       Ministry of Justice      has_parent_org    OT1276   \n",
       "1  Academy for Social Justice Commissioning  has_superseded_org    OT1276   \n",
       "2      Department of Health and Social Care      has_parent_org    OT1137   \n",
       "3      Department of Health and Social Care      has_parent_org     PB523   \n",
       "4             HM Courts & Tribunals Service      has_parent_org    CO1188   \n",
       "\n",
       "  target_orgid  \n",
       "0          D18  \n",
       "1       OT1208  \n",
       "2          D12  \n",
       "3          D12  \n",
       "4         EA73  "
      ]
     },
     "execution_count": 55,
     "metadata": {},
     "output_type": "execute_result"
    }
   ],
   "source": [
    "# can use this, but might be worth relabelling\n",
    "# for an Organisation\n",
    "df.head()"
   ]
  },
  {
   "cell_type": "markdown",
   "metadata": {},
   "source": [
    "Need to filter by the different link_type and create a separate csv for each one."
   ]
  },
  {
   "cell_type": "code",
   "execution_count": 57,
   "metadata": {
    "ExecuteTime": {
     "end_time": "2019-05-25T21:26:32.210318Z",
     "start_time": "2019-05-25T21:26:32.201806Z"
    }
   },
   "outputs": [
    {
     "data": {
      "text/plain": [
       "has_parent_org         650\n",
       "has_child_org          641\n",
       "has_superseding_org    183\n",
       "has_superseded_org     178\n",
       "Name: link_type, dtype: int64"
      ]
     },
     "execution_count": 57,
     "metadata": {},
     "output_type": "execute_result"
    }
   ],
   "source": [
    "df.link_type.value_counts()"
   ]
  },
  {
   "cell_type": "code",
   "execution_count": 62,
   "metadata": {
    "ExecuteTime": {
     "end_time": "2019-05-25T21:38:28.688799Z",
     "start_time": "2019-05-25T21:38:28.684010Z"
    }
   },
   "outputs": [],
   "source": [
    "def create_org_rel(relationship, df = df):\n",
    "    \"\"\"Filter the link_type column by relationship type. Write edgelist to csv into DATA_DIR.\"\"\"\n",
    "    edgelist = df[df.link_type.str.contains(relationship)]\n",
    "    edgelist.to_csv(os.path.join(DATA_DIR, ('org_'+relationship+'.csv')), index=False)"
   ]
  },
  {
   "cell_type": "markdown",
   "metadata": {},
   "source": [
    "We assume child and superseded are of the most interest - no point including symmetrical relationships."
   ]
  },
  {
   "cell_type": "code",
   "execution_count": 63,
   "metadata": {
    "ExecuteTime": {
     "end_time": "2019-05-25T21:38:32.892369Z",
     "start_time": "2019-05-25T21:38:32.872926Z"
    }
   },
   "outputs": [],
   "source": [
    "create_org_rel('has_child_org')\n",
    "create_org_rel('has_superseded_org')"
   ]
  },
  {
   "cell_type": "markdown",
   "metadata": {},
   "source": [
    "# Cid"
   ]
  },
  {
   "cell_type": "code",
   "execution_count": 139,
   "metadata": {
    "ExecuteTime": {
     "end_time": "2019-05-31T19:05:08.320952Z",
     "start_time": "2019-05-31T19:05:08.254843Z"
    }
   },
   "outputs": [],
   "source": [
    "DATA_DIR = os.getenv(\"DATA_DIR\")\n",
    "content = os.path.join(DATA_DIR, \"preprocessed_content_store.csv\")"
   ]
  },
  {
   "cell_type": "code",
   "execution_count": 140,
   "metadata": {
    "ExecuteTime": {
     "end_time": "2019-05-31T19:05:26.857671Z",
     "start_time": "2019-05-31T19:05:08.652133Z"
    }
   },
   "outputs": [],
   "source": [
    "df = pd.read_csv(content)"
   ]
  },
  {
   "cell_type": "code",
   "execution_count": 141,
   "metadata": {
    "ExecuteTime": {
     "end_time": "2019-05-31T19:05:46.575561Z",
     "start_time": "2019-05-31T19:05:26.861741Z"
    }
   },
   "outputs": [],
   "source": [
    "# create dictionary from string\n",
    "df[\"orgs_id\"] =  df[\"orgs_id\"].map(lambda x: ast.literal_eval(x) if not isinstance(x, float) else {}\n",
    ")\n",
    "df[\"orgs_title\"] =  df[\"orgs_title\"].map(lambda x: ast.literal_eval(x) if not isinstance(x, float) else {}\n",
    ")"
   ]
  },
  {
   "cell_type": "markdown",
   "metadata": {},
   "source": [
    "## Cid"
   ]
  },
  {
   "cell_type": "code",
   "execution_count": 67,
   "metadata": {
    "ExecuteTime": {
     "end_time": "2019-05-27T09:23:20.680162Z",
     "start_time": "2019-05-27T09:23:20.667959Z"
    }
   },
   "outputs": [
    {
     "data": {
      "text/html": [
       "<div>\n",
       "<style scoped>\n",
       "    .dataframe tbody tr th:only-of-type {\n",
       "        vertical-align: middle;\n",
       "    }\n",
       "\n",
       "    .dataframe tbody tr th {\n",
       "        vertical-align: top;\n",
       "    }\n",
       "\n",
       "    .dataframe thead th {\n",
       "        text-align: right;\n",
       "    }\n",
       "</style>\n",
       "<table border=\"1\" class=\"dataframe\">\n",
       "  <thead>\n",
       "    <tr style=\"text-align: right;\">\n",
       "      <th></th>\n",
       "      <th>base_path</th>\n",
       "      <th>content_id</th>\n",
       "      <th>title</th>\n",
       "      <th>description</th>\n",
       "      <th>document_type</th>\n",
       "      <th>orgs_id</th>\n",
       "      <th>orgs_title</th>\n",
       "      <th>text</th>\n",
       "    </tr>\n",
       "  </thead>\n",
       "  <tbody>\n",
       "    <tr>\n",
       "      <th>0</th>\n",
       "      <td>/1619-bursary-fund</td>\n",
       "      <td>f4b96a38-5247-4afd-b554-8a258a0e8c93</td>\n",
       "      <td>16 to 19 Bursary Fund</td>\n",
       "      <td>Bursaries of up to £1,200 for students in furt...</td>\n",
       "      <td>guide</td>\n",
       "      <td>{'organisations': ['71381a6e-aa5c-43ae-a982-be...</td>\n",
       "      <td>{'organisations': ['Education and Skills Fundi...</td>\n",
       "      <td>You could get a bursary to help with education...</td>\n",
       "    </tr>\n",
       "    <tr>\n",
       "      <th>1</th>\n",
       "      <td>/30-hours-free-childcare</td>\n",
       "      <td>ddda6dc8-e9de-49db-bbd1-97e3d0bc1e6f</td>\n",
       "      <td>30 hours free childcare</td>\n",
       "      <td>Who is eligible for 30 hours free childcare an...</td>\n",
       "      <td>answer</td>\n",
       "      <td>{'organisations': ['ebd15ade-73b2-4eaf-b1c3-43...</td>\n",
       "      <td>{'organisations': ['Department for Education',...</td>\n",
       "      <td>You may be able to get up to 30 hours free chi...</td>\n",
       "    </tr>\n",
       "  </tbody>\n",
       "</table>\n",
       "</div>"
      ],
      "text/plain": [
       "                  base_path                            content_id  \\\n",
       "0        /1619-bursary-fund  f4b96a38-5247-4afd-b554-8a258a0e8c93   \n",
       "1  /30-hours-free-childcare  ddda6dc8-e9de-49db-bbd1-97e3d0bc1e6f   \n",
       "\n",
       "                     title                                        description  \\\n",
       "0    16 to 19 Bursary Fund  Bursaries of up to £1,200 for students in furt...   \n",
       "1  30 hours free childcare  Who is eligible for 30 hours free childcare an...   \n",
       "\n",
       "  document_type                                            orgs_id  \\\n",
       "0         guide  {'organisations': ['71381a6e-aa5c-43ae-a982-be...   \n",
       "1        answer  {'organisations': ['ebd15ade-73b2-4eaf-b1c3-43...   \n",
       "\n",
       "                                          orgs_title  \\\n",
       "0  {'organisations': ['Education and Skills Fundi...   \n",
       "1  {'organisations': ['Department for Education',...   \n",
       "\n",
       "                                                text  \n",
       "0  You could get a bursary to help with education...  \n",
       "1  You may be able to get up to 30 hours free chi...  "
      ]
     },
     "execution_count": 67,
     "metadata": {},
     "output_type": "execute_result"
    }
   ],
   "source": [
    "df.head(2)"
   ]
  },
  {
   "cell_type": "code",
   "execution_count": 41,
   "metadata": {
    "ExecuteTime": {
     "end_time": "2019-05-24T15:42:31.201805Z",
     "start_time": "2019-05-24T15:42:30.974229Z"
    },
    "scrolled": true
   },
   "outputs": [
    {
     "name": "stdout",
     "output_type": "stream",
     "text": [
      "344736\n",
      "360921\n"
     ]
    },
    {
     "data": {
      "text/plain": [
       "(360921, 8)"
      ]
     },
     "execution_count": 41,
     "metadata": {},
     "output_type": "execute_result"
    }
   ],
   "source": [
    "print(len(df.content_id.unique()))\n",
    "print(len(df.base_path.unique()))\n",
    "df.shape"
   ]
  },
  {
   "cell_type": "markdown",
   "metadata": {},
   "source": [
    "While base_paths are the unique id within content store, having duplicate cids is not that common. I would force it to be a one to one mapping for now, since once we query and want to return something, i'd prefer it if it was all unique."
   ]
  },
  {
   "cell_type": "code",
   "execution_count": 68,
   "metadata": {
    "ExecuteTime": {
     "end_time": "2019-05-27T09:39:56.555033Z",
     "start_time": "2019-05-27T09:39:18.335727Z"
    }
   },
   "outputs": [
    {
     "data": {
      "text/html": [
       "<div>\n",
       "<style scoped>\n",
       "    .dataframe tbody tr th:only-of-type {\n",
       "        vertical-align: middle;\n",
       "    }\n",
       "\n",
       "    .dataframe tbody tr th {\n",
       "        vertical-align: top;\n",
       "    }\n",
       "\n",
       "    .dataframe thead th {\n",
       "        text-align: right;\n",
       "    }\n",
       "</style>\n",
       "<table border=\"1\" class=\"dataframe\">\n",
       "  <thead>\n",
       "    <tr style=\"text-align: right;\">\n",
       "      <th></th>\n",
       "      <th>content_id</th>\n",
       "      <th>base_path</th>\n",
       "    </tr>\n",
       "  </thead>\n",
       "  <tbody>\n",
       "    <tr>\n",
       "      <th>0</th>\n",
       "      <td>0000d0a0-037a-4110-a271-24327f422d06</td>\n",
       "      <td>[/government/news/new-digital-resource-for-cha...</td>\n",
       "    </tr>\n",
       "    <tr>\n",
       "      <th>1</th>\n",
       "      <td>0000e128-f9d5-4115-8203-b892fcd90044</td>\n",
       "      <td>[/guidance/237867b9-e889-45c2-ae47-0e22857a160e]</td>\n",
       "    </tr>\n",
       "    <tr>\n",
       "      <th>2</th>\n",
       "      <td>00012147-49f6-4e90-be1f-e50bb719f53d</td>\n",
       "      <td>[/government/publications/patent-journal-speci...</td>\n",
       "    </tr>\n",
       "    <tr>\n",
       "      <th>3</th>\n",
       "      <td>00015d3f-e7d9-48e8-95ff-ac3f7fa07be3</td>\n",
       "      <td>[/government/statistics/uk-consumer-price-infl...</td>\n",
       "    </tr>\n",
       "    <tr>\n",
       "      <th>4</th>\n",
       "      <td>00019715-9eec-4bef-b447-bca558dbabbb</td>\n",
       "      <td>[/aaib-reports/piper-pa-28-161-cherokee-warrio...</td>\n",
       "    </tr>\n",
       "  </tbody>\n",
       "</table>\n",
       "</div>"
      ],
      "text/plain": [
       "                             content_id  \\\n",
       "0  0000d0a0-037a-4110-a271-24327f422d06   \n",
       "1  0000e128-f9d5-4115-8203-b892fcd90044   \n",
       "2  00012147-49f6-4e90-be1f-e50bb719f53d   \n",
       "3  00015d3f-e7d9-48e8-95ff-ac3f7fa07be3   \n",
       "4  00019715-9eec-4bef-b447-bca558dbabbb   \n",
       "\n",
       "                                           base_path  \n",
       "0  [/government/news/new-digital-resource-for-cha...  \n",
       "1   [/guidance/237867b9-e889-45c2-ae47-0e22857a160e]  \n",
       "2  [/government/publications/patent-journal-speci...  \n",
       "3  [/government/statistics/uk-consumer-price-infl...  \n",
       "4  [/aaib-reports/piper-pa-28-161-cherokee-warrio...  "
      ]
     },
     "execution_count": 68,
     "metadata": {},
     "output_type": "execute_result"
    }
   ],
   "source": [
    "df_cid = df.groupby(['content_id'])['base_path'].apply(list).reset_index()\n",
    "\n",
    "#change column order                           \n",
    "df_cid.head()"
   ]
  },
  {
   "cell_type": "markdown",
   "metadata": {},
   "source": [
    "Simple lists can be stored as attributes of nodes in Neo4j. Look at the attribute [array in this example](https://neo4j.com/docs/cypher-manual/current/functions/list/)."
   ]
  },
  {
   "cell_type": "code",
   "execution_count": 88,
   "metadata": {
    "ExecuteTime": {
     "end_time": "2019-05-27T11:29:55.420373Z",
     "start_time": "2019-05-27T11:25:43.605565Z"
    }
   },
   "outputs": [],
   "source": [
    "# roll up so that one cid per row - as cid is our node, entity not base_path\n",
    "# simple lists can be stored as attributes of nodes in Neo4j\n",
    "# https://neo4j.com/docs/cypher-manual/current/functions/list/\n",
    "df_cid = df.groupby('content_id').agg({ 'base_path': lambda x: list(x),\n",
    "                                       'title': lambda x: list(x),\n",
    "                                       'description': lambda x: list(x),\n",
    "                                      'document_type': lambda x: list(x),\n",
    "                                      'orgs_id': lambda x: list(x),\n",
    "                                      'orgs_title': lambda x: list(x),\n",
    "                                      'text': lambda x: list(x)})"
   ]
  },
  {
   "cell_type": "code",
   "execution_count": 89,
   "metadata": {
    "ExecuteTime": {
     "end_time": "2019-05-27T12:31:17.010695Z",
     "start_time": "2019-05-27T12:31:16.988159Z"
    }
   },
   "outputs": [
    {
     "data": {
      "text/html": [
       "<div>\n",
       "<style scoped>\n",
       "    .dataframe tbody tr th:only-of-type {\n",
       "        vertical-align: middle;\n",
       "    }\n",
       "\n",
       "    .dataframe tbody tr th {\n",
       "        vertical-align: top;\n",
       "    }\n",
       "\n",
       "    .dataframe thead th {\n",
       "        text-align: right;\n",
       "    }\n",
       "</style>\n",
       "<table border=\"1\" class=\"dataframe\">\n",
       "  <thead>\n",
       "    <tr style=\"text-align: right;\">\n",
       "      <th></th>\n",
       "      <th>base_path</th>\n",
       "      <th>title</th>\n",
       "      <th>description</th>\n",
       "      <th>document_type</th>\n",
       "      <th>orgs_id</th>\n",
       "      <th>orgs_title</th>\n",
       "      <th>text</th>\n",
       "    </tr>\n",
       "    <tr>\n",
       "      <th>content_id</th>\n",
       "      <th></th>\n",
       "      <th></th>\n",
       "      <th></th>\n",
       "      <th></th>\n",
       "      <th></th>\n",
       "      <th></th>\n",
       "      <th></th>\n",
       "    </tr>\n",
       "  </thead>\n",
       "  <tbody>\n",
       "    <tr>\n",
       "      <th>0000d0a0-037a-4110-a271-24327f422d06</th>\n",
       "      <td>[/government/news/new-digital-resource-for-cha...</td>\n",
       "      <td>[New digital resource for charity trustees lau...</td>\n",
       "      <td>[The tool, developed by the Commission, Grant ...</td>\n",
       "      <td>[press_release]</td>\n",
       "      <td>[{'organisations': ['489e651f-34c8-4b34-bdd7-e...</td>\n",
       "      <td>[{'organisations': ['The Charity Commission'],...</td>\n",
       "      <td>[The Charity Commission Grant Thornton and Zoe...</td>\n",
       "    </tr>\n",
       "    <tr>\n",
       "      <th>0000e128-f9d5-4115-8203-b892fcd90044</th>\n",
       "      <td>[/guidance/237867b9-e889-45c2-ae47-0e22857a160e]</td>\n",
       "      <td>[()]</td>\n",
       "      <td>[()]</td>\n",
       "      <td>[detailed_guide]</td>\n",
       "      <td>[{'organisations': ['af07d5a5-df63-4ddc-9383-6...</td>\n",
       "      <td>[{'organisations': ['Government Digital Servic...</td>\n",
       "      <td>[nan]</td>\n",
       "    </tr>\n",
       "    <tr>\n",
       "      <th>00012147-49f6-4e90-be1f-e50bb719f53d</th>\n",
       "      <td>[/government/publications/patent-journal-speci...</td>\n",
       "      <td>[Patent Journal special notices: 6636]</td>\n",
       "      <td>[Publication date 27 July 2016.]</td>\n",
       "      <td>[notice]</td>\n",
       "      <td>[{'organisations': ['5d6f9583-991f-413d-ae83-b...</td>\n",
       "      <td>[{'organisations': ['Intellectual Property Off...</td>\n",
       "      <td>[These are notices which appear for a limited ...</td>\n",
       "    </tr>\n",
       "    <tr>\n",
       "      <th>00015d3f-e7d9-48e8-95ff-ac3f7fa07be3</th>\n",
       "      <td>[/government/statistics/uk-consumer-price-infl...</td>\n",
       "      <td>[UK consumer price inflation: Dec 2017]</td>\n",
       "      <td>[Price indices, percentage changes and weights...</td>\n",
       "      <td>[national_statistics]</td>\n",
       "      <td>[{'organisations': ['5da4ab94-39b2-40cf-99ae-1...</td>\n",
       "      <td>[{'organisations': ['Office for National Stati...</td>\n",
       "      <td>[Official statistics are produced impartially ...</td>\n",
       "    </tr>\n",
       "    <tr>\n",
       "      <th>00019715-9eec-4bef-b447-bca558dbabbb</th>\n",
       "      <td>[/aaib-reports/piper-pa-28-161-cherokee-warrio...</td>\n",
       "      <td>[Piper PA-28-161 Cherokee Warrior II, G-BUJO, ...</td>\n",
       "      <td>[nan]</td>\n",
       "      <td>[aaib_report]</td>\n",
       "      <td>[{'organisations': ['38eb5d8f-2d89-480c-8655-e...</td>\n",
       "      <td>[{'organisations': ['Air Accidents Investigati...</td>\n",
       "      <td>[Piper PA-28-161 Cherokee Warrior II G-BUJO Do...</td>\n",
       "    </tr>\n",
       "  </tbody>\n",
       "</table>\n",
       "</div>"
      ],
      "text/plain": [
       "                                                                              base_path  \\\n",
       "content_id                                                                                \n",
       "0000d0a0-037a-4110-a271-24327f422d06  [/government/news/new-digital-resource-for-cha...   \n",
       "0000e128-f9d5-4115-8203-b892fcd90044   [/guidance/237867b9-e889-45c2-ae47-0e22857a160e]   \n",
       "00012147-49f6-4e90-be1f-e50bb719f53d  [/government/publications/patent-journal-speci...   \n",
       "00015d3f-e7d9-48e8-95ff-ac3f7fa07be3  [/government/statistics/uk-consumer-price-infl...   \n",
       "00019715-9eec-4bef-b447-bca558dbabbb  [/aaib-reports/piper-pa-28-161-cherokee-warrio...   \n",
       "\n",
       "                                                                                  title  \\\n",
       "content_id                                                                                \n",
       "0000d0a0-037a-4110-a271-24327f422d06  [New digital resource for charity trustees lau...   \n",
       "0000e128-f9d5-4115-8203-b892fcd90044                                               [()]   \n",
       "00012147-49f6-4e90-be1f-e50bb719f53d             [Patent Journal special notices: 6636]   \n",
       "00015d3f-e7d9-48e8-95ff-ac3f7fa07be3            [UK consumer price inflation: Dec 2017]   \n",
       "00019715-9eec-4bef-b447-bca558dbabbb  [Piper PA-28-161 Cherokee Warrior II, G-BUJO, ...   \n",
       "\n",
       "                                                                            description  \\\n",
       "content_id                                                                                \n",
       "0000d0a0-037a-4110-a271-24327f422d06  [The tool, developed by the Commission, Grant ...   \n",
       "0000e128-f9d5-4115-8203-b892fcd90044                                               [()]   \n",
       "00012147-49f6-4e90-be1f-e50bb719f53d                   [Publication date 27 July 2016.]   \n",
       "00015d3f-e7d9-48e8-95ff-ac3f7fa07be3  [Price indices, percentage changes and weights...   \n",
       "00019715-9eec-4bef-b447-bca558dbabbb                                              [nan]   \n",
       "\n",
       "                                              document_type  \\\n",
       "content_id                                                    \n",
       "0000d0a0-037a-4110-a271-24327f422d06        [press_release]   \n",
       "0000e128-f9d5-4115-8203-b892fcd90044       [detailed_guide]   \n",
       "00012147-49f6-4e90-be1f-e50bb719f53d               [notice]   \n",
       "00015d3f-e7d9-48e8-95ff-ac3f7fa07be3  [national_statistics]   \n",
       "00019715-9eec-4bef-b447-bca558dbabbb          [aaib_report]   \n",
       "\n",
       "                                                                                orgs_id  \\\n",
       "content_id                                                                                \n",
       "0000d0a0-037a-4110-a271-24327f422d06  [{'organisations': ['489e651f-34c8-4b34-bdd7-e...   \n",
       "0000e128-f9d5-4115-8203-b892fcd90044  [{'organisations': ['af07d5a5-df63-4ddc-9383-6...   \n",
       "00012147-49f6-4e90-be1f-e50bb719f53d  [{'organisations': ['5d6f9583-991f-413d-ae83-b...   \n",
       "00015d3f-e7d9-48e8-95ff-ac3f7fa07be3  [{'organisations': ['5da4ab94-39b2-40cf-99ae-1...   \n",
       "00019715-9eec-4bef-b447-bca558dbabbb  [{'organisations': ['38eb5d8f-2d89-480c-8655-e...   \n",
       "\n",
       "                                                                             orgs_title  \\\n",
       "content_id                                                                                \n",
       "0000d0a0-037a-4110-a271-24327f422d06  [{'organisations': ['The Charity Commission'],...   \n",
       "0000e128-f9d5-4115-8203-b892fcd90044  [{'organisations': ['Government Digital Servic...   \n",
       "00012147-49f6-4e90-be1f-e50bb719f53d  [{'organisations': ['Intellectual Property Off...   \n",
       "00015d3f-e7d9-48e8-95ff-ac3f7fa07be3  [{'organisations': ['Office for National Stati...   \n",
       "00019715-9eec-4bef-b447-bca558dbabbb  [{'organisations': ['Air Accidents Investigati...   \n",
       "\n",
       "                                                                                   text  \n",
       "content_id                                                                               \n",
       "0000d0a0-037a-4110-a271-24327f422d06  [The Charity Commission Grant Thornton and Zoe...  \n",
       "0000e128-f9d5-4115-8203-b892fcd90044                                              [nan]  \n",
       "00012147-49f6-4e90-be1f-e50bb719f53d  [These are notices which appear for a limited ...  \n",
       "00015d3f-e7d9-48e8-95ff-ac3f7fa07be3  [Official statistics are produced impartially ...  \n",
       "00019715-9eec-4bef-b447-bca558dbabbb  [Piper PA-28-161 Cherokee Warrior II G-BUJO Do...  "
      ]
     },
     "execution_count": 89,
     "metadata": {},
     "output_type": "execute_result"
    }
   ],
   "source": [
    "df_cid.head()"
   ]
  },
  {
   "cell_type": "code",
   "execution_count": 90,
   "metadata": {
    "ExecuteTime": {
     "end_time": "2019-05-27T12:31:48.757707Z",
     "start_time": "2019-05-27T12:31:48.647062Z"
    }
   },
   "outputs": [],
   "source": [
    "# we add an attribute to each content_id node whether it is unique or not (1 for unique)\n",
    "df_cid['base_path_count'] = df_cid.base_path.str.len()"
   ]
  },
  {
   "cell_type": "code",
   "execution_count": 91,
   "metadata": {
    "ExecuteTime": {
     "end_time": "2019-05-27T12:31:53.317076Z",
     "start_time": "2019-05-27T12:31:53.306569Z"
    }
   },
   "outputs": [
    {
     "data": {
      "text/plain": [
       "1     333484\n",
       "2       6888\n",
       "3       4090\n",
       "5        172\n",
       "4         68\n",
       "6         12\n",
       "8          9\n",
       "7          8\n",
       "20         1\n",
       "15         1\n",
       "10         1\n",
       "9          1\n",
       "Name: base_path_count, dtype: int64"
      ]
     },
     "execution_count": 91,
     "metadata": {},
     "output_type": "execute_result"
    }
   ],
   "source": [
    "df_cid.base_path_count.value_counts()"
   ]
  },
  {
   "cell_type": "code",
   "execution_count": 92,
   "metadata": {
    "ExecuteTime": {
     "end_time": "2019-05-27T12:32:18.158978Z",
     "start_time": "2019-05-27T12:32:18.154746Z"
    }
   },
   "outputs": [
    {
     "data": {
      "text/plain": [
       "(344735, 8)"
      ]
     },
     "execution_count": 92,
     "metadata": {},
     "output_type": "execute_result"
    }
   ],
   "source": [
    "df_cid.shape"
   ]
  },
  {
   "cell_type": "code",
   "execution_count": 93,
   "metadata": {
    "ExecuteTime": {
     "end_time": "2019-05-27T12:38:45.802682Z",
     "start_time": "2019-05-27T12:38:45.791382Z"
    }
   },
   "outputs": [],
   "source": [
    "# make content_id a column\n",
    "df_cid.reset_index(level=0, inplace=True)"
   ]
  },
  {
   "cell_type": "markdown",
   "metadata": {},
   "source": [
    "BUG / ISSUE - some of the entries are `[nan]` or `'[()]'`. This should be replaced with Cypher `null` (maybe). Might also be able to fix in Cypher by MATCH and SET.\n"
   ]
  },
  {
   "cell_type": "code",
   "execution_count": 95,
   "metadata": {
    "ExecuteTime": {
     "end_time": "2019-05-27T12:42:54.920255Z",
     "start_time": "2019-05-27T12:42:25.778328Z"
    }
   },
   "outputs": [],
   "source": [
    "# write to tsv as base_path can have commas\n",
    "df_cid.to_csv(os.path.join(DATA_DIR, ('Cid.csv')), sep='\\t', index=False)"
   ]
  },
  {
   "cell_type": "markdown",
   "metadata": {},
   "source": [
    "## CidOrgRel from Content Store data\n",
    "We want information from the content store about how different Organsiations relate to each piece of content. We note that each dictionary is a list of varying length as sometimes these values are missing, as per our analysis which revealed:\n",
    "\n",
    "*Name: organisations*\n",
    "327,934 content items include tag\n",
    "95.94% include tag\n",
    "\n",
    "*Name: primary_publishing_organisation*\n",
    "262,582 content items include tag\n",
    "76.82% include tag\n",
    "\n",
    "*Name: original_primary_publishing_organisation*\n",
    "50,743 content items include tag\n",
    "14.84% include tag\n",
    "\n",
    "*Name: worldwide_organisations*\n",
    "12,213 content items include tag\n",
    "3.57% include tag\n",
    "\n",
    "*Name: supporting_organisations*\n",
    "69 content items include tag\n",
    "0.02% include tag"
   ]
  },
  {
   "cell_type": "code",
   "execution_count": 193,
   "metadata": {
    "ExecuteTime": {
     "end_time": "2019-06-03T11:28:56.360162Z",
     "start_time": "2019-06-03T11:28:56.350697Z"
    }
   },
   "outputs": [
    {
     "data": {
      "text/plain": [
       "0                                                        {'organisations': ['Education and Skills Funding Agency'], 'primary_publishing_organisation': ['Government Digital Service']}\n",
       "1    {'organisations': ['Department for Education', 'Department for Education and Skills', 'HM Revenue & Customs'], 'primary_publishing_organisation': ['Government Digital Service']}\n",
       "2                                                 {'organisations': ['Air Accidents Investigation Branch'], 'primary_publishing_organisation': ['Air Accidents Investigation Branch']}\n",
       "Name: orgs_title, dtype: object"
      ]
     },
     "execution_count": 193,
     "metadata": {},
     "output_type": "execute_result"
    }
   ],
   "source": [
    "pd.set_option('max_colwidth',500)\n",
    "\n",
    "df.orgs_title.head(3)"
   ]
  },
  {
   "cell_type": "code",
   "execution_count": null,
   "metadata": {},
   "outputs": [],
   "source": [
    "# split into different cols, need to paste a name on it otherwise they overwrite\n",
    "df_split = pd.concat([df.drop(['orgs_title'], axis=1), df['orgs_title'].apply(pd.Series)], axis=1)\n",
    "# df_split = pd.concat([df.drop(['orgs_id'], axis=1), df['orgs_id'].apply(pd.Series)], axis=1)"
   ]
  },
  {
   "cell_type": "code",
   "execution_count": 161,
   "metadata": {
    "ExecuteTime": {
     "end_time": "2019-05-31T20:37:03.705429Z",
     "start_time": "2019-05-31T20:37:03.681220Z"
    }
   },
   "outputs": [
    {
     "data": {
      "text/html": [
       "<div>\n",
       "<style scoped>\n",
       "    .dataframe tbody tr th:only-of-type {\n",
       "        vertical-align: middle;\n",
       "    }\n",
       "\n",
       "    .dataframe tbody tr th {\n",
       "        vertical-align: top;\n",
       "    }\n",
       "\n",
       "    .dataframe thead th {\n",
       "        text-align: right;\n",
       "    }\n",
       "</style>\n",
       "<table border=\"1\" class=\"dataframe\">\n",
       "  <thead>\n",
       "    <tr style=\"text-align: right;\">\n",
       "      <th></th>\n",
       "      <th>base_path</th>\n",
       "      <th>content_id</th>\n",
       "      <th>title</th>\n",
       "      <th>description</th>\n",
       "      <th>document_type</th>\n",
       "      <th>orgs_id</th>\n",
       "      <th>text</th>\n",
       "      <th>organisations</th>\n",
       "      <th>primary_publishing_organisation</th>\n",
       "      <th>worldwide_organisations</th>\n",
       "      <th>original_primary_publishing_organisation</th>\n",
       "      <th>supporting_organisations</th>\n",
       "    </tr>\n",
       "  </thead>\n",
       "  <tbody>\n",
       "    <tr>\n",
       "      <th>0</th>\n",
       "      <td>/1619-bursary-fund</td>\n",
       "      <td>f4b96a38-5247-4afd-b554-8a258a0e8c93</td>\n",
       "      <td>16 to 19 Bursary Fund</td>\n",
       "      <td>Bursaries of up to £1,200 for students in further education, training or unpaid apprenticeships - what’s available, eligibility and how to apply</td>\n",
       "      <td>guide</td>\n",
       "      <td>{'organisations': ['71381a6e-aa5c-43ae-a982-be9bfd46ea5b'], 'primary_publishing_organisation': ['af07d5a5-df63-4ddc-9383-6a666845ebe9']}</td>\n",
       "      <td>You could get a bursary to help with education-related costs if you’re aged 16 to 19 and: studying at a publicly funded school or college in England - not a university on a training course including unpaid work experience A publicly funded school is one that doesn’t charge you for attending it. There’s a different scheme in Wales Scotland and Northern Ireland . If you’re 19 and over You could also get a bursary if you either: are continuing on a course you started aged 16 to 18 (known as bei...</td>\n",
       "      <td>[Education and Skills Funding Agency]</td>\n",
       "      <td>[Government Digital Service]</td>\n",
       "      <td>NaN</td>\n",
       "      <td>NaN</td>\n",
       "      <td>NaN</td>\n",
       "    </tr>\n",
       "    <tr>\n",
       "      <th>1</th>\n",
       "      <td>/30-hours-free-childcare</td>\n",
       "      <td>ddda6dc8-e9de-49db-bbd1-97e3d0bc1e6f</td>\n",
       "      <td>30 hours free childcare</td>\n",
       "      <td>Who is eligible for 30 hours free childcare and how you can get it.</td>\n",
       "      <td>answer</td>\n",
       "      <td>{'organisations': ['ebd15ade-73b2-4eaf-b1c3-43034a42eb37', '77c1621f-a392-4393-9d8c-9969cd98c1e7', '6667cce2-e809-4e21-ae09-cb0bdc1ddda3'], 'primary_publishing_organisation': ['af07d5a5-df63-4ddc-9383-6a666845ebe9']}</td>\n",
       "      <td>You may be able to get up to 30 hours free childcare (1 140 hours per year which you can choose how you take) if your child is 3 to 4 years old. The childcare: must be with an approved childcare provider stops when your child starts in reception class (or reaches compulsory school age if later) There are different schemes in Scotland Wales and Northern Ireland . If you’re eligible for the extra hours you sign up online to get a code to give to your childcare provider to reserve your place. Y...</td>\n",
       "      <td>[Department for Education, Department for Education and Skills, HM Revenue &amp; Customs]</td>\n",
       "      <td>[Government Digital Service]</td>\n",
       "      <td>NaN</td>\n",
       "      <td>NaN</td>\n",
       "      <td>NaN</td>\n",
       "    </tr>\n",
       "    <tr>\n",
       "      <th>2</th>\n",
       "      <td>/aaib-reports/1-1971-g-atek-and-g-ateh-15-august-1967</td>\n",
       "      <td>ed760821-bf95-408b-9824-f6efccd1b505</td>\n",
       "      <td>1/1971  G-ATEK and G-ATEH, 15 August 1967</td>\n",
       "      <td>NaN</td>\n",
       "      <td>aaib_report</td>\n",
       "      <td>{'organisations': ['38eb5d8f-2d89-480c-8655-e2e7ac23f8f4'], 'primary_publishing_organisation': ['38eb5d8f-2d89-480c-8655-e2e7ac23f8f4']}</td>\n",
       "      <td>Report No: 1/1971. Hawker Siddeley HS 748 Series 2 Aircraft G-ATEK and G-ATEH of Channel Airways. Report on the accidents at Portsmouth Airport Portsmouth Hampshire on 15 August 1967 Download report: 1-1971 G-ATEK and G-ATEH.pdf (2 918.68 kb) Report Appendices To view appendices click on link below: 1/1971 G-ATEK and G-ATEH Append (598.34 kb)</td>\n",
       "      <td>[Air Accidents Investigation Branch]</td>\n",
       "      <td>[Air Accidents Investigation Branch]</td>\n",
       "      <td>NaN</td>\n",
       "      <td>NaN</td>\n",
       "      <td>NaN</td>\n",
       "    </tr>\n",
       "    <tr>\n",
       "      <th>3</th>\n",
       "      <td>/aaib-reports/1-1973-ph-moa-3-june-1971</td>\n",
       "      <td>bd9737e8-44fe-4928-985c-803b5fa7ad9f</td>\n",
       "      <td>1/1973  PH-MOA, 3 June 1971</td>\n",
       "      <td>NaN</td>\n",
       "      <td>aaib_report</td>\n",
       "      <td>{'organisations': ['38eb5d8f-2d89-480c-8655-e2e7ac23f8f4'], 'primary_publishing_organisation': ['38eb5d8f-2d89-480c-8655-e2e7ac23f8f4']}</td>\n",
       "      <td>Report No: 1/1973. Douglas DC3 PH-MOA. Report on the accident at Southend Airport on 3 June 1971 Download report: 1-1973 PH-MOA.pdf (1 101.96 kb)</td>\n",
       "      <td>[Air Accidents Investigation Branch]</td>\n",
       "      <td>[Air Accidents Investigation Branch]</td>\n",
       "      <td>NaN</td>\n",
       "      <td>NaN</td>\n",
       "      <td>NaN</td>\n",
       "    </tr>\n",
       "    <tr>\n",
       "      <th>4</th>\n",
       "      <td>/aaib-reports/1-1975-beechcraft-95-b55-baron-g-azzj-4-january-1974</td>\n",
       "      <td>36a0e60e-de72-4374-98fe-c201fdb86068</td>\n",
       "      <td>1/1975   Beechcraft 95-B55 (Baron), G-AZZJ, 4 January 1974</td>\n",
       "      <td>NaN</td>\n",
       "      <td>aaib_report</td>\n",
       "      <td>{'organisations': ['38eb5d8f-2d89-480c-8655-e2e7ac23f8f4'], 'primary_publishing_organisation': ['38eb5d8f-2d89-480c-8655-e2e7ac23f8f4']}</td>\n",
       "      <td>Report No: 1/1975. Beechcraft 95-B55 (Baron) G-AZZJ. Report on the accident at Cholesbury cum St Leonards Buckinghamshire on 4 January 1974 Download report: 1-1975 G-AZZJ.pdf (1 939.20 kb)</td>\n",
       "      <td>[Air Accidents Investigation Branch]</td>\n",
       "      <td>[Air Accidents Investigation Branch]</td>\n",
       "      <td>NaN</td>\n",
       "      <td>NaN</td>\n",
       "      <td>NaN</td>\n",
       "    </tr>\n",
       "  </tbody>\n",
       "</table>\n",
       "</div>"
      ],
      "text/plain": [
       "                                                            base_path  \\\n",
       "0                                                  /1619-bursary-fund   \n",
       "1                                            /30-hours-free-childcare   \n",
       "2               /aaib-reports/1-1971-g-atek-and-g-ateh-15-august-1967   \n",
       "3                             /aaib-reports/1-1973-ph-moa-3-june-1971   \n",
       "4  /aaib-reports/1-1975-beechcraft-95-b55-baron-g-azzj-4-january-1974   \n",
       "\n",
       "                             content_id  \\\n",
       "0  f4b96a38-5247-4afd-b554-8a258a0e8c93   \n",
       "1  ddda6dc8-e9de-49db-bbd1-97e3d0bc1e6f   \n",
       "2  ed760821-bf95-408b-9824-f6efccd1b505   \n",
       "3  bd9737e8-44fe-4928-985c-803b5fa7ad9f   \n",
       "4  36a0e60e-de72-4374-98fe-c201fdb86068   \n",
       "\n",
       "                                                        title  \\\n",
       "0                                       16 to 19 Bursary Fund   \n",
       "1                                     30 hours free childcare   \n",
       "2                   1/1971  G-ATEK and G-ATEH, 15 August 1967   \n",
       "3                                 1/1973  PH-MOA, 3 June 1971   \n",
       "4  1/1975   Beechcraft 95-B55 (Baron), G-AZZJ, 4 January 1974   \n",
       "\n",
       "                                                                                                                                        description  \\\n",
       "0  Bursaries of up to £1,200 for students in further education, training or unpaid apprenticeships - what’s available, eligibility and how to apply   \n",
       "1                                                                               Who is eligible for 30 hours free childcare and how you can get it.   \n",
       "2                                                                                                                                               NaN   \n",
       "3                                                                                                                                               NaN   \n",
       "4                                                                                                                                               NaN   \n",
       "\n",
       "  document_type  \\\n",
       "0         guide   \n",
       "1        answer   \n",
       "2   aaib_report   \n",
       "3   aaib_report   \n",
       "4   aaib_report   \n",
       "\n",
       "                                                                                                                                                                                                                    orgs_id  \\\n",
       "0                                                                                  {'organisations': ['71381a6e-aa5c-43ae-a982-be9bfd46ea5b'], 'primary_publishing_organisation': ['af07d5a5-df63-4ddc-9383-6a666845ebe9']}   \n",
       "1  {'organisations': ['ebd15ade-73b2-4eaf-b1c3-43034a42eb37', '77c1621f-a392-4393-9d8c-9969cd98c1e7', '6667cce2-e809-4e21-ae09-cb0bdc1ddda3'], 'primary_publishing_organisation': ['af07d5a5-df63-4ddc-9383-6a666845ebe9']}   \n",
       "2                                                                                  {'organisations': ['38eb5d8f-2d89-480c-8655-e2e7ac23f8f4'], 'primary_publishing_organisation': ['38eb5d8f-2d89-480c-8655-e2e7ac23f8f4']}   \n",
       "3                                                                                  {'organisations': ['38eb5d8f-2d89-480c-8655-e2e7ac23f8f4'], 'primary_publishing_organisation': ['38eb5d8f-2d89-480c-8655-e2e7ac23f8f4']}   \n",
       "4                                                                                  {'organisations': ['38eb5d8f-2d89-480c-8655-e2e7ac23f8f4'], 'primary_publishing_organisation': ['38eb5d8f-2d89-480c-8655-e2e7ac23f8f4']}   \n",
       "\n",
       "                                                                                                                                                                                                                                                                                                                                                                                                                                                                                                                  text  \\\n",
       "0  You could get a bursary to help with education-related costs if you’re aged 16 to 19 and: studying at a publicly funded school or college in England - not a university on a training course including unpaid work experience A publicly funded school is one that doesn’t charge you for attending it. There’s a different scheme in Wales Scotland and Northern Ireland . If you’re 19 and over You could also get a bursary if you either: are continuing on a course you started aged 16 to 18 (known as bei...   \n",
       "1  You may be able to get up to 30 hours free childcare (1 140 hours per year which you can choose how you take) if your child is 3 to 4 years old. The childcare: must be with an approved childcare provider stops when your child starts in reception class (or reaches compulsory school age if later) There are different schemes in Scotland Wales and Northern Ireland . If you’re eligible for the extra hours you sign up online to get a code to give to your childcare provider to reserve your place. Y...   \n",
       "2                                                                                                                                                             Report No: 1/1971. Hawker Siddeley HS 748 Series 2 Aircraft G-ATEK and G-ATEH of Channel Airways. Report on the accidents at Portsmouth Airport Portsmouth Hampshire on 15 August 1967 Download report: 1-1971 G-ATEK and G-ATEH.pdf (2 918.68 kb) Report Appendices To view appendices click on link below: 1/1971 G-ATEK and G-ATEH Append (598.34 kb)   \n",
       "3                                                                                                                                                                                                                                                                                                                                                                    Report No: 1/1973. Douglas DC3 PH-MOA. Report on the accident at Southend Airport on 3 June 1971 Download report: 1-1973 PH-MOA.pdf (1 101.96 kb)   \n",
       "4                                                                                                                                                                                                                                                                                                                         Report No: 1/1975. Beechcraft 95-B55 (Baron) G-AZZJ. Report on the accident at Cholesbury cum St Leonards Buckinghamshire on 4 January 1974 Download report: 1-1975 G-AZZJ.pdf (1 939.20 kb)   \n",
       "\n",
       "                                                                           organisations  \\\n",
       "0                                                  [Education and Skills Funding Agency]   \n",
       "1  [Department for Education, Department for Education and Skills, HM Revenue & Customs]   \n",
       "2                                                   [Air Accidents Investigation Branch]   \n",
       "3                                                   [Air Accidents Investigation Branch]   \n",
       "4                                                   [Air Accidents Investigation Branch]   \n",
       "\n",
       "        primary_publishing_organisation worldwide_organisations  \\\n",
       "0          [Government Digital Service]                     NaN   \n",
       "1          [Government Digital Service]                     NaN   \n",
       "2  [Air Accidents Investigation Branch]                     NaN   \n",
       "3  [Air Accidents Investigation Branch]                     NaN   \n",
       "4  [Air Accidents Investigation Branch]                     NaN   \n",
       "\n",
       "  original_primary_publishing_organisation supporting_organisations  \n",
       "0                                      NaN                      NaN  \n",
       "1                                      NaN                      NaN  \n",
       "2                                      NaN                      NaN  \n",
       "3                                      NaN                      NaN  \n",
       "4                                      NaN                      NaN  "
      ]
     },
     "execution_count": 161,
     "metadata": {},
     "output_type": "execute_result"
    }
   ],
   "source": [
    "df_split.head()"
   ]
  },
  {
   "cell_type": "markdown",
   "metadata": {},
   "source": [
    "### cid_has_organisations_org\n",
    "Need to get the edge list in the form...\n",
    "With the `organisations` lists expanded so you have one row per relationship. Then drop `NaN` or non-existent relationships.\n",
    "\n",
    "src_cid, target_title  "
   ]
  },
  {
   "cell_type": "code",
   "execution_count": 229,
   "metadata": {
    "ExecuteTime": {
     "end_time": "2019-06-03T12:56:28.631406Z",
     "start_time": "2019-06-03T12:56:28.530668Z"
    }
   },
   "outputs": [],
   "source": [
    "# https://stackoverflow.com/questions/13413590/how-to-drop-rows-of-pandas-dataframe-whose-value-in-certain-columns-is-nan\n",
    "# get just the cols we need and drop NaN ~5%\n",
    "cid_has_organisations_org = df_split[['content_id', 'organisations']].dropna(subset = ['organisations']).copy()"
   ]
  },
  {
   "cell_type": "code",
   "execution_count": 230,
   "metadata": {
    "ExecuteTime": {
     "end_time": "2019-06-03T12:56:29.025639Z",
     "start_time": "2019-06-03T12:56:29.014485Z"
    }
   },
   "outputs": [
    {
     "name": "stdout",
     "output_type": "stream",
     "text": [
      "(334776, 2)\n"
     ]
    },
    {
     "data": {
      "text/html": [
       "<div>\n",
       "<style scoped>\n",
       "    .dataframe tbody tr th:only-of-type {\n",
       "        vertical-align: middle;\n",
       "    }\n",
       "\n",
       "    .dataframe tbody tr th {\n",
       "        vertical-align: top;\n",
       "    }\n",
       "\n",
       "    .dataframe thead th {\n",
       "        text-align: right;\n",
       "    }\n",
       "</style>\n",
       "<table border=\"1\" class=\"dataframe\">\n",
       "  <thead>\n",
       "    <tr style=\"text-align: right;\">\n",
       "      <th></th>\n",
       "      <th>content_id</th>\n",
       "      <th>organisations</th>\n",
       "    </tr>\n",
       "  </thead>\n",
       "  <tbody>\n",
       "    <tr>\n",
       "      <th>0</th>\n",
       "      <td>f4b96a38-5247-4afd-b554-8a258a0e8c93</td>\n",
       "      <td>[Education and Skills Funding Agency]</td>\n",
       "    </tr>\n",
       "    <tr>\n",
       "      <th>1</th>\n",
       "      <td>ddda6dc8-e9de-49db-bbd1-97e3d0bc1e6f</td>\n",
       "      <td>[Department for Education, Department for Education and Skills, HM Revenue &amp; Customs]</td>\n",
       "    </tr>\n",
       "    <tr>\n",
       "      <th>2</th>\n",
       "      <td>ed760821-bf95-408b-9824-f6efccd1b505</td>\n",
       "      <td>[Air Accidents Investigation Branch]</td>\n",
       "    </tr>\n",
       "    <tr>\n",
       "      <th>3</th>\n",
       "      <td>bd9737e8-44fe-4928-985c-803b5fa7ad9f</td>\n",
       "      <td>[Air Accidents Investigation Branch]</td>\n",
       "    </tr>\n",
       "    <tr>\n",
       "      <th>4</th>\n",
       "      <td>36a0e60e-de72-4374-98fe-c201fdb86068</td>\n",
       "      <td>[Air Accidents Investigation Branch]</td>\n",
       "    </tr>\n",
       "  </tbody>\n",
       "</table>\n",
       "</div>"
      ],
      "text/plain": [
       "                             content_id  \\\n",
       "0  f4b96a38-5247-4afd-b554-8a258a0e8c93   \n",
       "1  ddda6dc8-e9de-49db-bbd1-97e3d0bc1e6f   \n",
       "2  ed760821-bf95-408b-9824-f6efccd1b505   \n",
       "3  bd9737e8-44fe-4928-985c-803b5fa7ad9f   \n",
       "4  36a0e60e-de72-4374-98fe-c201fdb86068   \n",
       "\n",
       "                                                                           organisations  \n",
       "0                                                  [Education and Skills Funding Agency]  \n",
       "1  [Department for Education, Department for Education and Skills, HM Revenue & Customs]  \n",
       "2                                                   [Air Accidents Investigation Branch]  \n",
       "3                                                   [Air Accidents Investigation Branch]  \n",
       "4                                                   [Air Accidents Investigation Branch]  "
      ]
     },
     "execution_count": 230,
     "metadata": {},
     "output_type": "execute_result"
    }
   ],
   "source": [
    "print(cid_has_organisations_org.shape)\n",
    "cid_has_organisations_org.head()"
   ]
  },
  {
   "cell_type": "code",
   "execution_count": 231,
   "metadata": {
    "ExecuteTime": {
     "end_time": "2019-06-03T12:56:29.997593Z",
     "start_time": "2019-06-03T12:56:29.992858Z"
    }
   },
   "outputs": [],
   "source": [
    "# https://stackoverflow.com/questions/27263805/pandas-when-cell-contents-are-lists-create-a-row-for-each-element-in-the-list/48532692#48532692\n",
    "\n",
    "def explode(df, lst_col):\n",
    "    \"\"\"Explode a dataframe by expanding a list column.\"\"\"\n",
    "\n",
    "    r = pd.DataFrame({\n",
    "      col:np.repeat(df[col].values, df[lst_col].str.len())\n",
    "      for col in df.columns.drop(lst_col)}\n",
    "    ).assign(**{lst_col: np.concatenate(df[lst_col].values)})[df.columns]\n",
    "    \n",
    "    return r"
   ]
  },
  {
   "cell_type": "code",
   "execution_count": 232,
   "metadata": {
    "ExecuteTime": {
     "end_time": "2019-06-03T12:56:33.861444Z",
     "start_time": "2019-06-03T12:56:31.704495Z"
    }
   },
   "outputs": [],
   "source": [
    "cid_has_organisations_org = explode(df = cid_has_organisations_org, lst_col = 'organisations')"
   ]
  },
  {
   "cell_type": "code",
   "execution_count": 233,
   "metadata": {
    "ExecuteTime": {
     "end_time": "2019-06-03T12:56:33.875924Z",
     "start_time": "2019-06-03T12:56:33.863963Z"
    }
   },
   "outputs": [
    {
     "name": "stdout",
     "output_type": "stream",
     "text": [
      "(395055, 2)\n"
     ]
    },
    {
     "data": {
      "text/html": [
       "<div>\n",
       "<style scoped>\n",
       "    .dataframe tbody tr th:only-of-type {\n",
       "        vertical-align: middle;\n",
       "    }\n",
       "\n",
       "    .dataframe tbody tr th {\n",
       "        vertical-align: top;\n",
       "    }\n",
       "\n",
       "    .dataframe thead th {\n",
       "        text-align: right;\n",
       "    }\n",
       "</style>\n",
       "<table border=\"1\" class=\"dataframe\">\n",
       "  <thead>\n",
       "    <tr style=\"text-align: right;\">\n",
       "      <th></th>\n",
       "      <th>content_id</th>\n",
       "      <th>organisations</th>\n",
       "    </tr>\n",
       "  </thead>\n",
       "  <tbody>\n",
       "    <tr>\n",
       "      <th>0</th>\n",
       "      <td>f4b96a38-5247-4afd-b554-8a258a0e8c93</td>\n",
       "      <td>Education and Skills Funding Agency</td>\n",
       "    </tr>\n",
       "    <tr>\n",
       "      <th>1</th>\n",
       "      <td>ddda6dc8-e9de-49db-bbd1-97e3d0bc1e6f</td>\n",
       "      <td>Department for Education</td>\n",
       "    </tr>\n",
       "    <tr>\n",
       "      <th>2</th>\n",
       "      <td>ddda6dc8-e9de-49db-bbd1-97e3d0bc1e6f</td>\n",
       "      <td>Department for Education and Skills</td>\n",
       "    </tr>\n",
       "    <tr>\n",
       "      <th>3</th>\n",
       "      <td>ddda6dc8-e9de-49db-bbd1-97e3d0bc1e6f</td>\n",
       "      <td>HM Revenue &amp; Customs</td>\n",
       "    </tr>\n",
       "    <tr>\n",
       "      <th>4</th>\n",
       "      <td>ed760821-bf95-408b-9824-f6efccd1b505</td>\n",
       "      <td>Air Accidents Investigation Branch</td>\n",
       "    </tr>\n",
       "  </tbody>\n",
       "</table>\n",
       "</div>"
      ],
      "text/plain": [
       "                             content_id                        organisations\n",
       "0  f4b96a38-5247-4afd-b554-8a258a0e8c93  Education and Skills Funding Agency\n",
       "1  ddda6dc8-e9de-49db-bbd1-97e3d0bc1e6f             Department for Education\n",
       "2  ddda6dc8-e9de-49db-bbd1-97e3d0bc1e6f  Department for Education and Skills\n",
       "3  ddda6dc8-e9de-49db-bbd1-97e3d0bc1e6f                 HM Revenue & Customs\n",
       "4  ed760821-bf95-408b-9824-f6efccd1b505   Air Accidents Investigation Branch"
      ]
     },
     "execution_count": 233,
     "metadata": {},
     "output_type": "execute_result"
    }
   ],
   "source": [
    "print(cid_has_organisations_org.shape)\n",
    "cid_has_organisations_org.head()\n",
    "# no NaNs found\n",
    "# no empty lists found"
   ]
  },
  {
   "cell_type": "markdown",
   "metadata": {
    "ExecuteTime": {
     "end_time": "2019-06-03T11:37:19.323009Z",
     "start_time": "2019-06-03T11:37:19.290613Z"
    }
   },
   "source": [
    "Let's use the `org_dict` to lookup the `org_id` of our org names. This presumably will be faster when writing to the database as it's faster to match. "
   ]
  },
  {
   "cell_type": "code",
   "execution_count": 234,
   "metadata": {
    "ExecuteTime": {
     "end_time": "2019-06-03T12:56:39.264142Z",
     "start_time": "2019-06-03T12:56:39.164073Z"
    }
   },
   "outputs": [
    {
     "data": {
      "text/html": [
       "<div>\n",
       "<style scoped>\n",
       "    .dataframe tbody tr th:only-of-type {\n",
       "        vertical-align: middle;\n",
       "    }\n",
       "\n",
       "    .dataframe tbody tr th {\n",
       "        vertical-align: top;\n",
       "    }\n",
       "\n",
       "    .dataframe thead th {\n",
       "        text-align: right;\n",
       "    }\n",
       "</style>\n",
       "<table border=\"1\" class=\"dataframe\">\n",
       "  <thead>\n",
       "    <tr style=\"text-align: right;\">\n",
       "      <th></th>\n",
       "      <th>content_id</th>\n",
       "      <th>organisations</th>\n",
       "      <th>orgid</th>\n",
       "    </tr>\n",
       "  </thead>\n",
       "  <tbody>\n",
       "    <tr>\n",
       "      <th>395050</th>\n",
       "      <td>5f557e7f-7631-11e4-a3cb-005056011aef</td>\n",
       "      <td>Department for International Trade Italy</td>\n",
       "      <td>NaN</td>\n",
       "    </tr>\n",
       "    <tr>\n",
       "      <th>395051</th>\n",
       "      <td>5f557577-7631-11e4-a3cb-005056011aef</td>\n",
       "      <td>UK Mission to the UN in Vienna</td>\n",
       "      <td>NaN</td>\n",
       "    </tr>\n",
       "    <tr>\n",
       "      <th>395052</th>\n",
       "      <td>de09348e-cb0c-4d58-96f3-4ff2156a236e</td>\n",
       "      <td>The Insolvency Service</td>\n",
       "      <td>EA32</td>\n",
       "    </tr>\n",
       "    <tr>\n",
       "      <th>395053</th>\n",
       "      <td>290292c3-0ad9-48a0-aebc-0d255e3425ba</td>\n",
       "      <td>Youth Justice Board for England and Wales</td>\n",
       "      <td>PB302</td>\n",
       "    </tr>\n",
       "    <tr>\n",
       "      <th>395054</th>\n",
       "      <td>0dae8b02-356e-46ae-8c42-b3e979777589</td>\n",
       "      <td>Department of Agriculture, Environment and Rural Affairs (Northern Ireland)</td>\n",
       "      <td>OT1178</td>\n",
       "    </tr>\n",
       "  </tbody>\n",
       "</table>\n",
       "</div>"
      ],
      "text/plain": [
       "                                  content_id  \\\n",
       "395050  5f557e7f-7631-11e4-a3cb-005056011aef   \n",
       "395051  5f557577-7631-11e4-a3cb-005056011aef   \n",
       "395052  de09348e-cb0c-4d58-96f3-4ff2156a236e   \n",
       "395053  290292c3-0ad9-48a0-aebc-0d255e3425ba   \n",
       "395054  0dae8b02-356e-46ae-8c42-b3e979777589   \n",
       "\n",
       "                                                                      organisations  \\\n",
       "395050                                     Department for International Trade Italy   \n",
       "395051                                               UK Mission to the UN in Vienna   \n",
       "395052                                                       The Insolvency Service   \n",
       "395053                                    Youth Justice Board for England and Wales   \n",
       "395054  Department of Agriculture, Environment and Rural Affairs (Northern Ireland)   \n",
       "\n",
       "         orgid  \n",
       "395050     NaN  \n",
       "395051     NaN  \n",
       "395052    EA32  \n",
       "395053   PB302  \n",
       "395054  OT1178  "
      ]
     },
     "execution_count": 234,
     "metadata": {},
     "output_type": "execute_result"
    }
   ],
   "source": [
    "# Our analytics_identifier is missing some worldwide organisations\n",
    "cid_has_organisations_org.assign(orgid=cid_has_organisations_org['organisations'].map(org_dict)).tail()\n",
    "# let's drop these for now as they aren't associated with much content"
   ]
  },
  {
   "cell_type": "code",
   "execution_count": 235,
   "metadata": {
    "ExecuteTime": {
     "end_time": "2019-06-03T12:56:45.714510Z",
     "start_time": "2019-06-03T12:56:45.641720Z"
    }
   },
   "outputs": [],
   "source": [
    "cid_has_organisations_org = cid_has_organisations_org.assign(orgid=cid_has_organisations_org['organisations'].map(org_dict))"
   ]
  },
  {
   "cell_type": "code",
   "execution_count": 236,
   "metadata": {
    "ExecuteTime": {
     "end_time": "2019-06-03T12:56:46.957208Z",
     "start_time": "2019-06-03T12:56:46.869848Z"
    }
   },
   "outputs": [
    {
     "data": {
      "text/plain": [
       "(386636, 3)"
      ]
     },
     "execution_count": 236,
     "metadata": {},
     "output_type": "execute_result"
    }
   ],
   "source": [
    "cid_has_organisations_org = cid_has_organisations_org[pd.notnull(cid_has_organisations_org['orgid'])]\n",
    "cid_has_organisations_org.shape"
   ]
  },
  {
   "cell_type": "code",
   "execution_count": 237,
   "metadata": {
    "ExecuteTime": {
     "end_time": "2019-06-03T12:56:55.269338Z",
     "start_time": "2019-06-03T12:56:53.944104Z"
    }
   },
   "outputs": [],
   "source": [
    "# write to tsv for consistency\n",
    "cid_has_organisations_org.to_csv(os.path.join(DATA_DIR, ('cid_has_organisations_org.csv')), sep='\\t', index=False)"
   ]
  },
  {
   "cell_type": "markdown",
   "metadata": {},
   "source": [
    "### cid_has_primary_publishing_organisation_org\n"
   ]
  },
  {
   "cell_type": "code",
   "execution_count": 251,
   "metadata": {
    "ExecuteTime": {
     "end_time": "2019-06-03T13:31:48.469894Z",
     "start_time": "2019-06-03T13:31:48.460708Z"
    }
   },
   "outputs": [],
   "source": [
    "def exploder(df, lst_col, org_dict):\n",
    "    \"\"\"Explode a relationship type col from a dataframe and save the edgelist as tsv.\n",
    "    \n",
    "    Use the org_dict to lookup org_id by org name, allows faster writing to database.\"\"\"\n",
    "    # https://stackoverflow.com/questions/13413590/how-to-drop-rows-of-pandas-dataframe-whose-value-in-certain-columns-is-nan\n",
    "    df = df[['content_id', lst_col]].dropna(subset = [lst_col])\n",
    "    \n",
    "    # https://stackoverflow.com/questions/27263805/pandas-when-cell-contents-are-lists-create-a-row-for-each-element-in-the-list/48532692#48532692\n",
    "    r = pd.DataFrame({\n",
    "      col:np.repeat(df[col].values, df[lst_col].str.len())\n",
    "      for col in df.columns.drop(lst_col)}\n",
    "    ).assign(**{lst_col: np.concatenate(df[lst_col].values)})[df.columns]\n",
    "    \n",
    "    print(\"The number of edges\", r.shape)\n",
    "    \n",
    "    # Get org id assoicated with the name of the Government Organisation\n",
    "    r = r.assign(orgid=r[lst_col].map(org_dict))\n",
    "    # Drop Organisations for which we don't have an ID\n",
    "    # This might drop all worldwide organisations relationships\n",
    "    r = r[pd.notnull(r['orgid'])]\n",
    "\n",
    "    print(\"The number of edges not including NaNs (no corresponding org_id)\", r.shape)\n",
    "\n",
    "    r.to_csv(os.path.join(DATA_DIR, (\"cid_has_\"+lst_col+\"_org\"+\".csv\")), sep='\\t', index=False)\n",
    "    return r.head()\n",
    "    "
   ]
  },
  {
   "cell_type": "code",
   "execution_count": 252,
   "metadata": {
    "ExecuteTime": {
     "end_time": "2019-06-03T13:31:55.131589Z",
     "start_time": "2019-06-03T13:31:52.702928Z"
    }
   },
   "outputs": [
    {
     "name": "stdout",
     "output_type": "stream",
     "text": [
      "The number of edges (269316, 2)\n",
      "The number of edges not including NaNs (no corresponding org_id) (261901, 3)\n"
     ]
    },
    {
     "data": {
      "text/html": [
       "<div>\n",
       "<style scoped>\n",
       "    .dataframe tbody tr th:only-of-type {\n",
       "        vertical-align: middle;\n",
       "    }\n",
       "\n",
       "    .dataframe tbody tr th {\n",
       "        vertical-align: top;\n",
       "    }\n",
       "\n",
       "    .dataframe thead th {\n",
       "        text-align: right;\n",
       "    }\n",
       "</style>\n",
       "<table border=\"1\" class=\"dataframe\">\n",
       "  <thead>\n",
       "    <tr style=\"text-align: right;\">\n",
       "      <th></th>\n",
       "      <th>content_id</th>\n",
       "      <th>primary_publishing_organisation</th>\n",
       "      <th>orgid</th>\n",
       "    </tr>\n",
       "  </thead>\n",
       "  <tbody>\n",
       "    <tr>\n",
       "      <th>0</th>\n",
       "      <td>f4b96a38-5247-4afd-b554-8a258a0e8c93</td>\n",
       "      <td>Government Digital Service</td>\n",
       "      <td>OT1056</td>\n",
       "    </tr>\n",
       "    <tr>\n",
       "      <th>1</th>\n",
       "      <td>ddda6dc8-e9de-49db-bbd1-97e3d0bc1e6f</td>\n",
       "      <td>Government Digital Service</td>\n",
       "      <td>OT1056</td>\n",
       "    </tr>\n",
       "    <tr>\n",
       "      <th>2</th>\n",
       "      <td>ed760821-bf95-408b-9824-f6efccd1b505</td>\n",
       "      <td>Air Accidents Investigation Branch</td>\n",
       "      <td>OT248</td>\n",
       "    </tr>\n",
       "    <tr>\n",
       "      <th>3</th>\n",
       "      <td>bd9737e8-44fe-4928-985c-803b5fa7ad9f</td>\n",
       "      <td>Air Accidents Investigation Branch</td>\n",
       "      <td>OT248</td>\n",
       "    </tr>\n",
       "    <tr>\n",
       "      <th>4</th>\n",
       "      <td>36a0e60e-de72-4374-98fe-c201fdb86068</td>\n",
       "      <td>Air Accidents Investigation Branch</td>\n",
       "      <td>OT248</td>\n",
       "    </tr>\n",
       "  </tbody>\n",
       "</table>\n",
       "</div>"
      ],
      "text/plain": [
       "                             content_id     primary_publishing_organisation  \\\n",
       "0  f4b96a38-5247-4afd-b554-8a258a0e8c93          Government Digital Service   \n",
       "1  ddda6dc8-e9de-49db-bbd1-97e3d0bc1e6f          Government Digital Service   \n",
       "2  ed760821-bf95-408b-9824-f6efccd1b505  Air Accidents Investigation Branch   \n",
       "3  bd9737e8-44fe-4928-985c-803b5fa7ad9f  Air Accidents Investigation Branch   \n",
       "4  36a0e60e-de72-4374-98fe-c201fdb86068  Air Accidents Investigation Branch   \n",
       "\n",
       "    orgid  \n",
       "0  OT1056  \n",
       "1  OT1056  \n",
       "2   OT248  \n",
       "3   OT248  \n",
       "4   OT248  "
      ]
     },
     "execution_count": 252,
     "metadata": {},
     "output_type": "execute_result"
    }
   ],
   "source": [
    "exploder(df = df_split, lst_col = 'primary_publishing_organisation', org_dict = org_dict)"
   ]
  },
  {
   "cell_type": "markdown",
   "metadata": {},
   "source": [
    "### cid_has_worldwide_organisations_org\n"
   ]
  },
  {
   "cell_type": "code",
   "execution_count": 253,
   "metadata": {
    "ExecuteTime": {
     "end_time": "2019-06-03T13:31:56.571555Z",
     "start_time": "2019-06-03T13:31:56.393058Z"
    }
   },
   "outputs": [
    {
     "name": "stdout",
     "output_type": "stream",
     "text": [
      "The number of edges (27848, 2)\n",
      "The number of edges not including NaNs (no corresponding org_id) (0, 3)\n"
     ]
    },
    {
     "data": {
      "text/html": [
       "<div>\n",
       "<style scoped>\n",
       "    .dataframe tbody tr th:only-of-type {\n",
       "        vertical-align: middle;\n",
       "    }\n",
       "\n",
       "    .dataframe tbody tr th {\n",
       "        vertical-align: top;\n",
       "    }\n",
       "\n",
       "    .dataframe thead th {\n",
       "        text-align: right;\n",
       "    }\n",
       "</style>\n",
       "<table border=\"1\" class=\"dataframe\">\n",
       "  <thead>\n",
       "    <tr style=\"text-align: right;\">\n",
       "      <th></th>\n",
       "      <th>content_id</th>\n",
       "      <th>worldwide_organisations</th>\n",
       "      <th>orgid</th>\n",
       "    </tr>\n",
       "  </thead>\n",
       "  <tbody>\n",
       "  </tbody>\n",
       "</table>\n",
       "</div>"
      ],
      "text/plain": [
       "Empty DataFrame\n",
       "Columns: [content_id, worldwide_organisations, orgid]\n",
       "Index: []"
      ]
     },
     "execution_count": 253,
     "metadata": {},
     "output_type": "execute_result"
    }
   ],
   "source": [
    "# We need a new type of entity, \"Worldwide organisation\"\n",
    "# It's inherently different from Organisation, as \n",
    "exploder(df = df_split, lst_col = 'worldwide_organisations', org_dict = org_dict)"
   ]
  },
  {
   "cell_type": "markdown",
   "metadata": {},
   "source": [
    "### cid_has_original_primary_publishing_organisation_org"
   ]
  },
  {
   "cell_type": "code",
   "execution_count": 254,
   "metadata": {
    "ExecuteTime": {
     "end_time": "2019-06-03T13:32:00.104912Z",
     "start_time": "2019-06-03T13:31:59.607897Z"
    }
   },
   "outputs": [
    {
     "name": "stdout",
     "output_type": "stream",
     "text": [
      "The number of edges (52387, 2)\n",
      "The number of edges not including NaNs (no corresponding org_id) (50886, 3)\n"
     ]
    },
    {
     "data": {
      "text/html": [
       "<div>\n",
       "<style scoped>\n",
       "    .dataframe tbody tr th:only-of-type {\n",
       "        vertical-align: middle;\n",
       "    }\n",
       "\n",
       "    .dataframe tbody tr th {\n",
       "        vertical-align: top;\n",
       "    }\n",
       "\n",
       "    .dataframe thead th {\n",
       "        text-align: right;\n",
       "    }\n",
       "</style>\n",
       "<table border=\"1\" class=\"dataframe\">\n",
       "  <thead>\n",
       "    <tr style=\"text-align: right;\">\n",
       "      <th></th>\n",
       "      <th>content_id</th>\n",
       "      <th>original_primary_publishing_organisation</th>\n",
       "      <th>orgid</th>\n",
       "    </tr>\n",
       "  </thead>\n",
       "  <tbody>\n",
       "    <tr>\n",
       "      <th>0</th>\n",
       "      <td>2ec3aa83-e6b2-482d-8b86-d7c8e8bfd2b8</td>\n",
       "      <td>Department for Digital, Culture, Media &amp; Sport</td>\n",
       "      <td>D5</td>\n",
       "    </tr>\n",
       "    <tr>\n",
       "      <th>1</th>\n",
       "      <td>78c06002-19cb-44b2-8bd3-6bfaf3e11c17</td>\n",
       "      <td>Department for Digital, Culture, Media &amp; Sport</td>\n",
       "      <td>D5</td>\n",
       "    </tr>\n",
       "    <tr>\n",
       "      <th>2</th>\n",
       "      <td>b93a455b-a4ab-4eed-87b3-d5ea89d800d4</td>\n",
       "      <td>Department for Digital, Culture, Media &amp; Sport</td>\n",
       "      <td>D5</td>\n",
       "    </tr>\n",
       "    <tr>\n",
       "      <th>3</th>\n",
       "      <td>5ff3f2c2-1222-47d7-b0dc-7909dfaa919f</td>\n",
       "      <td>Department for Digital, Culture, Media &amp; Sport</td>\n",
       "      <td>D5</td>\n",
       "    </tr>\n",
       "    <tr>\n",
       "      <th>4</th>\n",
       "      <td>3cec363f-8778-4cf9-9823-9f2169f67a89</td>\n",
       "      <td>Crown Commercial Service</td>\n",
       "      <td>EA1015</td>\n",
       "    </tr>\n",
       "  </tbody>\n",
       "</table>\n",
       "</div>"
      ],
      "text/plain": [
       "                             content_id  \\\n",
       "0  2ec3aa83-e6b2-482d-8b86-d7c8e8bfd2b8   \n",
       "1  78c06002-19cb-44b2-8bd3-6bfaf3e11c17   \n",
       "2  b93a455b-a4ab-4eed-87b3-d5ea89d800d4   \n",
       "3  5ff3f2c2-1222-47d7-b0dc-7909dfaa919f   \n",
       "4  3cec363f-8778-4cf9-9823-9f2169f67a89   \n",
       "\n",
       "         original_primary_publishing_organisation   orgid  \n",
       "0  Department for Digital, Culture, Media & Sport      D5  \n",
       "1  Department for Digital, Culture, Media & Sport      D5  \n",
       "2  Department for Digital, Culture, Media & Sport      D5  \n",
       "3  Department for Digital, Culture, Media & Sport      D5  \n",
       "4                        Crown Commercial Service  EA1015  "
      ]
     },
     "execution_count": 254,
     "metadata": {},
     "output_type": "execute_result"
    }
   ],
   "source": [
    "exploder(df = df_split, lst_col = 'original_primary_publishing_organisation', org_dict = org_dict)"
   ]
  },
  {
   "cell_type": "markdown",
   "metadata": {},
   "source": [
    "### cid_has_supporting_organisations_org"
   ]
  },
  {
   "cell_type": "code",
   "execution_count": 255,
   "metadata": {
    "ExecuteTime": {
     "end_time": "2019-06-03T13:32:02.174067Z",
     "start_time": "2019-06-03T13:32:02.117463Z"
    }
   },
   "outputs": [
    {
     "name": "stdout",
     "output_type": "stream",
     "text": [
      "The number of edges (72, 2)\n",
      "The number of edges not including NaNs (no corresponding org_id) (72, 3)\n"
     ]
    },
    {
     "data": {
      "text/html": [
       "<div>\n",
       "<style scoped>\n",
       "    .dataframe tbody tr th:only-of-type {\n",
       "        vertical-align: middle;\n",
       "    }\n",
       "\n",
       "    .dataframe tbody tr th {\n",
       "        vertical-align: top;\n",
       "    }\n",
       "\n",
       "    .dataframe thead th {\n",
       "        text-align: right;\n",
       "    }\n",
       "</style>\n",
       "<table border=\"1\" class=\"dataframe\">\n",
       "  <thead>\n",
       "    <tr style=\"text-align: right;\">\n",
       "      <th></th>\n",
       "      <th>content_id</th>\n",
       "      <th>supporting_organisations</th>\n",
       "      <th>orgid</th>\n",
       "    </tr>\n",
       "  </thead>\n",
       "  <tbody>\n",
       "    <tr>\n",
       "      <th>0</th>\n",
       "      <td>5e94a61f-7631-11e4-a3cb-005056011aef</td>\n",
       "      <td>Department for Business, Innovation &amp; Skills</td>\n",
       "      <td>D3</td>\n",
       "    </tr>\n",
       "    <tr>\n",
       "      <th>1</th>\n",
       "      <td>5e94a410-7631-11e4-a3cb-005056011aef</td>\n",
       "      <td>Department for Business, Innovation &amp; Skills</td>\n",
       "      <td>D3</td>\n",
       "    </tr>\n",
       "    <tr>\n",
       "      <th>2</th>\n",
       "      <td>5e94a565-7631-11e4-a3cb-005056011aef</td>\n",
       "      <td>Department for Business, Innovation &amp; Skills</td>\n",
       "      <td>D3</td>\n",
       "    </tr>\n",
       "    <tr>\n",
       "      <th>3</th>\n",
       "      <td>5e94a3c8-7631-11e4-a3cb-005056011aef</td>\n",
       "      <td>Department for Business, Innovation &amp; Skills</td>\n",
       "      <td>D3</td>\n",
       "    </tr>\n",
       "    <tr>\n",
       "      <th>4</th>\n",
       "      <td>d8db7b61-c560-4705-9ad0-057919c702c6</td>\n",
       "      <td>Foreign &amp; Commonwealth Office</td>\n",
       "      <td>D13</td>\n",
       "    </tr>\n",
       "  </tbody>\n",
       "</table>\n",
       "</div>"
      ],
      "text/plain": [
       "                             content_id  \\\n",
       "0  5e94a61f-7631-11e4-a3cb-005056011aef   \n",
       "1  5e94a410-7631-11e4-a3cb-005056011aef   \n",
       "2  5e94a565-7631-11e4-a3cb-005056011aef   \n",
       "3  5e94a3c8-7631-11e4-a3cb-005056011aef   \n",
       "4  d8db7b61-c560-4705-9ad0-057919c702c6   \n",
       "\n",
       "                       supporting_organisations orgid  \n",
       "0  Department for Business, Innovation & Skills    D3  \n",
       "1  Department for Business, Innovation & Skills    D3  \n",
       "2  Department for Business, Innovation & Skills    D3  \n",
       "3  Department for Business, Innovation & Skills    D3  \n",
       "4                 Foreign & Commonwealth Office   D13  "
      ]
     },
     "execution_count": 255,
     "metadata": {},
     "output_type": "execute_result"
    }
   ],
   "source": [
    "exploder(df = df_split, lst_col = 'supporting_organisations', org_dict = org_dict)"
   ]
  },
  {
   "cell_type": "markdown",
   "metadata": {},
   "source": [
    "## CidOrgRel not from Content Store\n",
    "Graph databases are useful when we join up different datasets. We can use NLP to enhance our understanding of the text associated with each piece of content by searching for organisations, as the Content Store data might be incomplete."
   ]
  },
  {
   "cell_type": "markdown",
   "metadata": {},
   "source": [
    "## CidCidRel not from Content Store\n",
    "As a data driven organisation we continue to accrue data through our data science and machine learning pipelines. We incorporate a subset of that data into our knowledge graph.\n",
    "\n",
    "Specifcally we use the new feature: `suggested_ordered_related_items` predicted with the node2vec algorithm trained on the functional and structural network of GOV.UK. For the Related links repo, see [here](https://github.com/alphagov/govuk-related-links-recommender)."
   ]
  },
  {
   "cell_type": "code",
   "execution_count": 4,
   "metadata": {
    "ExecuteTime": {
     "end_time": "2019-06-10T12:57:59.357805Z",
     "start_time": "2019-06-10T12:57:59.338475Z"
    }
   },
   "outputs": [],
   "source": [
    "related_links = os.path.join(DATA_DIR, \"20190607top100_suggested_related_links.csv\")\n",
    "df = pd.read_csv(related_links)\n",
    "# we didn't read in as tsv, doesn't seem to be a problem"
   ]
  },
  {
   "cell_type": "code",
   "execution_count": 7,
   "metadata": {
    "ExecuteTime": {
     "end_time": "2019-06-10T13:05:41.022864Z",
     "start_time": "2019-06-10T13:05:41.010817Z"
    }
   },
   "outputs": [
    {
     "name": "stdout",
     "output_type": "stream",
     "text": [
      "(500, 5)\n"
     ]
    },
    {
     "data": {
      "text/html": [
       "<div>\n",
       "<style scoped>\n",
       "    .dataframe tbody tr th:only-of-type {\n",
       "        vertical-align: middle;\n",
       "    }\n",
       "\n",
       "    .dataframe tbody tr th {\n",
       "        vertical-align: top;\n",
       "    }\n",
       "\n",
       "    .dataframe thead th {\n",
       "        text-align: right;\n",
       "    }\n",
       "</style>\n",
       "<table border=\"1\" class=\"dataframe\">\n",
       "  <thead>\n",
       "    <tr style=\"text-align: right;\">\n",
       "      <th></th>\n",
       "      <th>target_content_id</th>\n",
       "      <th>probability</th>\n",
       "      <th>source_content_id</th>\n",
       "      <th>source_base_path</th>\n",
       "      <th>target_base_path</th>\n",
       "    </tr>\n",
       "  </thead>\n",
       "  <tbody>\n",
       "    <tr>\n",
       "      <th>495</th>\n",
       "      <td>3f83e66f-633c-4795-a8ea-008250466c55</td>\n",
       "      <td>0.953494</td>\n",
       "      <td>c8b5f020-6620-478e-997d-bfabd7ec91dc</td>\n",
       "      <td>/government/publications/income-tax-repayment-...</td>\n",
       "      <td>/government/publications/flexibly-accessed-pen...</td>\n",
       "    </tr>\n",
       "    <tr>\n",
       "      <th>496</th>\n",
       "      <td>60273b1b-7631-11e4-a3cb-005056011aef</td>\n",
       "      <td>0.912956</td>\n",
       "      <td>c8b5f020-6620-478e-997d-bfabd7ec91dc</td>\n",
       "      <td>/government/publications/income-tax-repayment-...</td>\n",
       "      <td>/government/publications/income-tax-claiming-t...</td>\n",
       "    </tr>\n",
       "    <tr>\n",
       "      <th>497</th>\n",
       "      <td>60273a31-7631-11e4-a3cb-005056011aef</td>\n",
       "      <td>0.902923</td>\n",
       "      <td>c8b5f020-6620-478e-997d-bfabd7ec91dc</td>\n",
       "      <td>/government/publications/income-tax-repayment-...</td>\n",
       "      <td>/government/collections/income-tax-forms</td>\n",
       "    </tr>\n",
       "    <tr>\n",
       "      <th>498</th>\n",
       "      <td>f9ebc063-7210-49a3-84ce-f86f253097fc</td>\n",
       "      <td>0.890580</td>\n",
       "      <td>c8b5f020-6620-478e-997d-bfabd7ec91dc</td>\n",
       "      <td>/government/publications/income-tax-repayment-...</td>\n",
       "      <td>/government/publications/income-tax-claim-for-...</td>\n",
       "    </tr>\n",
       "    <tr>\n",
       "      <th>499</th>\n",
       "      <td>60273ea9-7631-11e4-a3cb-005056011aef</td>\n",
       "      <td>0.855353</td>\n",
       "      <td>c8b5f020-6620-478e-997d-bfabd7ec91dc</td>\n",
       "      <td>/government/publications/income-tax-repayment-...</td>\n",
       "      <td>/government/publications/income-tax-claim-for-...</td>\n",
       "    </tr>\n",
       "  </tbody>\n",
       "</table>\n",
       "</div>"
      ],
      "text/plain": [
       "                        target_content_id  probability  \\\n",
       "495  3f83e66f-633c-4795-a8ea-008250466c55     0.953494   \n",
       "496  60273b1b-7631-11e4-a3cb-005056011aef     0.912956   \n",
       "497  60273a31-7631-11e4-a3cb-005056011aef     0.902923   \n",
       "498  f9ebc063-7210-49a3-84ce-f86f253097fc     0.890580   \n",
       "499  60273ea9-7631-11e4-a3cb-005056011aef     0.855353   \n",
       "\n",
       "                        source_content_id  \\\n",
       "495  c8b5f020-6620-478e-997d-bfabd7ec91dc   \n",
       "496  c8b5f020-6620-478e-997d-bfabd7ec91dc   \n",
       "497  c8b5f020-6620-478e-997d-bfabd7ec91dc   \n",
       "498  c8b5f020-6620-478e-997d-bfabd7ec91dc   \n",
       "499  c8b5f020-6620-478e-997d-bfabd7ec91dc   \n",
       "\n",
       "                                      source_base_path  \\\n",
       "495  /government/publications/income-tax-repayment-...   \n",
       "496  /government/publications/income-tax-repayment-...   \n",
       "497  /government/publications/income-tax-repayment-...   \n",
       "498  /government/publications/income-tax-repayment-...   \n",
       "499  /government/publications/income-tax-repayment-...   \n",
       "\n",
       "                                      target_base_path  \n",
       "495  /government/publications/flexibly-accessed-pen...  \n",
       "496  /government/publications/income-tax-claiming-t...  \n",
       "497           /government/collections/income-tax-forms  \n",
       "498  /government/publications/income-tax-claim-for-...  \n",
       "499  /government/publications/income-tax-claim-for-...  "
      ]
     },
     "execution_count": 7,
     "metadata": {},
     "output_type": "execute_result"
    }
   ],
   "source": [
    "print(df.shape)\n",
    "df.tail()\n",
    "# already one row per edge"
   ]
  },
  {
   "cell_type": "markdown",
   "metadata": {},
   "source": [
    "Turns out the edge list is already of the required shape with one row per relationship or edge. We can rewrite this as taread this straight into neo4j with Cypher."
   ]
  },
  {
   "cell_type": "code",
   "execution_count": 8,
   "metadata": {
    "ExecuteTime": {
     "end_time": "2019-06-10T13:07:39.876623Z",
     "start_time": "2019-06-10T13:07:39.859238Z"
    }
   },
   "outputs": [],
   "source": [
    "df.to_csv(os.path.join(DATA_DIR, (\"cid_has_\"+\"suggested_ordered_related_items\"+\"_cid\"+\".csv\")), sep='\\t', index=False)"
   ]
  },
  {
   "cell_type": "code",
   "execution_count": null,
   "metadata": {},
   "outputs": [],
   "source": []
  }
 ],
 "metadata": {
  "kernelspec": {
   "display_name": "Python 3",
   "language": "python",
   "name": "python3"
  },
  "language_info": {
   "codemirror_mode": {
    "name": "ipython",
    "version": 3
   },
   "file_extension": ".py",
   "mimetype": "text/x-python",
   "name": "python",
   "nbconvert_exporter": "python",
   "pygments_lexer": "ipython3",
   "version": "3.7.0"
  },
  "toc": {
   "base_numbering": 1,
   "nav_menu": {},
   "number_sections": true,
   "sideBar": true,
   "skip_h1_title": false,
   "title_cell": "Table of Contents",
   "title_sidebar": "Contents",
   "toc_cell": false,
   "toc_position": {},
   "toc_section_display": true,
   "toc_window_display": true
  }
 },
 "nbformat": 4,
 "nbformat_minor": 2
}
