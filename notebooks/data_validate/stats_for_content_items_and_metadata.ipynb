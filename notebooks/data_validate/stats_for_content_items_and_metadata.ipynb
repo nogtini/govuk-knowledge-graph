{
 "cells": [
  {
   "cell_type": "code",
   "execution_count": 9,
   "metadata": {},
   "outputs": [],
   "source": [
    "import pandas as pd \n",
    "import numpy as np\n",
    "import os\n",
    "from ast import literal_eval"
   ]
  },
  {
   "cell_type": "code",
   "execution_count": 12,
   "metadata": {},
   "outputs": [],
   "source": [
    "DATA_DIR = os.getenv(\"DATA_DIR\")\n",
    "content_store_path = os.path.join(DATA_DIR, 'preprocessed_content_store.csv.gz')"
   ]
  },
  {
   "cell_type": "code",
   "execution_count": 13,
   "metadata": {},
   "outputs": [],
   "source": [
    "df = pd.read_csv(content_store_path, compression=\"gzip\")"
   ]
  },
  {
   "cell_type": "markdown",
   "metadata": {},
   "source": [
    "## Compute statistics for presence of orgs and coverage\n",
    "### how many cids have orgs attached to them?"
   ]
  },
  {
   "cell_type": "code",
   "execution_count": 14,
   "metadata": {},
   "outputs": [
    {
     "data": {
      "text/html": [
       "<div>\n",
       "<style scoped>\n",
       "    .dataframe tbody tr th:only-of-type {\n",
       "        vertical-align: middle;\n",
       "    }\n",
       "\n",
       "    .dataframe tbody tr th {\n",
       "        vertical-align: top;\n",
       "    }\n",
       "\n",
       "    .dataframe thead th {\n",
       "        text-align: right;\n",
       "    }\n",
       "</style>\n",
       "<table border=\"1\" class=\"dataframe\">\n",
       "  <thead>\n",
       "    <tr style=\"text-align: right;\">\n",
       "      <th></th>\n",
       "      <th>base_path</th>\n",
       "      <th>content_id</th>\n",
       "      <th>title</th>\n",
       "      <th>description</th>\n",
       "      <th>document_type</th>\n",
       "      <th>orgs_id</th>\n",
       "      <th>orgs_title</th>\n",
       "      <th>text</th>\n",
       "    </tr>\n",
       "  </thead>\n",
       "  <tbody>\n",
       "    <tr>\n",
       "      <th>0</th>\n",
       "      <td>/1619-bursary-fund</td>\n",
       "      <td>f4b96a38-5247-4afd-b554-8a258a0e8c93</td>\n",
       "      <td>16 to 19 Bursary Fund</td>\n",
       "      <td>Bursaries of up to £1,200 for students in furt...</td>\n",
       "      <td>guide</td>\n",
       "      <td>{'organisations': ['71381a6e-aa5c-43ae-a982-be...</td>\n",
       "      <td>{'organisations': ['Education and Skills Fundi...</td>\n",
       "      <td>You could get a bursary to help with education...</td>\n",
       "    </tr>\n",
       "    <tr>\n",
       "      <th>1</th>\n",
       "      <td>/30-hours-free-childcare</td>\n",
       "      <td>ddda6dc8-e9de-49db-bbd1-97e3d0bc1e6f</td>\n",
       "      <td>30 hours free childcare</td>\n",
       "      <td>Who is eligible for 30 hours free childcare an...</td>\n",
       "      <td>answer</td>\n",
       "      <td>{'organisations': ['ebd15ade-73b2-4eaf-b1c3-43...</td>\n",
       "      <td>{'organisations': ['Department for Education',...</td>\n",
       "      <td>You may be able to get up to 30 hours free chi...</td>\n",
       "    </tr>\n",
       "    <tr>\n",
       "      <th>2</th>\n",
       "      <td>/aaib-reports/1-1971-g-atek-and-g-ateh-15-augu...</td>\n",
       "      <td>ed760821-bf95-408b-9824-f6efccd1b505</td>\n",
       "      <td>1/1971  G-ATEK and G-ATEH, 15 August 1967</td>\n",
       "      <td>NaN</td>\n",
       "      <td>aaib_report</td>\n",
       "      <td>{'organisations': ['38eb5d8f-2d89-480c-8655-e2...</td>\n",
       "      <td>{'organisations': ['Air Accidents Investigatio...</td>\n",
       "      <td>Report No: 1/1971. Hawker Siddeley HS 748 Seri...</td>\n",
       "    </tr>\n",
       "    <tr>\n",
       "      <th>3</th>\n",
       "      <td>/aaib-reports/1-1973-ph-moa-3-june-1971</td>\n",
       "      <td>bd9737e8-44fe-4928-985c-803b5fa7ad9f</td>\n",
       "      <td>1/1973  PH-MOA, 3 June 1971</td>\n",
       "      <td>NaN</td>\n",
       "      <td>aaib_report</td>\n",
       "      <td>{'organisations': ['38eb5d8f-2d89-480c-8655-e2...</td>\n",
       "      <td>{'organisations': ['Air Accidents Investigatio...</td>\n",
       "      <td>Report No: 1/1973. Douglas DC3 PH-MOA. Report ...</td>\n",
       "    </tr>\n",
       "    <tr>\n",
       "      <th>4</th>\n",
       "      <td>/aaib-reports/1-1975-beechcraft-95-b55-baron-g...</td>\n",
       "      <td>36a0e60e-de72-4374-98fe-c201fdb86068</td>\n",
       "      <td>1/1975   Beechcraft 95-B55 (Baron), G-AZZJ, 4 ...</td>\n",
       "      <td>NaN</td>\n",
       "      <td>aaib_report</td>\n",
       "      <td>{'organisations': ['38eb5d8f-2d89-480c-8655-e2...</td>\n",
       "      <td>{'organisations': ['Air Accidents Investigatio...</td>\n",
       "      <td>Report No: 1/1975. Beechcraft 95-B55 (Baron) G...</td>\n",
       "    </tr>\n",
       "  </tbody>\n",
       "</table>\n",
       "</div>"
      ],
      "text/plain": [
       "                                           base_path  \\\n",
       "0                                 /1619-bursary-fund   \n",
       "1                           /30-hours-free-childcare   \n",
       "2  /aaib-reports/1-1971-g-atek-and-g-ateh-15-augu...   \n",
       "3            /aaib-reports/1-1973-ph-moa-3-june-1971   \n",
       "4  /aaib-reports/1-1975-beechcraft-95-b55-baron-g...   \n",
       "\n",
       "                             content_id  \\\n",
       "0  f4b96a38-5247-4afd-b554-8a258a0e8c93   \n",
       "1  ddda6dc8-e9de-49db-bbd1-97e3d0bc1e6f   \n",
       "2  ed760821-bf95-408b-9824-f6efccd1b505   \n",
       "3  bd9737e8-44fe-4928-985c-803b5fa7ad9f   \n",
       "4  36a0e60e-de72-4374-98fe-c201fdb86068   \n",
       "\n",
       "                                               title  \\\n",
       "0                              16 to 19 Bursary Fund   \n",
       "1                            30 hours free childcare   \n",
       "2          1/1971  G-ATEK and G-ATEH, 15 August 1967   \n",
       "3                        1/1973  PH-MOA, 3 June 1971   \n",
       "4  1/1975   Beechcraft 95-B55 (Baron), G-AZZJ, 4 ...   \n",
       "\n",
       "                                         description document_type  \\\n",
       "0  Bursaries of up to £1,200 for students in furt...         guide   \n",
       "1  Who is eligible for 30 hours free childcare an...        answer   \n",
       "2                                                NaN   aaib_report   \n",
       "3                                                NaN   aaib_report   \n",
       "4                                                NaN   aaib_report   \n",
       "\n",
       "                                             orgs_id  \\\n",
       "0  {'organisations': ['71381a6e-aa5c-43ae-a982-be...   \n",
       "1  {'organisations': ['ebd15ade-73b2-4eaf-b1c3-43...   \n",
       "2  {'organisations': ['38eb5d8f-2d89-480c-8655-e2...   \n",
       "3  {'organisations': ['38eb5d8f-2d89-480c-8655-e2...   \n",
       "4  {'organisations': ['38eb5d8f-2d89-480c-8655-e2...   \n",
       "\n",
       "                                          orgs_title  \\\n",
       "0  {'organisations': ['Education and Skills Fundi...   \n",
       "1  {'organisations': ['Department for Education',...   \n",
       "2  {'organisations': ['Air Accidents Investigatio...   \n",
       "3  {'organisations': ['Air Accidents Investigatio...   \n",
       "4  {'organisations': ['Air Accidents Investigatio...   \n",
       "\n",
       "                                                text  \n",
       "0  You could get a bursary to help with education...  \n",
       "1  You may be able to get up to 30 hours free chi...  \n",
       "2  Report No: 1/1971. Hawker Siddeley HS 748 Seri...  \n",
       "3  Report No: 1/1973. Douglas DC3 PH-MOA. Report ...  \n",
       "4  Report No: 1/1975. Beechcraft 95-B55 (Baron) G...  "
      ]
     },
     "execution_count": 14,
     "metadata": {},
     "output_type": "execute_result"
    }
   ],
   "source": [
    "df.head()"
   ]
  },
  {
   "cell_type": "code",
   "execution_count": 15,
   "metadata": {},
   "outputs": [
    {
     "data": {
      "text/plain": [
       "(360921, 8)"
      ]
     },
     "execution_count": 15,
     "metadata": {},
     "output_type": "execute_result"
    }
   ],
   "source": [
    "df.shape"
   ]
  },
  {
   "cell_type": "code",
   "execution_count": 16,
   "metadata": {},
   "outputs": [
    {
     "name": "stdout",
     "output_type": "stream",
     "text": [
      "orgs_id\n",
      "orgs_title\n"
     ]
    }
   ],
   "source": [
    "for col in [col for col in df.columns if \"orgs\" in col]:\n",
    "    print(col)\n",
    "    df[col] = df[col].map(lambda x: literal_eval(x) if isinstance(x,str) else np.nan)"
   ]
  },
  {
   "cell_type": "code",
   "execution_count": 21,
   "metadata": {},
   "outputs": [
    {
     "name": "stdout",
     "output_type": "stream",
     "text": [
      "1\n",
      "1\n"
     ]
    },
    {
     "data": {
      "text/plain": [
       "2"
      ]
     },
     "execution_count": 21,
     "metadata": {},
     "output_type": "execute_result"
    }
   ],
   "source": [
    "for key,value in df['orgs_id'].iloc[0].items():\n",
    "    print(len(value))\n",
    "sum([len(value) for _,value in df['orgs_id'].iloc[0].items()])"
   ]
  },
  {
   "cell_type": "code",
   "execution_count": 22,
   "metadata": {},
   "outputs": [],
   "source": [
    "df['total_org_num'] = df['orgs_id'].map(lambda x: \n",
    "                                        sum([len(value) for _,value in x.items()])\n",
    "                                        if not isinstance(x,float) else 0)"
   ]
  },
  {
   "cell_type": "code",
   "execution_count": 23,
   "metadata": {},
   "outputs": [
    {
     "data": {
      "text/plain": [
       "count    360921.000000\n",
       "mean          2.063271\n",
       "std           0.855832\n",
       "min           0.000000\n",
       "25%           2.000000\n",
       "50%           2.000000\n",
       "75%           3.000000\n",
       "max          20.000000\n",
       "Name: total_org_num, dtype: float64"
      ]
     },
     "execution_count": 23,
     "metadata": {},
     "output_type": "execute_result"
    }
   ],
   "source": [
    "df['total_org_num'].describe()"
   ]
  },
  {
   "cell_type": "code",
   "execution_count": null,
   "metadata": {},
   "outputs": [],
   "source": []
  }
 ],
 "metadata": {
  "kernelspec": {
   "display_name": "Python 3",
   "language": "python",
   "name": "python3"
  },
  "language_info": {
   "codemirror_mode": {
    "name": "ipython",
    "version": 3
   },
   "file_extension": ".py",
   "mimetype": "text/x-python",
   "name": "python",
   "nbconvert_exporter": "python",
   "pygments_lexer": "ipython3",
   "version": "3.6.0"
  }
 },
 "nbformat": 4,
 "nbformat_minor": 2
}
