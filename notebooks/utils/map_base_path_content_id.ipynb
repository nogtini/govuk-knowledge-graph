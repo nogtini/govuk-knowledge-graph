{
 "cells": [
  {
   "cell_type": "code",
   "execution_count": 3,
   "metadata": {},
   "outputs": [],
   "source": [
    "import os\n",
    "import pandas as pd\n",
    "import numpy as np\n",
    "import pymongo\n",
    "import yaml "
   ]
  },
  {
   "cell_type": "code",
   "execution_count": 4,
   "metadata": {},
   "outputs": [],
   "source": [
    "DATA_DIR = os.getenv(\"DATA_DIR\")\n",
    "CONFIG = os.getenv(\"CONFIG\")\n",
    "blacklist_path = os.path.join(CONFIG, 'document_types_excluded_from_the_topic_taxonomy.yml')"
   ]
  },
  {
   "cell_type": "code",
   "execution_count": 5,
   "metadata": {},
   "outputs": [],
   "source": [
    "mongo_client = pymongo.MongoClient(\"mongodb://localhost:27017/\")\n",
    "content_store_db = mongo_client[\"content_store\"]\n",
    "content_store_collection = content_store_db[\"content_items\"]"
   ]
  },
  {
   "cell_type": "code",
   "execution_count": 6,
   "metadata": {},
   "outputs": [],
   "source": [
    "def get_excluded_document_types():\n",
    "    with open(blacklist_path, 'r') as f:\n",
    "        return yaml.safe_load(f)['document_types']"
   ]
  },
  {
   "cell_type": "code",
   "execution_count": 7,
   "metadata": {},
   "outputs": [
    {
     "data": {
      "text/plain": [
       "['about',\n",
       " 'about_our_services',\n",
       " 'access_and_opening',\n",
       " 'business_support_finder',\n",
       " 'coming_soon']"
      ]
     },
     "execution_count": 7,
     "metadata": {},
     "output_type": "execute_result"
    }
   ],
   "source": [
    "BLACKLIST_DOCUMENT_TYPES = get_excluded_document_types()\n",
    "BLACKLIST_DOCUMENT_TYPES[0:5]"
   ]
  },
  {
   "cell_type": "code",
   "execution_count": 17,
   "metadata": {},
   "outputs": [],
   "source": [
    "DETAILS_PARTS = {\n",
    "    \"details.parts.slug\":1,\n",
    "    \"title\":1,\n",
    "    \"locale\":1,\n",
    "    \"document_type\": 1,\n",
    "    \"content_id\": 1}\n",
    "\n",
    "QUERY = {\"$and\": [\n",
    "    {\"document_type\": {\"$nin\": BLACKLIST_DOCUMENT_TYPES}},\n",
    "    {\"phase\": \"live\"}]}"
   ]
  },
  {
   "cell_type": "code",
   "execution_count": 18,
   "metadata": {},
   "outputs": [],
   "source": [
    "content_items = content_store_collection.find(QUERY, DETAILS_PARTS)\n",
    "rowlist = []\n",
    "for i,item in enumerate(content_items):\n",
    "    rowlist.append(item)\n",
    "df = pd.DataFrame(rowlist)"
   ]
  },
  {
   "cell_type": "code",
   "execution_count": 37,
   "metadata": {},
   "outputs": [
    {
     "data": {
      "text/html": [
       "<div>\n",
       "<style scoped>\n",
       "    .dataframe tbody tr th:only-of-type {\n",
       "        vertical-align: middle;\n",
       "    }\n",
       "\n",
       "    .dataframe tbody tr th {\n",
       "        vertical-align: top;\n",
       "    }\n",
       "\n",
       "    .dataframe thead th {\n",
       "        text-align: right;\n",
       "    }\n",
       "</style>\n",
       "<table border=\"1\" class=\"dataframe\">\n",
       "  <thead>\n",
       "    <tr style=\"text-align: right;\">\n",
       "      <th></th>\n",
       "      <th>_id</th>\n",
       "      <th>content_id</th>\n",
       "      <th>details</th>\n",
       "      <th>document_type</th>\n",
       "      <th>locale</th>\n",
       "      <th>title</th>\n",
       "    </tr>\n",
       "  </thead>\n",
       "  <tbody>\n",
       "    <tr>\n",
       "      <th>0</th>\n",
       "      <td>/aaib-reports/aaib-investigation-to-hawker-sea...</td>\n",
       "      <td>96eacfbe-0385-45ef-9289-8428dacad258</td>\n",
       "      <td>{}</td>\n",
       "      <td>aaib_report</td>\n",
       "      <td>en</td>\n",
       "      <td>AAIB investigation to Hawker Sea Fury T MK 20,...</td>\n",
       "    </tr>\n",
       "    <tr>\n",
       "      <th>1</th>\n",
       "      <td>/aaib-reports/aaib-investigation-to-hph-glasfl...</td>\n",
       "      <td>1d697c99-b1d0-4855-b72d-a97d83a4fc91</td>\n",
       "      <td>{}</td>\n",
       "      <td>aaib_report</td>\n",
       "      <td>en</td>\n",
       "      <td>AAIB investigation to HPH Glasflugel 304 eS, G...</td>\n",
       "    </tr>\n",
       "    <tr>\n",
       "      <th>2</th>\n",
       "      <td>/aaib-reports/aaib-investigation-to-ikarus-c42...</td>\n",
       "      <td>5814334a-77d0-426e-8e78-ff2b05ea6322</td>\n",
       "      <td>{}</td>\n",
       "      <td>aaib_report</td>\n",
       "      <td>en</td>\n",
       "      <td>AAIB investigation to Ikarus C42 FB UK, G-IKUS\\t</td>\n",
       "    </tr>\n",
       "    <tr>\n",
       "      <th>3</th>\n",
       "      <td>/aaib-reports/aaib-investigation-to-ikarus-c42...</td>\n",
       "      <td>c8f31c76-eab0-4be6-95a5-5e6e7f32056c</td>\n",
       "      <td>{}</td>\n",
       "      <td>aaib_report</td>\n",
       "      <td>en</td>\n",
       "      <td>AAIB investigation to Ikarus C42 FB100, G-CEHG\\t</td>\n",
       "    </tr>\n",
       "    <tr>\n",
       "      <th>4</th>\n",
       "      <td>/aaib-reports/aaib-investigation-to-ikarus-c42...</td>\n",
       "      <td>4cc0ae15-ad87-42ce-8a89-2bdb14e19e26</td>\n",
       "      <td>{}</td>\n",
       "      <td>aaib_report</td>\n",
       "      <td>en</td>\n",
       "      <td>AAIB investigation to Ikarus C42 FB100, G-ZAVI</td>\n",
       "    </tr>\n",
       "  </tbody>\n",
       "</table>\n",
       "</div>"
      ],
      "text/plain": [
       "                                                 _id  \\\n",
       "0  /aaib-reports/aaib-investigation-to-hawker-sea...   \n",
       "1  /aaib-reports/aaib-investigation-to-hph-glasfl...   \n",
       "2  /aaib-reports/aaib-investigation-to-ikarus-c42...   \n",
       "3  /aaib-reports/aaib-investigation-to-ikarus-c42...   \n",
       "4  /aaib-reports/aaib-investigation-to-ikarus-c42...   \n",
       "\n",
       "                             content_id details document_type locale  \\\n",
       "0  96eacfbe-0385-45ef-9289-8428dacad258      {}   aaib_report     en   \n",
       "1  1d697c99-b1d0-4855-b72d-a97d83a4fc91      {}   aaib_report     en   \n",
       "2  5814334a-77d0-426e-8e78-ff2b05ea6322      {}   aaib_report     en   \n",
       "3  c8f31c76-eab0-4be6-95a5-5e6e7f32056c      {}   aaib_report     en   \n",
       "4  4cc0ae15-ad87-42ce-8a89-2bdb14e19e26      {}   aaib_report     en   \n",
       "\n",
       "                                               title  \n",
       "0  AAIB investigation to Hawker Sea Fury T MK 20,...  \n",
       "1  AAIB investigation to HPH Glasflugel 304 eS, G...  \n",
       "2   AAIB investigation to Ikarus C42 FB UK, G-IKUS\\t  \n",
       "3   AAIB investigation to Ikarus C42 FB100, G-CEHG\\t  \n",
       "4     AAIB investigation to Ikarus C42 FB100, G-ZAVI  "
      ]
     },
     "execution_count": 37,
     "metadata": {},
     "output_type": "execute_result"
    }
   ],
   "source": [
    "df.head()"
   ]
  },
  {
   "cell_type": "code",
   "execution_count": 38,
   "metadata": {},
   "outputs": [
    {
     "data": {
      "text/plain": [
       "_id                                             /1619-bursary-fund\n",
       "content_id                    f4b96a38-5247-4afd-b554-8a258a0e8c93\n",
       "details          {'parts': [{'slug': 'overview'}, {'slug': 'wha...\n",
       "document_type                                                guide\n",
       "locale                                                          en\n",
       "title                                        16 to 19 Bursary Fund\n",
       "Name: 20, dtype: object"
      ]
     },
     "execution_count": 38,
     "metadata": {},
     "output_type": "execute_result"
    }
   ],
   "source": [
    "df[df.details.str.len()>0].iloc[0]"
   ]
  },
  {
   "cell_type": "code",
   "execution_count": 49,
   "metadata": {},
   "outputs": [
    {
     "name": "stdout",
     "output_type": "stream",
     "text": [
      "/1619-bursary-fund\n",
      "/additional-state-pension\n",
      "/access-to-elected-office-fund\n",
      "/access-to-work\n"
     ]
    }
   ],
   "source": [
    "for ind,item in df[df.details.str.len()>0][0:10].iterrows():\n",
    "    for i in item['details']['parts']:\n",
    "        if \"eligibility\" in i['slug']:\n",
    "            print(item['_id'])"
   ]
  },
  {
   "cell_type": "code",
   "execution_count": 36,
   "metadata": {},
   "outputs": [
    {
     "data": {
      "text/plain": [
       "['overview',\n",
       " 'what-youll-get',\n",
       " 'eligibility',\n",
       " 'how-to-claim',\n",
       " 'further-information']"
      ]
     },
     "execution_count": 36,
     "metadata": {},
     "output_type": "execute_result"
    }
   ],
   "source": [
    "[item['slug'] for i in df[df.details.str.len()>0].iloc[0].details.values() for item in i]"
   ]
  },
  {
   "cell_type": "code",
   "execution_count": 51,
   "metadata": {},
   "outputs": [],
   "source": [
    "def get_parts(details):\n",
    "    return [item['slug'] for i in details.values() for item in i]"
   ]
  },
  {
   "cell_type": "code",
   "execution_count": 83,
   "metadata": {},
   "outputs": [],
   "source": [
    "def map_page_to_parts(collection_items):\n",
    "    rowlist = []\n",
    "    for i,content_item in enumerate(collection_items):\n",
    "        parts = get_parts(content_item['details'])\n",
    "        content_item.pop('details')          \n",
    "        if len(parts)>0:\n",
    "            for part in parts:\n",
    "                rowdict = {key:value for key,value in content_item.items()}\n",
    "                rowdict['part'] = part\n",
    "                rowlist.append(rowdict)\n",
    "        else:\n",
    "            rowdict = content_item \n",
    "            rowlist.append(rowdict)\n",
    "    return pd.DataFrame(rowlist)    "
   ]
  },
  {
   "cell_type": "code",
   "execution_count": 84,
   "metadata": {},
   "outputs": [],
   "source": [
    "content_items = content_store_collection.find(QUERY, DETAILS_PARTS)"
   ]
  },
  {
   "cell_type": "code",
   "execution_count": 85,
   "metadata": {},
   "outputs": [
    {
     "data": {
      "text/html": [
       "<div>\n",
       "<style scoped>\n",
       "    .dataframe tbody tr th:only-of-type {\n",
       "        vertical-align: middle;\n",
       "    }\n",
       "\n",
       "    .dataframe tbody tr th {\n",
       "        vertical-align: top;\n",
       "    }\n",
       "\n",
       "    .dataframe thead th {\n",
       "        text-align: right;\n",
       "    }\n",
       "</style>\n",
       "<table border=\"1\" class=\"dataframe\">\n",
       "  <thead>\n",
       "    <tr style=\"text-align: right;\">\n",
       "      <th></th>\n",
       "      <th>base_path</th>\n",
       "      <th>content_id</th>\n",
       "      <th>document_type</th>\n",
       "      <th>locale</th>\n",
       "      <th>part</th>\n",
       "      <th>title</th>\n",
       "    </tr>\n",
       "  </thead>\n",
       "  <tbody>\n",
       "    <tr>\n",
       "      <th>0</th>\n",
       "      <td>/aaib-reports/aaib-investigation-to-hawker-sea...</td>\n",
       "      <td>96eacfbe-0385-45ef-9289-8428dacad258</td>\n",
       "      <td>aaib_report</td>\n",
       "      <td>en</td>\n",
       "      <td>NaN</td>\n",
       "      <td>AAIB investigation to Hawker Sea Fury T MK 20,...</td>\n",
       "    </tr>\n",
       "    <tr>\n",
       "      <th>1</th>\n",
       "      <td>/aaib-reports/aaib-investigation-to-hph-glasfl...</td>\n",
       "      <td>1d697c99-b1d0-4855-b72d-a97d83a4fc91</td>\n",
       "      <td>aaib_report</td>\n",
       "      <td>en</td>\n",
       "      <td>NaN</td>\n",
       "      <td>AAIB investigation to HPH Glasflugel 304 eS, G...</td>\n",
       "    </tr>\n",
       "    <tr>\n",
       "      <th>2</th>\n",
       "      <td>/aaib-reports/aaib-investigation-to-ikarus-c42...</td>\n",
       "      <td>5814334a-77d0-426e-8e78-ff2b05ea6322</td>\n",
       "      <td>aaib_report</td>\n",
       "      <td>en</td>\n",
       "      <td>NaN</td>\n",
       "      <td>AAIB investigation to Ikarus C42 FB UK, G-IKUS\\t</td>\n",
       "    </tr>\n",
       "    <tr>\n",
       "      <th>3</th>\n",
       "      <td>/aaib-reports/aaib-investigation-to-ikarus-c42...</td>\n",
       "      <td>c8f31c76-eab0-4be6-95a5-5e6e7f32056c</td>\n",
       "      <td>aaib_report</td>\n",
       "      <td>en</td>\n",
       "      <td>NaN</td>\n",
       "      <td>AAIB investigation to Ikarus C42 FB100, G-CEHG\\t</td>\n",
       "    </tr>\n",
       "    <tr>\n",
       "      <th>4</th>\n",
       "      <td>/aaib-reports/aaib-investigation-to-ikarus-c42...</td>\n",
       "      <td>4cc0ae15-ad87-42ce-8a89-2bdb14e19e26</td>\n",
       "      <td>aaib_report</td>\n",
       "      <td>en</td>\n",
       "      <td>NaN</td>\n",
       "      <td>AAIB investigation to Ikarus C42 FB100, G-ZAVI</td>\n",
       "    </tr>\n",
       "  </tbody>\n",
       "</table>\n",
       "</div>"
      ],
      "text/plain": [
       "                                           base_path  \\\n",
       "0  /aaib-reports/aaib-investigation-to-hawker-sea...   \n",
       "1  /aaib-reports/aaib-investigation-to-hph-glasfl...   \n",
       "2  /aaib-reports/aaib-investigation-to-ikarus-c42...   \n",
       "3  /aaib-reports/aaib-investigation-to-ikarus-c42...   \n",
       "4  /aaib-reports/aaib-investigation-to-ikarus-c42...   \n",
       "\n",
       "                             content_id document_type locale part  \\\n",
       "0  96eacfbe-0385-45ef-9289-8428dacad258   aaib_report     en  NaN   \n",
       "1  1d697c99-b1d0-4855-b72d-a97d83a4fc91   aaib_report     en  NaN   \n",
       "2  5814334a-77d0-426e-8e78-ff2b05ea6322   aaib_report     en  NaN   \n",
       "3  c8f31c76-eab0-4be6-95a5-5e6e7f32056c   aaib_report     en  NaN   \n",
       "4  4cc0ae15-ad87-42ce-8a89-2bdb14e19e26   aaib_report     en  NaN   \n",
       "\n",
       "                                               title  \n",
       "0  AAIB investigation to Hawker Sea Fury T MK 20,...  \n",
       "1  AAIB investigation to HPH Glasflugel 304 eS, G...  \n",
       "2   AAIB investigation to Ikarus C42 FB UK, G-IKUS\\t  \n",
       "3   AAIB investigation to Ikarus C42 FB100, G-CEHG\\t  \n",
       "4     AAIB investigation to Ikarus C42 FB100, G-ZAVI  "
      ]
     },
     "execution_count": 85,
     "metadata": {},
     "output_type": "execute_result"
    }
   ],
   "source": [
    "df = map_page_to_parts(content_items)\n",
    "df.rename(columns={'_id':'base_path'},inplace=True)\n",
    "df.head()"
   ]
  },
  {
   "cell_type": "code",
   "execution_count": 91,
   "metadata": {},
   "outputs": [
    {
     "data": {
      "text/plain": [
       "guide    127\n",
       "Name: document_type, dtype: int64"
      ]
     },
     "execution_count": 91,
     "metadata": {},
     "output_type": "execute_result"
    }
   ],
   "source": [
    "df[df.part==\"eligibility\"].drop_duplicates('content_id').document_type.value_counts()"
   ]
  },
  {
   "cell_type": "code",
   "execution_count": 87,
   "metadata": {},
   "outputs": [
    {
     "data": {
      "text/plain": [
       "20                              /1619-bursary-fund/overview\n",
       "21                        /1619-bursary-fund/what-youll-get\n",
       "22                           /1619-bursary-fund/eligibility\n",
       "23                          /1619-bursary-fund/how-to-claim\n",
       "24                   /1619-bursary-fund/further-information\n",
       "8736                     /additional-state-pension/overview\n",
       "8737               /additional-state-pension/what-youll-get\n",
       "8738                  /additional-state-pension/eligibility\n",
       "8739              /additional-state-pension/contracting-out\n",
       "8740                 /additional-state-pension/how-to-claim\n",
       "8741                   /additional-state-pension/inheriting\n",
       "8742             /additional-state-pension/you-get-divorced\n",
       "8744                          /adi-standards-check/overview\n",
       "8745          /adi-standards-check/book-adi-standards-check\n",
       "8746      /adi-standards-check/what-to-take-to-your-stan...\n",
       "8747      /adi-standards-check/what-happens-at-the-stand...\n",
       "8748        /adi-standards-check/your-standards-check-grade\n",
       "8749         /adi-standards-check/old-adi-check-test-grades\n",
       "8750              /administrative-appeals-tribunal/overview\n",
       "8751         /administrative-appeals-tribunal/how-to-appeal\n",
       "8752      /administrative-appeals-tribunal/how-your-case...\n",
       "8753      /administrative-appeals-tribunal/if-you-lose-y...\n",
       "8754      /administrative-appeals-tribunal/legislation-a...\n",
       "10017                            /adi-part-2-test/book-test\n",
       "10018                         /adi-part-2-test/what-to-take\n",
       "10019                            /adi-part-2-test/car-rules\n",
       "10020             /adi-part-2-test/what-happens-during-test\n",
       "10021                   /adi-part-2-test/faults-test-result\n",
       "10022           /adi-part-2-test/test-cancelled-bad-weather\n",
       "10403               /access-to-elected-office-fund/overview\n",
       "                                ...                        \n",
       "316953    /your-employment-contract-how-it-can-be-change...\n",
       "316954    /your-employment-contract-how-it-can-be-change...\n",
       "316955    /your-employment-contract-how-it-can-be-change...\n",
       "316956                   /your-property-boundaries/overview\n",
       "316957    /your-property-boundaries/boundary-agreement-n...\n",
       "316958    /your-property-boundaries/apply-exact-boundary...\n",
       "316959    /your-property-boundaries/correct-boundary-mis...\n",
       "316960                 /your-rights-after-crime/your-rights\n",
       "316961    /your-rights-after-crime/if-the-case-goes-to-c...\n",
       "316962    /your-rights-after-crime/if-the-crime-was-seri...\n",
       "316963            /your-rights-after-crime/make-a-complaint\n",
       "316964    /your-rights-bailiffs/what-you-can-do-when-a-b...\n",
       "316965    /your-rights-bailiffs/how-to-complain-about-a-...\n",
       "316966    /your-rights-if-your-employer-is-insolvent/ove...\n",
       "316967    /your-rights-if-your-employer-is-insolvent/you...\n",
       "316968    /your-rights-if-your-employer-is-insolvent/wha...\n",
       "316969    /your-rights-if-your-employer-is-insolvent/app...\n",
       "316970    /your-rights-if-your-employer-is-insolvent/aft...\n",
       "316972          /youth-crime-prevention-programmes/overview\n",
       "316973    /youth-crime-prevention-programmes/how-young-p...\n",
       "316974    /youth-crime-prevention-programmes/what-these-...\n",
       "316975         /youth-crime-prevention-programmes/mentoring\n",
       "316976    /youth-crime-prevention-programmes/involving-p...\n",
       "316978                          /yswiriant-gwladol/trosolwg\n",
       "316979       /yswiriant-gwladol/eich-rhif-yswiriant-gwladol\n",
       "316980    /yswiriant-gwladol/dosbarthiadau-yswiriant-gwl...\n",
       "316981            /yswiriant-gwladol/faint-rydych-chin-talu\n",
       "316982    /yswiriant-gwladol/yr-hyn-y-mae-yswiriant-gwla...\n",
       "316983        /yswiriant-gwladol/cymorth-nad-ydych-gweithio\n",
       "316984           /yswiriant-gwladol/newid-mewn-amgylchiadau\n",
       "Length: 4111, dtype: object"
      ]
     },
     "execution_count": 87,
     "metadata": {},
     "output_type": "execute_result"
    }
   ],
   "source": [
    "df[~df.part.isna()][['base_path','part']].apply(\"/\".join,axis=1)"
   ]
  },
  {
   "cell_type": "code",
   "execution_count": 92,
   "metadata": {},
   "outputs": [
    {
     "data": {
      "text/plain": [
       "Index(['base_path', 'content_id', 'document_type', 'locale', 'part', 'title'], dtype='object')"
      ]
     },
     "execution_count": 92,
     "metadata": {},
     "output_type": "execute_result"
    }
   ],
   "source": [
    "df.columns"
   ]
  },
  {
   "cell_type": "code",
   "execution_count": 93,
   "metadata": {},
   "outputs": [],
   "source": [
    "df.drop(['document_type', 'locale', 'title'], axis=1, inplace=True)"
   ]
  },
  {
   "cell_type": "code",
   "execution_count": 95,
   "metadata": {},
   "outputs": [],
   "source": [
    "df.to_csv(os.path.join(DATA_DIR, \"base_path_cid_map.csv\"), index=False)"
   ]
  },
  {
   "cell_type": "code",
   "execution_count": null,
   "metadata": {},
   "outputs": [],
   "source": []
  }
 ],
 "metadata": {
  "kernelspec": {
   "display_name": "Python 3",
   "language": "python",
   "name": "python3"
  },
  "language_info": {
   "codemirror_mode": {
    "name": "ipython",
    "version": 3
   },
   "file_extension": ".py",
   "mimetype": "text/x-python",
   "name": "python",
   "nbconvert_exporter": "python",
   "pygments_lexer": "ipython3",
   "version": "3.6.0"
  }
 },
 "nbformat": 4,
 "nbformat_minor": 2
}
