{
 "cells": [
  {
   "cell_type": "code",
   "execution_count": 9,
   "metadata": {},
   "outputs": [],
   "source": [
    "import os\n",
    "import pandas as pd\n",
    "from ast import literal_eval\n",
    "from bs4 import BeautifulSoup\n",
    "import requests\n",
    "import urllib.request\n",
    "import json"
   ]
  },
  {
   "cell_type": "markdown",
   "metadata": {},
   "source": [
    "Role: https://www.gov.uk/api/content/government/ministers/attorney-general\n",
    "\n",
    "People: https://www.gov.uk/api/content/government/people/matthew-hancock and list of all people: https://www.gov.uk/api/content/government/people"
   ]
  },
  {
   "cell_type": "code",
   "execution_count": 2,
   "metadata": {},
   "outputs": [],
   "source": [
    "DATA_DIR = os.getenv(\"DATA_DIR\")"
   ]
  },
  {
   "cell_type": "code",
   "execution_count": 17,
   "metadata": {},
   "outputs": [],
   "source": [
    "def extract_html_links(text):\n",
    "    \"\"\"\n",
    "    Grab any GOV.UK domain-specific links from page text.\n",
    "    :param text: Text within a details sub-section, refer to filtered for keys.\n",
    "    :return: list of links\n",
    "    \"\"\"\n",
    "    links = []\n",
    "#     try:\n",
    "    soup = BeautifulSoup(text, \"html.parser\")\n",
    "    links = [link.get('href') for link in soup.findAll('a', href=True)]\n",
    "#     except Exception:\n",
    "#         print(\"error\")\n",
    "    return [l.replace(\"https://www.gov.uk/\", \"/\") for l in links\n",
    "            if l.startswith(\"/government/people\")]"
   ]
  },
  {
   "cell_type": "code",
   "execution_count": null,
   "metadata": {},
   "outputs": [],
   "source": [
    "\"https://www.gov.uk/government/people\""
   ]
  },
  {
   "cell_type": "code",
   "execution_count": null,
   "metadata": {},
   "outputs": [],
   "source": [
    "url = requests.get(\"https://www.gov.uk/government/people\")\n",
    "htmltext = url.text"
   ]
  },
  {
   "cell_type": "code",
   "execution_count": 21,
   "metadata": {},
   "outputs": [
    {
     "data": {
      "text/plain": [
       "2"
      ]
     },
     "execution_count": 21,
     "metadata": {},
     "output_type": "execute_result"
    }
   ],
   "source": [
    "int(\"https://www.gov.uk/government/people?page=2\".split(\"=\")[-1])"
   ]
  },
  {
   "cell_type": "code",
   "execution_count": 31,
   "metadata": {},
   "outputs": [
    {
     "name": "stdout",
     "output_type": "stream",
     "text": [
      "2\n",
      "2\n",
      "3\n",
      "3\n",
      "4\n",
      "4\n",
      "5\n",
      "5\n",
      "6\n",
      "6\n",
      "7\n",
      "7\n",
      "8\n",
      "8\n",
      "9\n",
      "9\n",
      "10\n",
      "10\n",
      "11\n",
      "11\n",
      "12\n",
      "12\n",
      "13\n",
      "13\n",
      "14\n",
      "14\n",
      "15\n",
      "15\n",
      "16\n",
      "16\n",
      "17\n",
      "17\n",
      "18\n",
      "18\n",
      "19\n",
      "19\n",
      "20\n",
      "20\n",
      "21\n",
      "21\n",
      "22\n",
      "22\n",
      "23\n",
      "23\n",
      "24\n",
      "24\n",
      "25\n",
      "25\n",
      "26\n",
      "26\n",
      "27\n",
      "27\n",
      "28\n",
      "28\n",
      "29\n",
      "29\n",
      "30\n",
      "30\n",
      "31\n",
      "31\n",
      "32\n",
      "32\n",
      "33\n",
      "33\n",
      "34\n",
      "34\n",
      "35\n",
      "35\n",
      "36\n",
      "36\n",
      "37\n",
      "37\n",
      "38\n",
      "38\n",
      "39\n",
      "39\n",
      "40\n",
      "40\n",
      "41\n",
      "41\n",
      "42\n",
      "42\n",
      "43\n",
      "43\n",
      "44\n",
      "44\n",
      "45\n",
      "45\n",
      "46\n",
      "46\n",
      "47\n",
      "47\n",
      "48\n",
      "48\n",
      "49\n",
      "49\n",
      "50\n",
      "50\n",
      "51\n",
      "51\n",
      "52\n",
      "52\n",
      "53\n",
      "53\n",
      "54\n",
      "54\n",
      "55\n",
      "55\n",
      "56\n",
      "56\n",
      "57\n",
      "57\n",
      "58\n",
      "58\n",
      "59\n",
      "59\n",
      "60\n",
      "60\n",
      "61\n",
      "61\n",
      "62\n",
      "62\n",
      "63\n",
      "63\n",
      "64\n",
      "64\n",
      "65\n",
      "65\n",
      "66\n",
      "66\n",
      "67\n",
      "67\n",
      "68\n",
      "68\n",
      "69\n",
      "69\n",
      "70\n",
      "70\n",
      "71\n",
      "69\n"
     ]
    }
   ],
   "source": [
    "all_people = []\n",
    "ind = 1\n",
    "next_page = 1\n",
    "while ind == next_page:\n",
    "    target = \"https://www.gov.uk/government/people?page={}\".format(ind)\n",
    "    url = requests.get(target)\n",
    "    link_list = extract_html_links(url.text)\n",
    "    all_people.extend(link_list[0:-1])\n",
    "    ind+=1\n",
    "    next_page = int(link_list[-1].split(\"=\")[-1])\n",
    "    print(ind)\n",
    "    print(next_page)"
   ]
  },
  {
   "cell_type": "code",
   "execution_count": 36,
   "metadata": {},
   "outputs": [],
   "source": [
    "with open(os.path.join(DATA_DIR, \"people_urls.csv\"), \"w\") as write:\n",
    "    for p in all_people:\n",
    "        write.write(p+\"\\n\")"
   ]
  },
  {
   "cell_type": "code",
   "execution_count": null,
   "metadata": {},
   "outputs": [],
   "source": []
  }
 ],
 "metadata": {
  "kernelspec": {
   "display_name": "Python 3",
   "language": "python",
   "name": "python3"
  },
  "language_info": {
   "codemirror_mode": {
    "name": "ipython",
    "version": 3
   },
   "file_extension": ".py",
   "mimetype": "text/x-python",
   "name": "python",
   "nbconvert_exporter": "python",
   "pygments_lexer": "ipython3",
   "version": "3.6.0"
  }
 },
 "nbformat": 4,
 "nbformat_minor": 2
}
