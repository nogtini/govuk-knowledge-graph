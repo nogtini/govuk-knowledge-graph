{
 "cells": [
  {
   "cell_type": "code",
   "execution_count": 1,
   "metadata": {},
   "outputs": [],
   "source": [
    "import os\n",
    "import yaml\n",
    "import numpy as np\n",
    "import pandas as pd\n",
    "from pandas.io.json import json_normalize\n",
    "import pymongo\n",
    "import warnings\n",
    "from bs4 import BeautifulSoup\n",
    "import datetime\n",
    "from lxml import etree\n",
    "from itertools import chain\n",
    "from lxml import html\n",
    "warnings.filterwarnings('ignore', category=UserWarning, module='bs4')"
   ]
  },
  {
   "cell_type": "code",
   "execution_count": 2,
   "metadata": {},
   "outputs": [],
   "source": [
    "DATA_DIR = os.getenv(\"DATA_DIR\")\n",
    "CONFIG = os.getenv(\"CONFIG\")\n",
    "blacklist_path = os.path.join(CONFIG, 'document_types_excluded_from_the_topic_taxonomy.yml')"
   ]
  },
  {
   "cell_type": "code",
   "execution_count": null,
   "metadata": {},
   "outputs": [],
   "source": [
    "mongo_client = pymongo.MongoClient(\"mongodb://localhost:27017/\")\n",
    "\n",
    "content_store_db = mongo_client[\"content_store\"]\n",
    "content_store_collection = content_store_db[\"content_items\"]"
   ]
  },
  {
   "cell_type": "code",
   "execution_count": 25,
   "metadata": {},
   "outputs": [],
   "source": [
    "FIELDS = {\n",
    "    \"expanded_links.organisations\": 1,\n",
    "    \"expanded_links.taxons\": 1,\n",
    "    \"expanded_links.primary_publishing_organisation\": 1,\n",
    "    \"expanded_links.worldwide_organisations\": 1,\n",
    "    \"expanded_links.supporting_organisations\": 1,\n",
    "    \"expanded_links.original_primary_publishing_organisation\": 1,\n",
    "    \"title\":1,\n",
    "    \"locale\":1,\n",
    "    \"description\":1,\n",
    "    \"document_type\": 1,\n",
    "    \"content_id\": 1}\n",
    "# 'string', '$options' : 'i'\n",
    "# 'string$'\n",
    "QUERY = {\"$and\": [ {\"document_type\": { '$regex': '_role$'}},\n",
    "                          {\"phase\": \"live\"}]}"
   ]
  },
  {
   "cell_type": "code",
   "execution_count": 26,
   "metadata": {},
   "outputs": [],
   "source": [
    "content_items = content_store_collection.find(QUERY, FIELDS)\n",
    "rowlist = [item for item in content_items]\n",
    "df = pd.DataFrame(rowlist)"
   ]
  },
  {
   "cell_type": "code",
   "execution_count": 27,
   "metadata": {},
   "outputs": [
    {
     "data": {
      "text/plain": [
       "ministerial_role                366\n",
       "placeholder_ministerial_role     12\n",
       "Name: document_type, dtype: int64"
      ]
     },
     "execution_count": 27,
     "metadata": {},
     "output_type": "execute_result"
    }
   ],
   "source": [
    "df.document_type.value_counts()"
   ]
  },
  {
   "cell_type": "code",
   "execution_count": 29,
   "metadata": {},
   "outputs": [
    {
     "data": {
      "text/plain": [
       "_id               /government/ministers/assistant-government-whip\n",
       "content_id                   846180d3-c0f1-11e4-8223-005056011aef\n",
       "description                                       {'value': None}\n",
       "document_type                                    ministerial_role\n",
       "expanded_links                                                 {}\n",
       "locale                                                         en\n",
       "title                                              Assistant Whip\n",
       "Name: 0, dtype: object"
      ]
     },
     "execution_count": 29,
     "metadata": {},
     "output_type": "execute_result"
    }
   ],
   "source": [
    "df.iloc[0]"
   ]
  },
  {
   "cell_type": "code",
   "execution_count": null,
   "metadata": {},
   "outputs": [],
   "source": []
  }
 ],
 "metadata": {
  "kernelspec": {
   "display_name": "Python 3",
   "language": "python",
   "name": "python3"
  },
  "language_info": {
   "codemirror_mode": {
    "name": "ipython",
    "version": 3
   },
   "file_extension": ".py",
   "mimetype": "text/x-python",
   "name": "python",
   "nbconvert_exporter": "python",
   "pygments_lexer": "ipython3",
   "version": "3.6.0"
  }
 },
 "nbformat": 4,
 "nbformat_minor": 2
}
