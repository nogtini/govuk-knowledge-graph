{
 "cells": [
  {
   "cell_type": "markdown",
   "metadata": {},
   "source": [
    "## Get a dict of service names from the GDS Register\n"
   ]
  },
  {
   "cell_type": "code",
   "execution_count": 1,
   "metadata": {
    "ExecuteTime": {
     "end_time": "2019-05-21T13:38:29.554698Z",
     "start_time": "2019-05-21T13:38:29.030753Z"
    }
   },
   "outputs": [],
   "source": [
    "import requests\n",
    "from pandas import read_csv\n",
    "from io import StringIO\n",
    "import os\n",
    "import json"
   ]
  },
  {
   "cell_type": "code",
   "execution_count": null,
   "metadata": {},
   "outputs": [],
   "source": [
    "DATA_DIR = os.getenv(\"DATA_DIR\")"
   ]
  },
  {
   "cell_type": "markdown",
   "metadata": {},
   "source": [
    "We presume a dictionary is the preferred format for the lookup with both the key that works across registers."
   ]
  },
  {
   "cell_type": "code",
   "execution_count": 22,
   "metadata": {
    "ExecuteTime": {
     "end_time": "2019-05-21T14:20:04.547490Z",
     "start_time": "2019-05-21T14:20:04.541757Z"
    }
   },
   "outputs": [],
   "source": [
    "def get_services_list(url='https://government-service.register.gov.uk/records.csv?page-size=5000'):\n",
    "    \"\"\"Get a list of str of Government services that have a government service domain on the GOV.UK website\"\"\"\n",
    "    \n",
    "    services = requests.get(url)\n",
    "    services = services.text\n",
    "    services = StringIO(services)\n",
    "    df = read_csv(services)\n",
    "\n",
    "    gov_services = list(df.hostname.values)\n",
    "\n",
    "    return gov_services"
   ]
  },
  {
   "cell_type": "code",
   "execution_count": 23,
   "metadata": {
    "ExecuteTime": {
     "end_time": "2019-05-21T14:20:05.133097Z",
     "start_time": "2019-05-21T14:20:05.047652Z"
    }
   },
   "outputs": [
    {
     "data": {
      "text/plain": [
       "152"
      ]
     },
     "execution_count": 23,
     "metadata": {},
     "output_type": "execute_result"
    }
   ],
   "source": [
    "len(get_services_list())"
   ]
  },
  {
   "cell_type": "code",
   "execution_count": 24,
   "metadata": {
    "ExecuteTime": {
     "end_time": "2019-05-21T14:30:14.133070Z",
     "start_time": "2019-05-21T14:30:14.120797Z"
    }
   },
   "outputs": [
    {
     "data": {
      "text/html": [
       "<div>\n",
       "<style scoped>\n",
       "    .dataframe tbody tr th:only-of-type {\n",
       "        vertical-align: middle;\n",
       "    }\n",
       "\n",
       "    .dataframe tbody tr th {\n",
       "        vertical-align: top;\n",
       "    }\n",
       "\n",
       "    .dataframe thead th {\n",
       "        text-align: right;\n",
       "    }\n",
       "</style>\n",
       "<table border=\"1\" class=\"dataframe\">\n",
       "  <thead>\n",
       "    <tr style=\"text-align: right;\">\n",
       "      <th></th>\n",
       "      <th>index-entry-number</th>\n",
       "      <th>entry-number</th>\n",
       "      <th>entry-timestamp</th>\n",
       "      <th>key</th>\n",
       "      <th>government-service</th>\n",
       "      <th>hostname</th>\n",
       "      <th>government-organisation</th>\n",
       "      <th>start-date</th>\n",
       "      <th>end-date</th>\n",
       "    </tr>\n",
       "  </thead>\n",
       "  <tbody>\n",
       "    <tr>\n",
       "      <th>0</th>\n",
       "      <td>166</td>\n",
       "      <td>166</td>\n",
       "      <td>2018-12-03T14:59:59Z</td>\n",
       "      <td>1116</td>\n",
       "      <td>1116</td>\n",
       "      <td>recruit-apprentice</td>\n",
       "      <td>EO1216</td>\n",
       "      <td>NaN</td>\n",
       "      <td>NaN</td>\n",
       "    </tr>\n",
       "    <tr>\n",
       "      <th>1</th>\n",
       "      <td>165</td>\n",
       "      <td>165</td>\n",
       "      <td>2018-12-03T14:59:21Z</td>\n",
       "      <td>1054</td>\n",
       "      <td>1054</td>\n",
       "      <td>findapprenticeship</td>\n",
       "      <td>EO1216</td>\n",
       "      <td>NaN</td>\n",
       "      <td>NaN</td>\n",
       "    </tr>\n",
       "    <tr>\n",
       "      <th>2</th>\n",
       "      <td>164</td>\n",
       "      <td>164</td>\n",
       "      <td>2018-11-09T11:27:01Z</td>\n",
       "      <td>1148</td>\n",
       "      <td>1148</td>\n",
       "      <td>universal-credit</td>\n",
       "      <td>D10</td>\n",
       "      <td>NaN</td>\n",
       "      <td>NaN</td>\n",
       "    </tr>\n",
       "    <tr>\n",
       "      <th>3</th>\n",
       "      <td>163</td>\n",
       "      <td>163</td>\n",
       "      <td>2018-07-13T13:55:50Z</td>\n",
       "      <td>1198</td>\n",
       "      <td>1198</td>\n",
       "      <td>apply-divorce</td>\n",
       "      <td>EA73</td>\n",
       "      <td>2018-04-16</td>\n",
       "      <td>NaN</td>\n",
       "    </tr>\n",
       "    <tr>\n",
       "      <th>4</th>\n",
       "      <td>162</td>\n",
       "      <td>162</td>\n",
       "      <td>2018-07-13T13:55:05Z</td>\n",
       "      <td>1197</td>\n",
       "      <td>1197</td>\n",
       "      <td>reply-jury-summons</td>\n",
       "      <td>EA73</td>\n",
       "      <td>2018-04-24</td>\n",
       "      <td>NaN</td>\n",
       "    </tr>\n",
       "  </tbody>\n",
       "</table>\n",
       "</div>"
      ],
      "text/plain": [
       "   index-entry-number  entry-number       entry-timestamp   key  \\\n",
       "0                 166           166  2018-12-03T14:59:59Z  1116   \n",
       "1                 165           165  2018-12-03T14:59:21Z  1054   \n",
       "2                 164           164  2018-11-09T11:27:01Z  1148   \n",
       "3                 163           163  2018-07-13T13:55:50Z  1198   \n",
       "4                 162           162  2018-07-13T13:55:05Z  1197   \n",
       "\n",
       "   government-service            hostname government-organisation  start-date  \\\n",
       "0                1116  recruit-apprentice                  EO1216         NaN   \n",
       "1                1054  findapprenticeship                  EO1216         NaN   \n",
       "2                1148    universal-credit                     D10         NaN   \n",
       "3                1198       apply-divorce                    EA73  2018-04-16   \n",
       "4                1197  reply-jury-summons                    EA73  2018-04-24   \n",
       "\n",
       "  end-date  \n",
       "0      NaN  \n",
       "1      NaN  \n",
       "2      NaN  \n",
       "3      NaN  \n",
       "4      NaN  "
      ]
     },
     "execution_count": 24,
     "metadata": {},
     "output_type": "execute_result"
    }
   ],
   "source": [
    "df.head()"
   ]
  },
  {
   "cell_type": "code",
   "execution_count": 25,
   "metadata": {
    "ExecuteTime": {
     "end_time": "2019-05-21T14:34:24.254893Z",
     "start_time": "2019-05-21T14:34:24.247392Z"
    }
   },
   "outputs": [],
   "source": [
    "def get_service_dict(url='https://government-service.register.gov.uk/records.csv?page-size=5000'):\n",
    "    \"\"\"Get a dictionary of Government Service host name and the responsible government-organisation.\n",
    "    This let's us look up the id based on the domain hostname of the service.\n",
    "    \"\"\"\n",
    "    orgs = requests.get(url)\n",
    "\n",
    "    orgs = orgs.text\n",
    "    orgs = StringIO(orgs)\n",
    "    df = read_csv(orgs)\n",
    "\n",
    "    # Set unique Register's org ID as key and name as value\n",
    "    keys = df['hostname'].values\n",
    "    values = df['government-organisation'].values\n",
    "    dictionary = dict(zip(keys, values))\n",
    "\n",
    "    gov_orgs_dict = dictionary\n",
    "\n",
    "    return gov_orgs_dict"
   ]
  },
  {
   "cell_type": "code",
   "execution_count": 27,
   "metadata": {
    "ExecuteTime": {
     "end_time": "2019-05-21T14:34:37.882436Z",
     "start_time": "2019-05-21T14:34:37.736504Z"
    }
   },
   "outputs": [],
   "source": [
    "df = get_service_dict()"
   ]
  },
  {
   "cell_type": "code",
   "execution_count": 28,
   "metadata": {
    "ExecuteTime": {
     "end_time": "2019-05-21T14:34:38.556630Z",
     "start_time": "2019-05-21T14:34:38.552277Z"
    }
   },
   "outputs": [
    {
     "data": {
      "text/plain": [
       "'{\"recruit-apprentice\": \"EO1216\", \"findapprenticeship\": \"EO1216\", \"universal-credit\": \"D10\", \"apply-divorce\": \"EA73\", \"reply-jury-summons\": \"EA73\", \"track-benefit-appeal\": \"EA73\", \"appeal-benefit-decision\": \"EA73\", \"teaching-jobs\": \"D6\", \"design-system\": \"OT1056\", \"access\": \"D25\", \"update-student-loan-employment-details\": \"PB27\", \"apply-for-probate\": \"EA73\", \"ethnicity-facts-figures\": \"OT1254\", \"registers\": \"OT1056\", \"claim-chargepoint-grants\": \"EA74\", \"apply-workplace-chargepoint-grant\": \"EA74\", \"claim-power-of-attorney-refund\": \"EA72\", \"manage-company-data\": \"EA26\", \"apply-basic-criminal-record-check\": \"PB509\", \"reply-juror-summons\": \"EA73\", \"manage-water-abstraction-impoundment-licence\": \"EA199\", \"moneyclaims\": \"EA73\", \"get-state-pension\": \"D10\", \"schools-financial-benchmarking\": \"D6\", \"help-with-prison-visits\": \"D18\", \"publish-payment-practices\": \"D1198\", \"check-payment-practices\": \"D1198\", \"supplier-cyber-protection\": \"D17\", \"benefitfraud-trial\": \"D10\", \"contact-embassy\": \"D13\", \"get-information-schools\": \"D6\", \"appeal-tax-tribunal\": \"D18\", \"report-landfill-data\": \"EA199\", \"trade-tariff\": \"D25\", \"submit-flood-coastal-erosion-funding-proposal\": \"EA199\", \"gender-pay-gap\": \"OT506\", \"apply-plug-in-vehicle-grant\": \"EA74\", \"apply-for-innovation-funding\": \"PB1078\", \"analyse-school-performance\": \"D6\", \"signin\": \"OT1056\", \"weee\": \"EA199\", \"wasteexemptions\": \"EA199\", \"wastecarriersregistration\": \"EA199\", \"visas-immigration\": \"OT554\", \"visa-address-update\": \"OT554\", \"viewdrivingrecord\": \"EA74\", \"verifyapostille\": \"D13\", \"vehicletax\": \"EA74\", \"vehicleenquiry\": \"EA74\", \"vehicle-operator-licensing\": \"PB465\", \"update-charity-details\": \"D98\", \"tribunalsdecisions\": \"EA73\", \"trade-challenge-accreditation\": \"D1196\", \"trackparliamentaryquestions\": \"D18\", \"taxdisc\": \"EA74\", \"tax\": \"D25\", \"take-part-in-research\": \"OT1056\", \"student-finance\": \"PB27\", \"sorn\": \"EA74\", \"skillsfunding\": \"EA86\", \"send-money-to-prisoner\": \"D18\", \"search-property-information\": \"D69\", \"ruralpayments\": \"EA58\", \"report-immigration-custom-crime\": \"D16\", \"report-director-conduct\": \"EA32\", \"report-benefit-fraud\": \"D10\", \"renewable-heat-calculator\": \"D1198\", \"registertovote\": \"D2\", \"register-flood-risk-exemption\": \"EA199\", \"register-alerts-international-opportunities\": \"D13\", \"redundancy-payments\": \"EA32\", \"queens-awards-enterprise\": \"D1198\", \"probatesearch\": \"EA73\", \"prisonvisits\": \"EA321\", \"personalisedvehicleregistration\": \"EA74\", \"peoplefinder\": \"D18\", \"payments\": \"OT1056\", \"paydvlafine\": \"EA74\", \"paydrivingfinetrial\": \"EA74\", \"pay-register-death-abroad\": \"D13\", \"pay-register-birth-abroad\": \"D13\", \"pay-legalisation-post\": \"D13\", \"pay-legalisation-drop-off\": \"D13\", \"passportofficeforms\": \"EA66\", \"passportappointment\": \"EA66\", \"passportapplication\": \"EA66\", \"passport\": \"EA66\", \"overseas-crisis\": \"D13\", \"orphanworkslicensing\": \"EA34\", \"notifications\": \"OT1056\", \"nominate-uk-honour\": \"D2\", \"mot-testing\": \"EA570\", \"miscarriage-justice-compensation\": \"D18\", \"managefleetvehicles\": \"EA74\", \"manage-apprenticeships\": \"EO1216\", \"makeaplea\": \"D18\", \"loststolenpassport\": \"EA66\", \"lastingpowerofattorney\": \"EA72\", \"international-waste-shipments\": \"EA199\", \"immigrationstatuscheck\": \"D16\", \"immigration-health-surcharge\": \"D16\", \"hgvlevy\": \"EA74\", \"helpwithcourtfees\": \"EA73\", \"help-refugees-uk\": \"D16\", \"get-fishing-licence\": \"EA199\", \"get-document-legalised\": \"D13\", \"get-disability-work-support\": \"D10\", \"fqaregister\": \"D7\", \"flood-warning-information\": \"EA199\", \"flood-map-for-planning\": \"EA199\", \"findpensioncontacts\": \"D10\", \"find-business-support\": \"D1198\", \"faster-uk-entry\": \"OT535\", \"energy-saving-home-improvement-fund\": \"D1198\", \"employmenttribunals\": \"EA73\", \"email-dvla\": \"EA74\", \"electronic-visa-waiver\": \"D16\", \"dvla-web-chat\": \"EA74\", \"driving-medical-condition\": \"EA74\", \"domaininformation\": \"OT1056\", \"digitalservicesstore\": \"OT1056\", \"digitalmarketplace\": \"OT1056\", \"dartford-crossing-charge\": \"EA1114\", \"courttribunalformfinder\": \"EA73\", \"courttribunalfinder\": \"EA73\", \"contractsfinder\": \"EA1015\", \"consular-appointments\": \"D13\", \"complete-deputy-report\": \"EA72\", \"compare-school-performance\": \"D6\", \"cloud\": \"OT1056\", \"claim-crown-court-defence\": \"EA556\", \"civilservicejobshare\": \"CS1028\", \"civilservicejobs\": \"CS1028\", \"civilclaims\": \"EA73\", \"checklegalaid\": \"EA556\", \"check-mot\": \"EA570\", \"check-biometric-residence-permit\": \"D16\", \"catchreturn\": \"EA199\", \"carersallowance\": \"D10\", \"buysellvehicle\": \"EA74\", \"biometric-residence-permit\": \"D16\", \"biomass-suppliers-list\": \"D1198\", \"apply-for-debt-relief-order\": \"EA32\", \"apply-for-bankruptcy\": \"EA32\", \"apply-emergency-travel-document\": \"D13\", \"apply-civil-service-fast-stream\": \"OT1121\", \"apply-budgeting-loan\": \"D10\", \"animal-disease-testing\": \"EA1079\", \"access-life-chances-fund\": \"D2\", \"academic-technology-approval\": \"D13\"}'"
      ]
     },
     "execution_count": 28,
     "metadata": {},
     "output_type": "execute_result"
    }
   ],
   "source": [
    "json.dumps(df)"
   ]
  },
  {
   "cell_type": "code",
   "execution_count": 32,
   "metadata": {
    "ExecuteTime": {
     "end_time": "2019-05-21T14:35:43.575701Z",
     "start_time": "2019-05-21T14:35:43.571339Z"
    }
   },
   "outputs": [],
   "source": [
    "with open(os.path.join(DATA_DIR, \"services_from_registers_lookup.json\"), 'w') as f: f.write(json.dumps(df))"
   ]
  },
  {
   "cell_type": "code",
   "execution_count": null,
   "metadata": {},
   "outputs": [],
   "source": []
  }
 ],
 "metadata": {
  "kernelspec": {
   "display_name": "Python 3",
   "language": "python",
   "name": "python3"
  },
  "language_info": {
   "codemirror_mode": {
    "name": "ipython",
    "version": 3
   },
   "file_extension": ".py",
   "mimetype": "text/x-python",
   "name": "python",
   "nbconvert_exporter": "python",
   "pygments_lexer": "ipython3",
   "version": "3.7.0"
  },
  "toc": {
   "base_numbering": 1,
   "nav_menu": {},
   "number_sections": true,
   "sideBar": true,
   "skip_h1_title": false,
   "title_cell": "Table of Contents",
   "title_sidebar": "Contents",
   "toc_cell": false,
   "toc_position": {},
   "toc_section_display": true,
   "toc_window_display": false
  }
 },
 "nbformat": 4,
 "nbformat_minor": 2
}
