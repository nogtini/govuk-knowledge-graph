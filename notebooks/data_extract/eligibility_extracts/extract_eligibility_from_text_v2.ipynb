{
 "cells": [
  {
   "cell_type": "markdown",
   "metadata": {},
   "source": [
    "There exist mentions of elibility requirements in page text, some in specialized `Eligibility` sections, others within the context of `smart_answers` or `answer` document_types. With a focus on age requirements, extract stuff out."
   ]
  },
  {
   "cell_type": "code",
   "execution_count": 44,
   "metadata": {},
   "outputs": [],
   "source": [
    "import os\n",
    "import pandas as pd\n",
    "import numpy as np\n",
    "import re\n",
    "from ast import literal_eval\n",
    "from pprint import pprint\n",
    "import spacy\n",
    "from lxml import etree\n",
    "from bs4 import BeautifulSoup"
   ]
  },
  {
   "cell_type": "code",
   "execution_count": 25,
   "metadata": {},
   "outputs": [
    {
     "name": "stderr",
     "output_type": "stream",
     "text": [
      "/Users/felisialoukou/.virtualenvs/k-graph/lib/python3.6/site-packages/IPython/core/interactiveshell.py:3049: DtypeWarning: Columns (8,9) have mixed types. Specify dtype option on import or set low_memory=False.\n",
      "  interactivity=interactivity, compiler=compiler, result=result)\n"
     ]
    }
   ],
   "source": [
    "DATA_DIR = os.getenv(\"DATA_DIR\")\n",
    "content_path = os.path.join(DATA_DIR, \n",
    "                            \"preprocessed_content_store_wdetails_june_en_june.csv.gz\")\n",
    "df = pd.read_csv(content_path, compression=\"gzip\")"
   ]
  },
  {
   "cell_type": "code",
   "execution_count": 26,
   "metadata": {},
   "outputs": [
    {
     "data": {
      "text/html": [
       "<div>\n",
       "<style scoped>\n",
       "    .dataframe tbody tr th:only-of-type {\n",
       "        vertical-align: middle;\n",
       "    }\n",
       "\n",
       "    .dataframe tbody tr th {\n",
       "        vertical-align: top;\n",
       "    }\n",
       "\n",
       "    .dataframe thead th {\n",
       "        text-align: right;\n",
       "    }\n",
       "</style>\n",
       "<table border=\"1\" class=\"dataframe\">\n",
       "  <thead>\n",
       "    <tr style=\"text-align: right;\">\n",
       "      <th></th>\n",
       "      <th>base_path</th>\n",
       "      <th>content_id</th>\n",
       "      <th>title</th>\n",
       "      <th>description</th>\n",
       "      <th>document_type</th>\n",
       "      <th>details</th>\n",
       "      <th>orgs_id</th>\n",
       "      <th>orgs_title</th>\n",
       "      <th>sbs_details</th>\n",
       "      <th>pages_part_of_step_nav</th>\n",
       "      <th>text</th>\n",
       "      <th>taxons</th>\n",
       "      <th>locale</th>\n",
       "    </tr>\n",
       "  </thead>\n",
       "  <tbody>\n",
       "    <tr>\n",
       "      <th>0</th>\n",
       "      <td>/aaib-reports/aaib-investigation-to-hawker-sea...</td>\n",
       "      <td>96eacfbe-0385-45ef-9289-8428dacad258</td>\n",
       "      <td>AAIB investigation to Hawker Sea Fury T MK 20,...</td>\n",
       "      <td>Engine failure and landing gear collapse, RNAS...</td>\n",
       "      <td>aaib_report</td>\n",
       "      <td>{'body': [{'content_type': 'text/govspeak', 'c...</td>\n",
       "      <td>{'organisations': ['38eb5d8f-2d89-480c-8655-e2...</td>\n",
       "      <td>{'organisations': ['Air Accidents Investigatio...</td>\n",
       "      <td>NaN</td>\n",
       "      <td>NaN</td>\n",
       "      <td>Summary: The aircraft was performing in a publ...</td>\n",
       "      <td>[{'title': 'Transport', 'content_id': 'a4038b2...</td>\n",
       "      <td>en</td>\n",
       "    </tr>\n",
       "    <tr>\n",
       "      <th>1</th>\n",
       "      <td>/aaib-reports/aaib-investigation-to-hph-glasfl...</td>\n",
       "      <td>1d697c99-b1d0-4855-b72d-a97d83a4fc91</td>\n",
       "      <td>AAIB investigation to HPH Glasflugel 304 eS, G...</td>\n",
       "      <td>Front Electric Sustainer (FES) battery fire du...</td>\n",
       "      <td>aaib_report</td>\n",
       "      <td>{'body': [{'content_type': 'text/govspeak', 'c...</td>\n",
       "      <td>{'organisations': ['38eb5d8f-2d89-480c-8655-e2...</td>\n",
       "      <td>{'organisations': ['Air Accidents Investigatio...</td>\n",
       "      <td>NaN</td>\n",
       "      <td>NaN</td>\n",
       "      <td>Summary: During a normal touchdown following a...</td>\n",
       "      <td>[{'title': 'Transport', 'content_id': 'a4038b2...</td>\n",
       "      <td>en</td>\n",
       "    </tr>\n",
       "    <tr>\n",
       "      <th>2</th>\n",
       "      <td>/aaib-reports/aaib-investigation-to-ikarus-c42...</td>\n",
       "      <td>5814334a-77d0-426e-8e78-ff2b05ea6322</td>\n",
       "      <td>AAIB investigation to Ikarus C42 FB UK, G-IKUS\\t</td>\n",
       "      <td>Aircraft crashed whilst avoiding a hedge when ...</td>\n",
       "      <td>aaib_report</td>\n",
       "      <td>{'body': [{'content_type': 'text/govspeak', 'c...</td>\n",
       "      <td>{'organisations': ['38eb5d8f-2d89-480c-8655-e2...</td>\n",
       "      <td>{'organisations': ['Air Accidents Investigatio...</td>\n",
       "      <td>NaN</td>\n",
       "      <td>NaN</td>\n",
       "      <td>Summary: The pilot was attempting to take off ...</td>\n",
       "      <td>[{'title': 'Transport', 'content_id': 'a4038b2...</td>\n",
       "      <td>en</td>\n",
       "    </tr>\n",
       "    <tr>\n",
       "      <th>3</th>\n",
       "      <td>/aaib-reports/aaib-investigation-to-ikarus-c42...</td>\n",
       "      <td>c8f31c76-eab0-4be6-95a5-5e6e7f32056c</td>\n",
       "      <td>AAIB investigation to Ikarus C42 FB100, G-CEHG\\t</td>\n",
       "      <td>Overturned on landing, Farm Strip, Hardwicke, ...</td>\n",
       "      <td>aaib_report</td>\n",
       "      <td>{'body': [{'content_type': 'text/govspeak', 'c...</td>\n",
       "      <td>{'organisations': ['38eb5d8f-2d89-480c-8655-e2...</td>\n",
       "      <td>{'organisations': ['Air Accidents Investigatio...</td>\n",
       "      <td>NaN</td>\n",
       "      <td>NaN</td>\n",
       "      <td>Summary: G-CEHG was landing on a private airst...</td>\n",
       "      <td>[{'title': 'Transport', 'content_id': 'a4038b2...</td>\n",
       "      <td>en</td>\n",
       "    </tr>\n",
       "    <tr>\n",
       "      <th>4</th>\n",
       "      <td>/aaib-reports/aaib-investigation-to-ikarus-c42...</td>\n",
       "      <td>4cc0ae15-ad87-42ce-8a89-2bdb14e19e26</td>\n",
       "      <td>AAIB investigation to Ikarus C42 FB100, G-ZAVI</td>\n",
       "      <td>Aircraft struck sheep on landing, Lundy Island...</td>\n",
       "      <td>aaib_report</td>\n",
       "      <td>{'metadata': {'date_of_occurrence': '2014-06-2...</td>\n",
       "      <td>{'organisations': ['38eb5d8f-2d89-480c-8655-e2...</td>\n",
       "      <td>{'organisations': ['Air Accidents Investigatio...</td>\n",
       "      <td>NaN</td>\n",
       "      <td>NaN</td>\n",
       "      <td>Summary: The pilot reported that this was his ...</td>\n",
       "      <td>[{'title': 'Transport', 'content_id': 'a4038b2...</td>\n",
       "      <td>en</td>\n",
       "    </tr>\n",
       "  </tbody>\n",
       "</table>\n",
       "</div>"
      ],
      "text/plain": [
       "                                           base_path  \\\n",
       "0  /aaib-reports/aaib-investigation-to-hawker-sea...   \n",
       "1  /aaib-reports/aaib-investigation-to-hph-glasfl...   \n",
       "2  /aaib-reports/aaib-investigation-to-ikarus-c42...   \n",
       "3  /aaib-reports/aaib-investigation-to-ikarus-c42...   \n",
       "4  /aaib-reports/aaib-investigation-to-ikarus-c42...   \n",
       "\n",
       "                             content_id  \\\n",
       "0  96eacfbe-0385-45ef-9289-8428dacad258   \n",
       "1  1d697c99-b1d0-4855-b72d-a97d83a4fc91   \n",
       "2  5814334a-77d0-426e-8e78-ff2b05ea6322   \n",
       "3  c8f31c76-eab0-4be6-95a5-5e6e7f32056c   \n",
       "4  4cc0ae15-ad87-42ce-8a89-2bdb14e19e26   \n",
       "\n",
       "                                               title  \\\n",
       "0  AAIB investigation to Hawker Sea Fury T MK 20,...   \n",
       "1  AAIB investigation to HPH Glasflugel 304 eS, G...   \n",
       "2   AAIB investigation to Ikarus C42 FB UK, G-IKUS\\t   \n",
       "3   AAIB investigation to Ikarus C42 FB100, G-CEHG\\t   \n",
       "4     AAIB investigation to Ikarus C42 FB100, G-ZAVI   \n",
       "\n",
       "                                         description document_type  \\\n",
       "0  Engine failure and landing gear collapse, RNAS...   aaib_report   \n",
       "1  Front Electric Sustainer (FES) battery fire du...   aaib_report   \n",
       "2  Aircraft crashed whilst avoiding a hedge when ...   aaib_report   \n",
       "3  Overturned on landing, Farm Strip, Hardwicke, ...   aaib_report   \n",
       "4  Aircraft struck sheep on landing, Lundy Island...   aaib_report   \n",
       "\n",
       "                                             details  \\\n",
       "0  {'body': [{'content_type': 'text/govspeak', 'c...   \n",
       "1  {'body': [{'content_type': 'text/govspeak', 'c...   \n",
       "2  {'body': [{'content_type': 'text/govspeak', 'c...   \n",
       "3  {'body': [{'content_type': 'text/govspeak', 'c...   \n",
       "4  {'metadata': {'date_of_occurrence': '2014-06-2...   \n",
       "\n",
       "                                             orgs_id  \\\n",
       "0  {'organisations': ['38eb5d8f-2d89-480c-8655-e2...   \n",
       "1  {'organisations': ['38eb5d8f-2d89-480c-8655-e2...   \n",
       "2  {'organisations': ['38eb5d8f-2d89-480c-8655-e2...   \n",
       "3  {'organisations': ['38eb5d8f-2d89-480c-8655-e2...   \n",
       "4  {'organisations': ['38eb5d8f-2d89-480c-8655-e2...   \n",
       "\n",
       "                                          orgs_title sbs_details  \\\n",
       "0  {'organisations': ['Air Accidents Investigatio...         NaN   \n",
       "1  {'organisations': ['Air Accidents Investigatio...         NaN   \n",
       "2  {'organisations': ['Air Accidents Investigatio...         NaN   \n",
       "3  {'organisations': ['Air Accidents Investigatio...         NaN   \n",
       "4  {'organisations': ['Air Accidents Investigatio...         NaN   \n",
       "\n",
       "  pages_part_of_step_nav                                               text  \\\n",
       "0                    NaN  Summary: The aircraft was performing in a publ...   \n",
       "1                    NaN  Summary: During a normal touchdown following a...   \n",
       "2                    NaN  Summary: The pilot was attempting to take off ...   \n",
       "3                    NaN  Summary: G-CEHG was landing on a private airst...   \n",
       "4                    NaN  Summary: The pilot reported that this was his ...   \n",
       "\n",
       "                                              taxons locale  \n",
       "0  [{'title': 'Transport', 'content_id': 'a4038b2...     en  \n",
       "1  [{'title': 'Transport', 'content_id': 'a4038b2...     en  \n",
       "2  [{'title': 'Transport', 'content_id': 'a4038b2...     en  \n",
       "3  [{'title': 'Transport', 'content_id': 'a4038b2...     en  \n",
       "4  [{'title': 'Transport', 'content_id': 'a4038b2...     en  "
      ]
     },
     "execution_count": 26,
     "metadata": {},
     "output_type": "execute_result"
    }
   ],
   "source": [
    "df.head()"
   ]
  },
  {
   "cell_type": "code",
   "execution_count": 27,
   "metadata": {},
   "outputs": [],
   "source": [
    "df['details'] = df['details'].map(literal_eval)"
   ]
  },
  {
   "cell_type": "code",
   "execution_count": 28,
   "metadata": {},
   "outputs": [],
   "source": [
    "def flatten_dict(parts_dict):\n",
    "    return {item['slug']:\"\".join([b['content'] \n",
    "                                  for b in item['body']]) for item in parts_dict}    "
   ]
  },
  {
   "cell_type": "code",
   "execution_count": 29,
   "metadata": {},
   "outputs": [],
   "source": [
    "df['details_parts'] = df['details'].map(lambda x: flatten_dict(x['parts']) \n",
    "                                        if 'parts' in x.keys() \n",
    "                                          else np.nan)"
   ]
  },
  {
   "cell_type": "code",
   "execution_count": 30,
   "metadata": {},
   "outputs": [],
   "source": [
    "df['eligibility_html'] = df['details_parts'].map(lambda x: x.get('eligibility',np.nan) \n",
    "                                                 if not isinstance(x,float) else np.nan)"
   ]
  },
  {
   "cell_type": "code",
   "execution_count": 31,
   "metadata": {},
   "outputs": [],
   "source": [
    "df_welig = df[~df['eligibility_html'].isna()]"
   ]
  },
  {
   "cell_type": "code",
   "execution_count": 37,
   "metadata": {},
   "outputs": [],
   "source": [
    "def extract_text(body):\n",
    "    \"\"\"\n",
    "    Extract text from html body\n",
    "    :param body: <str> containing html.\n",
    "    \"\"\"\n",
    "    # TODO: Tidy this up!\n",
    "    r = None\n",
    "    # body != \"\\n\" and\n",
    "    if body and body != \"\\n\" and not body.isspace():\n",
    "        try:\n",
    "            # print(\"this is\", body)\n",
    "            tree = etree.HTML(body)\n",
    "            r = tree.xpath('//text()')\n",
    "            r = ' '.join(r)\n",
    "            r = r.strip().replace('\\n', ' ').replace('\\r', ' ').replace('\\t', ' ')\n",
    "            r = r.replace('\\n', ' ').replace(',', ' ')\n",
    "            # r = r.lower()\n",
    "            r = ' '.join(r.split())\n",
    "        except ValueError:\n",
    "            print(\"exception @ extract:\", type(body), body)\n",
    "    if not r:\n",
    "        r = ' '\n",
    "    return r"
   ]
  },
  {
   "cell_type": "code",
   "execution_count": 55,
   "metadata": {},
   "outputs": [
    {
     "data": {
      "text/plain": [
       "array(['/1619-bursary-fund', '/additional-state-pension',\n",
       "       '/access-to-elected-office-fund', '/access-to-work',\n",
       "       '/attendance-allowance', '/become-an-mot-tester',\n",
       "       '/bereavement-allowance', '/bereavement-payment',\n",
       "       '/bereavement-support-payment', '/blind-persons-allowance',\n",
       "       '/agricultural-sick-pay', '/budgeting-help-benefits',\n",
       "       '/asylum-support', '/adult-dependants-grant',\n",
       "       '/adoption-pay-leave', '/advanced-learner-loan', '/ancestry-visa',\n",
       "       '/apply-citizenship-born-uk', '/apply-citizenship-british-parent',\n",
       "       '/apply-for-a-uk-residence-card', '/care-to-learn',\n",
       "       '/carers-allowance', '/carers-credit', '/childcare-grant',\n",
       "       '/christmas-bonus', '/claim-asylum',\n",
       "       '/claim-compensation-criminal-injury', '/child-benefit',\n",
       "       '/child-maintenance', '/child-study-visa',\n",
       "       '/claim-for-injury-received-while-serving',\n",
       "       '/cold-weather-payment', '/constant-attendance-allowance',\n",
       "       '/derivative-right-residence', '/disabled-facilities-grants',\n",
       "       '/diffuse-mesothelioma-payment',\n",
       "       '/disability-living-allowance-children',\n",
       "       '/disabled-students-allowances-dsas',\n",
       "       '/domestic-workers-in-a-private-household-visa', '/doctoral-loan',\n",
       "       '/disability-premiums-income-support',\n",
       "       '/employers-adoption-pay-leave', '/employers-paternity-pay-leave',\n",
       "       '/employment-support-allowance', '/entrepreneurs-relief',\n",
       "       '/funeral-payments', '/get-help-savings-low-income',\n",
       "       '/guardians-allowance', '/healthy-start', '/historic-vehicles',\n",
       "       '/home-responsibilities-protection-hrp', '/housing-benefit',\n",
       "       '/income-support', '/innovator-visa', '/jobseekers-allowance',\n",
       "       '/industrial-injuries-disablement-benefit', '/learner-support',\n",
       "       '/legal-aid', '/long-residence', '/mandatory-reconsideration',\n",
       "       '/marriage-visa', '/married-couples-allowance', '/masters-loan',\n",
       "       '/maternity-pay-leave', '/mortgage-interest-run-on',\n",
       "       '/maternity-allowance', '/national-concessionary-fuel-scheme',\n",
       "       '/national-insurance-credits', '/new-state-pension',\n",
       "       '/nhs-bursaries', '/over-80-pension',\n",
       "       '/parent-of-a-child-at-school-visa', '/parental-leave',\n",
       "       '/parents-learning-allowance', '/queens-awards-for-enterprise',\n",
       "       '/register-a-community-amateur-sports-club',\n",
       "       '/paternity-pay-leave', '/pension-credit',\n",
       "       '/permitted-paid-engagement-visa', '/pip',\n",
       "       '/reduced-earnings-allowance', '/registered-traveller',\n",
       "       '/request-information-consultation-agreement',\n",
       "       '/refugee-integration-loan', '/representative-overseas-business',\n",
       "       '/settled-status-eu-citizens-families',\n",
       "       '/settlement-refugee-or-humanitarian-protection',\n",
       "       '/shared-parental-leave-and-pay-employer-guide',\n",
       "       '/social-work-bursaries', '/start-up-visa', '/state-pension',\n",
       "       '/support-for-mortgage-interest', '/standard-visitor-visa',\n",
       "       '/statutory-sick-pay', '/study-visit-visa',\n",
       "       '/sure-start-maternity-grant', '/tier-1-exceptional-talent',\n",
       "       '/tier-1-graduate-entrepreneur-visa', '/tier-1-investor',\n",
       "       '/tier-2-general', '/tier-2-intracompany-transfer-worker-visa',\n",
       "       '/tier-2-minister-of-religion-visa',\n",
       "       '/tier-2-sportsperson-worker-visa', '/tier-4-general-visa',\n",
       "       '/tier-5-government-authorised-exchange',\n",
       "       '/tier-5-international-agreement', '/tier-5-religious',\n",
       "       '/tier-5-seasonal-worker-visa',\n",
       "       '/tier-5-temporary-worker-charity-worker-visa',\n",
       "       '/tier-5-temporary-worker-creative-and-sporting-visa',\n",
       "       '/tier-5-youth-mobility', '/vaccine-damage-payment',\n",
       "       '/vat-annual-accounting-scheme', '/travel-grants-students-england',\n",
       "       '/turkish-business-person', '/working-tax-credit',\n",
       "       '/vat-cash-accounting-scheme', '/visas-partner-dies',\n",
       "       '/widowed-parents-allowance', '/winter-fuel-payment',\n",
       "       '/turkish-worker', '/universal-credit', '/vat-flat-rate-scheme',\n",
       "       '/turkish-worker-business-person-settlement',\n",
       "       '/uk-visa-sponsorship-employers', '/vat-building-new-home',\n",
       "       '/vat-margin-schemes'], dtype=object)"
      ]
     },
     "execution_count": 55,
     "metadata": {},
     "output_type": "execute_result"
    }
   ],
   "source": [
    "df_welig.base_path.values"
   ]
  },
  {
   "cell_type": "code",
   "execution_count": 46,
   "metadata": {},
   "outputs": [],
   "source": [
    "### BeautifulSoup attempt to get all the bulleted lists/headers out"
   ]
  },
  {
   "cell_type": "code",
   "execution_count": 62,
   "metadata": {},
   "outputs": [],
   "source": [
    "test = df_welig.iloc[0]\n",
    "text = test.eligibility_html\n",
    "soup = BeautifulSoup(text, \"html.parser\")"
   ]
  },
  {
   "cell_type": "code",
   "execution_count": 63,
   "metadata": {},
   "outputs": [
    {
     "data": {
      "text/plain": [
       "'/1619-bursary-fund'"
      ]
     },
     "execution_count": 63,
     "metadata": {},
     "output_type": "execute_result"
    }
   ],
   "source": [
    "test.base_path"
   ]
  },
  {
   "cell_type": "code",
   "execution_count": 64,
   "metadata": {},
   "outputs": [
    {
     "data": {
      "text/plain": [
       "'You must:\\r\\n\\r\\n+ be at least 16 and under 19 on 31 August 2019\\r\\n+ study at a publicly funded school or college, or be on an unpaid training course  \\r\\n+ meet the residency requirements - your school or college can check this\\r\\n\\r\\n##Bursary for students in vulnerable groups \\r\\n\\r\\nYou could get up to £1,200 if at least one of the following applies: \\r\\n\\r\\n+ you\\'re in or recently left local authority care\\r\\n+ you get Income Support or Universal Credit because you\\'re financially supporting yourself \\r\\n+ you get Disability Living Allowance (DLA) in your name and either Employment and Support Allowance (ESA) or Universal Credit\\r\\n+ you get Personal Independence Payment (PIP) in your name and either ESA or Universal Credit\\r\\n\\r\\nYou may get the full amount if you have expenses and study full-time on a course of at least 30 weeks.\\r\\n\\r\\nYou’ll usually get less than the full amount, or no bursary, if one of the following apply:\\r\\n\\r\\n+ your course is shorter than 30 weeks\\r\\n+ you study part time\\r\\n+ you have few expenses\\r\\n\\r\\nYou’ll be told what evidence you need, for example benefit letters.\\r\\n\\r\\n##Discretionary bursary \\r\\n\\r\\nYour school or college will have their own criteria for discretionary bursaries. They’ll look at your individual circumstances - this usually includes your family income.\\r\\n\\r\\nAsk student services about their criteria and any evidence you\\'ll need.\\r\\n\\r\\nYou can apply to a discretionary bursary if you\\'re over 19 and either:  \\r\\n\\r\\n* continuing on a course you started aged 16 to 18 (known as being a ‘19+ continuer’)  \\r\\n* have an [Education, Health and Care Plan (EHCP)](/children-with-special-educational-needs/extra-SEN-help)\\r\\n\\r\\n*[ESA]: Employment and Support Allowance\\r\\n*[DLA]: Disability Living Allowance\\r\\n*[PIP]: Personal Independence Payment\\r\\n<p>You must:</p>\\n\\n<ul>\\n  <li>be at least 16 and under 19 on 31 August 2019</li>\\n  <li>study at a publicly funded school or college, or be on an unpaid training course</li>\\n  <li>meet the residency requirements - your school or college can check this</li>\\n</ul>\\n\\n<h2 id=\"bursary-for-students-in-vulnerable-groups\">Bursary for students in vulnerable groups</h2>\\n\\n<p>You could get up to £1,200 if at least one of the following applies:</p>\\n\\n<ul>\\n  <li>you’re in or recently left local authority care</li>\\n  <li>you get Income Support or Universal Credit because you’re financially supporting yourself</li>\\n  <li>you get Disability Living Allowance (<abbr title=\"Disability Living Allowance\">DLA</abbr>) in your name and either Employment and Support Allowance (<abbr title=\"Employment and Support Allowance\">ESA</abbr>) or Universal Credit</li>\\n  <li>you get Personal Independence Payment (<abbr title=\"Personal Independence Payment\">PIP</abbr>) in your name and either <abbr title=\"Employment and Support Allowance\">ESA</abbr> or Universal Credit</li>\\n</ul>\\n\\n<p>You may get the full amount if you have expenses and study full-time on a course of at least 30 weeks.</p>\\n\\n<p>You’ll usually get less than the full amount, or no bursary, if one of the following apply:</p>\\n\\n<ul>\\n  <li>your course is shorter than 30 weeks</li>\\n  <li>you study part time</li>\\n  <li>you have few expenses</li>\\n</ul>\\n\\n<p>You’ll be told what evidence you need, for example benefit letters.</p>\\n\\n<h2 id=\"discretionary-bursary\">Discretionary bursary</h2>\\n\\n<p>Your school or college will have their own criteria for discretionary bursaries. They’ll look at your individual circumstances - this usually includes your family income.</p>\\n\\n<p>Ask student services about their criteria and any evidence you’ll need.</p>\\n\\n<p>You can apply to a discretionary bursary if you’re over 19 and either:</p>\\n\\n<ul>\\n  <li>continuing on a course you started aged 16 to 18 (known as being a ‘19+ continuer’)</li>\\n  <li>have an <a href=\"/children-with-special-educational-needs/extra-SEN-help\">Education, Health and Care Plan (EHCP)</a>\\n</li>\\n</ul>\\n\\n'"
      ]
     },
     "execution_count": 64,
     "metadata": {},
     "output_type": "execute_result"
    }
   ],
   "source": [
    "text"
   ]
  },
  {
   "cell_type": "markdown",
   "metadata": {},
   "source": [
    "    if header -> new scenario\n",
    "    first header (overall?)\n",
    "    other headers -> secondary scenarios, unless first header mentions a requirement disputed by scenario, then it's a different class"
   ]
  },
  {
   "cell_type": "code",
   "execution_count": 108,
   "metadata": {},
   "outputs": [],
   "source": [
    "def specialized_scenario(header_string):\n",
    "    return any([x in header_string for x in [' for ','group']]) "
   ]
  },
  {
   "cell_type": "code",
   "execution_count": 109,
   "metadata": {},
   "outputs": [
    {
     "data": {
      "text/plain": [
       "True"
      ]
     },
     "execution_count": 109,
     "metadata": {},
     "output_type": "execute_result"
    }
   ],
   "source": [
    "specialized_scenario(\"group\")"
   ]
  },
  {
   "cell_type": "code",
   "execution_count": 275,
   "metadata": {},
   "outputs": [],
   "source": [
    "class Section:\n",
    "    \n",
    "    def __init__(self, section_type=\"\", header=\"\"):\n",
    "        self.section_type = section_type\n",
    "        self.header = header\n",
    "        self.bullets = []\n",
    "        self.paragraphs = []\n",
    "    \n",
    "    def set_type(self, section_type):\n",
    "        self.section_type = section_type\n",
    "        \n",
    "    def set_header(self, header):\n",
    "        self.header = header\n",
    "        \n",
    "    def add_bullet(self, bullet):\n",
    "        if bullet not in self.bullets:\n",
    "            self.bullets.append(bullet)\n",
    "            \n",
    "    def add_paragraph(self, paragraph):\n",
    "        if paragraph not in self.paragraphs:\n",
    "            self.paragraphs.append(paragraph)   \n",
    "            \n",
    "    def to_string(self):\n",
    "        return \"type: {}\\nheader: {}\\nbullets: {}\\nparagraphs: {}\"\\\n",
    "                    .format(self.section_type, self.header, self.bullets, self.paragraphs)\n",
    "            "
   ]
  },
  {
   "cell_type": "code",
   "execution_count": 276,
   "metadata": {},
   "outputs": [
    {
     "data": {
      "text/plain": [
       "['womp']"
      ]
     },
     "execution_count": 276,
     "metadata": {},
     "output_type": "execute_result"
    }
   ],
   "source": [
    "section = Section()\n",
    "section.add_bullet(\"womp\")\n",
    "section.section_type\n",
    "section.bullets"
   ]
  },
  {
   "cell_type": "code",
   "execution_count": 277,
   "metadata": {},
   "outputs": [],
   "source": [
    "            \n",
    "#         if header.name = \"ul\":\n",
    "# #             print(header.name, header.text.strip())\n",
    "#         elif header.name == \"ul\":\n",
    "#             for bullet in header.find_all([\"li\"]):\n",
    "# #                 print(\"+\", bullet.text.strip())\n",
    "#         else:\n",
    "#             print(\"bonk\")\n",
    "#         if \"h\" in header.name and specialized_scenario(header.text.strip()):\n",
    "#             print('https://www.gov.uk'+row['base_path']+'/eligibility')\n",
    "#             print(\"secondary case?\")\n",
    "#             print(header.name, header.text.strip())\n",
    "#         print(\"###\")"
   ]
  },
  {
   "cell_type": "code",
   "execution_count": 278,
   "metadata": {},
   "outputs": [
    {
     "data": {
      "text/html": [
       "<div>\n",
       "<style scoped>\n",
       "    .dataframe tbody tr th:only-of-type {\n",
       "        vertical-align: middle;\n",
       "    }\n",
       "\n",
       "    .dataframe tbody tr th {\n",
       "        vertical-align: top;\n",
       "    }\n",
       "\n",
       "    .dataframe thead th {\n",
       "        text-align: right;\n",
       "    }\n",
       "</style>\n",
       "<table border=\"1\" class=\"dataframe\">\n",
       "  <thead>\n",
       "    <tr style=\"text-align: right;\">\n",
       "      <th></th>\n",
       "      <th>base_path</th>\n",
       "      <th>content_id</th>\n",
       "      <th>title</th>\n",
       "      <th>description</th>\n",
       "      <th>document_type</th>\n",
       "      <th>details</th>\n",
       "      <th>orgs_id</th>\n",
       "      <th>orgs_title</th>\n",
       "      <th>sbs_details</th>\n",
       "      <th>pages_part_of_step_nav</th>\n",
       "      <th>text</th>\n",
       "      <th>taxons</th>\n",
       "      <th>locale</th>\n",
       "      <th>details_parts</th>\n",
       "      <th>eligibility_html</th>\n",
       "    </tr>\n",
       "  </thead>\n",
       "  <tbody>\n",
       "    <tr>\n",
       "      <th>20</th>\n",
       "      <td>/1619-bursary-fund</td>\n",
       "      <td>f4b96a38-5247-4afd-b554-8a258a0e8c93</td>\n",
       "      <td>16 to 19 Bursary Fund</td>\n",
       "      <td>Bursaries of up to £1,200 for students in furt...</td>\n",
       "      <td>guide</td>\n",
       "      <td>{'parts': [{'title': 'Overview', 'slug': 'over...</td>\n",
       "      <td>{'organisations': ['71381a6e-aa5c-43ae-a982-be...</td>\n",
       "      <td>{'organisations': ['Education and Skills Fundi...</td>\n",
       "      <td>NaN</td>\n",
       "      <td>NaN</td>\n",
       "      <td>You could get a bursary to help with education...</td>\n",
       "      <td>[{'title': 'Education, training and skills', '...</td>\n",
       "      <td>en</td>\n",
       "      <td>{'overview': 'You could get a bursary to help ...</td>\n",
       "      <td>You must:\\r\\n\\r\\n+ be at least 16 and under 19...</td>\n",
       "    </tr>\n",
       "    <tr>\n",
       "      <th>8732</th>\n",
       "      <td>/additional-state-pension</td>\n",
       "      <td>e78637eb-3be4-408c-9f9c-d2336635c0ca</td>\n",
       "      <td>Additional State Pension</td>\n",
       "      <td>Additional State Pension, also known as the St...</td>\n",
       "      <td>guide</td>\n",
       "      <td>{'parts': [{'title': 'Overview', 'slug': 'over...</td>\n",
       "      <td>{'organisations': ['b548a09f-8b35-4104-89f4-f1...</td>\n",
       "      <td>{'organisations': ['Department for Work and Pe...</td>\n",
       "      <td>NaN</td>\n",
       "      <td>NaN</td>\n",
       "      <td>The Additional State Pension is an extra amoun...</td>\n",
       "      <td>[{'title': 'Work', 'content_id': 'd0f1e5a3-c8f...</td>\n",
       "      <td>en</td>\n",
       "      <td>{'overview': 'The Additional State Pension is ...</td>\n",
       "      <td>##You reached State Pension age on or after 6 ...</td>\n",
       "    </tr>\n",
       "  </tbody>\n",
       "</table>\n",
       "</div>"
      ],
      "text/plain": [
       "                      base_path                            content_id  \\\n",
       "20           /1619-bursary-fund  f4b96a38-5247-4afd-b554-8a258a0e8c93   \n",
       "8732  /additional-state-pension  e78637eb-3be4-408c-9f9c-d2336635c0ca   \n",
       "\n",
       "                         title  \\\n",
       "20       16 to 19 Bursary Fund   \n",
       "8732  Additional State Pension   \n",
       "\n",
       "                                            description document_type  \\\n",
       "20    Bursaries of up to £1,200 for students in furt...         guide   \n",
       "8732  Additional State Pension, also known as the St...         guide   \n",
       "\n",
       "                                                details  \\\n",
       "20    {'parts': [{'title': 'Overview', 'slug': 'over...   \n",
       "8732  {'parts': [{'title': 'Overview', 'slug': 'over...   \n",
       "\n",
       "                                                orgs_id  \\\n",
       "20    {'organisations': ['71381a6e-aa5c-43ae-a982-be...   \n",
       "8732  {'organisations': ['b548a09f-8b35-4104-89f4-f1...   \n",
       "\n",
       "                                             orgs_title sbs_details  \\\n",
       "20    {'organisations': ['Education and Skills Fundi...         NaN   \n",
       "8732  {'organisations': ['Department for Work and Pe...         NaN   \n",
       "\n",
       "     pages_part_of_step_nav  \\\n",
       "20                      NaN   \n",
       "8732                    NaN   \n",
       "\n",
       "                                                   text  \\\n",
       "20    You could get a bursary to help with education...   \n",
       "8732  The Additional State Pension is an extra amoun...   \n",
       "\n",
       "                                                 taxons locale  \\\n",
       "20    [{'title': 'Education, training and skills', '...     en   \n",
       "8732  [{'title': 'Work', 'content_id': 'd0f1e5a3-c8f...     en   \n",
       "\n",
       "                                          details_parts  \\\n",
       "20    {'overview': 'You could get a bursary to help ...   \n",
       "8732  {'overview': 'The Additional State Pension is ...   \n",
       "\n",
       "                                       eligibility_html  \n",
       "20    You must:\\r\\n\\r\\n+ be at least 16 and under 19...  \n",
       "8732  ##You reached State Pension age on or after 6 ...  "
      ]
     },
     "execution_count": 278,
     "metadata": {},
     "output_type": "execute_result"
    }
   ],
   "source": [
    "df_welig[0:2]"
   ]
  },
  {
   "cell_type": "code",
   "execution_count": 280,
   "metadata": {},
   "outputs": [
    {
     "name": "stdout",
     "output_type": "stream",
     "text": [
      "0\n",
      "You must:\n",
      "1\n",
      "\n",
      "be at least 16 and under 19 on 31 August 2019\n",
      "study at a publicly funded school or college, or be on an unpaid training course\n",
      "meet the residency requirements - your school or college can check this\n",
      "\n",
      "2\n",
      "Bursary for students in vulnerable groups\n",
      "3\n",
      "You could get up to £1,200 if at least one of the following applies:\n",
      "4\n",
      "\n",
      "you’re in or recently left local authority care\n",
      "you get Income Support or Universal Credit because you’re financially supporting yourself\n",
      "you get Disability Living Allowance (DLA) in your name and either Employment and Support Allowance (ESA) or Universal Credit\n",
      "you get Personal Independence Payment (PIP) in your name and either ESA or Universal Credit\n",
      "\n",
      "5\n",
      "You may get the full amount if you have expenses and study full-time on a course of at least 30 weeks.\n",
      "6\n",
      "You’ll usually get less than the full amount, or no bursary, if one of the following apply:\n",
      "7\n",
      "\n",
      "your course is shorter than 30 weeks\n",
      "you study part time\n",
      "you have few expenses\n",
      "\n",
      "8\n",
      "You’ll be told what evidence you need, for example benefit letters.\n",
      "9\n",
      "Discretionary bursary\n",
      "10\n",
      "Your school or college will have their own criteria for discretionary bursaries. They’ll look at your individual circumstances - this usually includes your family income.\n",
      "11\n",
      "Ask student services about their criteria and any evidence you’ll need.\n",
      "12\n",
      "You can apply to a discretionary bursary if you’re over 19 and either:\n",
      "13\n",
      "\n",
      "continuing on a course you started aged 16 to 18 (known as being a ‘19+ continuer’)\n",
      "have an Education, Health and Care Plan (EHCP)\n",
      "\n",
      "\n",
      "0\n",
      "You reached State Pension age on or after 6 April 2016\n",
      "1\n",
      "You won’t get the Additional State Pension if you reached State Pension age on or after 6 April 2016. You’ll get the new State Pension.\n",
      "2\n",
      "You reached State Pension age before 6 April 2016\n",
      "3\n",
      "If you reached State Pension age before 6 April 2016 and started claiming the basic State Pension, you’ll automatically get any Additional State Pension you’re eligible for. There is no need to make a separate claim.\n",
      "4\n",
      "You may not get any Additional State Pension for periods when you were contracted out of it.\n",
      "5\n",
      "When you have contributed to the Additional State Pension\n",
      "6\n",
      "The Additional State Pension is made up of 3 schemes. You might have contributed to more than one, depending on:\n",
      "7\n",
      "\n",
      "how long you’ve been working\n",
      "whether you chose to top up your State Pension\n",
      "\n",
      "8\n",
      "The State Second Pension since 2002\n",
      "9\n",
      "You contributed through your National Insurance contributions if at any time between 6 April 2002 and 5 April 2016 you were:\n",
      "10\n",
      "\n",
      "employed and earning at least the lower earnings limit - this was £5,824 in the 2015 to 2016 tax year\n",
      "looking after children under 12 and claiming Child Benefit\n",
      "caring for a sick or disabled person more than 20 hours a week and claiming Carer’s Credit\n",
      "working as a registered foster carer and claiming Carer’s Credit\n",
      "receiving certain other benefits due to illness or disability\n",
      "\n"
     ]
    }
   ],
   "source": [
    "all_stacks = []\n",
    "for i,row in df_welig[0:2].iterrows():\n",
    "    text = row['eligibility_html']\n",
    "    soup = BeautifulSoup(text, \"html.parser\")\n",
    "    section_stack = []\n",
    "    for i, header in enumerate(soup.find_all([\"h1\",\"h2\",\"h3\", \"p\", \"ul\"])):\n",
    "        print(i)\n",
    "        print(header.text)\n",
    "        # first element on eligibility page\n",
    "        if i == 0:\n",
    "            section_stack = [Section()]\n",
    "            ## Page is sectioned by default, multiple scenarios\n",
    "            if header.name.startswith(\"h\"):\n",
    "                section_stack[-1].set_type(\"secondary\")\n",
    "                \n",
    "            ## Page has a \"main\" scenario, may include secondary scenarios \n",
    "            ## (that may not abide to stuff outlined in main scenario)\n",
    "            if header.name == \"p\":\n",
    "                section_stack[-1].set_type(\"base\")   \n",
    "                \n",
    "            section_stack[-1].set_header(header.text.strip())\n",
    "        else:\n",
    "            if header.name.startswith(\"h\"):\n",
    "                section_stack.append(Section(\"secondary\",header.text.strip()))\n",
    "            ## Page has a \"main\" scenario, may include secondary scenarios \n",
    "            ## (that may not abide to stuff outlined in main scenario)\n",
    "            if header.name == \"p\":\n",
    "                section_stack[-1].add_paragraph(header.text.strip())\n",
    "            else:\n",
    "                for bullet in header.find_all([\"li\"]):\n",
    "                    section_stack[-1].add_bullet(bullet.text.strip())\n",
    "    all_stacks.append((row['base_path'],section_stack))"
   ]
  },
  {
   "cell_type": "code",
   "execution_count": 281,
   "metadata": {},
   "outputs": [
    {
     "name": "stdout",
     "output_type": "stream",
     "text": [
      "type: base\n",
      "header: You must:\n",
      "bullets: ['be at least 16 and under 19 on 31 August 2019', 'study at a publicly funded school or college, or be on an unpaid training course', 'meet the residency requirements - your school or college can check this']\n",
      "paragraphs: []\n",
      "###\n",
      "type: secondary\n",
      "header: Bursary for students in vulnerable groups\n",
      "bullets: ['you’re in or recently left local authority care', 'you get Income Support or Universal Credit because you’re financially supporting yourself', 'you get Disability Living Allowance (DLA) in your name and either Employment and Support Allowance (ESA) or Universal Credit', 'you get Personal Independence Payment (PIP) in your name and either ESA or Universal Credit', 'your course is shorter than 30 weeks', 'you study part time', 'you have few expenses']\n",
      "paragraphs: ['You could get up to £1,200 if at least one of the following applies:', 'You may get the full amount if you have expenses and study full-time on a course of at least 30 weeks.', 'You’ll usually get less than the full amount, or no bursary, if one of the following apply:', 'You’ll be told what evidence you need, for example benefit letters.']\n",
      "###\n",
      "type: secondary\n",
      "header: Discretionary bursary\n",
      "bullets: ['continuing on a course you started aged 16 to 18 (known as being a ‘19+ continuer’)', 'have an Education, Health and Care Plan (EHCP)']\n",
      "paragraphs: ['Your school or college will have their own criteria for discretionary bursaries. They’ll look at your individual circumstances - this usually includes your family income.', 'Ask student services about their criteria and any evidence you’ll need.', 'You can apply to a discretionary bursary if you’re over 19 and either:']\n",
      "###\n"
     ]
    }
   ],
   "source": [
    "for section in all_stacks[0][1]:\n",
    "    print(section.to_string())\n",
    "    print(\"###\")"
   ]
  },
  {
   "cell_type": "code",
   "execution_count": 261,
   "metadata": {},
   "outputs": [],
   "source": [
    "### Regex stuff"
   ]
  },
  {
   "cell_type": "code",
   "execution_count": null,
   "metadata": {},
   "outputs": [],
   "source": [
    "rowlist = []\n",
    "for key,value in list(elig_texts.items()):\n",
    "\n",
    "    if \"This fund is currently closed.\" not in value:\n",
    "#         \\s?\\d\\d\\s?(and|or)?\\s?(over|under)?(\\s\\d\\d)?\n",
    "        search = re.finditer(\"\"\".*(born on|(reached|over|under) State Pension age|\n",
    "                             age(d)?|('re|were|are|be( at least)?|have been)\\s?(over|under)?\\d\\d).*\"\"\", value)\n",
    "        if search is not None:\n",
    "#             print(f'https://www.gov.uk{key}/eligibility')\n",
    "            for i,s in enumerate(search):\n",
    "                start = s.start()\n",
    "                end = s.end()\n",
    "#                 print(f'At {i}: ({start},{end})')\n",
    "                text = value[start:end]\n",
    "#                 print(text)\n",
    "                rowlist.append({'base_path':key, \n",
    "                                'instance #':int(i+1),\n",
    "                                'start':start,\n",
    "                                'end':end,\n",
    "                                'age_text':value[start:end],\n",
    "                                'text':value})\n",
    "        else:\n",
    "            rowlist.append({'base_path':key, 'age_text':'Age requirements not detected',\n",
    "                           'text':value})\n",
    "            \n",
    "    else:\n",
    "#         print(f'https://www.gov.uk{key}/eligibility')\n",
    "#         print(\"closed\")\n",
    "        rowlist.append({'base_path':key, 'age_text':'Fund closed','text':value})\n",
    "df_eligibility = pd.DataFrame(rowlist)\n",
    "df_eligibility = df_eligibility[['base_path', 'text','instance #', 'start', 'end','age_text']]"
   ]
  }
 ],
 "metadata": {
  "kernelspec": {
   "display_name": "Python 3",
   "language": "python",
   "name": "python3"
  },
  "language_info": {
   "codemirror_mode": {
    "name": "ipython",
    "version": 3
   },
   "file_extension": ".py",
   "mimetype": "text/x-python",
   "name": "python",
   "nbconvert_exporter": "python",
   "pygments_lexer": "ipython3",
   "version": "3.6.0"
  }
 },
 "nbformat": 4,
 "nbformat_minor": 2
}
