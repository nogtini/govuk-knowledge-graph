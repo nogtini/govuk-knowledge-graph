{
 "cells": [
  {
   "cell_type": "markdown",
   "metadata": {},
   "source": [
    "There exist mentions of elibility requirements in page text, some in specialized `Eligibility` sections, others within the context of `smart_answers` or `answer` document_types. With a focus on age requirements, extract stuff out."
   ]
  },
  {
   "cell_type": "code",
   "execution_count": 1,
   "metadata": {},
   "outputs": [],
   "source": [
    "import os\n",
    "import pandas as pd\n",
    "import numpy as np\n",
    "\n",
    "import re\n",
    "from ast import literal_eval\n",
    "from pprint import pprint\n",
    "\n",
    "import spacy\n",
    "from textblob import TextBlob\n",
    "\n",
    "from lxml import etree\n",
    "from bs4 import BeautifulSoup\n",
    "\n",
    "from dateutil.parser import parse\n",
    "import datefinder"
   ]
  },
  {
   "cell_type": "markdown",
   "metadata": {},
   "source": [
    "## Set up data directories "
   ]
  },
  {
   "cell_type": "code",
   "execution_count": 2,
   "metadata": {},
   "outputs": [
    {
     "name": "stderr",
     "output_type": "stream",
     "text": [
      "/Users/felisialoukou/.virtualenvs/k-graph/lib/python3.6/site-packages/IPython/core/interactiveshell.py:3049: DtypeWarning: Columns (8,9) have mixed types. Specify dtype option on import or set low_memory=False.\n",
      "  interactivity=interactivity, compiler=compiler, result=result)\n"
     ]
    }
   ],
   "source": [
    "DATA_DIR = os.getenv(\"DATA_DIR\")\n",
    "content_path = os.path.join(DATA_DIR, \n",
    "                            \"preprocessed_content_store_wdetails_june_en_june.csv.gz\")\n",
    "df = pd.read_csv(content_path, compression=\"gzip\")"
   ]
  },
  {
   "cell_type": "code",
   "execution_count": 3,
   "metadata": {},
   "outputs": [
    {
     "data": {
      "text/html": [
       "<div>\n",
       "<style scoped>\n",
       "    .dataframe tbody tr th:only-of-type {\n",
       "        vertical-align: middle;\n",
       "    }\n",
       "\n",
       "    .dataframe tbody tr th {\n",
       "        vertical-align: top;\n",
       "    }\n",
       "\n",
       "    .dataframe thead th {\n",
       "        text-align: right;\n",
       "    }\n",
       "</style>\n",
       "<table border=\"1\" class=\"dataframe\">\n",
       "  <thead>\n",
       "    <tr style=\"text-align: right;\">\n",
       "      <th></th>\n",
       "      <th>base_path</th>\n",
       "      <th>content_id</th>\n",
       "      <th>title</th>\n",
       "      <th>description</th>\n",
       "      <th>document_type</th>\n",
       "      <th>details</th>\n",
       "      <th>orgs_id</th>\n",
       "      <th>orgs_title</th>\n",
       "      <th>sbs_details</th>\n",
       "      <th>pages_part_of_step_nav</th>\n",
       "      <th>text</th>\n",
       "      <th>taxons</th>\n",
       "      <th>locale</th>\n",
       "    </tr>\n",
       "  </thead>\n",
       "  <tbody>\n",
       "    <tr>\n",
       "      <th>0</th>\n",
       "      <td>/aaib-reports/aaib-investigation-to-hawker-sea...</td>\n",
       "      <td>96eacfbe-0385-45ef-9289-8428dacad258</td>\n",
       "      <td>AAIB investigation to Hawker Sea Fury T MK 20,...</td>\n",
       "      <td>Engine failure and landing gear collapse, RNAS...</td>\n",
       "      <td>aaib_report</td>\n",
       "      <td>{'body': [{'content_type': 'text/govspeak', 'c...</td>\n",
       "      <td>{'organisations': ['38eb5d8f-2d89-480c-8655-e2...</td>\n",
       "      <td>{'organisations': ['Air Accidents Investigatio...</td>\n",
       "      <td>NaN</td>\n",
       "      <td>NaN</td>\n",
       "      <td>Summary: The aircraft was performing in a publ...</td>\n",
       "      <td>[{'title': 'Transport', 'content_id': 'a4038b2...</td>\n",
       "      <td>en</td>\n",
       "    </tr>\n",
       "    <tr>\n",
       "      <th>1</th>\n",
       "      <td>/aaib-reports/aaib-investigation-to-hph-glasfl...</td>\n",
       "      <td>1d697c99-b1d0-4855-b72d-a97d83a4fc91</td>\n",
       "      <td>AAIB investigation to HPH Glasflugel 304 eS, G...</td>\n",
       "      <td>Front Electric Sustainer (FES) battery fire du...</td>\n",
       "      <td>aaib_report</td>\n",
       "      <td>{'body': [{'content_type': 'text/govspeak', 'c...</td>\n",
       "      <td>{'organisations': ['38eb5d8f-2d89-480c-8655-e2...</td>\n",
       "      <td>{'organisations': ['Air Accidents Investigatio...</td>\n",
       "      <td>NaN</td>\n",
       "      <td>NaN</td>\n",
       "      <td>Summary: During a normal touchdown following a...</td>\n",
       "      <td>[{'title': 'Transport', 'content_id': 'a4038b2...</td>\n",
       "      <td>en</td>\n",
       "    </tr>\n",
       "    <tr>\n",
       "      <th>2</th>\n",
       "      <td>/aaib-reports/aaib-investigation-to-ikarus-c42...</td>\n",
       "      <td>5814334a-77d0-426e-8e78-ff2b05ea6322</td>\n",
       "      <td>AAIB investigation to Ikarus C42 FB UK, G-IKUS\\t</td>\n",
       "      <td>Aircraft crashed whilst avoiding a hedge when ...</td>\n",
       "      <td>aaib_report</td>\n",
       "      <td>{'body': [{'content_type': 'text/govspeak', 'c...</td>\n",
       "      <td>{'organisations': ['38eb5d8f-2d89-480c-8655-e2...</td>\n",
       "      <td>{'organisations': ['Air Accidents Investigatio...</td>\n",
       "      <td>NaN</td>\n",
       "      <td>NaN</td>\n",
       "      <td>Summary: The pilot was attempting to take off ...</td>\n",
       "      <td>[{'title': 'Transport', 'content_id': 'a4038b2...</td>\n",
       "      <td>en</td>\n",
       "    </tr>\n",
       "    <tr>\n",
       "      <th>3</th>\n",
       "      <td>/aaib-reports/aaib-investigation-to-ikarus-c42...</td>\n",
       "      <td>c8f31c76-eab0-4be6-95a5-5e6e7f32056c</td>\n",
       "      <td>AAIB investigation to Ikarus C42 FB100, G-CEHG\\t</td>\n",
       "      <td>Overturned on landing, Farm Strip, Hardwicke, ...</td>\n",
       "      <td>aaib_report</td>\n",
       "      <td>{'body': [{'content_type': 'text/govspeak', 'c...</td>\n",
       "      <td>{'organisations': ['38eb5d8f-2d89-480c-8655-e2...</td>\n",
       "      <td>{'organisations': ['Air Accidents Investigatio...</td>\n",
       "      <td>NaN</td>\n",
       "      <td>NaN</td>\n",
       "      <td>Summary: G-CEHG was landing on a private airst...</td>\n",
       "      <td>[{'title': 'Transport', 'content_id': 'a4038b2...</td>\n",
       "      <td>en</td>\n",
       "    </tr>\n",
       "    <tr>\n",
       "      <th>4</th>\n",
       "      <td>/aaib-reports/aaib-investigation-to-ikarus-c42...</td>\n",
       "      <td>4cc0ae15-ad87-42ce-8a89-2bdb14e19e26</td>\n",
       "      <td>AAIB investigation to Ikarus C42 FB100, G-ZAVI</td>\n",
       "      <td>Aircraft struck sheep on landing, Lundy Island...</td>\n",
       "      <td>aaib_report</td>\n",
       "      <td>{'metadata': {'date_of_occurrence': '2014-06-2...</td>\n",
       "      <td>{'organisations': ['38eb5d8f-2d89-480c-8655-e2...</td>\n",
       "      <td>{'organisations': ['Air Accidents Investigatio...</td>\n",
       "      <td>NaN</td>\n",
       "      <td>NaN</td>\n",
       "      <td>Summary: The pilot reported that this was his ...</td>\n",
       "      <td>[{'title': 'Transport', 'content_id': 'a4038b2...</td>\n",
       "      <td>en</td>\n",
       "    </tr>\n",
       "  </tbody>\n",
       "</table>\n",
       "</div>"
      ],
      "text/plain": [
       "                                           base_path  \\\n",
       "0  /aaib-reports/aaib-investigation-to-hawker-sea...   \n",
       "1  /aaib-reports/aaib-investigation-to-hph-glasfl...   \n",
       "2  /aaib-reports/aaib-investigation-to-ikarus-c42...   \n",
       "3  /aaib-reports/aaib-investigation-to-ikarus-c42...   \n",
       "4  /aaib-reports/aaib-investigation-to-ikarus-c42...   \n",
       "\n",
       "                             content_id  \\\n",
       "0  96eacfbe-0385-45ef-9289-8428dacad258   \n",
       "1  1d697c99-b1d0-4855-b72d-a97d83a4fc91   \n",
       "2  5814334a-77d0-426e-8e78-ff2b05ea6322   \n",
       "3  c8f31c76-eab0-4be6-95a5-5e6e7f32056c   \n",
       "4  4cc0ae15-ad87-42ce-8a89-2bdb14e19e26   \n",
       "\n",
       "                                               title  \\\n",
       "0  AAIB investigation to Hawker Sea Fury T MK 20,...   \n",
       "1  AAIB investigation to HPH Glasflugel 304 eS, G...   \n",
       "2   AAIB investigation to Ikarus C42 FB UK, G-IKUS\\t   \n",
       "3   AAIB investigation to Ikarus C42 FB100, G-CEHG\\t   \n",
       "4     AAIB investigation to Ikarus C42 FB100, G-ZAVI   \n",
       "\n",
       "                                         description document_type  \\\n",
       "0  Engine failure and landing gear collapse, RNAS...   aaib_report   \n",
       "1  Front Electric Sustainer (FES) battery fire du...   aaib_report   \n",
       "2  Aircraft crashed whilst avoiding a hedge when ...   aaib_report   \n",
       "3  Overturned on landing, Farm Strip, Hardwicke, ...   aaib_report   \n",
       "4  Aircraft struck sheep on landing, Lundy Island...   aaib_report   \n",
       "\n",
       "                                             details  \\\n",
       "0  {'body': [{'content_type': 'text/govspeak', 'c...   \n",
       "1  {'body': [{'content_type': 'text/govspeak', 'c...   \n",
       "2  {'body': [{'content_type': 'text/govspeak', 'c...   \n",
       "3  {'body': [{'content_type': 'text/govspeak', 'c...   \n",
       "4  {'metadata': {'date_of_occurrence': '2014-06-2...   \n",
       "\n",
       "                                             orgs_id  \\\n",
       "0  {'organisations': ['38eb5d8f-2d89-480c-8655-e2...   \n",
       "1  {'organisations': ['38eb5d8f-2d89-480c-8655-e2...   \n",
       "2  {'organisations': ['38eb5d8f-2d89-480c-8655-e2...   \n",
       "3  {'organisations': ['38eb5d8f-2d89-480c-8655-e2...   \n",
       "4  {'organisations': ['38eb5d8f-2d89-480c-8655-e2...   \n",
       "\n",
       "                                          orgs_title sbs_details  \\\n",
       "0  {'organisations': ['Air Accidents Investigatio...         NaN   \n",
       "1  {'organisations': ['Air Accidents Investigatio...         NaN   \n",
       "2  {'organisations': ['Air Accidents Investigatio...         NaN   \n",
       "3  {'organisations': ['Air Accidents Investigatio...         NaN   \n",
       "4  {'organisations': ['Air Accidents Investigatio...         NaN   \n",
       "\n",
       "  pages_part_of_step_nav                                               text  \\\n",
       "0                    NaN  Summary: The aircraft was performing in a publ...   \n",
       "1                    NaN  Summary: During a normal touchdown following a...   \n",
       "2                    NaN  Summary: The pilot was attempting to take off ...   \n",
       "3                    NaN  Summary: G-CEHG was landing on a private airst...   \n",
       "4                    NaN  Summary: The pilot reported that this was his ...   \n",
       "\n",
       "                                              taxons locale  \n",
       "0  [{'title': 'Transport', 'content_id': 'a4038b2...     en  \n",
       "1  [{'title': 'Transport', 'content_id': 'a4038b2...     en  \n",
       "2  [{'title': 'Transport', 'content_id': 'a4038b2...     en  \n",
       "3  [{'title': 'Transport', 'content_id': 'a4038b2...     en  \n",
       "4  [{'title': 'Transport', 'content_id': 'a4038b2...     en  "
      ]
     },
     "execution_count": 3,
     "metadata": {},
     "output_type": "execute_result"
    }
   ],
   "source": [
    "df.head()"
   ]
  },
  {
   "cell_type": "code",
   "execution_count": 4,
   "metadata": {},
   "outputs": [],
   "source": [
    "df['details'] = df['details'].map(literal_eval)"
   ]
  },
  {
   "cell_type": "code",
   "execution_count": 5,
   "metadata": {},
   "outputs": [],
   "source": [
    "def flatten_dict(parts_dict):\n",
    "    return {item['slug']:\"\".join([b['content'] \n",
    "                                  for b in item['body']]) for item in parts_dict}    "
   ]
  },
  {
   "cell_type": "code",
   "execution_count": 6,
   "metadata": {},
   "outputs": [],
   "source": [
    "df['details_parts'] = df['details'].map(lambda x: flatten_dict(x['parts']) \n",
    "                                        if 'parts' in x.keys() \n",
    "                                          else np.nan)"
   ]
  },
  {
   "cell_type": "code",
   "execution_count": 7,
   "metadata": {},
   "outputs": [],
   "source": [
    "df['eligibility_html'] = df['details_parts'].map(lambda x: x.get('eligibility',np.nan) \n",
    "                                                 if not isinstance(x,float) else np.nan)"
   ]
  },
  {
   "cell_type": "markdown",
   "metadata": {},
   "source": [
    "### Set up dataframe with `base_paths` that include non-null eligibility requirements"
   ]
  },
  {
   "cell_type": "code",
   "execution_count": 8,
   "metadata": {},
   "outputs": [],
   "source": [
    "df_welig = df[~df['eligibility_html'].isna()]"
   ]
  },
  {
   "cell_type": "code",
   "execution_count": 9,
   "metadata": {},
   "outputs": [],
   "source": [
    "df_welig.reset_index(drop=True,inplace=True)"
   ]
  },
  {
   "cell_type": "code",
   "execution_count": 10,
   "metadata": {},
   "outputs": [],
   "source": [
    "def extract_text(body):\n",
    "    \"\"\"\n",
    "    Extract text from html body\n",
    "    :param body: <str> containing html.\n",
    "    \"\"\"\n",
    "    # TODO: Tidy this up!\n",
    "    r = None\n",
    "    # body != \"\\n\" and\n",
    "    if body and body != \"\\n\" and not body.isspace():\n",
    "        try:\n",
    "            # print(\"this is\", body)\n",
    "            tree = etree.HTML(body)\n",
    "            r = tree.xpath('//text()')\n",
    "            r = ' '.join(r)\n",
    "            r = r.strip().replace('\\n', ' ').replace('\\r', ' ').replace('\\t', ' ')\n",
    "            r = r.replace('\\n', ' ').replace(',', ' ')\n",
    "            # r = r.lower()\n",
    "            r = ' '.join(r.split())\n",
    "        except ValueError:\n",
    "            print(\"exception @ extract:\", type(body), body)\n",
    "    if not r:\n",
    "        r = ' '\n",
    "    return r"
   ]
  },
  {
   "cell_type": "code",
   "execution_count": 11,
   "metadata": {},
   "outputs": [
    {
     "data": {
      "text/plain": [
       "array(['/1619-bursary-fund', '/additional-state-pension',\n",
       "       '/access-to-elected-office-fund', '/access-to-work',\n",
       "       '/attendance-allowance'], dtype=object)"
      ]
     },
     "execution_count": 11,
     "metadata": {},
     "output_type": "execute_result"
    }
   ],
   "source": [
    "df_welig.base_path.values[0:5]"
   ]
  },
  {
   "cell_type": "markdown",
   "metadata": {},
   "source": [
    "## 1. Regex from previous nb iteration to detect age mentions within listings of eligibility requirements. \n",
    "This can now be applied to single detected sentences/bullets"
   ]
  },
  {
   "cell_type": "code",
   "execution_count": 12,
   "metadata": {},
   "outputs": [],
   "source": [
    "elig_texts = dict(zip(df_welig.base_path, df_welig.eligibility_html))"
   ]
  },
  {
   "cell_type": "code",
   "execution_count": 13,
   "metadata": {},
   "outputs": [],
   "source": [
    "rowlist = []\n",
    "for key,value in list(elig_texts.items()):\n",
    "\n",
    "    if \"This fund is currently closed.\" not in value:\n",
    "#         \\s?\\d\\d\\s?(and|or)?\\s?(over|under)?(\\s\\d\\d)?\n",
    "        search = re.finditer(\"\"\".*(born on|(reached|over|under) State Pension age|\n",
    "                             age(d)?|('re|were|are|be( at least)?|have been)\\s?(over|under)?\\d\\d).*\"\"\", value)\n",
    "        if search is not None:\n",
    "#             print(f'https://www.gov.uk{key}/eligibility')\n",
    "            for i,s in enumerate(search):\n",
    "                start = s.start()\n",
    "                end = s.end()\n",
    "#                 print(f'At {i}: ({start},{end})')\n",
    "                text = value[start:end]\n",
    "#                 print(text)\n",
    "                rowlist.append({'base_path':key, \n",
    "                                'instance #':int(i+1),\n",
    "                                'start':start,\n",
    "                                'end':end,\n",
    "                                'age_text':value[start:end],\n",
    "                                'text':value})\n",
    "        else:\n",
    "            rowlist.append({'base_path':key, 'age_text':'Age requirements not detected',\n",
    "                           'text':value})\n",
    "            \n",
    "    else:\n",
    "#         print(f'https://www.gov.uk{key}/eligibility')\n",
    "#         print(\"closed\")\n",
    "        rowlist.append({'base_path':key, 'age_text':'Fund closed','text':value})\n",
    "df_eligibility = pd.DataFrame(rowlist)\n",
    "df_eligibility = df_eligibility[['base_path', 'text','instance #', 'start', 'end','age_text']]"
   ]
  },
  {
   "cell_type": "markdown",
   "metadata": {},
   "source": [
    "## 2. Detect date dependencies in requirements text"
   ]
  },
  {
   "cell_type": "markdown",
   "metadata": {},
   "source": [
    "An example: https://www.gov.uk/1619-bursary-fund/eligibility\n",
    "       \n",
    "       Eligibility\n",
    "       You must:\n",
    "\n",
    "        + be at least 16 and under 19 on 31 August 2019\n",
    "        + study at a publicly funded school or college, or be on an unpaid training course\n",
    "        + meet the residency requirements - your school or college can check this\n",
    "In the above, the age requirement `at least 16 and under 19` is dependent on the date listed `on 31 August 2019`. Depending on the preposition used (examples include `on|before|by|after|between|from|until|in|up to`), the timeframe within which the age req is relevant is affected"
   ]
  },
  {
   "cell_type": "code",
   "execution_count": 71,
   "metadata": {},
   "outputs": [],
   "source": [
    "cond = r\"\\s(on( or (after|before))?|before|by|after|between|from|until|in|up to)\\s.{0,20}\\s\\d{4}\""
   ]
  },
  {
   "cell_type": "code",
   "execution_count": 72,
   "metadata": {},
   "outputs": [
    {
     "data": {
      "text/plain": [
       "True"
      ]
     },
     "execution_count": 72,
     "metadata": {},
     "output_type": "execute_result"
    }
   ],
   "source": [
    "text = \"this happened before April 2019\"\n",
    "bool(re.search(cond, text))"
   ]
  },
  {
   "cell_type": "code",
   "execution_count": 73,
   "metadata": {},
   "outputs": [
    {
     "data": {
      "text/plain": [
       "9"
      ]
     },
     "execution_count": 73,
     "metadata": {},
     "output_type": "execute_result"
    }
   ],
   "source": [
    "len(\"1 October\")"
   ]
  },
  {
   "cell_type": "code",
   "execution_count": 79,
   "metadata": {},
   "outputs": [
    {
     "name": "stdout",
     "output_type": "stream",
     "text": [
      "0 : /1619-bursary-fund\n",
      "0  on 31 August 2019 42 60\n",
      "1  on 31 August 2019 1805 1823\n",
      "['31/08/2019']\n",
      "####\n",
      "1 : /additional-state-pension\n",
      "0  on or after 6 April 2016 31 56\n",
      "1  on or after 6 April 2016 163 188\n",
      "2  before 6 April 2016 281 301\n",
      "3  before 6 April 2016 338 358\n",
      "4  before 6 April 2016 1237 1257\n",
      "5  between 6 April 2002 1392 1413\n",
      "6  in the 2015 to 2016 1518 1538\n",
      "7  on or after 6 April 2016 1988 2013\n",
      "8  on or after 6 April 2016 2137 2162\n",
      "9  before 6 April 2016 2324 2344\n",
      "10  before 6 April 2016 2386 2406\n",
      "11  before 6 April 2016 3705 3725\n",
      "12  between 6 April 2002 3941 3962\n",
      "13  in the 2015 to 2016 4078 4098\n",
      "['06/04/2016']\n",
      "####\n",
      "6 : /bereavement-allowance\n",
      "0  before 6 April 2017 107 127\n",
      "1  on or after 6 April 2017 444 469\n",
      "2  before 6 April 2017 2051 2071\n",
      "3  on or after 6 April 2017 2517 2542\n",
      "['06/04/2017']\n",
      "####\n",
      "7 : /bereavement-payment\n",
      "0  before 6 April 2017 88 108\n",
      "1  on or after 6 April 2017 197 222\n",
      "2  before 6 April 2017 2054 2074\n",
      "3  on or after 6 April 2017 2249 2274\n",
      "['06/04/2017']\n",
      "####\n",
      "8 : /bereavement-support-payment\n",
      "0  on or after 6 April 2017 94 119\n",
      "1  before 6 April 2017 599 619\n",
      "2  on or after 6 April 2017 1004 1029\n",
      "3  before 6 April 2017 1658 1678\n",
      "['06/04/2017']\n",
      "####\n",
      "10 : /agricultural-sick-pay\n",
      "0  on 1 October 2013 95 113\n",
      "1  on 1 October 2013 1155 1173\n",
      "['01/10/2013']\n",
      "####\n",
      "15 : /advanced-learner-loan\n",
      "0  before 1 August 2016 179 200\n",
      "1  on or after 1 August 2016 567 593\n",
      "2  on or after 1 August 2018 1930 1956\n",
      "3  on or after 1 August 2017 2146 2172\n",
      "4  before 1 August 2016 2449 2470\n",
      "5  on or after 1 August 2016 3034 3060\n",
      "6  on or after 1 August 2018 4713 4739\n",
      "7  on or after 1 August 2017 4937 4963\n",
      "['01/08/2016']\n",
      "####\n",
      "16 : /ancestry-visa\n",
      "0  before 31 March 1922 395 416\n",
      "['31/03/1922']\n",
      "####\n",
      "17 : /apply-citizenship-born-uk\n",
      "0  on or after 1 January 1983 342 369\n",
      "1  on or after 1 January 1983 845 872\n",
      "2  before 1 January 1983 1702 1724\n",
      "3  on or after 1 January 1983 2938 2965\n",
      "4  on or after 1 January 1983 3563 3590\n",
      "5  before 1 January 1983 4545 4567\n",
      "['01/01/1983']\n",
      "####\n",
      "18 : /apply-citizenship-british-parent\n",
      "0  after 1 July 2006 764 782\n",
      "1  after 1 July 2006 2141 2159\n",
      "['01/07/2006']\n",
      "####\n",
      "26 : /claim-compensation-criminal-injury\n",
      "0  on or after 1 August 1964 325 351\n",
      "1  on or after 1 August 1964 3264 3290\n",
      "['01/08/1964']\n",
      "####\n",
      "30 : /claim-for-injury-received-while-serving\n",
      "0  after 5 April 2005 123 142\n",
      "1  before 6 April 2005 494 514\n",
      "2  after 5 April 2005 1029 1048\n",
      "3  before 6 April 2005 1564 1584\n",
      "['05/04/2005']\n",
      "####\n",
      "32 : /constant-attendance-allowance\n",
      "0  on the phone): 1800 846 866\n",
      "1  on the phone): 1800 2751 2771\n",
      "['04/07/1800']\n",
      "####\n",
      "35 : /diffuse-mesothelioma-payment\n",
      "0  on or after 25 July 2012 928 953\n",
      "1  from the 2008 1504 1518\n",
      "2  from the 2008 1595 1609\n",
      "3  from the 2008 1733 1747\n",
      "4  on or after 25 July 2012 3192 3217\n",
      "5  from the 2008 3884 3898\n",
      "6  from the 2008 3975 3989\n",
      "7  from the 2008 4174 4188\n",
      "['25/07/2012']\n",
      "####\n",
      "37 : /disabled-students-allowances-dsas\n",
      "0  before 1 September 2012 2854 2878\n",
      "1  from 1 September 2012 2998 3020\n",
      "2  before 1 September 2012 8112 8136\n",
      "3  from 1 September 2012 8320 8342\n",
      "['01/09/2012']\n",
      "####\n",
      "39 : /doctoral-loan\n",
      "0  on or after 1 August 2018 1011 1037\n",
      "1  on or after 1 August 2018 5350 5376\n",
      "['01/08/2018']\n",
      "####\n",
      "44 : /entrepreneurs-relief\n",
      "0  after 5 April 2013 1322 1341\n",
      "1  after 5 April 2013 5292 5311\n",
      "['05/04/2013']\n",
      "####\n",
      "45 : /funeral-payments\n",
      "0  on the phone): 1800 2194 2214\n",
      "1  on the phone): 1800 5404 5424\n",
      "['04/07/1800']\n",
      "####\n",
      "49 : /historic-vehicles\n",
      "0  before 1 January 1979 883 905\n",
      "1  between 1 and 7 January 1979 987 1016\n",
      "2  before 1 January 1979 2642 2664\n",
      "3  between 1 and 7 January 1979 2831 2860\n",
      "['01/01/1979']\n",
      "####\n",
      "50 : /home-responsibilities-protection-hrp\n",
      "0  before April 2010 117 135\n",
      "1  before April 2010 177 195\n",
      "2  from 6 April 2010 488 506\n",
      "3  from April 2003 1359 1375\n",
      "4  before April 2010 2488 2506\n",
      "5  before April 2010 2556 2574\n",
      "6  from 6 April 2010 3095 3113\n",
      "7  from April 2003 4365 4381\n",
      "['04/04/2010']\n",
      "####\n",
      "51 : /housing-benefit\n",
      "0  from 15 May 2019 1827 1844\n",
      "1  before 15 May 2019 2138 2157\n",
      "2  on 14 May 2019 2206 2221\n",
      "3  by 13 August 2019 2391 2409\n",
      "4  after 15 May 2019 2604 2622\n",
      "5  from 15 May 2019 5208 5225\n",
      "6  before 15 May 2019 5544 5563\n",
      "7  on 14 May 2019 5624 5639\n",
      "8  by 13 August 2019 5814 5832\n",
      "9  after 15 May 2019 6102 6120\n",
      "['15/05/2019']\n",
      "####\n",
      "61 : /married-couples-allowance\n",
      "0  before 6 April 1935 189 209\n",
      "1  before 6 April 1935 860 880\n",
      "['06/04/1935']\n",
      "####\n",
      "62 : /masters-loan\n",
      "0  on or after 1 August 2016 938 964\n",
      "1  on or after 1 August 2018 4030 4056\n",
      "2  on or after 1 August 2016 7097 7123\n",
      "3  on or after 1 August 2018 10920 10946\n",
      "['01/08/2016']\n",
      "####\n",
      "67 : /national-insurance-credits\n",
      "0  on or after 6 April 2010 1885 1910\n",
      "1  before 6 April 2010 2500 2520\n",
      "2  between 6 April 1978 2614 2635\n",
      "3  between 6 April 2003 3141 3162\n",
      "4  before 6 October 1953 4889 4911\n",
      "5  after 6 April 2010 6320 6339\n",
      "6  after 6 April 1975 6612 6631\n",
      "7  on or after 6 April 2016 6656 6681\n",
      "8  on or after 6 April 2010 10424 10449\n",
      "9  before 6 April 2010 11303 11323\n",
      "10  between 6 April 1978 11497 11518\n",
      "11  between 6 April 2003 12302 12323\n",
      "12  before 6 October 1953 15179 15201\n",
      "13  after 6 April 2010 17195 17214\n",
      "14  after 6 April 1975 17542 17561\n",
      "15  on or after 6 April 2016 17586 17611\n",
      "['06/04/2010']\n",
      "####\n",
      "68 : /new-state-pension\n",
      "0  on or after 6 April 1951 72 97\n",
      "1  on or after 6 April 1953 113 138\n",
      "2  before 6 April 2016 289 309\n",
      "3  on or after 6 April 1951 1952 1977\n",
      "4  on or after 6 April 1953 2001 2026\n",
      "5  before 6 April 2016 2205 2225\n",
      "['06/04/1951']\n",
      "####\n",
      "69 : /nhs-bursaries\n",
      "0  on or after 1 August 2018 956 982\n",
      "1  in the 2017 to 2018 1309 1329\n",
      "2  before 1 August 2017 1711 1732\n",
      "3  on or after 1 August 2018 4697 4723\n",
      "4  in the 2017 to 2018 5214 5234\n",
      "5  before 1 August 2017 5789 5810\n",
      "['01/08/2018']\n",
      "####\n",
      "70 : /over-80-pension\n",
      "0  on or after 6 April 2016 90 115\n",
      "1  in 2019 to 2020 320 336\n",
      "2  on or after 6 April 2016 1059 1084\n",
      "3  in 2019 to 2020 1329 1345\n",
      "['06/04/2016']\n",
      "####\n",
      "71 : /parent-of-a-child-at-school-visa\n",
      "0  before 31 March 2009 550 571\n",
      "1  before 31 March 2009 1216 1237\n",
      "['31/03/2009']\n",
      "####\n",
      "74 : /queens-awards-for-enterprise\n",
      "0  in Summer 2019 1836 1851\n",
      "1  in Summer 2019 4691 4706\n",
      "['04/07/2019']\n",
      "####\n",
      "75 : /register-a-community-amateur-sports-club\n",
      "0  from 1 April 2015 230 248\n",
      "1  from 1 April 2015 2719 2737\n",
      "['01/04/2015']\n",
      "####\n",
      "77 : /pension-credit\n",
      "0  from 15 May 2019 472 489\n",
      "1  on 14 May 2019 828 843\n",
      "2  by 13 August 2019 1013 1031\n",
      "3  after 15 May 2019 1245 1263\n",
      "4  before 6 April 2016 1864 1884\n",
      "5  before 6 April 2016 1939 1959\n",
      "6  before 6 April 2016 2006 2026\n",
      "7  on the phone): 1800 3986 4006\n",
      "8  from 15 May 2019 4816 4833\n",
      "9  on 14 May 2019 5219 5234\n",
      "10  by 13 August 2019 5408 5426\n",
      "11  after 15 May 2019 5725 5743\n",
      "12  before 6 April 2016 6447 6467\n",
      "13  before 6 April 2016 6598 6618\n",
      "14  before 6 April 2016 6671 6691\n",
      "15  on the phone): 1800 8955 8975\n",
      "['15/05/2019']\n",
      "####\n",
      "80 : /reduced-earnings-allowance\n",
      "0  before 1 October 1990 149 171\n",
      "1  before 1 October 1990 1564 1586\n",
      "['01/10/1990']\n",
      "####\n",
      "83 : /refugee-integration-loan\n",
      "0  before 11 June 2007 387 407\n",
      "1  before 11 June 2007 1137 1157\n",
      "['11/06/2007']\n",
      "####\n",
      "85 : /settled-status-eu-citizens-families\n",
      "0  before 31 December 2020 3504 3528\n",
      "1  before 31 December 2020 8995 9019\n",
      "['31/12/2020']\n",
      "####\n",
      "90 : /state-pension\n",
      "0  before 6 April 2016 1660 1680\n",
      "1  on or after 6 April 2016 1817 1842\n",
      "2  from before 6 April 2016 1926 1951\n",
      "3  before 6 April 1950 2078 2098\n",
      "4  before 6 April 1945 3234 3254\n",
      "5  before 6 April 1950 3276 3296\n",
      "6  between 24 December 1919 3425 3450\n",
      "7  before 4 April 2005 3498 3518\n",
      "8  before 4 April 2005 3591 3611\n",
      "9  on or after 4 April 2005 3919 3944\n",
      "10  before 6 April 2016 5988 6008\n",
      "11  on or after 6 April 2016 6166 6191\n",
      "12  from before 6 April 2016 6275 6300\n",
      "13  before 6 April 1950 6446 6466\n",
      "14  before 6 April 1945 7899 7919\n",
      "15  before 6 April 1950 8000 8020\n",
      "16  between 24 December 1919 8251 8276\n",
      "17  before 4 April 2005 8332 8352\n",
      "18  before 4 April 2005 8433 8453\n",
      "19  on or after 4 April 2005 8879 8904\n",
      "['06/04/2016']\n",
      "####\n",
      "111 : /vaccine-damage-payment\n",
      "0  up to 31 August 2010 478 499\n",
      "1  up to 1 August 1971 627 647\n",
      "2  up to 31 August 2010 2581 2602\n",
      "3  up to 1 August 1971 2778 2798\n",
      "['31/08/2010']\n",
      "####\n",
      "118 : /widowed-parents-allowance\n",
      "0  before 6 April 2017 118 138\n",
      "1  on or after 6 April 2017 682 707\n",
      "2  before 6 April 2017 2280 2300\n",
      "3  on or after 6 April 2017 3037 3062\n",
      "['06/04/2017']\n",
      "####\n",
      "119 : /winter-fuel-payment\n",
      "0  on or before 5 April 1954 85 111\n",
      "1  between 16 to 22 September 2019 1227 1259\n",
      "2  on or before 5 April 1954 1599 1625\n",
      "3  between 16 to 22 September 2019 3028 3060\n",
      "['05/04/1954']\n",
      "####\n"
     ]
    },
    {
     "data": {
      "text/plain": [
       "(38, (127, 15))"
      ]
     },
     "execution_count": 79,
     "metadata": {},
     "output_type": "execute_result"
    }
   ],
   "source": [
    "counter = 0\n",
    "for i,row in df_welig.iterrows():\n",
    "    text = row['eligibility_html']\n",
    "#     previous, more lenient condition two =  bool(re.search(\".*\\d{4}.*\", text))\n",
    "#     not one and two\n",
    "    if bool(re.search(cond, text)):\n",
    "        detected_dates = [date.strftime(\"%d/%m/%Y\")\n",
    "               for date in datefinder.find_dates(re.search(cond, text).group(0))]\n",
    "        ### additional condition required because sometimes we're capturing phone numbers\n",
    "        if len(detected_dates)>0:\n",
    "            print(i,\":\",row['base_path'])\n",
    "            for i,g in enumerate(re.finditer(cond, text)):\n",
    "                print(i,g.group(), g.start(), g.end())\n",
    "            counter+=1\n",
    "            print(detected_dates)\n",
    "            print(\"####\")\n",
    "counter, df_welig.shape"
   ]
  },
  {
   "cell_type": "markdown",
   "metadata": {},
   "source": [
    "## 3. Set up `Section` class to contain eligibility sections detected and extracted from page html\n",
    "Hierarchical reference: `<h2> > <p> > <ul> > un-attached <p>`\n",
    "An example at https://www.gov.uk/api/content/1619-bursary-fund\n",
    "#### Section 1\n",
    "    <p>You must:</p> \n",
    "        <ul> \n",
    "            <li>be at least 16 and under 19 on 31 August 2019</li> \n",
    "            <li>study at a publicly funded school or college, or be on an unpaid training course</li> \n",
    "            <li>meet the residency requirements - your school or college can check this</li> \n",
    "        </ul> \n",
    "#### Section 2\n",
    "**This section in particular has a not immediately obvious hierarchy of bullet lists and paragraphs**\n",
    "\n",
    "    <h2 id=\"bursary-for-students-in-vulnerable-groups\">Bursary for students in vulnerable groups</h2> \n",
    "        <p>You could get up to £1,200 if at least one of the following applies:</p> \n",
    "            <ul> \n",
    "                <li>you’re in or recently left local authority care</li> \n",
    "                <li>you get Income Support or Universal Credit because you’re financially supporting yourself</li> \n",
    "                <li>you get Disability Living Allowance (<abbr title=\"Disability Living Allowance\">DLA</abbr>) in your name and either Employment and Support Allowance (<abbr title=\"Employment and Support Allowance\">ESA</abbr>) or Universal Credit</li> \n",
    "                <li>you get Personal Independence Payment (<abbr title=\"Personal Independence Payment\">PIP</abbr>) in your name and either <abbr title=\"Employment and Support Allowance\">ESA</abbr> or Universal Credit</li> \n",
    "            </ul> \n",
    "        <p>You may get the full amount if you have expenses and study full-time on a course of at least 30 weeks.</p> \n",
    "**This is a list of things that actually make an applicant ineligible for a bursary**\n",
    "\n",
    "        <p>You’ll usually get less than the full amount, or no bursary, if one of the following apply:</p> \n",
    "            <ul> \n",
    "                <li>your course is shorter than 30 weeks</li> \n",
    "                <li>you study part time</li> \n",
    "                <li>you have few expenses</li> \n",
    "            </ul> \n",
    "        <p>You’ll be told what evidence you need, for example benefit letters.</p> \n",
    "#### Section 3\n",
    "    <h2 id=\"discretionary-bursary\">Discretionary bursary</h2> \n",
    "        <p>Your school or college will have their own criteria for discretionary bursaries. They’ll look at your individual circumstances - this usually includes your family income.</p> \n",
    "        <p>Ask student services about their criteria and any evidence you’ll need.</p> \n",
    "        <p>You can apply to a discretionary bursary if you’re over 19 and either:</p> \n",
    "            <ul> \n",
    "                <li>continuing on a course you started aged 16 to 18 (known as being a ‘19+ continuer’)</li> \n",
    "                <li>have an <a href=\"/children-with-special-educational-needs/extra-SEN-help\">Education, Health and Care Plan (EHCP)</a> </li> \n",
    "            </ul>"
   ]
  },
  {
   "cell_type": "markdown",
   "metadata": {},
   "source": [
    "From the above 3 identified sections, extract the bullet lists where applicable, attach them to the their introductory paragraph/sentence"
   ]
  },
  {
   "cell_type": "code",
   "execution_count": 17,
   "metadata": {},
   "outputs": [],
   "source": [
    "def specialized_scenario(header_string):\n",
    "    return any([x in header_string for x in [' for ','group']]) "
   ]
  },
  {
   "cell_type": "code",
   "execution_count": 18,
   "metadata": {},
   "outputs": [
    {
     "data": {
      "text/plain": [
       "True"
      ]
     },
     "execution_count": 18,
     "metadata": {},
     "output_type": "execute_result"
    }
   ],
   "source": [
    "specialized_scenario(\"group\")"
   ]
  },
  {
   "cell_type": "code",
   "execution_count": 19,
   "metadata": {},
   "outputs": [],
   "source": [
    "class Section:\n",
    "    \n",
    "    def __init__(self, section_type=\"\", header=\"\"):\n",
    "        self.section_type = section_type\n",
    "        self.header = header\n",
    "        self.bullets = []\n",
    "        self.paragraphs = []\n",
    "    \n",
    "    def set_type(self, section_type):\n",
    "        '''\n",
    "        Base or secondary\n",
    "        '''\n",
    "        self.section_type = section_type\n",
    "        \n",
    "    def set_header(self, header):\n",
    "        '''The text tagged as <h2> or the first <p> of a section.'''\n",
    "        self.header = header\n",
    "    \n",
    "    def set_list_header(self, paragraph_text):\n",
    "        '''The text tagged as <p> preceeding a <ul> bulleted list'''\n",
    "        self.bullets.append([paragraph_text,\n",
    "                             self._is_exclusion(paragraph_text),\n",
    "                             []])\n",
    "        \n",
    "    def add_bullet(self, bullet):\n",
    "        '''Add a bullet requirement to the most recent bulleted list'''\n",
    "        if bullet not in self.bullets[-1][2]:\n",
    "            self.bullets[-1][2].append(bullet)\n",
    "            \n",
    "    def add_paragraph(self, paragraph):\n",
    "        '''Add an un-attached paragraph mentioned within section text.\n",
    "        Probably does not influence any bulleted lists of requirements'''\n",
    "        if paragraph not in self.paragraphs:\n",
    "            self.paragraphs.append(paragraph)   \n",
    "            \n",
    "    def to_string(self):\n",
    "        return \"type: {}\\nheader: {}\\nbullets: {}\\nparagraphs: {}\"\\\n",
    "                    .format(self.section_type, self.header, self.bullets, self.paragraphs)\n",
    "    \n",
    "    def to_dict(self):\n",
    "        return {'type': self.section_type, \n",
    "                'header': self.header,\n",
    "                'bullets': self.bullets,\n",
    "                'paragraphs': self.paragraphs}\n",
    "    \n",
    "    def _is_exclusion(self,text):\n",
    "        '''Check whether a list of requirements is posed as anti-eligibility/reasons for rejection'''\n",
    "        return bool(re.search(\"not (eligible|qualify)|can('t|not)\\s?(get|apply)?\", text)) or \\\n",
    "                        TextBlob(text).sentiment.polarity < -0.2"
   ]
  },
  {
   "cell_type": "code",
   "execution_count": 27,
   "metadata": {},
   "outputs": [],
   "source": [
    "class Requirement:\n",
    "    \n",
    "    def __init__(self, tag=\"\", text=\"\"):\n",
    "        self.tag = tag\n",
    "        self.text = text\n",
    "        self.is_age = self._contains_age(text)\n",
    "    \n",
    "    def to_string(self):\n",
    "        return f'tag: {self.tag}\\ttext: {self.text}\\tis_age: {self.is_age}'\n",
    "    \n",
    "    def _contains_age(self, text):\n",
    "        return bool(re.search(\"\"\".*(born on|(reached|over|under) State Pension age|\n",
    "                         age(d)?|('re|were|are|be( at least)?|have been)\\s?(over|under)?\\d\\d).*\"\"\", text))\n",
    "    \n",
    "    def _detect_date_dependency(self, requirement_text):\n",
    "        condition = r\"(on|before|by|after|between|from|until|in|up to).*\\s\\d{4}\"\n",
    "        if bool(re.search(cond, text)):\n",
    "            detected_dates = [date.strftime(\"%d/%m/%Y\")\n",
    "                   for date in datefinder.find_dates(re.search(cond, text).group(0))]\n",
    "        ### additional condition required because sometimes we're capturing phone numbers\n",
    "        if len(detected_dates)>0:\n",
    "            print(i,\":\",row['base_path'])\n",
    "            print(\"first:\",re.search(cond, text).group(0))\n",
    "            counter+=1\n",
    "            print(detected_dates)\n",
    "            print(\"####\")\n",
    "        return None\n",
    "    \n",
    "    def _resolve_prepositions(self, text):\n",
    "        return None\n",
    "    \n",
    "    def _extract_age_range(self, age_text):\n",
    "        dates = [s.group() for s in re.finditer(\"\\d{2}\",age_text)]\n",
    "        if len(dates) == 2:\n",
    "            self.min_age = dates[0]\n",
    "            self.max_age = dates[1]\n",
    "        else:\n",
    "            #### resolve preposition\n",
    "        "
   ]
  },
  {
   "cell_type": "code",
   "execution_count": 21,
   "metadata": {},
   "outputs": [],
   "source": [
    "def extract_age_range(age_text):\n",
    "    return [s.group() for s in re.finditer(\"\\d{2}\",age_text)]"
   ]
  },
  {
   "cell_type": "markdown",
   "metadata": {},
   "source": [
    "**TODO:** At this point we need to account for the various ways an age may be defined, given final output will be in a `min_age` and `max_age` format\n",
    "\n",
    "1. Two ages, leftmost = min, rightmost = max. Ensure that min < max\n",
    "2. Age may be stated as \"state pension age\", account for this (mutable value unfort)\n",
    "3. Phrasing:\n",
    "        1. Over, above, have been, at least, reached? = min\n",
    "        2. Under, below = max"
   ]
  },
  {
   "cell_type": "code",
   "execution_count": 22,
   "metadata": {},
   "outputs": [
    {
     "data": {
      "text/plain": [
       "('19', '20')"
      ]
     },
     "execution_count": 22,
     "metadata": {},
     "output_type": "execute_result"
    }
   ],
   "source": [
    "## test the thing, should add condition if number of ages listed is not == 2\n",
    "min_age, max_age = [s.group() for s in re.finditer(\"\\d{2}\",\"this is one 19 this is other 20\")]\n",
    "min_age, max_age"
   ]
  },
  {
   "cell_type": "code",
   "execution_count": 23,
   "metadata": {},
   "outputs": [
    {
     "name": "stdout",
     "output_type": "stream",
     "text": [
      "tag: <li>\ttext: born on 1983\tis_age: True\n"
     ]
    }
   ],
   "source": [
    "r = Requirement(\"<li>\", \"born on 1983\")\n",
    "print(r.to_string())"
   ]
  },
  {
   "cell_type": "code",
   "execution_count": 25,
   "metadata": {},
   "outputs": [
    {
     "data": {
      "text/plain": [
       "[['you must', False, ['womp']], ['wat', False, ['womp']]]"
      ]
     },
     "execution_count": 25,
     "metadata": {},
     "output_type": "execute_result"
    }
   ],
   "source": [
    "section = Section()\n",
    "section.set_list_header(\"you must\")\n",
    "section.add_bullet(\"womp\")\n",
    "section.set_list_header(\"wat\")\n",
    "section.add_bullet(\"womp\")\n",
    "section.bullets"
   ]
  },
  {
   "cell_type": "code",
   "execution_count": 26,
   "metadata": {},
   "outputs": [
    {
     "ename": "AttributeError",
     "evalue": "type object 'Section' has no attribute '_contains_date'",
     "output_type": "error",
     "traceback": [
      "\u001b[0;31m---------------------------------------------------------------------------\u001b[0m",
      "\u001b[0;31mAttributeError\u001b[0m                            Traceback (most recent call last)",
      "\u001b[0;32m<ipython-input-26-0781a9603b27>\u001b[0m in \u001b[0;36m<module>\u001b[0;34m\u001b[0m\n\u001b[0;32m----> 1\u001b[0;31m \u001b[0mSection\u001b[0m\u001b[0;34m.\u001b[0m\u001b[0m_contains_date\u001b[0m\u001b[0;34m(\u001b[0m\u001b[0m_\u001b[0m\u001b[0;34m,\u001b[0m \u001b[0;34m\"be at least 16 and under 19 on 31 August 2019\"\u001b[0m\u001b[0;34m)\u001b[0m\u001b[0;34m\u001b[0m\u001b[0m\n\u001b[0m",
      "\u001b[0;31mAttributeError\u001b[0m: type object 'Section' has no attribute '_contains_date'"
     ]
    }
   ],
   "source": [
    "Section._contains_date(_, \"be at least 16 and under 19 on 31 August 2019\")"
   ]
  },
  {
   "cell_type": "code",
   "execution_count": null,
   "metadata": {},
   "outputs": [],
   "source": [
    "section.to_dict()"
   ]
  },
  {
   "cell_type": "markdown",
   "metadata": {},
   "source": [
    "## 4. BeautifulSoup attempt to get all the bulleted lists/headers out, split into sections \n",
    "**TODO: Include age + date dependency detection in this extract step as well (probably within the `Section` class)**"
   ]
  },
  {
   "cell_type": "code",
   "execution_count": null,
   "metadata": {},
   "outputs": [],
   "source": [
    "test = df_welig.iloc[0]\n",
    "text = test.eligibility_html\n",
    "soup = BeautifulSoup(text, \"html.parser\")"
   ]
  },
  {
   "cell_type": "code",
   "execution_count": null,
   "metadata": {},
   "outputs": [],
   "source": [
    "test.base_path"
   ]
  },
  {
   "cell_type": "code",
   "execution_count": null,
   "metadata": {},
   "outputs": [],
   "source": [
    "text[0:10]"
   ]
  },
  {
   "cell_type": "markdown",
   "metadata": {},
   "source": [
    "    if header -> new scenario\n",
    "    first header (overall?)\n",
    "    other headers -> secondary scenarios, unless first header mentions a requirement disputed by scenario, then it's a different class"
   ]
  },
  {
   "cell_type": "code",
   "execution_count": null,
   "metadata": {},
   "outputs": [],
   "source": [
    "def get_type(header):\n",
    "    if header==\"p\":\n",
    "        return \"base\"\n",
    "    return \"secondary\""
   ]
  },
  {
   "cell_type": "code",
   "execution_count": null,
   "metadata": {},
   "outputs": [],
   "source": [
    "all_stacks = []\n",
    "for i,row in df_welig.iterrows():\n",
    "    text = row['eligibility_html']\n",
    "    soup = BeautifulSoup(text, \"html.parser\")\n",
    "    section_stack = []\n",
    "    print(\"https://www.gov.uk\"+row['base_path']+\"/eligibility\")\n",
    "    items = list(soup.find_all([\"h1\",\"h2\",\"h3\", \"p\", \"ul\"]))\n",
    "    \n",
    "    # first element on eligibility page\n",
    "    section_stack = [Section(get_type(items[0].name), items[0].text.strip())]\n",
    "    if len(items)>1 and items[1].name == \"ul\":\n",
    "        section_stack[-1].set_list_header(items[0].text.strip()) \n",
    "        \n",
    "    for j, header in enumerate(items[1:],1):\n",
    "        print(f'at index: {j} type: <{header.name}>\\nwords: {header.text}')\n",
    "        if header.name.startswith(\"h\"):\n",
    "            section_stack.append(Section(\"secondary\",header.text.strip()))\n",
    "            if j+1< len(items) and items[j+1].name == \"ul\":\n",
    "                section_stack[-1].set_list_header(header.text.strip())    \n",
    "\n",
    "        elif header.name == \"p\":\n",
    "            if j+1< len(items) and items[j+1].name == \"ul\":\n",
    "                section_stack[-1].set_list_header(header.text.strip())  \n",
    "            else:\n",
    "                 section_stack[-1].add_paragraph(header.text.strip())\n",
    "        else:\n",
    "            for bullet in header.find_all([\"li\"]):\n",
    "                section_stack[-1].add_bullet(bullet.text.strip())\n",
    "    print(\"####\")\n",
    "    all_stacks.append([row['base_path'],section_stack])"
   ]
  },
  {
   "cell_type": "code",
   "execution_count": null,
   "metadata": {},
   "outputs": [],
   "source": [
    "for thing, section in all_stacks:\n",
    "    print(thing)\n",
    "    for sec in section:\n",
    "        print(sec.to_string())\n",
    "        print(\"###\")\n",
    "    print(\"###\\n\")"
   ]
  },
  {
   "cell_type": "code",
   "execution_count": null,
   "metadata": {},
   "outputs": [],
   "source": []
  }
 ],
 "metadata": {
  "kernelspec": {
   "display_name": "Python 3",
   "language": "python",
   "name": "python3"
  },
  "language_info": {
   "codemirror_mode": {
    "name": "ipython",
    "version": 3
   },
   "file_extension": ".py",
   "mimetype": "text/x-python",
   "name": "python",
   "nbconvert_exporter": "python",
   "pygments_lexer": "ipython3",
   "version": "3.6.0"
  }
 },
 "nbformat": 4,
 "nbformat_minor": 2
}
