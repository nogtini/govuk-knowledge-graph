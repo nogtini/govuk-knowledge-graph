{
 "cells": [
  {
   "cell_type": "markdown",
   "metadata": {},
   "source": [
    "There exist mentions of elibility requirements in page text, some in specialized `Eligibility` sections, others within the context of `smart_answers` or `answer` document_types. With a focus on age requirements, extract stuff out."
   ]
  },
  {
   "cell_type": "code",
   "execution_count": null,
   "metadata": {},
   "outputs": [],
   "source": [
    "import os\n",
    "import pandas as pd\n",
    "import numpy as np\n",
    "import re\n",
    "from ast import literal_eval\n",
    "from pprint import pprint"
   ]
  },
  {
   "cell_type": "code",
   "execution_count": null,
   "metadata": {},
   "outputs": [],
   "source": [
    "DATA_DIR = os.getenv(\"DATA_DIR\")\n",
    "content_path = os.path.join(DATA_DIR, \n",
    "                            \"preprocessed_content_store_wdetails_june_en_june.csv.gz\")\n",
    "df = pd.read_csv(content_path, compression=\"gzip\")"
   ]
  },
  {
   "cell_type": "code",
   "execution_count": null,
   "metadata": {},
   "outputs": [],
   "source": [
    "df.head()"
   ]
  },
  {
   "cell_type": "code",
   "execution_count": null,
   "metadata": {},
   "outputs": [],
   "source": [
    "df['details'] = df['details'].map(literal_eval)"
   ]
  },
  {
   "cell_type": "code",
   "execution_count": null,
   "metadata": {},
   "outputs": [],
   "source": [
    "def flatten_dict(parts_dict):\n",
    "    return {item['slug']:\"\".join([b['content'] \n",
    "                                  for b in item['body']]) for item in parts_dict}    "
   ]
  },
  {
   "cell_type": "code",
   "execution_count": null,
   "metadata": {},
   "outputs": [],
   "source": [
    "df['details_parts'] = df['details'].map(lambda x: flatten_dict(x['parts']) \n",
    "                                        if 'parts' in x.keys() \n",
    "                                          else np.nan)"
   ]
  },
  {
   "cell_type": "code",
   "execution_count": null,
   "metadata": {},
   "outputs": [],
   "source": [
    "df['eligibility_html'] = df['details_parts'].map(lambda x: x.get('eligibility',np.nan) \n",
    "                                                 if not isinstance(x,float) else np.nan)"
   ]
  },
  {
   "cell_type": "code",
   "execution_count": null,
   "metadata": {},
   "outputs": [],
   "source": [
    "df_welig = df[~df['eligibility_html'].isna()]"
   ]
  },
  {
   "cell_type": "code",
   "execution_count": null,
   "metadata": {},
   "outputs": [],
   "source": [
    "elig_texts = dict(zip(df_welig.base_path, df_welig.eligibility_html))"
   ]
  },
  {
   "cell_type": "code",
   "execution_count": null,
   "metadata": {},
   "outputs": [],
   "source": [
    "elig_urls = [f'https://www.gov.uk{bp}/eligibility' for bp in df_welig.base_path.values]"
   ]
  },
  {
   "cell_type": "code",
   "execution_count": null,
   "metadata": {},
   "outputs": [],
   "source": [
    "for u in elig_urls[0:2]:\n",
    "    print(u)"
   ]
  },
  {
   "cell_type": "code",
   "execution_count": null,
   "metadata": {},
   "outputs": [],
   "source": [
    "rowlist = []\n",
    "for key,value in list(elig_texts.items()):\n",
    "\n",
    "    if \"This fund is currently closed.\" not in value:\n",
    "#         \\s?\\d\\d\\s?(and|or)?\\s?(over|under)?(\\s\\d\\d)?\n",
    "        search = re.finditer(\"\"\".*(born on|(reached|over|under) State Pension age|\n",
    "                             age(d)?|('re|were|are|be( at least)?|have been)\\s?(over|under)?\\d\\d).*\"\"\", value)\n",
    "        if search is not None:\n",
    "#             print(f'https://www.gov.uk{key}/eligibility')\n",
    "            for i,s in enumerate(search):\n",
    "                start = s.start()\n",
    "                end = s.end()\n",
    "#                 print(f'At {i}: ({start},{end})')\n",
    "                text = value[start:end]\n",
    "#                 print(text)\n",
    "                rowlist.append({'base_path':key, \n",
    "                                'instance #':int(i+1),\n",
    "                                'start':start,\n",
    "                                'end':end,\n",
    "                                'age_text':value[start:end],\n",
    "                                'text':value})\n",
    "        else:\n",
    "            rowlist.append({'base_path':key, 'age_text':'Age requirements not detected',\n",
    "                           'text':value})\n",
    "            \n",
    "    else:\n",
    "#         print(f'https://www.gov.uk{key}/eligibility')\n",
    "#         print(\"closed\")\n",
    "        rowlist.append({'base_path':key, 'age_text':'Fund closed','text':value})\n",
    "df_eligibility = pd.DataFrame(rowlist)\n",
    "df_eligibility = df_eligibility[['base_path', 'text','instance #', 'start', 'end','age_text']]"
   ]
  }
 ],
 "metadata": {
  "kernelspec": {
   "display_name": "Python 3",
   "language": "python",
   "name": "python3"
  },
  "language_info": {
   "codemirror_mode": {
    "name": "ipython",
    "version": 3
   },
   "file_extension": ".py",
   "mimetype": "text/x-python",
   "name": "python",
   "nbconvert_exporter": "python",
   "pygments_lexer": "ipython3",
   "version": "3.6.0"
  }
 },
 "nbformat": 4,
 "nbformat_minor": 2
}
