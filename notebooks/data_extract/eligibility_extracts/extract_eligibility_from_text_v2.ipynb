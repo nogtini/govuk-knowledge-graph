{
 "cells": [
  {
   "cell_type": "markdown",
   "metadata": {},
   "source": [
    "There exist mentions of elibility requirements in page text, some in specialized `Eligibility` sections, others within the context of `smart_answers` or `answer` document_types. With a focus on age requirements, extract stuff out."
   ]
  },
  {
   "cell_type": "code",
   "execution_count": 1,
   "metadata": {},
   "outputs": [],
   "source": [
    "import os\n",
    "import pandas as pd\n",
    "import numpy as np\n",
    "\n",
    "import re\n",
    "from ast import literal_eval\n",
    "from pprint import pprint\n",
    "\n",
    "import spacy\n",
    "from textblob import TextBlob\n",
    "\n",
    "from lxml import etree\n",
    "from bs4 import BeautifulSoup\n",
    "\n",
    "from dateutil.parser import parse\n",
    "import datefinder"
   ]
  },
  {
   "cell_type": "markdown",
   "metadata": {},
   "source": [
    "## Set up data directories "
   ]
  },
  {
   "cell_type": "code",
   "execution_count": 2,
   "metadata": {},
   "outputs": [
    {
     "name": "stderr",
     "output_type": "stream",
     "text": [
      "/Users/felisialoukou/.virtualenvs/k-graph/lib/python3.6/site-packages/IPython/core/interactiveshell.py:3049: DtypeWarning: Columns (8,9) have mixed types. Specify dtype option on import or set low_memory=False.\n",
      "  interactivity=interactivity, compiler=compiler, result=result)\n"
     ]
    }
   ],
   "source": [
    "DATA_DIR = os.getenv(\"DATA_DIR\")\n",
    "content_path = os.path.join(DATA_DIR, \n",
    "                            \"preprocessed_content_store_wdetails_june_en_june.csv.gz\")\n",
    "df = pd.read_csv(content_path, compression=\"gzip\")"
   ]
  },
  {
   "cell_type": "code",
   "execution_count": 3,
   "metadata": {},
   "outputs": [
    {
     "data": {
      "text/html": [
       "<div>\n",
       "<style scoped>\n",
       "    .dataframe tbody tr th:only-of-type {\n",
       "        vertical-align: middle;\n",
       "    }\n",
       "\n",
       "    .dataframe tbody tr th {\n",
       "        vertical-align: top;\n",
       "    }\n",
       "\n",
       "    .dataframe thead th {\n",
       "        text-align: right;\n",
       "    }\n",
       "</style>\n",
       "<table border=\"1\" class=\"dataframe\">\n",
       "  <thead>\n",
       "    <tr style=\"text-align: right;\">\n",
       "      <th></th>\n",
       "      <th>base_path</th>\n",
       "      <th>content_id</th>\n",
       "      <th>title</th>\n",
       "      <th>description</th>\n",
       "      <th>document_type</th>\n",
       "      <th>details</th>\n",
       "      <th>orgs_id</th>\n",
       "      <th>orgs_title</th>\n",
       "      <th>sbs_details</th>\n",
       "      <th>pages_part_of_step_nav</th>\n",
       "      <th>text</th>\n",
       "      <th>taxons</th>\n",
       "      <th>locale</th>\n",
       "    </tr>\n",
       "  </thead>\n",
       "  <tbody>\n",
       "    <tr>\n",
       "      <th>0</th>\n",
       "      <td>/aaib-reports/aaib-investigation-to-hawker-sea...</td>\n",
       "      <td>96eacfbe-0385-45ef-9289-8428dacad258</td>\n",
       "      <td>AAIB investigation to Hawker Sea Fury T MK 20,...</td>\n",
       "      <td>Engine failure and landing gear collapse, RNAS...</td>\n",
       "      <td>aaib_report</td>\n",
       "      <td>{'body': [{'content_type': 'text/govspeak', 'c...</td>\n",
       "      <td>{'organisations': ['38eb5d8f-2d89-480c-8655-e2...</td>\n",
       "      <td>{'organisations': ['Air Accidents Investigatio...</td>\n",
       "      <td>NaN</td>\n",
       "      <td>NaN</td>\n",
       "      <td>Summary: The aircraft was performing in a publ...</td>\n",
       "      <td>[{'title': 'Transport', 'content_id': 'a4038b2...</td>\n",
       "      <td>en</td>\n",
       "    </tr>\n",
       "    <tr>\n",
       "      <th>1</th>\n",
       "      <td>/aaib-reports/aaib-investigation-to-hph-glasfl...</td>\n",
       "      <td>1d697c99-b1d0-4855-b72d-a97d83a4fc91</td>\n",
       "      <td>AAIB investigation to HPH Glasflugel 304 eS, G...</td>\n",
       "      <td>Front Electric Sustainer (FES) battery fire du...</td>\n",
       "      <td>aaib_report</td>\n",
       "      <td>{'body': [{'content_type': 'text/govspeak', 'c...</td>\n",
       "      <td>{'organisations': ['38eb5d8f-2d89-480c-8655-e2...</td>\n",
       "      <td>{'organisations': ['Air Accidents Investigatio...</td>\n",
       "      <td>NaN</td>\n",
       "      <td>NaN</td>\n",
       "      <td>Summary: During a normal touchdown following a...</td>\n",
       "      <td>[{'title': 'Transport', 'content_id': 'a4038b2...</td>\n",
       "      <td>en</td>\n",
       "    </tr>\n",
       "    <tr>\n",
       "      <th>2</th>\n",
       "      <td>/aaib-reports/aaib-investigation-to-ikarus-c42...</td>\n",
       "      <td>5814334a-77d0-426e-8e78-ff2b05ea6322</td>\n",
       "      <td>AAIB investigation to Ikarus C42 FB UK, G-IKUS\\t</td>\n",
       "      <td>Aircraft crashed whilst avoiding a hedge when ...</td>\n",
       "      <td>aaib_report</td>\n",
       "      <td>{'body': [{'content_type': 'text/govspeak', 'c...</td>\n",
       "      <td>{'organisations': ['38eb5d8f-2d89-480c-8655-e2...</td>\n",
       "      <td>{'organisations': ['Air Accidents Investigatio...</td>\n",
       "      <td>NaN</td>\n",
       "      <td>NaN</td>\n",
       "      <td>Summary: The pilot was attempting to take off ...</td>\n",
       "      <td>[{'title': 'Transport', 'content_id': 'a4038b2...</td>\n",
       "      <td>en</td>\n",
       "    </tr>\n",
       "    <tr>\n",
       "      <th>3</th>\n",
       "      <td>/aaib-reports/aaib-investigation-to-ikarus-c42...</td>\n",
       "      <td>c8f31c76-eab0-4be6-95a5-5e6e7f32056c</td>\n",
       "      <td>AAIB investigation to Ikarus C42 FB100, G-CEHG\\t</td>\n",
       "      <td>Overturned on landing, Farm Strip, Hardwicke, ...</td>\n",
       "      <td>aaib_report</td>\n",
       "      <td>{'body': [{'content_type': 'text/govspeak', 'c...</td>\n",
       "      <td>{'organisations': ['38eb5d8f-2d89-480c-8655-e2...</td>\n",
       "      <td>{'organisations': ['Air Accidents Investigatio...</td>\n",
       "      <td>NaN</td>\n",
       "      <td>NaN</td>\n",
       "      <td>Summary: G-CEHG was landing on a private airst...</td>\n",
       "      <td>[{'title': 'Transport', 'content_id': 'a4038b2...</td>\n",
       "      <td>en</td>\n",
       "    </tr>\n",
       "    <tr>\n",
       "      <th>4</th>\n",
       "      <td>/aaib-reports/aaib-investigation-to-ikarus-c42...</td>\n",
       "      <td>4cc0ae15-ad87-42ce-8a89-2bdb14e19e26</td>\n",
       "      <td>AAIB investigation to Ikarus C42 FB100, G-ZAVI</td>\n",
       "      <td>Aircraft struck sheep on landing, Lundy Island...</td>\n",
       "      <td>aaib_report</td>\n",
       "      <td>{'metadata': {'date_of_occurrence': '2014-06-2...</td>\n",
       "      <td>{'organisations': ['38eb5d8f-2d89-480c-8655-e2...</td>\n",
       "      <td>{'organisations': ['Air Accidents Investigatio...</td>\n",
       "      <td>NaN</td>\n",
       "      <td>NaN</td>\n",
       "      <td>Summary: The pilot reported that this was his ...</td>\n",
       "      <td>[{'title': 'Transport', 'content_id': 'a4038b2...</td>\n",
       "      <td>en</td>\n",
       "    </tr>\n",
       "  </tbody>\n",
       "</table>\n",
       "</div>"
      ],
      "text/plain": [
       "                                           base_path  \\\n",
       "0  /aaib-reports/aaib-investigation-to-hawker-sea...   \n",
       "1  /aaib-reports/aaib-investigation-to-hph-glasfl...   \n",
       "2  /aaib-reports/aaib-investigation-to-ikarus-c42...   \n",
       "3  /aaib-reports/aaib-investigation-to-ikarus-c42...   \n",
       "4  /aaib-reports/aaib-investigation-to-ikarus-c42...   \n",
       "\n",
       "                             content_id  \\\n",
       "0  96eacfbe-0385-45ef-9289-8428dacad258   \n",
       "1  1d697c99-b1d0-4855-b72d-a97d83a4fc91   \n",
       "2  5814334a-77d0-426e-8e78-ff2b05ea6322   \n",
       "3  c8f31c76-eab0-4be6-95a5-5e6e7f32056c   \n",
       "4  4cc0ae15-ad87-42ce-8a89-2bdb14e19e26   \n",
       "\n",
       "                                               title  \\\n",
       "0  AAIB investigation to Hawker Sea Fury T MK 20,...   \n",
       "1  AAIB investigation to HPH Glasflugel 304 eS, G...   \n",
       "2   AAIB investigation to Ikarus C42 FB UK, G-IKUS\\t   \n",
       "3   AAIB investigation to Ikarus C42 FB100, G-CEHG\\t   \n",
       "4     AAIB investigation to Ikarus C42 FB100, G-ZAVI   \n",
       "\n",
       "                                         description document_type  \\\n",
       "0  Engine failure and landing gear collapse, RNAS...   aaib_report   \n",
       "1  Front Electric Sustainer (FES) battery fire du...   aaib_report   \n",
       "2  Aircraft crashed whilst avoiding a hedge when ...   aaib_report   \n",
       "3  Overturned on landing, Farm Strip, Hardwicke, ...   aaib_report   \n",
       "4  Aircraft struck sheep on landing, Lundy Island...   aaib_report   \n",
       "\n",
       "                                             details  \\\n",
       "0  {'body': [{'content_type': 'text/govspeak', 'c...   \n",
       "1  {'body': [{'content_type': 'text/govspeak', 'c...   \n",
       "2  {'body': [{'content_type': 'text/govspeak', 'c...   \n",
       "3  {'body': [{'content_type': 'text/govspeak', 'c...   \n",
       "4  {'metadata': {'date_of_occurrence': '2014-06-2...   \n",
       "\n",
       "                                             orgs_id  \\\n",
       "0  {'organisations': ['38eb5d8f-2d89-480c-8655-e2...   \n",
       "1  {'organisations': ['38eb5d8f-2d89-480c-8655-e2...   \n",
       "2  {'organisations': ['38eb5d8f-2d89-480c-8655-e2...   \n",
       "3  {'organisations': ['38eb5d8f-2d89-480c-8655-e2...   \n",
       "4  {'organisations': ['38eb5d8f-2d89-480c-8655-e2...   \n",
       "\n",
       "                                          orgs_title sbs_details  \\\n",
       "0  {'organisations': ['Air Accidents Investigatio...         NaN   \n",
       "1  {'organisations': ['Air Accidents Investigatio...         NaN   \n",
       "2  {'organisations': ['Air Accidents Investigatio...         NaN   \n",
       "3  {'organisations': ['Air Accidents Investigatio...         NaN   \n",
       "4  {'organisations': ['Air Accidents Investigatio...         NaN   \n",
       "\n",
       "  pages_part_of_step_nav                                               text  \\\n",
       "0                    NaN  Summary: The aircraft was performing in a publ...   \n",
       "1                    NaN  Summary: During a normal touchdown following a...   \n",
       "2                    NaN  Summary: The pilot was attempting to take off ...   \n",
       "3                    NaN  Summary: G-CEHG was landing on a private airst...   \n",
       "4                    NaN  Summary: The pilot reported that this was his ...   \n",
       "\n",
       "                                              taxons locale  \n",
       "0  [{'title': 'Transport', 'content_id': 'a4038b2...     en  \n",
       "1  [{'title': 'Transport', 'content_id': 'a4038b2...     en  \n",
       "2  [{'title': 'Transport', 'content_id': 'a4038b2...     en  \n",
       "3  [{'title': 'Transport', 'content_id': 'a4038b2...     en  \n",
       "4  [{'title': 'Transport', 'content_id': 'a4038b2...     en  "
      ]
     },
     "execution_count": 3,
     "metadata": {},
     "output_type": "execute_result"
    }
   ],
   "source": [
    "df.head()"
   ]
  },
  {
   "cell_type": "code",
   "execution_count": 4,
   "metadata": {},
   "outputs": [],
   "source": [
    "df['details'] = df['details'].map(literal_eval)"
   ]
  },
  {
   "cell_type": "code",
   "execution_count": 5,
   "metadata": {},
   "outputs": [],
   "source": [
    "def flatten_dict(parts_dict):\n",
    "    return {item['slug']:\"\".join([b['content'] \n",
    "                                  for b in item['body']]) for item in parts_dict}    "
   ]
  },
  {
   "cell_type": "code",
   "execution_count": 6,
   "metadata": {},
   "outputs": [],
   "source": [
    "df['details_parts'] = df['details'].map(lambda x: flatten_dict(x['parts']) \n",
    "                                        if 'parts' in x.keys() \n",
    "                                          else np.nan)"
   ]
  },
  {
   "cell_type": "code",
   "execution_count": 7,
   "metadata": {},
   "outputs": [],
   "source": [
    "df['eligibility_html'] = df['details_parts'].map(lambda x: x.get('eligibility',np.nan) \n",
    "                                                 if not isinstance(x,float) else np.nan)"
   ]
  },
  {
   "cell_type": "markdown",
   "metadata": {},
   "source": [
    "### Set up dataframe with `base_paths` that include non-null eligibility requirements"
   ]
  },
  {
   "cell_type": "code",
   "execution_count": 8,
   "metadata": {},
   "outputs": [],
   "source": [
    "df_welig = df[~df['eligibility_html'].isna()]"
   ]
  },
  {
   "cell_type": "code",
   "execution_count": 9,
   "metadata": {},
   "outputs": [],
   "source": [
    "df_welig.reset_index(drop=True,inplace=True)"
   ]
  },
  {
   "cell_type": "code",
   "execution_count": 10,
   "metadata": {},
   "outputs": [],
   "source": [
    "def extract_text(body):\n",
    "    \"\"\"\n",
    "    Extract text from html body\n",
    "    :param body: <str> containing html.\n",
    "    \"\"\"\n",
    "    # TODO: Tidy this up!\n",
    "    r = None\n",
    "    # body != \"\\n\" and\n",
    "    if body and body != \"\\n\" and not body.isspace():\n",
    "        try:\n",
    "            # print(\"this is\", body)\n",
    "            tree = etree.HTML(body)\n",
    "            r = tree.xpath('//text()')\n",
    "            r = ' '.join(r)\n",
    "            r = r.strip().replace('\\n', ' ').replace('\\r', ' ').replace('\\t', ' ')\n",
    "            r = r.replace('\\n', ' ').replace(',', ' ')\n",
    "            # r = r.lower()\n",
    "            r = ' '.join(r.split())\n",
    "        except ValueError:\n",
    "            print(\"exception @ extract:\", type(body), body)\n",
    "    if not r:\n",
    "        r = ' '\n",
    "    return r"
   ]
  },
  {
   "cell_type": "code",
   "execution_count": 11,
   "metadata": {},
   "outputs": [
    {
     "data": {
      "text/plain": [
       "array(['/1619-bursary-fund', '/additional-state-pension',\n",
       "       '/access-to-elected-office-fund', '/access-to-work',\n",
       "       '/attendance-allowance'], dtype=object)"
      ]
     },
     "execution_count": 11,
     "metadata": {},
     "output_type": "execute_result"
    }
   ],
   "source": [
    "df_welig.base_path.values[0:5]"
   ]
  },
  {
   "cell_type": "markdown",
   "metadata": {},
   "source": [
    "## 1. Regex from previous nb iteration to detect age mentions within listings of eligibility requirements. \n",
    "This can now be applied to single detected sentences/bullets"
   ]
  },
  {
   "cell_type": "code",
   "execution_count": 12,
   "metadata": {},
   "outputs": [],
   "source": [
    "elig_texts = dict(zip(df_welig.base_path, df_welig.eligibility_html))"
   ]
  },
  {
   "cell_type": "code",
   "execution_count": 13,
   "metadata": {},
   "outputs": [],
   "source": [
    "rowlist = []\n",
    "for key,value in list(elig_texts.items()):\n",
    "\n",
    "    if \"This fund is currently closed.\" not in value:\n",
    "#         \\s?\\d\\d\\s?(and|or)?\\s?(over|under)?(\\s\\d\\d)?\n",
    "        search = re.finditer(\"\"\".*(born on|(reached|over|under) State Pension age|\n",
    "                             age(d)?|('re|were|are|be( at least)?|have been)\\s?(over|under)?\\d\\d).*\"\"\", value)\n",
    "        if search is not None:\n",
    "#             print(f'https://www.gov.uk{key}/eligibility')\n",
    "            for i,s in enumerate(search):\n",
    "                start = s.start()\n",
    "                end = s.end()\n",
    "#                 print(f'At {i}: ({start},{end})')\n",
    "                text = value[start:end]\n",
    "#                 print(text)\n",
    "                rowlist.append({'base_path':key, \n",
    "                                'instance #':int(i+1),\n",
    "                                'start':start,\n",
    "                                'end':end,\n",
    "                                'age_text':value[start:end],\n",
    "                                'text':value})\n",
    "        else:\n",
    "            rowlist.append({'base_path':key, 'age_text':'Age requirements not detected',\n",
    "                           'text':value})\n",
    "            \n",
    "    else:\n",
    "#         print(f'https://www.gov.uk{key}/eligibility')\n",
    "#         print(\"closed\")\n",
    "        rowlist.append({'base_path':key, 'age_text':'Fund closed','text':value})\n",
    "df_eligibility = pd.DataFrame(rowlist)\n",
    "df_eligibility = df_eligibility[['base_path', 'text','instance #', 'start', 'end','age_text']]"
   ]
  },
  {
   "cell_type": "markdown",
   "metadata": {},
   "source": [
    "## 2. Detect date dependencies in requirements text"
   ]
  },
  {
   "cell_type": "markdown",
   "metadata": {},
   "source": [
    "An example: https://www.gov.uk/1619-bursary-fund/eligibility\n",
    "       \n",
    "       Eligibility\n",
    "       You must:\n",
    "\n",
    "        + be at least 16 and under 19 on 31 August 2019\n",
    "        + study at a publicly funded school or college, or be on an unpaid training course\n",
    "        + meet the residency requirements - your school or college can check this\n",
    "In the above, the age requirement `at least 16 and under 19` is dependent on the date listed `on 31 August 2019`. Depending on the preposition used (examples include `on|before|by|after|between|from|until|in|up to`), the timeframe within which the age req is relevant is affected"
   ]
  },
  {
   "cell_type": "code",
   "execution_count": 84,
   "metadata": {},
   "outputs": [
    {
     "data": {
      "text/plain": [
       "12"
      ]
     },
     "execution_count": 84,
     "metadata": {},
     "output_type": "execute_result"
    }
   ],
   "source": [
    "### a bit of nonsense, basically this is the longest word\n",
    "len(\"30 september\") "
   ]
  },
  {
   "cell_type": "code",
   "execution_count": 71,
   "metadata": {},
   "outputs": [],
   "source": [
    "cond = r\"\\s(on( or (after|before))?|before|by|after|between|from|until|in|up to)\\s.{0,20}\\s\\d{4}\""
   ]
  },
  {
   "cell_type": "code",
   "execution_count": 72,
   "metadata": {},
   "outputs": [
    {
     "data": {
      "text/plain": [
       "True"
      ]
     },
     "execution_count": 72,
     "metadata": {},
     "output_type": "execute_result"
    }
   ],
   "source": [
    "text = \"this happened before April 2019\"\n",
    "bool(re.search(cond, text))"
   ]
  },
  {
   "cell_type": "code",
   "execution_count": 93,
   "metadata": {},
   "outputs": [],
   "source": [
    "def check_prep(text):\n",
    "    if re.search('over|above|have been|at least|reached|on (or after)?|from',text):\n",
    "        return \"min\"\n",
    "    return \"max\""
   ]
  },
  {
   "cell_type": "code",
   "execution_count": 95,
   "metadata": {},
   "outputs": [
    {
     "name": "stdout",
     "output_type": "stream",
     "text": [
      "0 : /1619-bursary-fund\n",
      "[('on 31 August 2019', 'min', '31/08/2019')]\n",
      "[('on 31 August 2019', 'min', '31/08/2019')]\n",
      "####\n",
      "1 : /additional-state-pension\n",
      "[('on or after 6 April 2016', 'min', '06/04/2016')]\n",
      "[('on or after 6 April 2016', 'min', '06/04/2016')]\n",
      "[('before 6 April 2016', 'max', '06/04/2016')]\n",
      "[('before 6 April 2016', 'max', '06/04/2016')]\n",
      "[('before 6 April 2016', 'max', '06/04/2016')]\n",
      "[('in the 2015 to 2016', 'max', '04/07/2015'), ('in the 2015 to 2016', 'max', '04/07/2016')]\n",
      "[('on or after 6 April 2016', 'min', '06/04/2016')]\n",
      "[('on or after 6 April 2016', 'min', '06/04/2016')]\n",
      "[('before 6 April 2016', 'max', '06/04/2016')]\n",
      "[('before 6 April 2016', 'max', '06/04/2016')]\n",
      "[('before 6 April 2016', 'max', '06/04/2016')]\n",
      "[('in the 2015 to 2016', 'max', '04/07/2015'), ('in the 2015 to 2016', 'max', '04/07/2016')]\n",
      "####\n",
      "6 : /bereavement-allowance\n",
      "[('before 6 April 2017', 'max', '06/04/2017')]\n",
      "[('on or after 6 April 2017', 'min', '06/04/2017')]\n",
      "[('before 6 April 2017', 'max', '06/04/2017')]\n",
      "[('on or after 6 April 2017', 'min', '06/04/2017')]\n",
      "####\n",
      "7 : /bereavement-payment\n",
      "[('before 6 April 2017', 'max', '06/04/2017')]\n",
      "[('on or after 6 April 2017', 'min', '06/04/2017')]\n",
      "[('before 6 April 2017', 'max', '06/04/2017')]\n",
      "[('on or after 6 April 2017', 'min', '06/04/2017')]\n",
      "####\n",
      "8 : /bereavement-support-payment\n",
      "[('on or after 6 April 2017', 'min', '06/04/2017')]\n",
      "[('before 6 April 2017', 'max', '06/04/2017')]\n",
      "[('on or after 6 April 2017', 'min', '06/04/2017')]\n",
      "[('before 6 April 2017', 'max', '06/04/2017')]\n",
      "####\n",
      "10 : /agricultural-sick-pay\n",
      "[('on 1 October 2013', 'min', '01/10/2013')]\n",
      "[('on 1 October 2013', 'min', '01/10/2013')]\n",
      "####\n",
      "15 : /advanced-learner-loan\n",
      "[('before 1 August 2016', 'max', '01/08/2016')]\n",
      "[('on or after 1 August 2016', 'min', '01/08/2016')]\n",
      "[('on or after 1 August 2018', 'min', '01/08/2018')]\n",
      "[('on or after 1 August 2017', 'min', '01/08/2017')]\n",
      "[('before 1 August 2016', 'max', '01/08/2016')]\n",
      "[('on or after 1 August 2016', 'min', '01/08/2016')]\n",
      "[('on or after 1 August 2018', 'min', '01/08/2018')]\n",
      "[('on or after 1 August 2017', 'min', '01/08/2017')]\n",
      "####\n",
      "16 : /ancestry-visa\n",
      "[('before 31 March 1922', 'max', '31/03/1922')]\n",
      "####\n",
      "17 : /apply-citizenship-born-uk\n",
      "[('on or after 1 January 1983', 'min', '01/01/1983')]\n",
      "[('on or after 1 January 1983', 'min', '01/01/1983')]\n",
      "[('before 1 January 1983', 'max', '01/01/1983')]\n",
      "[('on or after 1 January 1983', 'min', '01/01/1983')]\n",
      "[('on or after 1 January 1983', 'min', '01/01/1983')]\n",
      "[('before 1 January 1983', 'max', '01/01/1983')]\n",
      "####\n",
      "18 : /apply-citizenship-british-parent\n",
      "[('after 1 July 2006', 'max', '01/07/2006')]\n",
      "[('after 1 July 2006', 'max', '01/07/2006')]\n",
      "####\n",
      "20 : /care-to-learn\n",
      "####\n",
      "26 : /claim-compensation-criminal-injury\n",
      "[('on or after 1 August 1964', 'min', '01/08/1964')]\n",
      "[('on or after 1 August 1964', 'min', '01/08/1964')]\n",
      "####\n",
      "30 : /claim-for-injury-received-while-serving\n",
      "[('after 5 April 2005', 'max', '05/04/2005')]\n",
      "[('before 6 April 2005', 'max', '06/04/2005')]\n",
      "[('after 5 April 2005', 'max', '05/04/2005')]\n",
      "[('before 6 April 2005', 'max', '06/04/2005')]\n",
      "####\n",
      "32 : /constant-attendance-allowance\n",
      "[('on the phone): 1800', 'min', '04/07/1800')]\n",
      "[('on the phone): 1800', 'min', '04/07/1800')]\n",
      "####\n",
      "35 : /diffuse-mesothelioma-payment\n",
      "[('on or after 25 July 2012', 'min', '25/07/2012')]\n",
      "[('from the 2008', 'min', '04/07/2008')]\n",
      "[('from the 2008', 'min', '04/07/2008')]\n",
      "[('from the 2008', 'min', '04/07/2008')]\n",
      "[('on or after 25 July 2012', 'min', '25/07/2012')]\n",
      "[('from the 2008', 'min', '04/07/2008')]\n",
      "[('from the 2008', 'min', '04/07/2008')]\n",
      "[('from the 2008', 'min', '04/07/2008')]\n",
      "####\n",
      "37 : /disabled-students-allowances-dsas\n",
      "[('before 1 September 2012', 'max', '01/09/2012')]\n",
      "[('from 1 September 2012', 'min', '01/09/2012')]\n",
      "[('before 1 September 2012', 'max', '01/09/2012')]\n",
      "[('from 1 September 2012', 'min', '01/09/2012')]\n",
      "####\n",
      "39 : /doctoral-loan\n",
      "[('on or after 1 August 2018', 'min', '01/08/2018')]\n",
      "[('on or after 1 August 2018', 'min', '01/08/2018')]\n",
      "####\n",
      "44 : /entrepreneurs-relief\n",
      "[('after 5 April 2013', 'max', '05/04/2013')]\n",
      "[('after 5 April 2013', 'max', '05/04/2013')]\n",
      "####\n",
      "45 : /funeral-payments\n",
      "[('on the phone): 1800', 'min', '04/07/1800')]\n",
      "[('on the phone): 1800', 'min', '04/07/1800')]\n",
      "####\n",
      "49 : /historic-vehicles\n",
      "[('before 1 January 1979', 'max', '01/01/1979')]\n",
      "[('between 1 and 7 January 1979', 'max', '07/01/1979')]\n",
      "[('before 1 January 1979', 'max', '01/01/1979')]\n",
      "[('between 1 and 7 January 1979', 'max', '07/01/1979')]\n",
      "####\n",
      "50 : /home-responsibilities-protection-hrp\n",
      "[('before April 2010', 'max', '04/04/2010')]\n",
      "[('before April 2010', 'max', '04/04/2010')]\n",
      "[('from 6 April 2010', 'min', '06/04/2010')]\n",
      "[('from April 2003', 'min', '04/04/2003')]\n",
      "[('before April 2010', 'max', '04/04/2010')]\n",
      "[('before April 2010', 'max', '04/04/2010')]\n",
      "[('from 6 April 2010', 'min', '06/04/2010')]\n",
      "[('from April 2003', 'min', '04/04/2003')]\n",
      "####\n",
      "51 : /housing-benefit\n",
      "[('from 15 May 2019', 'min', '15/05/2019')]\n",
      "[('before 15 May 2019', 'max', '15/05/2019')]\n",
      "[('on 14 May 2019', 'min', '14/05/2019')]\n",
      "[('by 13 August 2019', 'max', '13/08/2019')]\n",
      "[('after 15 May 2019', 'max', '15/05/2019')]\n",
      "[('from 15 May 2019', 'min', '15/05/2019')]\n",
      "[('before 15 May 2019', 'max', '15/05/2019')]\n",
      "[('on 14 May 2019', 'min', '14/05/2019')]\n",
      "[('by 13 August 2019', 'max', '13/08/2019')]\n",
      "[('after 15 May 2019', 'max', '15/05/2019')]\n",
      "####\n",
      "61 : /married-couples-allowance\n",
      "[('before 6 April 1935', 'max', '06/04/1935')]\n",
      "[('before 6 April 1935', 'max', '06/04/1935')]\n",
      "####\n",
      "62 : /masters-loan\n",
      "[('on or after 1 August 2016', 'min', '01/08/2016')]\n",
      "[('on or after 1 August 2018', 'min', '01/08/2018')]\n",
      "[('on or after 1 August 2016', 'min', '01/08/2016')]\n",
      "[('on or after 1 August 2018', 'min', '01/08/2018')]\n",
      "####\n",
      "67 : /national-insurance-credits\n",
      "[('on or after 6 April 2010', 'min', '06/04/2010')]\n",
      "[('before 6 April 2010', 'max', '06/04/2010')]\n",
      "[('before 6 October 1953', 'max', '06/10/1953')]\n",
      "[('after 6 April 2010', 'max', '06/04/2010')]\n",
      "[('after 6 April 1975', 'max', '06/04/1975')]\n",
      "[('on or after 6 April 2016', 'min', '06/04/2016')]\n",
      "[('on or after 6 April 2010', 'min', '06/04/2010')]\n",
      "[('before 6 April 2010', 'max', '06/04/2010')]\n",
      "[('before 6 October 1953', 'max', '06/10/1953')]\n",
      "[('after 6 April 2010', 'max', '06/04/2010')]\n",
      "[('after 6 April 1975', 'max', '06/04/1975')]\n",
      "[('on or after 6 April 2016', 'min', '06/04/2016')]\n",
      "####\n",
      "68 : /new-state-pension\n",
      "[('on or after 6 April 1951', 'min', '06/04/1951')]\n",
      "[('on or after 6 April 1953', 'min', '06/04/1953')]\n",
      "[('before 6 April 2016', 'max', '06/04/2016')]\n",
      "[('on or after 6 April 1951', 'min', '06/04/1951')]\n",
      "[('on or after 6 April 1953', 'min', '06/04/1953')]\n",
      "[('before 6 April 2016', 'max', '06/04/2016')]\n",
      "####\n",
      "69 : /nhs-bursaries\n",
      "[('on or after 1 August 2018', 'min', '01/08/2018')]\n",
      "[('in the 2017 to 2018', 'max', '04/07/2017'), ('in the 2017 to 2018', 'max', '04/07/2018')]\n",
      "[('before 1 August 2017', 'max', '01/08/2017')]\n",
      "[('on or after 1 August 2018', 'min', '01/08/2018')]\n",
      "[('in the 2017 to 2018', 'max', '04/07/2017'), ('in the 2017 to 2018', 'max', '04/07/2018')]\n",
      "[('before 1 August 2017', 'max', '01/08/2017')]\n",
      "####\n",
      "70 : /over-80-pension\n",
      "[('on or after 6 April 2016', 'min', '06/04/2016')]\n",
      "[('in 2019 to 2020', 'max', '04/07/2019'), ('in 2019 to 2020', 'max', '04/07/2020')]\n",
      "[('on or after 6 April 2016', 'min', '06/04/2016')]\n",
      "[('in 2019 to 2020', 'max', '04/07/2019'), ('in 2019 to 2020', 'max', '04/07/2020')]\n",
      "####\n",
      "71 : /parent-of-a-child-at-school-visa\n",
      "[('before 31 March 2009', 'max', '31/03/2009')]\n",
      "[('before 31 March 2009', 'max', '31/03/2009')]\n",
      "####\n",
      "74 : /queens-awards-for-enterprise\n",
      "[('in Summer 2019', 'max', '04/07/2019')]\n",
      "[('in Summer 2019', 'max', '04/07/2019')]\n",
      "####\n",
      "75 : /register-a-community-amateur-sports-club\n",
      "[('from 1 April 2015', 'min', '01/04/2015')]\n",
      "[('from 1 April 2015', 'min', '01/04/2015')]\n",
      "####\n",
      "77 : /pension-credit\n",
      "[('from 15 May 2019', 'min', '15/05/2019')]\n",
      "[('on 14 May 2019', 'min', '14/05/2019')]\n",
      "[('by 13 August 2019', 'max', '13/08/2019')]\n",
      "[('after 15 May 2019', 'max', '15/05/2019')]\n",
      "[('before 6 April 2016', 'max', '06/04/2016')]\n",
      "[('before 6 April 2016', 'max', '06/04/2016')]\n",
      "[('before 6 April 2016', 'max', '06/04/2016')]\n",
      "[('on the phone): 1800', 'min', '04/07/1800')]\n",
      "[('from 15 May 2019', 'min', '15/05/2019')]\n",
      "[('on 14 May 2019', 'min', '14/05/2019')]\n",
      "[('by 13 August 2019', 'max', '13/08/2019')]\n",
      "[('after 15 May 2019', 'max', '15/05/2019')]\n",
      "[('before 6 April 2016', 'max', '06/04/2016')]\n",
      "[('before 6 April 2016', 'max', '06/04/2016')]\n",
      "[('before 6 April 2016', 'max', '06/04/2016')]\n",
      "[('on the phone): 1800', 'min', '04/07/1800')]\n",
      "####\n",
      "80 : /reduced-earnings-allowance\n",
      "[('before 1 October 1990', 'max', '01/10/1990')]\n",
      "[('before 1 October 1990', 'max', '01/10/1990')]\n",
      "####\n",
      "83 : /refugee-integration-loan\n",
      "[('before 11 June 2007', 'max', '11/06/2007')]\n",
      "[('before 11 June 2007', 'max', '11/06/2007')]\n",
      "####\n",
      "85 : /settled-status-eu-citizens-families\n",
      "[('before 31 December 2020', 'max', '31/12/2020')]\n",
      "[('before 31 December 2020', 'max', '31/12/2020')]\n",
      "####\n",
      "90 : /state-pension\n",
      "[('before 6 April 2016', 'max', '06/04/2016')]\n",
      "[('on or after 6 April 2016', 'min', '06/04/2016')]\n",
      "[('from before 6 April 2016', 'min', '06/04/2016')]\n",
      "[('before 6 April 1950', 'max', '06/04/1950')]\n",
      "[('before 6 April 1945', 'max', '06/04/1945')]\n",
      "[('before 6 April 1950', 'max', '06/04/1950')]\n",
      "[('before 4 April 2005', 'max', '04/04/2005')]\n",
      "[('before 4 April 2005', 'max', '04/04/2005')]\n",
      "[('on or after 4 April 2005', 'min', '04/04/2005')]\n",
      "[('before 6 April 2016', 'max', '06/04/2016')]\n",
      "[('on or after 6 April 2016', 'min', '06/04/2016')]\n",
      "[('from before 6 April 2016', 'min', '06/04/2016')]\n",
      "[('before 6 April 1950', 'max', '06/04/1950')]\n",
      "[('before 6 April 1945', 'max', '06/04/1945')]\n",
      "[('before 6 April 1950', 'max', '06/04/1950')]\n",
      "[('before 4 April 2005', 'max', '04/04/2005')]\n",
      "[('before 4 April 2005', 'max', '04/04/2005')]\n",
      "[('on or after 4 April 2005', 'min', '04/04/2005')]\n",
      "####\n",
      "111 : /vaccine-damage-payment\n",
      "[('up to 31 August 2010', 'max', '31/08/2010')]\n",
      "[('up to 1 August 1971', 'max', '01/08/1971')]\n",
      "[('up to 31 August 2010', 'max', '31/08/2010')]\n",
      "[('up to 1 August 1971', 'max', '01/08/1971')]\n",
      "####\n",
      "118 : /widowed-parents-allowance\n",
      "[('before 6 April 2017', 'max', '06/04/2017')]\n",
      "[('on or after 6 April 2017', 'min', '06/04/2017')]\n",
      "[('before 6 April 2017', 'max', '06/04/2017')]\n",
      "[('on or after 6 April 2017', 'min', '06/04/2017')]\n",
      "####\n",
      "119 : /winter-fuel-payment\n",
      "[('on or before 5 April 1954', 'min', '05/04/1954')]\n",
      "[('between 16 to 22 September 2019', 'max', '22/09/2019')]\n",
      "[('on or before 5 April 1954', 'min', '05/04/1954')]\n",
      "[('between 16 to 22 September 2019', 'max', '22/09/2019')]\n",
      "####\n"
     ]
    },
    {
     "data": {
      "text/plain": [
       "(39, (127, 15))"
      ]
     },
     "execution_count": 95,
     "metadata": {},
     "output_type": "execute_result"
    }
   ],
   "source": [
    "counter = 0\n",
    "for i,row in df_welig.iterrows():\n",
    "    text = row['eligibility_html']\n",
    "#     previous, more lenient condition two =  bool(re.search(\".*\\d{4}.*\", text))\n",
    "#     not one and two\n",
    "    if bool(re.search(cond, text)):\n",
    "        print(i,\":\",row['base_path'])\n",
    "        for j,g in enumerate(re.finditer(cond, text)):\n",
    "            date_text = g.group()\n",
    "            detected_date = [(date_text.lstrip(), check_prep(date_text), date.strftime(\"%d/%m/%Y\"))\n",
    "               for date in datefinder.find_dates(date_text)]\n",
    "            ### additional condition required because sometimes we're capturing phone numbers\n",
    "            if len(detected_date)>0:\n",
    "                print(detected_date)\n",
    "        counter+=1\n",
    "        print(\"####\")\n",
    "counter, df_welig.shape"
   ]
  },
  {
   "cell_type": "markdown",
   "metadata": {},
   "source": [
    "## 3. Set up `Section` class to contain eligibility sections detected and extracted from page html\n",
    "Hierarchical reference: `<h2> > <p> > <ul> > un-attached <p>`\n",
    "An example at https://www.gov.uk/api/content/1619-bursary-fund\n",
    "#### Section 1\n",
    "    <p>You must:</p> \n",
    "        <ul> \n",
    "            <li>be at least 16 and under 19 on 31 August 2019</li> \n",
    "            <li>study at a publicly funded school or college, or be on an unpaid training course</li> \n",
    "            <li>meet the residency requirements - your school or college can check this</li> \n",
    "        </ul> \n",
    "#### Section 2\n",
    "**This section in particular has a not immediately obvious hierarchy of bullet lists and paragraphs**\n",
    "\n",
    "    <h2 id=\"bursary-for-students-in-vulnerable-groups\">Bursary for students in vulnerable groups</h2> \n",
    "        <p>You could get up to £1,200 if at least one of the following applies:</p> \n",
    "            <ul> \n",
    "                <li>you’re in or recently left local authority care</li> \n",
    "                <li>you get Income Support or Universal Credit because you’re financially supporting yourself</li> \n",
    "                <li>you get Disability Living Allowance (<abbr title=\"Disability Living Allowance\">DLA</abbr>) in your name and either Employment and Support Allowance (<abbr title=\"Employment and Support Allowance\">ESA</abbr>) or Universal Credit</li> \n",
    "                <li>you get Personal Independence Payment (<abbr title=\"Personal Independence Payment\">PIP</abbr>) in your name and either <abbr title=\"Employment and Support Allowance\">ESA</abbr> or Universal Credit</li> \n",
    "            </ul> \n",
    "        <p>You may get the full amount if you have expenses and study full-time on a course of at least 30 weeks.</p> \n",
    "**This is a list of things that actually make an applicant ineligible for a bursary**\n",
    "\n",
    "        <p>You’ll usually get less than the full amount, or no bursary, if one of the following apply:</p> \n",
    "            <ul> \n",
    "                <li>your course is shorter than 30 weeks</li> \n",
    "                <li>you study part time</li> \n",
    "                <li>you have few expenses</li> \n",
    "            </ul> \n",
    "        <p>You’ll be told what evidence you need, for example benefit letters.</p> \n",
    "#### Section 3\n",
    "    <h2 id=\"discretionary-bursary\">Discretionary bursary</h2> \n",
    "        <p>Your school or college will have their own criteria for discretionary bursaries. They’ll look at your individual circumstances - this usually includes your family income.</p> \n",
    "        <p>Ask student services about their criteria and any evidence you’ll need.</p> \n",
    "        <p>You can apply to a discretionary bursary if you’re over 19 and either:</p> \n",
    "            <ul> \n",
    "                <li>continuing on a course you started aged 16 to 18 (known as being a ‘19+ continuer’)</li> \n",
    "                <li>have an <a href=\"/children-with-special-educational-needs/extra-SEN-help\">Education, Health and Care Plan (EHCP)</a> </li> \n",
    "            </ul>"
   ]
  },
  {
   "cell_type": "markdown",
   "metadata": {},
   "source": [
    "From the above 3 identified sections, extract the bullet lists where applicable, attach them to the their introductory paragraph/sentence"
   ]
  },
  {
   "cell_type": "code",
   "execution_count": 17,
   "metadata": {},
   "outputs": [],
   "source": [
    "def specialized_scenario(header_string):\n",
    "    return any([x in header_string for x in [' for ','group']]) "
   ]
  },
  {
   "cell_type": "code",
   "execution_count": 18,
   "metadata": {},
   "outputs": [
    {
     "data": {
      "text/plain": [
       "True"
      ]
     },
     "execution_count": 18,
     "metadata": {},
     "output_type": "execute_result"
    }
   ],
   "source": [
    "specialized_scenario(\"group\")"
   ]
  },
  {
   "cell_type": "code",
   "execution_count": 19,
   "metadata": {},
   "outputs": [],
   "source": [
    "class Section:\n",
    "    \n",
    "    def __init__(self, section_type=\"\", header=\"\"):\n",
    "        self.section_type = section_type\n",
    "        self.header = header\n",
    "        self.bullets = []\n",
    "        self.paragraphs = []\n",
    "    \n",
    "    def set_type(self, section_type):\n",
    "        '''\n",
    "        Base or secondary\n",
    "        '''\n",
    "        self.section_type = section_type\n",
    "        \n",
    "    def set_header(self, header):\n",
    "        '''The text tagged as <h2> or the first <p> of a section.'''\n",
    "        self.header = header\n",
    "    \n",
    "    def set_list_header(self, paragraph_text):\n",
    "        '''The text tagged as <p> preceeding a <ul> bulleted list'''\n",
    "        self.bullets.append([paragraph_text,\n",
    "                             self._is_exclusion(paragraph_text),\n",
    "                             []])\n",
    "        \n",
    "    def add_bullet(self, bullet):\n",
    "        '''Add a bullet requirement to the most recent bulleted list'''\n",
    "        if bullet not in self.bullets[-1][2]:\n",
    "            self.bullets[-1][2].append(bullet)\n",
    "            \n",
    "    def add_paragraph(self, paragraph):\n",
    "        '''Add an un-attached paragraph mentioned within section text.\n",
    "        Probably does not influence any bulleted lists of requirements'''\n",
    "        if paragraph not in self.paragraphs:\n",
    "            self.paragraphs.append(paragraph)   \n",
    "            \n",
    "    def to_string(self):\n",
    "        return \"type: {}\\nheader: {}\\nbullets: {}\\nparagraphs: {}\"\\\n",
    "                    .format(self.section_type, self.header, self.bullets, self.paragraphs)\n",
    "    \n",
    "    def to_dict(self):\n",
    "        return {'type': self.section_type, \n",
    "                'header': self.header,\n",
    "                'bullets': self.bullets,\n",
    "                'paragraphs': self.paragraphs}\n",
    "    \n",
    "    def _is_exclusion(self,text):\n",
    "        '''Check whether a list of requirements is posed as anti-eligibility/reasons for rejection'''\n",
    "        return bool(re.search(\"not (eligible|qualify)|can('t|not)\\s?(get|apply)?\", text)) or \\\n",
    "                        TextBlob(text).sentiment.polarity < -0.2"
   ]
  },
  {
   "cell_type": "code",
   "execution_count": 27,
   "metadata": {},
   "outputs": [],
   "source": [
    "class Requirement:\n",
    "    \n",
    "    def __init__(self, tag=\"\", text=\"\"):\n",
    "        self.tag = tag\n",
    "        self.text = text\n",
    "        self.is_age = self._contains_age(text)\n",
    "    \n",
    "    def to_string(self):\n",
    "        return f'tag: {self.tag}\\ttext: {self.text}\\tis_age: {self.is_age}'\n",
    "    \n",
    "    def _contains_age(self, text):\n",
    "        return bool(re.search(\"\"\".*(born on|(reached|over|under) State Pension age|\n",
    "                         age(d)?|('re|were|are|be( at least)?|have been)\\s?(over|under)?\\d\\d).*\"\"\", text))\n",
    "    \n",
    "    def _detect_date_dependency(self, requirement_text):\n",
    "        condition = r\"(on|before|by|after|between|from|until|in|up to).*\\s\\d{4}\"\n",
    "        if bool(re.search(cond, text)):\n",
    "            detected_dates = [date.strftime(\"%d/%m/%Y\")\n",
    "                   for date in datefinder.find_dates(re.search(cond, text).group(0))]\n",
    "        ### additional condition required because sometimes we're capturing phone numbers\n",
    "        if len(detected_dates)>0:\n",
    "            print(i,\":\",row['base_path'])\n",
    "            print(\"first:\",re.search(cond, text).group(0))\n",
    "            counter+=1\n",
    "            print(detected_dates)\n",
    "            print(\"####\")\n",
    "        return None\n",
    "    \n",
    "    def _resolve_prepositions(self, text):\n",
    "        return None\n",
    "    \n",
    "    def _extract_age_range(self, age_text):\n",
    "        dates = [s.group() for s in re.finditer(\"\\d{2}\",age_text)]\n",
    "        if len(dates) == 2:\n",
    "            self.min_age = dates[0]\n",
    "            self.max_age = dates[1]\n",
    "        else:\n",
    "            #### resolve preposition\n",
    "        "
   ]
  },
  {
   "cell_type": "code",
   "execution_count": 21,
   "metadata": {},
   "outputs": [],
   "source": [
    "def extract_age_range(age_text):\n",
    "    return [s.group() for s in re.finditer(\"\\d{2}\",age_text)]"
   ]
  },
  {
   "cell_type": "markdown",
   "metadata": {},
   "source": [
    "**TODO:** At this point we need to account for the various ways an age may be defined, given final output will be in a `min_age` and `max_age` format\n",
    "\n",
    "1. Two ages, leftmost = min, rightmost = max. Ensure that min < max\n",
    "2. Age may be stated as \"state pension age\", account for this (mutable value unfort)\n",
    "3. Phrasing:\n",
    "        1. Over, above, have been, at least, reached? = min\n",
    "        2. Under, below = max"
   ]
  },
  {
   "cell_type": "code",
   "execution_count": 22,
   "metadata": {},
   "outputs": [
    {
     "data": {
      "text/plain": [
       "('19', '20')"
      ]
     },
     "execution_count": 22,
     "metadata": {},
     "output_type": "execute_result"
    }
   ],
   "source": [
    "## test the thing, should add condition if number of ages listed is not == 2\n",
    "min_age, max_age = [s.group() for s in re.finditer(\"\\d{2}\",\"this is one 19 this is other 20\")]\n",
    "min_age, max_age"
   ]
  },
  {
   "cell_type": "code",
   "execution_count": 23,
   "metadata": {},
   "outputs": [
    {
     "name": "stdout",
     "output_type": "stream",
     "text": [
      "tag: <li>\ttext: born on 1983\tis_age: True\n"
     ]
    }
   ],
   "source": [
    "r = Requirement(\"<li>\", \"born on 1983\")\n",
    "print(r.to_string())"
   ]
  },
  {
   "cell_type": "code",
   "execution_count": 25,
   "metadata": {},
   "outputs": [
    {
     "data": {
      "text/plain": [
       "[['you must', False, ['womp']], ['wat', False, ['womp']]]"
      ]
     },
     "execution_count": 25,
     "metadata": {},
     "output_type": "execute_result"
    }
   ],
   "source": [
    "section = Section()\n",
    "section.set_list_header(\"you must\")\n",
    "section.add_bullet(\"womp\")\n",
    "section.set_list_header(\"wat\")\n",
    "section.add_bullet(\"womp\")\n",
    "section.bullets"
   ]
  },
  {
   "cell_type": "code",
   "execution_count": 26,
   "metadata": {},
   "outputs": [
    {
     "ename": "AttributeError",
     "evalue": "type object 'Section' has no attribute '_contains_date'",
     "output_type": "error",
     "traceback": [
      "\u001b[0;31m---------------------------------------------------------------------------\u001b[0m",
      "\u001b[0;31mAttributeError\u001b[0m                            Traceback (most recent call last)",
      "\u001b[0;32m<ipython-input-26-0781a9603b27>\u001b[0m in \u001b[0;36m<module>\u001b[0;34m\u001b[0m\n\u001b[0;32m----> 1\u001b[0;31m \u001b[0mSection\u001b[0m\u001b[0;34m.\u001b[0m\u001b[0m_contains_date\u001b[0m\u001b[0;34m(\u001b[0m\u001b[0m_\u001b[0m\u001b[0;34m,\u001b[0m \u001b[0;34m\"be at least 16 and under 19 on 31 August 2019\"\u001b[0m\u001b[0;34m)\u001b[0m\u001b[0;34m\u001b[0m\u001b[0m\n\u001b[0m",
      "\u001b[0;31mAttributeError\u001b[0m: type object 'Section' has no attribute '_contains_date'"
     ]
    }
   ],
   "source": [
    "Section._contains_date(_, \"be at least 16 and under 19 on 31 August 2019\")"
   ]
  },
  {
   "cell_type": "code",
   "execution_count": null,
   "metadata": {},
   "outputs": [],
   "source": [
    "section.to_dict()"
   ]
  },
  {
   "cell_type": "markdown",
   "metadata": {},
   "source": [
    "## 4. BeautifulSoup attempt to get all the bulleted lists/headers out, split into sections \n",
    "**TODO: Include age + date dependency detection in this extract step as well (probably within the `Section` class)**"
   ]
  },
  {
   "cell_type": "code",
   "execution_count": null,
   "metadata": {},
   "outputs": [],
   "source": [
    "test = df_welig.iloc[0]\n",
    "text = test.eligibility_html\n",
    "soup = BeautifulSoup(text, \"html.parser\")"
   ]
  },
  {
   "cell_type": "code",
   "execution_count": null,
   "metadata": {},
   "outputs": [],
   "source": [
    "test.base_path"
   ]
  },
  {
   "cell_type": "code",
   "execution_count": null,
   "metadata": {},
   "outputs": [],
   "source": [
    "text[0:10]"
   ]
  },
  {
   "cell_type": "markdown",
   "metadata": {},
   "source": [
    "    if header -> new scenario\n",
    "    first header (overall?)\n",
    "    other headers -> secondary scenarios, unless first header mentions a requirement disputed by scenario, then it's a different class"
   ]
  },
  {
   "cell_type": "code",
   "execution_count": null,
   "metadata": {},
   "outputs": [],
   "source": [
    "def get_type(header):\n",
    "    if header==\"p\":\n",
    "        return \"base\"\n",
    "    return \"secondary\""
   ]
  },
  {
   "cell_type": "code",
   "execution_count": null,
   "metadata": {},
   "outputs": [],
   "source": [
    "all_stacks = []\n",
    "for i,row in df_welig.iterrows():\n",
    "    text = row['eligibility_html']\n",
    "    soup = BeautifulSoup(text, \"html.parser\")\n",
    "    section_stack = []\n",
    "    print(\"https://www.gov.uk\"+row['base_path']+\"/eligibility\")\n",
    "    items = list(soup.find_all([\"h1\",\"h2\",\"h3\", \"p\", \"ul\"]))\n",
    "    \n",
    "    # first element on eligibility page\n",
    "    section_stack = [Section(get_type(items[0].name), items[0].text.strip())]\n",
    "    if len(items)>1 and items[1].name == \"ul\":\n",
    "        section_stack[-1].set_list_header(items[0].text.strip()) \n",
    "        \n",
    "    for j, header in enumerate(items[1:],1):\n",
    "        print(f'at index: {j} type: <{header.name}>\\nwords: {header.text}')\n",
    "        if header.name.startswith(\"h\"):\n",
    "            section_stack.append(Section(\"secondary\",header.text.strip()))\n",
    "            if j+1< len(items) and items[j+1].name == \"ul\":\n",
    "                section_stack[-1].set_list_header(header.text.strip())    \n",
    "\n",
    "        elif header.name == \"p\":\n",
    "            if j+1< len(items) and items[j+1].name == \"ul\":\n",
    "                section_stack[-1].set_list_header(header.text.strip())  \n",
    "            else:\n",
    "                 section_stack[-1].add_paragraph(header.text.strip())\n",
    "        else:\n",
    "            for bullet in header.find_all([\"li\"]):\n",
    "                section_stack[-1].add_bullet(bullet.text.strip())\n",
    "    print(\"####\")\n",
    "    all_stacks.append([row['base_path'],section_stack])"
   ]
  },
  {
   "cell_type": "code",
   "execution_count": null,
   "metadata": {},
   "outputs": [],
   "source": [
    "for thing, section in all_stacks:\n",
    "    print(thing)\n",
    "    for sec in section:\n",
    "        print(sec.to_string())\n",
    "        print(\"###\")\n",
    "    print(\"###\\n\")"
   ]
  },
  {
   "cell_type": "code",
   "execution_count": null,
   "metadata": {},
   "outputs": [],
   "source": []
  }
 ],
 "metadata": {
  "kernelspec": {
   "display_name": "Python 3",
   "language": "python",
   "name": "python3"
  },
  "language_info": {
   "codemirror_mode": {
    "name": "ipython",
    "version": 3
   },
   "file_extension": ".py",
   "mimetype": "text/x-python",
   "name": "python",
   "nbconvert_exporter": "python",
   "pygments_lexer": "ipython3",
   "version": "3.6.0"
  }
 },
 "nbformat": 4,
 "nbformat_minor": 2
}
