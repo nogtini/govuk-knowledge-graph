{
 "cells": [
  {
   "cell_type": "markdown",
   "metadata": {},
   "source": [
    "There exist mentions of elibility requirements in page text, some in specialized `Eligibility` sections, others within the context of `smart_answers` or `answer` document_types. With a focus on age requirements, extract stuff out."
   ]
  },
  {
   "cell_type": "code",
   "execution_count": 1,
   "metadata": {},
   "outputs": [],
   "source": [
    "import os\n",
    "import pandas as pd\n",
    "import numpy as np\n",
    "import re\n",
    "from ast import literal_eval\n",
    "from pprint import pprint"
   ]
  },
  {
   "cell_type": "code",
   "execution_count": 2,
   "metadata": {},
   "outputs": [
    {
     "name": "stderr",
     "output_type": "stream",
     "text": [
      "/Users/felisialoukou/.virtualenvs/k-graph/lib/python3.6/site-packages/IPython/core/interactiveshell.py:3049: DtypeWarning: Columns (8,9) have mixed types. Specify dtype option on import or set low_memory=False.\n",
      "  interactivity=interactivity, compiler=compiler, result=result)\n"
     ]
    }
   ],
   "source": [
    "DATA_DIR = os.getenv(\"DATA_DIR\")\n",
    "content_path = os.path.join(DATA_DIR, \n",
    "                            \"preprocessed_content_store_wdetails_june_en_june.csv.gz\")\n",
    "df = pd.read_csv(content_path, compression=\"gzip\")"
   ]
  },
  {
   "cell_type": "code",
   "execution_count": 3,
   "metadata": {},
   "outputs": [
    {
     "data": {
      "text/html": [
       "<div>\n",
       "<style scoped>\n",
       "    .dataframe tbody tr th:only-of-type {\n",
       "        vertical-align: middle;\n",
       "    }\n",
       "\n",
       "    .dataframe tbody tr th {\n",
       "        vertical-align: top;\n",
       "    }\n",
       "\n",
       "    .dataframe thead th {\n",
       "        text-align: right;\n",
       "    }\n",
       "</style>\n",
       "<table border=\"1\" class=\"dataframe\">\n",
       "  <thead>\n",
       "    <tr style=\"text-align: right;\">\n",
       "      <th></th>\n",
       "      <th>base_path</th>\n",
       "      <th>content_id</th>\n",
       "      <th>title</th>\n",
       "      <th>description</th>\n",
       "      <th>document_type</th>\n",
       "      <th>details</th>\n",
       "      <th>orgs_id</th>\n",
       "      <th>orgs_title</th>\n",
       "      <th>sbs_details</th>\n",
       "      <th>pages_part_of_step_nav</th>\n",
       "      <th>text</th>\n",
       "      <th>taxons</th>\n",
       "      <th>locale</th>\n",
       "    </tr>\n",
       "  </thead>\n",
       "  <tbody>\n",
       "    <tr>\n",
       "      <th>0</th>\n",
       "      <td>/aaib-reports/aaib-investigation-to-hawker-sea...</td>\n",
       "      <td>96eacfbe-0385-45ef-9289-8428dacad258</td>\n",
       "      <td>AAIB investigation to Hawker Sea Fury T MK 20,...</td>\n",
       "      <td>Engine failure and landing gear collapse, RNAS...</td>\n",
       "      <td>aaib_report</td>\n",
       "      <td>{'body': [{'content_type': 'text/govspeak', 'c...</td>\n",
       "      <td>{'organisations': ['38eb5d8f-2d89-480c-8655-e2...</td>\n",
       "      <td>{'organisations': ['Air Accidents Investigatio...</td>\n",
       "      <td>NaN</td>\n",
       "      <td>NaN</td>\n",
       "      <td>Summary: The aircraft was performing in a publ...</td>\n",
       "      <td>[{'title': 'Transport', 'content_id': 'a4038b2...</td>\n",
       "      <td>en</td>\n",
       "    </tr>\n",
       "    <tr>\n",
       "      <th>1</th>\n",
       "      <td>/aaib-reports/aaib-investigation-to-hph-glasfl...</td>\n",
       "      <td>1d697c99-b1d0-4855-b72d-a97d83a4fc91</td>\n",
       "      <td>AAIB investigation to HPH Glasflugel 304 eS, G...</td>\n",
       "      <td>Front Electric Sustainer (FES) battery fire du...</td>\n",
       "      <td>aaib_report</td>\n",
       "      <td>{'body': [{'content_type': 'text/govspeak', 'c...</td>\n",
       "      <td>{'organisations': ['38eb5d8f-2d89-480c-8655-e2...</td>\n",
       "      <td>{'organisations': ['Air Accidents Investigatio...</td>\n",
       "      <td>NaN</td>\n",
       "      <td>NaN</td>\n",
       "      <td>Summary: During a normal touchdown following a...</td>\n",
       "      <td>[{'title': 'Transport', 'content_id': 'a4038b2...</td>\n",
       "      <td>en</td>\n",
       "    </tr>\n",
       "    <tr>\n",
       "      <th>2</th>\n",
       "      <td>/aaib-reports/aaib-investigation-to-ikarus-c42...</td>\n",
       "      <td>5814334a-77d0-426e-8e78-ff2b05ea6322</td>\n",
       "      <td>AAIB investigation to Ikarus C42 FB UK, G-IKUS\\t</td>\n",
       "      <td>Aircraft crashed whilst avoiding a hedge when ...</td>\n",
       "      <td>aaib_report</td>\n",
       "      <td>{'body': [{'content_type': 'text/govspeak', 'c...</td>\n",
       "      <td>{'organisations': ['38eb5d8f-2d89-480c-8655-e2...</td>\n",
       "      <td>{'organisations': ['Air Accidents Investigatio...</td>\n",
       "      <td>NaN</td>\n",
       "      <td>NaN</td>\n",
       "      <td>Summary: The pilot was attempting to take off ...</td>\n",
       "      <td>[{'title': 'Transport', 'content_id': 'a4038b2...</td>\n",
       "      <td>en</td>\n",
       "    </tr>\n",
       "    <tr>\n",
       "      <th>3</th>\n",
       "      <td>/aaib-reports/aaib-investigation-to-ikarus-c42...</td>\n",
       "      <td>c8f31c76-eab0-4be6-95a5-5e6e7f32056c</td>\n",
       "      <td>AAIB investigation to Ikarus C42 FB100, G-CEHG\\t</td>\n",
       "      <td>Overturned on landing, Farm Strip, Hardwicke, ...</td>\n",
       "      <td>aaib_report</td>\n",
       "      <td>{'body': [{'content_type': 'text/govspeak', 'c...</td>\n",
       "      <td>{'organisations': ['38eb5d8f-2d89-480c-8655-e2...</td>\n",
       "      <td>{'organisations': ['Air Accidents Investigatio...</td>\n",
       "      <td>NaN</td>\n",
       "      <td>NaN</td>\n",
       "      <td>Summary: G-CEHG was landing on a private airst...</td>\n",
       "      <td>[{'title': 'Transport', 'content_id': 'a4038b2...</td>\n",
       "      <td>en</td>\n",
       "    </tr>\n",
       "    <tr>\n",
       "      <th>4</th>\n",
       "      <td>/aaib-reports/aaib-investigation-to-ikarus-c42...</td>\n",
       "      <td>4cc0ae15-ad87-42ce-8a89-2bdb14e19e26</td>\n",
       "      <td>AAIB investigation to Ikarus C42 FB100, G-ZAVI</td>\n",
       "      <td>Aircraft struck sheep on landing, Lundy Island...</td>\n",
       "      <td>aaib_report</td>\n",
       "      <td>{'metadata': {'date_of_occurrence': '2014-06-2...</td>\n",
       "      <td>{'organisations': ['38eb5d8f-2d89-480c-8655-e2...</td>\n",
       "      <td>{'organisations': ['Air Accidents Investigatio...</td>\n",
       "      <td>NaN</td>\n",
       "      <td>NaN</td>\n",
       "      <td>Summary: The pilot reported that this was his ...</td>\n",
       "      <td>[{'title': 'Transport', 'content_id': 'a4038b2...</td>\n",
       "      <td>en</td>\n",
       "    </tr>\n",
       "  </tbody>\n",
       "</table>\n",
       "</div>"
      ],
      "text/plain": [
       "                                           base_path  \\\n",
       "0  /aaib-reports/aaib-investigation-to-hawker-sea...   \n",
       "1  /aaib-reports/aaib-investigation-to-hph-glasfl...   \n",
       "2  /aaib-reports/aaib-investigation-to-ikarus-c42...   \n",
       "3  /aaib-reports/aaib-investigation-to-ikarus-c42...   \n",
       "4  /aaib-reports/aaib-investigation-to-ikarus-c42...   \n",
       "\n",
       "                             content_id  \\\n",
       "0  96eacfbe-0385-45ef-9289-8428dacad258   \n",
       "1  1d697c99-b1d0-4855-b72d-a97d83a4fc91   \n",
       "2  5814334a-77d0-426e-8e78-ff2b05ea6322   \n",
       "3  c8f31c76-eab0-4be6-95a5-5e6e7f32056c   \n",
       "4  4cc0ae15-ad87-42ce-8a89-2bdb14e19e26   \n",
       "\n",
       "                                               title  \\\n",
       "0  AAIB investigation to Hawker Sea Fury T MK 20,...   \n",
       "1  AAIB investigation to HPH Glasflugel 304 eS, G...   \n",
       "2   AAIB investigation to Ikarus C42 FB UK, G-IKUS\\t   \n",
       "3   AAIB investigation to Ikarus C42 FB100, G-CEHG\\t   \n",
       "4     AAIB investigation to Ikarus C42 FB100, G-ZAVI   \n",
       "\n",
       "                                         description document_type  \\\n",
       "0  Engine failure and landing gear collapse, RNAS...   aaib_report   \n",
       "1  Front Electric Sustainer (FES) battery fire du...   aaib_report   \n",
       "2  Aircraft crashed whilst avoiding a hedge when ...   aaib_report   \n",
       "3  Overturned on landing, Farm Strip, Hardwicke, ...   aaib_report   \n",
       "4  Aircraft struck sheep on landing, Lundy Island...   aaib_report   \n",
       "\n",
       "                                             details  \\\n",
       "0  {'body': [{'content_type': 'text/govspeak', 'c...   \n",
       "1  {'body': [{'content_type': 'text/govspeak', 'c...   \n",
       "2  {'body': [{'content_type': 'text/govspeak', 'c...   \n",
       "3  {'body': [{'content_type': 'text/govspeak', 'c...   \n",
       "4  {'metadata': {'date_of_occurrence': '2014-06-2...   \n",
       "\n",
       "                                             orgs_id  \\\n",
       "0  {'organisations': ['38eb5d8f-2d89-480c-8655-e2...   \n",
       "1  {'organisations': ['38eb5d8f-2d89-480c-8655-e2...   \n",
       "2  {'organisations': ['38eb5d8f-2d89-480c-8655-e2...   \n",
       "3  {'organisations': ['38eb5d8f-2d89-480c-8655-e2...   \n",
       "4  {'organisations': ['38eb5d8f-2d89-480c-8655-e2...   \n",
       "\n",
       "                                          orgs_title sbs_details  \\\n",
       "0  {'organisations': ['Air Accidents Investigatio...         NaN   \n",
       "1  {'organisations': ['Air Accidents Investigatio...         NaN   \n",
       "2  {'organisations': ['Air Accidents Investigatio...         NaN   \n",
       "3  {'organisations': ['Air Accidents Investigatio...         NaN   \n",
       "4  {'organisations': ['Air Accidents Investigatio...         NaN   \n",
       "\n",
       "  pages_part_of_step_nav                                               text  \\\n",
       "0                    NaN  Summary: The aircraft was performing in a publ...   \n",
       "1                    NaN  Summary: During a normal touchdown following a...   \n",
       "2                    NaN  Summary: The pilot was attempting to take off ...   \n",
       "3                    NaN  Summary: G-CEHG was landing on a private airst...   \n",
       "4                    NaN  Summary: The pilot reported that this was his ...   \n",
       "\n",
       "                                              taxons locale  \n",
       "0  [{'title': 'Transport', 'content_id': 'a4038b2...     en  \n",
       "1  [{'title': 'Transport', 'content_id': 'a4038b2...     en  \n",
       "2  [{'title': 'Transport', 'content_id': 'a4038b2...     en  \n",
       "3  [{'title': 'Transport', 'content_id': 'a4038b2...     en  \n",
       "4  [{'title': 'Transport', 'content_id': 'a4038b2...     en  "
      ]
     },
     "execution_count": 3,
     "metadata": {},
     "output_type": "execute_result"
    }
   ],
   "source": [
    "df.head()"
   ]
  },
  {
   "cell_type": "code",
   "execution_count": 4,
   "metadata": {},
   "outputs": [],
   "source": [
    "df['details'] = df['details'].map(literal_eval)"
   ]
  },
  {
   "cell_type": "code",
   "execution_count": 17,
   "metadata": {},
   "outputs": [
    {
     "data": {
      "text/plain": [
       "[{'title': 'Overview',\n",
       "  'slug': 'overview',\n",
       "  'body': [{'content_type': 'text/govspeak',\n",
       "    'content': \"You could get a bursary to help with education-related costs if you’re aged 16 to 19 and: \\r\\n\\r\\n+ studying at a publicly funded school or college in England - not a university  \\r\\n+ on a training course, including unpaid work experience  \\r\\n\\r\\nA publicly funded school is one that does not charge you for attending it.\\r\\n\\r\\n^There's a different [scheme in Wales, Scotland and Northern Ireland](/education-maintenance-allowance-ema).^ \\r\\n\\r\\n##If you're 19 and over\\r\\n\\r\\nYou could also get a bursary if you either:  \\r\\n\\r\\n* are continuing on a course you started aged 16 to 18 (known as being a ’19+ continuer’)  \\r\\n* have an [Education, Health and Care Plan (EHCP)](/children-with-special-educational-needs/extra-SEN-help)  \\r\\n\\r\\n##What a bursary is for\\r\\nA bursary is money that you, or your education or training provider, can use to pay for things like: \\r\\n\\r\\n+ clothing, books and other equipment for your course \\r\\n+ transport and lunch on days you study or train\\r\\n\\r\\n\\r\\n\\r\\n\\r\\n\"},\n",
       "   {'content_type': 'text/html',\n",
       "    'content': '<p>You could get a bursary to help with education-related costs if you’re aged 16 to 19 and:</p>\\n\\n<ul>\\n  <li>studying at a publicly funded school or college in England - not a university</li>\\n  <li>on a training course, including unpaid work experience</li>\\n</ul>\\n\\n<p>A publicly funded school is one that does not charge you for attending it.</p>\\n\\n<div role=\"note\" aria-label=\"Information\" class=\"application-notice info-notice\">\\n<p>There’s a different <a href=\"/education-maintenance-allowance-ema\">scheme in Wales, Scotland and Northern Ireland</a>.</p>\\n</div>\\n\\n<h2 id=\"if-youre-19-and-over\">If you’re 19 and over</h2>\\n\\n<p>You could also get a bursary if you either:</p>\\n\\n<ul>\\n  <li>are continuing on a course you started aged 16 to 18 (known as being a ’19+ continuer’)</li>\\n  <li>have an <a href=\"/children-with-special-educational-needs/extra-SEN-help\">Education, Health and Care Plan (EHCP)</a>\\n</li>\\n</ul>\\n\\n<h2 id=\"what-a-bursary-is-for\">What a bursary is for</h2>\\n<p>A bursary is money that you, or your education or training provider, can use to pay for things like:</p>\\n\\n<ul>\\n  <li>clothing, books and other equipment for your course</li>\\n  <li>transport and lunch on days you study or train</li>\\n</ul>\\n\\n'}]},\n",
       " {'title': \"What you'll get\",\n",
       "  'slug': 'what-youll-get',\n",
       "  'body': [{'content_type': 'text/govspeak',\n",
       "    'content': \"There are 2 types of 16 to 19 bursary. \\r\\n \\r\\n##Bursary for students in vulnerable groups \\r\\nYou could get a bursary worth up to £1,200, depending on [your circumstances and benefits](/1619-bursary-fund/eligibility). \\r\\n\\r\\n\\r\\n##Discretionary bursary\\r\\nYou could get a discretionary bursary if you need financial help but do not qualify for a bursary for students in vulnerable groups. Your education or training provider decides how much you get and what it's used for. \\r\\n\\r\\n^If you're over 19, you'll only be eligible for a discretionary bursary.\\r\\n\\r\\n##How your bursary is paid\\r\\nYour provider will decide how you get your bursary. You might be: \\r\\n\\r\\n+ paid in full or in instalments\\r\\n+ paid in cash, by cheque or through a bank account \\r\\n+ given things like a travel pass, free meals or books instead of money\\r\\n\\r\\nSome providers also offer one-off payments to cover study trips or travel for university interviews.\\r\\n\\r\\n%Your provider could stop payments if you break their rules, for example about attendance or how your bursary is used.% \\r\\n\\r\\n\"},\n",
       "   {'content_type': 'text/html',\n",
       "    'content': '<p>There are 2 types of 16 to 19 bursary.</p>\\n\\n<h2 id=\"bursary-for-students-in-vulnerable-groups\">Bursary for students in vulnerable groups</h2>\\n<p>You could get a bursary worth up to £1,200, depending on <a href=\"/1619-bursary-fund/eligibility\">your circumstances and benefits</a>.</p>\\n\\n<h2 id=\"discretionary-bursary\">Discretionary bursary</h2>\\n<p>You could get a discretionary bursary if you need financial help but do not qualify for a bursary for students in vulnerable groups. Your education or training provider decides how much you get and what it’s used for.</p>\\n\\n<div role=\"note\" aria-label=\"Information\" class=\"application-notice info-notice\">\\n<p>If you’re over 19, you’ll only be eligible for a discretionary bursary.</p>\\n</div>\\n\\n<h2 id=\"how-your-bursary-is-paid\">How your bursary is paid</h2>\\n<p>Your provider will decide how you get your bursary. You might be:</p>\\n\\n<ul>\\n  <li>paid in full or in instalments</li>\\n  <li>paid in cash, by cheque or through a bank account</li>\\n  <li>given things like a travel pass, free meals or books instead of money</li>\\n</ul>\\n\\n<p>Some providers also offer one-off payments to cover study trips or travel for university interviews.</p>\\n\\n<div role=\"note\" aria-label=\"Help\" class=\"application-notice help-notice\">\\n<p>Your provider could stop payments if you break their rules, for example about attendance or how your bursary is used.</p>\\n</div>\\n\\n'}]},\n",
       " {'title': 'Eligibility',\n",
       "  'slug': 'eligibility',\n",
       "  'body': [{'content_type': 'text/govspeak',\n",
       "    'content': \"You must:\\r\\n\\r\\n+ be at least 16 and under 19 on 31 August 2019\\r\\n+ study at a publicly funded school or college, or be on an unpaid training course  \\r\\n+ meet the residency requirements - your school or college can check this\\r\\n\\r\\n##Bursary for students in vulnerable groups \\r\\n\\r\\nYou could get up to £1,200 if at least one of the following applies: \\r\\n\\r\\n+ you're in or recently left local authority care\\r\\n+ you get Income Support or Universal Credit because you're financially supporting yourself \\r\\n+ you get Disability Living Allowance (DLA) in your name and either Employment and Support Allowance (ESA) or Universal Credit\\r\\n+ you get Personal Independence Payment (PIP) in your name and either ESA or Universal Credit\\r\\n\\r\\nYou may get the full amount if you have expenses and study full-time on a course of at least 30 weeks.\\r\\n\\r\\nYou’ll usually get less than the full amount, or no bursary, if one of the following apply:\\r\\n\\r\\n+ your course is shorter than 30 weeks\\r\\n+ you study part time\\r\\n+ you have few expenses\\r\\n\\r\\nYou’ll be told what evidence you need, for example benefit letters.\\r\\n\\r\\n##Discretionary bursary \\r\\n\\r\\nYour school or college will have their own criteria for discretionary bursaries. They’ll look at your individual circumstances - this usually includes your family income.\\r\\n\\r\\nAsk student services about their criteria and any evidence you'll need.\\r\\n\\r\\nYou can apply to a discretionary bursary if you're over 19 and either:  \\r\\n\\r\\n* continuing on a course you started aged 16 to 18 (known as being a ‘19+ continuer’)  \\r\\n* have an [Education, Health and Care Plan (EHCP)](/children-with-special-educational-needs/extra-SEN-help)\\r\\n\\r\\n*[ESA]: Employment and Support Allowance\\r\\n*[DLA]: Disability Living Allowance\\r\\n*[PIP]: Personal Independence Payment\\r\\n\"},\n",
       "   {'content_type': 'text/html',\n",
       "    'content': '<p>You must:</p>\\n\\n<ul>\\n  <li>be at least 16 and under 19 on 31 August 2019</li>\\n  <li>study at a publicly funded school or college, or be on an unpaid training course</li>\\n  <li>meet the residency requirements - your school or college can check this</li>\\n</ul>\\n\\n<h2 id=\"bursary-for-students-in-vulnerable-groups\">Bursary for students in vulnerable groups</h2>\\n\\n<p>You could get up to £1,200 if at least one of the following applies:</p>\\n\\n<ul>\\n  <li>you’re in or recently left local authority care</li>\\n  <li>you get Income Support or Universal Credit because you’re financially supporting yourself</li>\\n  <li>you get Disability Living Allowance (<abbr title=\"Disability Living Allowance\">DLA</abbr>) in your name and either Employment and Support Allowance (<abbr title=\"Employment and Support Allowance\">ESA</abbr>) or Universal Credit</li>\\n  <li>you get Personal Independence Payment (<abbr title=\"Personal Independence Payment\">PIP</abbr>) in your name and either <abbr title=\"Employment and Support Allowance\">ESA</abbr> or Universal Credit</li>\\n</ul>\\n\\n<p>You may get the full amount if you have expenses and study full-time on a course of at least 30 weeks.</p>\\n\\n<p>You’ll usually get less than the full amount, or no bursary, if one of the following apply:</p>\\n\\n<ul>\\n  <li>your course is shorter than 30 weeks</li>\\n  <li>you study part time</li>\\n  <li>you have few expenses</li>\\n</ul>\\n\\n<p>You’ll be told what evidence you need, for example benefit letters.</p>\\n\\n<h2 id=\"discretionary-bursary\">Discretionary bursary</h2>\\n\\n<p>Your school or college will have their own criteria for discretionary bursaries. They’ll look at your individual circumstances - this usually includes your family income.</p>\\n\\n<p>Ask student services about their criteria and any evidence you’ll need.</p>\\n\\n<p>You can apply to a discretionary bursary if you’re over 19 and either:</p>\\n\\n<ul>\\n  <li>continuing on a course you started aged 16 to 18 (known as being a ‘19+ continuer’)</li>\\n  <li>have an <a href=\"/children-with-special-educational-needs/extra-SEN-help\">Education, Health and Care Plan (EHCP)</a>\\n</li>\\n</ul>\\n\\n'}]},\n",
       " {'title': 'How to claim',\n",
       "  'slug': 'how-to-claim',\n",
       "  'body': [{'content_type': 'text/govspeak',\n",
       "    'content': \"Apply to your school, college or training provider. Ask student services or your tutor to explain what you need to do.\\r\\n\\r\\n##When to apply\\r\\nApply once you know where you’ll study or train, so you'll get your bursary as soon as possible.\\r\\n\\r\\nYou might need to reapply for a bursary for each year of your course. Check with your provider.\\r\\n\\r\\n\"},\n",
       "   {'content_type': 'text/html',\n",
       "    'content': '<p>Apply to your school, college or training provider. Ask student services or your tutor to explain what you need to do.</p>\\n\\n<h2 id=\"when-to-apply\">When to apply</h2>\\n<p>Apply once you know where you’ll study or train, so you’ll get your bursary as soon as possible.</p>\\n\\n<p>You might need to reapply for a bursary for each year of your course. Check with your provider.</p>\\n\\n'}]},\n",
       " {'title': 'Help',\n",
       "  'slug': 'further-information',\n",
       "  'body': [{'content_type': 'text/govspeak',\n",
       "    'content': 'Your tutor or student services can help you decide if you’re eligible for a bursary and explain how to apply. \\r\\n\\r\\n^Read more [detailed guidance](https://www.gov.uk/guidance/advice-for-young-people-16-to-19-bursary-fund-guide) on the 16 to 19 Bursary Fund.^\\r\\n\\r\\n[Contact the Education and Skills Funding Agency (ESFA)](https://form.education.gov.uk/en/AchieveForms/?form_uri=sandbox-publish://AF-Process-f9f4f5a1-936f-448b-bbeb-9dcdd595f468/AF-Stage-8aa41278-3cdd-45a3-ad87-80cbffb8b992/definition.json&redirectlink=%2Fen&cancelRedirectLink=%2Fen&consentMessage=yes) if your tutor or student services cannot answer your question.\\r\\n\\r\\n\\r\\n##You think a decision is unfair\\r\\nSpeak to student services if you’re unhappy with a decision. Follow their complaints process if you cannot resolve the problem. \\r\\n\\r\\n##Emergencies and hardship\\r\\nYou might be able to get more support if your circumstances change or you have an emergency. Your provider might also have a separate hardship fund. Speak to student services if you need extra help. \\r\\n\\r\\n*[ESFA]: Education and Skills Funding Agency'},\n",
       "   {'content_type': 'text/html',\n",
       "    'content': '<p>Your tutor or student services can help you decide if you’re eligible for a bursary and explain how to apply.</p>\\n\\n<div role=\"note\" aria-label=\"Information\" class=\"application-notice info-notice\">\\n<p>Read more <a href=\"https://www.gov.uk/guidance/advice-for-young-people-16-to-19-bursary-fund-guide\">detailed guidance</a> on the 16 to 19 Bursary Fund.</p>\\n</div>\\n\\n<p><a rel=\"external\" href=\"https://form.education.gov.uk/en/AchieveForms/?form_uri=sandbox-publish://AF-Process-f9f4f5a1-936f-448b-bbeb-9dcdd595f468/AF-Stage-8aa41278-3cdd-45a3-ad87-80cbffb8b992/definition.json&amp;redirectlink=%2Fen&amp;cancelRedirectLink=%2Fen&amp;consentMessage=yes\">Contact the Education and Skills Funding Agency (<abbr title=\"Education and Skills Funding Agency\">ESFA</abbr>)</a> if your tutor or student services cannot answer your question.</p>\\n\\n<h2 id=\"you-think-a-decision-is-unfair\">You think a decision is unfair</h2>\\n<p>Speak to student services if you’re unhappy with a decision. Follow their complaints process if you cannot resolve the problem.</p>\\n\\n<h2 id=\"emergencies-and-hardship\">Emergencies and hardship</h2>\\n<p>You might be able to get more support if your circumstances change or you have an emergency. Your provider might also have a separate hardship fund. Speak to student services if you need extra help.</p>\\n\\n'}]}]"
      ]
     },
     "execution_count": 17,
     "metadata": {},
     "output_type": "execute_result"
    }
   ],
   "source": [
    "### this condition on a dictionary element is very useful\n",
    "parts_test = df[df.details.apply(lambda x: \"parts\" in x.keys())].iloc[0].details['parts']\n",
    "parts_test"
   ]
  },
  {
   "cell_type": "code",
   "execution_count": 18,
   "metadata": {},
   "outputs": [],
   "source": [
    "def flatten_dict(parts_dict):\n",
    "    return {item['slug']:\"\".join([b['content'] for b in item['body']]) for item in parts_dict}    "
   ]
  },
  {
   "cell_type": "code",
   "execution_count": 19,
   "metadata": {},
   "outputs": [
    {
     "data": {
      "text/plain": [
       "'You could get a bursary to help with education-related costs if you’re aged 16 to 19 and: \\r\\n\\r\\n+ stud'"
      ]
     },
     "execution_count": 19,
     "metadata": {},
     "output_type": "execute_result"
    }
   ],
   "source": [
    "flatten_dict(parts_test)['overview'][0:100]"
   ]
  },
  {
   "cell_type": "code",
   "execution_count": 20,
   "metadata": {},
   "outputs": [],
   "source": [
    "df['details_parts'] = df['details'].map(lambda x: flatten_dict(x['parts']) \n",
    "                                        if 'parts' in x.keys() \n",
    "                                          else np.nan)"
   ]
  },
  {
   "cell_type": "code",
   "execution_count": 21,
   "metadata": {},
   "outputs": [],
   "source": [
    "df['eligibility_html'] = df['details_parts'].map(lambda x: x.get('eligibility',np.nan) \n",
    "                                                 if not isinstance(x,float) else np.nan)"
   ]
  },
  {
   "cell_type": "code",
   "execution_count": 22,
   "metadata": {},
   "outputs": [],
   "source": [
    "df_welig = df[~df['eligibility_html'].isna()]"
   ]
  },
  {
   "cell_type": "code",
   "execution_count": 23,
   "metadata": {},
   "outputs": [],
   "source": [
    "elig_texts = dict(zip(df_welig.base_path, df_welig.eligibility_html))"
   ]
  },
  {
   "cell_type": "code",
   "execution_count": 24,
   "metadata": {},
   "outputs": [],
   "source": [
    "elig_urls = [f'https://www.gov.uk{bp}/eligibility' for bp in df_welig.base_path.values]"
   ]
  },
  {
   "cell_type": "code",
   "execution_count": 25,
   "metadata": {},
   "outputs": [
    {
     "name": "stdout",
     "output_type": "stream",
     "text": [
      "https://www.gov.uk/1619-bursary-fund/eligibility\n",
      "https://www.gov.uk/additional-state-pension/eligibility\n"
     ]
    }
   ],
   "source": [
    "for u in elig_urls[0:2]:\n",
    "    print(u)"
   ]
  },
  {
   "cell_type": "code",
   "execution_count": null,
   "metadata": {},
   "outputs": [],
   "source": [
    "rowlist = []\n",
    "for key,value in list(elig_texts.items()):\n",
    "\n",
    "    if \"This fund is currently closed.\" not in value:\n",
    "#         \\s?\\d\\d\\s?(and|or)?\\s?(over|under)?(\\s\\d\\d)?\n",
    "        search = re.finditer(\"\"\".*(born on|(reached|over|under) State Pension age|\n",
    "                             age(d)?|('re|were|are|be( at least)?|have been)\\s?(over|under)?\\d\\d).*\"\"\", value)\n",
    "        if search is not None:\n",
    "#             print(f'https://www.gov.uk{key}/eligibility')\n",
    "            for i,s in enumerate(search):\n",
    "                start = s.start()\n",
    "                end = s.end()\n",
    "#                 print(f'At {i}: ({start},{end})')\n",
    "                text = value[start:end]\n",
    "#                 print(text)\n",
    "                rowlist.append({'base_path':key, \n",
    "                                'instance #':int(i+1),\n",
    "                                'start':start,\n",
    "                                'end':end,\n",
    "                                'age_text':value[start:end],\n",
    "                                'text':value})\n",
    "        else:\n",
    "            rowlist.append({'base_path':key, 'age_text':'Age requirements not detected',\n",
    "                           'text':value})\n",
    "            \n",
    "    else:\n",
    "#         print(f'https://www.gov.uk{key}/eligibility')\n",
    "#         print(\"closed\")\n",
    "        rowlist.append({'base_path':key, 'age_text':'Fund closed','text':value})\n",
    "df_eligibility = pd.DataFrame(rowlist)\n",
    "df_eligibility = df_eligibility[['base_path', 'text','instance #', 'start', 'end','age_text']]"
   ]
  },
  {
   "cell_type": "code",
   "execution_count": null,
   "metadata": {},
   "outputs": [],
   "source": [
    "base_title = dict(zip(df.base_path,df.title))"
   ]
  },
  {
   "cell_type": "code",
   "execution_count": null,
   "metadata": {},
   "outputs": [],
   "source": [
    "df_eligibility['title'] = df_eligibility['base_path'].map(base_title)\n",
    "df_eligibility['base_path'] = df_eligibility['base_path'].map(lambda x: \n",
    "                                                              f'https://www.gov.uk{x}/eligibility')"
   ]
  },
  {
   "cell_type": "code",
   "execution_count": null,
   "metadata": {},
   "outputs": [],
   "source": [
    "df_eligibility = df_eligibility[['base_path', 'title',\n",
    "                                 'text','instance #', 'start', 'end','age_text']]"
   ]
  },
  {
   "cell_type": "code",
   "execution_count": null,
   "metadata": {},
   "outputs": [],
   "source": [
    "df_eligibility.head()"
   ]
  },
  {
   "cell_type": "code",
   "execution_count": null,
   "metadata": {},
   "outputs": [],
   "source": [
    "eligibility_path = os.path.join(DATA_DIR, \"eligibility_guides_text.csv\")\n",
    "df_eligibility.to_csv(eligibility_path, index=False)"
   ]
  }
 ],
 "metadata": {
  "kernelspec": {
   "display_name": "Python 3",
   "language": "python",
   "name": "python3"
  },
  "language_info": {
   "codemirror_mode": {
    "name": "ipython",
    "version": 3
   },
   "file_extension": ".py",
   "mimetype": "text/x-python",
   "name": "python",
   "nbconvert_exporter": "python",
   "pygments_lexer": "ipython3",
   "version": "3.6.0"
  }
 },
 "nbformat": 4,
 "nbformat_minor": 2
}
