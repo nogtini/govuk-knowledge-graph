{
 "cells": [
  {
   "cell_type": "markdown",
   "metadata": {},
   "source": [
    "There exist mentions of elibility requirements in page text, some in specialized `Eligibility` sections, others within the context of `smart_answers` or `answer` document_types. With a focus on age requirements, extract stuff out."
   ]
  },
  {
   "cell_type": "code",
   "execution_count": 74,
   "metadata": {},
   "outputs": [],
   "source": [
    "import os\n",
    "import pandas as pd\n",
    "import numpy as np\n",
    "import re\n",
    "from ast import literal_eval\n",
    "from pprint import pprint"
   ]
  },
  {
   "cell_type": "code",
   "execution_count": 10,
   "metadata": {},
   "outputs": [],
   "source": [
    "DATA_DIR = os.getenv(\"DATA_DIR\")\n",
    "content_path = os.path.join(DATA_DIR, \n",
    "                            \"preprocessed_content_store_wdetails_june_en_june.csv.gz\")\n",
    "df = pd.read_csv(content_path, compression=\"gzip\")"
   ]
  },
  {
   "cell_type": "code",
   "execution_count": 11,
   "metadata": {},
   "outputs": [
    {
     "data": {
      "text/html": [
       "<div>\n",
       "<style scoped>\n",
       "    .dataframe tbody tr th:only-of-type {\n",
       "        vertical-align: middle;\n",
       "    }\n",
       "\n",
       "    .dataframe tbody tr th {\n",
       "        vertical-align: top;\n",
       "    }\n",
       "\n",
       "    .dataframe thead th {\n",
       "        text-align: right;\n",
       "    }\n",
       "</style>\n",
       "<table border=\"1\" class=\"dataframe\">\n",
       "  <thead>\n",
       "    <tr style=\"text-align: right;\">\n",
       "      <th></th>\n",
       "      <th>base_path</th>\n",
       "      <th>content_id</th>\n",
       "      <th>title</th>\n",
       "      <th>description</th>\n",
       "      <th>document_type</th>\n",
       "      <th>details</th>\n",
       "      <th>orgs_id</th>\n",
       "      <th>orgs_title</th>\n",
       "      <th>sbs_details</th>\n",
       "      <th>pages_part_of_step_nav</th>\n",
       "      <th>text</th>\n",
       "      <th>taxons</th>\n",
       "      <th>locale</th>\n",
       "    </tr>\n",
       "  </thead>\n",
       "  <tbody>\n",
       "    <tr>\n",
       "      <th>0</th>\n",
       "      <td>/aaib-reports/aaib-investigation-to-hawker-sea...</td>\n",
       "      <td>96eacfbe-0385-45ef-9289-8428dacad258</td>\n",
       "      <td>AAIB investigation to Hawker Sea Fury T MK 20,...</td>\n",
       "      <td>Engine failure and landing gear collapse, RNAS...</td>\n",
       "      <td>aaib_report</td>\n",
       "      <td>{'body': [{'content_type': 'text/govspeak', 'c...</td>\n",
       "      <td>{'organisations': ['38eb5d8f-2d89-480c-8655-e2...</td>\n",
       "      <td>{'organisations': ['Air Accidents Investigatio...</td>\n",
       "      <td>NaN</td>\n",
       "      <td>NaN</td>\n",
       "      <td>Summary: The aircraft was performing in a publ...</td>\n",
       "      <td>[{'title': 'Transport', 'content_id': 'a4038b2...</td>\n",
       "      <td>en</td>\n",
       "    </tr>\n",
       "    <tr>\n",
       "      <th>1</th>\n",
       "      <td>/aaib-reports/aaib-investigation-to-hph-glasfl...</td>\n",
       "      <td>1d697c99-b1d0-4855-b72d-a97d83a4fc91</td>\n",
       "      <td>AAIB investigation to HPH Glasflugel 304 eS, G...</td>\n",
       "      <td>Front Electric Sustainer (FES) battery fire du...</td>\n",
       "      <td>aaib_report</td>\n",
       "      <td>{'body': [{'content_type': 'text/govspeak', 'c...</td>\n",
       "      <td>{'organisations': ['38eb5d8f-2d89-480c-8655-e2...</td>\n",
       "      <td>{'organisations': ['Air Accidents Investigatio...</td>\n",
       "      <td>NaN</td>\n",
       "      <td>NaN</td>\n",
       "      <td>Summary: During a normal touchdown following a...</td>\n",
       "      <td>[{'title': 'Transport', 'content_id': 'a4038b2...</td>\n",
       "      <td>en</td>\n",
       "    </tr>\n",
       "    <tr>\n",
       "      <th>2</th>\n",
       "      <td>/aaib-reports/aaib-investigation-to-ikarus-c42...</td>\n",
       "      <td>5814334a-77d0-426e-8e78-ff2b05ea6322</td>\n",
       "      <td>AAIB investigation to Ikarus C42 FB UK, G-IKUS\\t</td>\n",
       "      <td>Aircraft crashed whilst avoiding a hedge when ...</td>\n",
       "      <td>aaib_report</td>\n",
       "      <td>{'body': [{'content_type': 'text/govspeak', 'c...</td>\n",
       "      <td>{'organisations': ['38eb5d8f-2d89-480c-8655-e2...</td>\n",
       "      <td>{'organisations': ['Air Accidents Investigatio...</td>\n",
       "      <td>NaN</td>\n",
       "      <td>NaN</td>\n",
       "      <td>Summary: The pilot was attempting to take off ...</td>\n",
       "      <td>[{'title': 'Transport', 'content_id': 'a4038b2...</td>\n",
       "      <td>en</td>\n",
       "    </tr>\n",
       "    <tr>\n",
       "      <th>3</th>\n",
       "      <td>/aaib-reports/aaib-investigation-to-ikarus-c42...</td>\n",
       "      <td>c8f31c76-eab0-4be6-95a5-5e6e7f32056c</td>\n",
       "      <td>AAIB investigation to Ikarus C42 FB100, G-CEHG\\t</td>\n",
       "      <td>Overturned on landing, Farm Strip, Hardwicke, ...</td>\n",
       "      <td>aaib_report</td>\n",
       "      <td>{'body': [{'content_type': 'text/govspeak', 'c...</td>\n",
       "      <td>{'organisations': ['38eb5d8f-2d89-480c-8655-e2...</td>\n",
       "      <td>{'organisations': ['Air Accidents Investigatio...</td>\n",
       "      <td>NaN</td>\n",
       "      <td>NaN</td>\n",
       "      <td>Summary: G-CEHG was landing on a private airst...</td>\n",
       "      <td>[{'title': 'Transport', 'content_id': 'a4038b2...</td>\n",
       "      <td>en</td>\n",
       "    </tr>\n",
       "    <tr>\n",
       "      <th>4</th>\n",
       "      <td>/aaib-reports/aaib-investigation-to-ikarus-c42...</td>\n",
       "      <td>4cc0ae15-ad87-42ce-8a89-2bdb14e19e26</td>\n",
       "      <td>AAIB investigation to Ikarus C42 FB100, G-ZAVI</td>\n",
       "      <td>Aircraft struck sheep on landing, Lundy Island...</td>\n",
       "      <td>aaib_report</td>\n",
       "      <td>{'metadata': {'date_of_occurrence': '2014-06-2...</td>\n",
       "      <td>{'organisations': ['38eb5d8f-2d89-480c-8655-e2...</td>\n",
       "      <td>{'organisations': ['Air Accidents Investigatio...</td>\n",
       "      <td>NaN</td>\n",
       "      <td>NaN</td>\n",
       "      <td>Summary: The pilot reported that this was his ...</td>\n",
       "      <td>[{'title': 'Transport', 'content_id': 'a4038b2...</td>\n",
       "      <td>en</td>\n",
       "    </tr>\n",
       "  </tbody>\n",
       "</table>\n",
       "</div>"
      ],
      "text/plain": [
       "                                           base_path  \\\n",
       "0  /aaib-reports/aaib-investigation-to-hawker-sea...   \n",
       "1  /aaib-reports/aaib-investigation-to-hph-glasfl...   \n",
       "2  /aaib-reports/aaib-investigation-to-ikarus-c42...   \n",
       "3  /aaib-reports/aaib-investigation-to-ikarus-c42...   \n",
       "4  /aaib-reports/aaib-investigation-to-ikarus-c42...   \n",
       "\n",
       "                             content_id  \\\n",
       "0  96eacfbe-0385-45ef-9289-8428dacad258   \n",
       "1  1d697c99-b1d0-4855-b72d-a97d83a4fc91   \n",
       "2  5814334a-77d0-426e-8e78-ff2b05ea6322   \n",
       "3  c8f31c76-eab0-4be6-95a5-5e6e7f32056c   \n",
       "4  4cc0ae15-ad87-42ce-8a89-2bdb14e19e26   \n",
       "\n",
       "                                               title  \\\n",
       "0  AAIB investigation to Hawker Sea Fury T MK 20,...   \n",
       "1  AAIB investigation to HPH Glasflugel 304 eS, G...   \n",
       "2   AAIB investigation to Ikarus C42 FB UK, G-IKUS\\t   \n",
       "3   AAIB investigation to Ikarus C42 FB100, G-CEHG\\t   \n",
       "4     AAIB investigation to Ikarus C42 FB100, G-ZAVI   \n",
       "\n",
       "                                         description document_type  \\\n",
       "0  Engine failure and landing gear collapse, RNAS...   aaib_report   \n",
       "1  Front Electric Sustainer (FES) battery fire du...   aaib_report   \n",
       "2  Aircraft crashed whilst avoiding a hedge when ...   aaib_report   \n",
       "3  Overturned on landing, Farm Strip, Hardwicke, ...   aaib_report   \n",
       "4  Aircraft struck sheep on landing, Lundy Island...   aaib_report   \n",
       "\n",
       "                                             details  \\\n",
       "0  {'body': [{'content_type': 'text/govspeak', 'c...   \n",
       "1  {'body': [{'content_type': 'text/govspeak', 'c...   \n",
       "2  {'body': [{'content_type': 'text/govspeak', 'c...   \n",
       "3  {'body': [{'content_type': 'text/govspeak', 'c...   \n",
       "4  {'metadata': {'date_of_occurrence': '2014-06-2...   \n",
       "\n",
       "                                             orgs_id  \\\n",
       "0  {'organisations': ['38eb5d8f-2d89-480c-8655-e2...   \n",
       "1  {'organisations': ['38eb5d8f-2d89-480c-8655-e2...   \n",
       "2  {'organisations': ['38eb5d8f-2d89-480c-8655-e2...   \n",
       "3  {'organisations': ['38eb5d8f-2d89-480c-8655-e2...   \n",
       "4  {'organisations': ['38eb5d8f-2d89-480c-8655-e2...   \n",
       "\n",
       "                                          orgs_title sbs_details  \\\n",
       "0  {'organisations': ['Air Accidents Investigatio...         NaN   \n",
       "1  {'organisations': ['Air Accidents Investigatio...         NaN   \n",
       "2  {'organisations': ['Air Accidents Investigatio...         NaN   \n",
       "3  {'organisations': ['Air Accidents Investigatio...         NaN   \n",
       "4  {'organisations': ['Air Accidents Investigatio...         NaN   \n",
       "\n",
       "  pages_part_of_step_nav                                               text  \\\n",
       "0                    NaN  Summary: The aircraft was performing in a publ...   \n",
       "1                    NaN  Summary: During a normal touchdown following a...   \n",
       "2                    NaN  Summary: The pilot was attempting to take off ...   \n",
       "3                    NaN  Summary: G-CEHG was landing on a private airst...   \n",
       "4                    NaN  Summary: The pilot reported that this was his ...   \n",
       "\n",
       "                                              taxons locale  \n",
       "0  [{'title': 'Transport', 'content_id': 'a4038b2...     en  \n",
       "1  [{'title': 'Transport', 'content_id': 'a4038b2...     en  \n",
       "2  [{'title': 'Transport', 'content_id': 'a4038b2...     en  \n",
       "3  [{'title': 'Transport', 'content_id': 'a4038b2...     en  \n",
       "4  [{'title': 'Transport', 'content_id': 'a4038b2...     en  "
      ]
     },
     "execution_count": 11,
     "metadata": {},
     "output_type": "execute_result"
    }
   ],
   "source": [
    "df.head()"
   ]
  },
  {
   "cell_type": "code",
   "execution_count": 14,
   "metadata": {},
   "outputs": [],
   "source": [
    "df['details'] = df['details'].map(literal_eval)"
   ]
  },
  {
   "cell_type": "code",
   "execution_count": 60,
   "metadata": {},
   "outputs": [
    {
     "data": {
      "text/plain": [
       "('overview',\n",
       " 'You could get a bursary to help with education-related costs if you’re aged 16 to 19 and: \\r\\n\\r\\n+ stud')"
      ]
     },
     "execution_count": 60,
     "metadata": {},
     "output_type": "execute_result"
    }
   ],
   "source": [
    "parts_test = df[~df.details_parts.isna()].details_parts.iloc[0]\n",
    "parts_test[0]['slug'], parts_test[0]['body'][0]['content'][0:100]"
   ]
  },
  {
   "cell_type": "code",
   "execution_count": 61,
   "metadata": {},
   "outputs": [],
   "source": [
    "def flatten_dict(parts_dict):\n",
    "    if \n",
    "    return {item['slug']:\"\".join([b['content'] for b in item['body']]) for item in parts_dict}    "
   ]
  },
  {
   "cell_type": "code",
   "execution_count": 63,
   "metadata": {},
   "outputs": [
    {
     "data": {
      "text/plain": [
       "'You could get a bursary to help with education-related costs if you’re aged 16 to 19 and: \\r\\n\\r\\n+ stud'"
      ]
     },
     "execution_count": 63,
     "metadata": {},
     "output_type": "execute_result"
    }
   ],
   "source": [
    "flatten_dict(parts_test)['overview'][0:100]"
   ]
  },
  {
   "cell_type": "code",
   "execution_count": 64,
   "metadata": {},
   "outputs": [],
   "source": [
    "df['details_parts'] = df['details'].map(lambda x: flatten_dict(x['parts']) \n",
    "                                        if 'parts' in x.keys() \n",
    "                                          else np.nan)"
   ]
  },
  {
   "cell_type": "code",
   "execution_count": 69,
   "metadata": {},
   "outputs": [],
   "source": [
    "df['eligibility_html'] = df['details_parts'].map(lambda x: x.get('eligibility',np.nan) \n",
    "                                                 if not isinstance(x,float) else np.nan)"
   ]
  },
  {
   "cell_type": "code",
   "execution_count": 89,
   "metadata": {},
   "outputs": [],
   "source": [
    "df_welig = df[~df['eligibility_html'].isna()]"
   ]
  },
  {
   "cell_type": "code",
   "execution_count": 90,
   "metadata": {},
   "outputs": [],
   "source": [
    "elig_texts = dict(zip(df_welig.base_path, df_welig.eligibility_html))"
   ]
  },
  {
   "cell_type": "code",
   "execution_count": 91,
   "metadata": {},
   "outputs": [],
   "source": [
    "elig_urls = [f'https://www.gov.uk{bp}/eligibility' for bp in df_welig.base_path.values]"
   ]
  },
  {
   "cell_type": "code",
   "execution_count": 92,
   "metadata": {},
   "outputs": [
    {
     "name": "stdout",
     "output_type": "stream",
     "text": [
      "https://www.gov.uk/1619-bursary-fund/eligibility\n",
      "https://www.gov.uk/additional-state-pension/eligibility\n"
     ]
    }
   ],
   "source": [
    "for u in elig_urls[0:2]:\n",
    "    print(u)"
   ]
  },
  {
   "cell_type": "code",
   "execution_count": 241,
   "metadata": {},
   "outputs": [],
   "source": [
    "rowlist = []\n",
    "for key,value in list(elig_texts.items()):\n",
    "\n",
    "    if \"This fund is currently closed.\" not in value:\n",
    "#         \\s?\\d\\d\\s?(and|or)?\\s?(over|under)?(\\s\\d\\d)?\n",
    "        search = re.finditer(\"\"\".*(born on|(reached|over|under) State Pension age|\n",
    "                             age(d)?|('re|were|are|be( at least)?|have been)\\s?(over|under)?\\d\\d).*\"\"\", value)\n",
    "        if search is not None:\n",
    "#             print(f'https://www.gov.uk{key}/eligibility')\n",
    "            for i,s in enumerate(search):\n",
    "                start = s.start()\n",
    "                end = s.end()\n",
    "#                 print(f'At {i}: ({start},{end})')\n",
    "                text = value[start:end]\n",
    "#                 print(text)\n",
    "                rowlist.append({'base_path':key, \n",
    "                                'instance #':int(i+1),\n",
    "                                'start':start,\n",
    "                                'end':end,\n",
    "                                'age_text':value[start:end],\n",
    "                                'text':value})\n",
    "        else:\n",
    "            rowlist.append({'base_path':key, 'age_text':'Age requirements not detected',\n",
    "                           'text':value})\n",
    "            \n",
    "    else:\n",
    "#         print(f'https://www.gov.uk{key}/eligibility')\n",
    "#         print(\"closed\")\n",
    "        rowlist.append({'base_path':key, 'age_text':'Fund closed','text':value})\n",
    "df_eligibility = pd.DataFrame(rowlist)\n",
    "df_eligibility = df_eligibility[['base_path', 'text','instance #', 'start', 'end','age_text']]"
   ]
  },
  {
   "cell_type": "code",
   "execution_count": 242,
   "metadata": {},
   "outputs": [],
   "source": [
    "base_title = dict(zip(df.base_path,df.title))"
   ]
  },
  {
   "cell_type": "code",
   "execution_count": 247,
   "metadata": {},
   "outputs": [],
   "source": [
    "df_eligibility['title'] = df_eligibility['base_path'].map(base_title)\n",
    "df_eligibility['base_path'] = df_eligibility['base_path'].map(lambda x: \n",
    "                                                              f'https://www.gov.uk{x}/eligibility')"
   ]
  },
  {
   "cell_type": "code",
   "execution_count": 248,
   "metadata": {},
   "outputs": [],
   "source": [
    "df_eligibility = df_eligibility[['base_path', 'title',\n",
    "                                 'text','instance #', 'start', 'end','age_text']]"
   ]
  },
  {
   "cell_type": "code",
   "execution_count": 250,
   "metadata": {},
   "outputs": [
    {
     "data": {
      "text/html": [
       "<div>\n",
       "<style scoped>\n",
       "    .dataframe tbody tr th:only-of-type {\n",
       "        vertical-align: middle;\n",
       "    }\n",
       "\n",
       "    .dataframe tbody tr th {\n",
       "        vertical-align: top;\n",
       "    }\n",
       "\n",
       "    .dataframe thead th {\n",
       "        text-align: right;\n",
       "    }\n",
       "</style>\n",
       "<table border=\"1\" class=\"dataframe\">\n",
       "  <thead>\n",
       "    <tr style=\"text-align: right;\">\n",
       "      <th></th>\n",
       "      <th>base_path</th>\n",
       "      <th>title</th>\n",
       "      <th>text</th>\n",
       "      <th>instance #</th>\n",
       "      <th>start</th>\n",
       "      <th>end</th>\n",
       "      <th>age_text</th>\n",
       "    </tr>\n",
       "  </thead>\n",
       "  <tbody>\n",
       "    <tr>\n",
       "      <th>0</th>\n",
       "      <td>https://www.gov.uk/1619-bursary-fund/eligibility</td>\n",
       "      <td>16 to 19 Bursary Fund</td>\n",
       "      <td>You must:\\r\\n\\r\\n+ be at least 16 and under 19...</td>\n",
       "      <td>1.0</td>\n",
       "      <td>13.0</td>\n",
       "      <td>61.0</td>\n",
       "      <td>+ be at least 16 and under 19 on 31 August 2019\\r</td>\n",
       "    </tr>\n",
       "    <tr>\n",
       "      <th>1</th>\n",
       "      <td>https://www.gov.uk/1619-bursary-fund/eligibility</td>\n",
       "      <td>16 to 19 Bursary Fund</td>\n",
       "      <td>You must:\\r\\n\\r\\n+ be at least 16 and under 19...</td>\n",
       "      <td>2.0</td>\n",
       "      <td>1772.0</td>\n",
       "      <td>1828.0</td>\n",
       "      <td>&lt;li&gt;be at least 16 and under 19 on 31 August...</td>\n",
       "    </tr>\n",
       "    <tr>\n",
       "      <th>2</th>\n",
       "      <td>https://www.gov.uk/additional-state-pension/el...</td>\n",
       "      <td>Additional State Pension</td>\n",
       "      <td>##You reached State Pension age on or after 6 ...</td>\n",
       "      <td>1.0</td>\n",
       "      <td>0.0</td>\n",
       "      <td>57.0</td>\n",
       "      <td>##You reached State Pension age on or after 6 ...</td>\n",
       "    </tr>\n",
       "    <tr>\n",
       "      <th>3</th>\n",
       "      <td>https://www.gov.uk/additional-state-pension/el...</td>\n",
       "      <td>Additional State Pension</td>\n",
       "      <td>##You reached State Pension age on or after 6 ...</td>\n",
       "      <td>2.0</td>\n",
       "      <td>250.0</td>\n",
       "      <td>303.0</td>\n",
       "      <td>##You reached State Pension age before 6 April...</td>\n",
       "    </tr>\n",
       "    <tr>\n",
       "      <th>4</th>\n",
       "      <td>https://www.gov.uk/additional-state-pension/el...</td>\n",
       "      <td>Additional State Pension</td>\n",
       "      <td>##You reached State Pension age on or after 6 ...</td>\n",
       "      <td>3.0</td>\n",
       "      <td>306.0</td>\n",
       "      <td>523.0</td>\n",
       "      <td>If you reached State Pension age before 6 Apri...</td>\n",
       "    </tr>\n",
       "  </tbody>\n",
       "</table>\n",
       "</div>"
      ],
      "text/plain": [
       "                                           base_path  \\\n",
       "0   https://www.gov.uk/1619-bursary-fund/eligibility   \n",
       "1   https://www.gov.uk/1619-bursary-fund/eligibility   \n",
       "2  https://www.gov.uk/additional-state-pension/el...   \n",
       "3  https://www.gov.uk/additional-state-pension/el...   \n",
       "4  https://www.gov.uk/additional-state-pension/el...   \n",
       "\n",
       "                      title  \\\n",
       "0     16 to 19 Bursary Fund   \n",
       "1     16 to 19 Bursary Fund   \n",
       "2  Additional State Pension   \n",
       "3  Additional State Pension   \n",
       "4  Additional State Pension   \n",
       "\n",
       "                                                text  instance #   start  \\\n",
       "0  You must:\\r\\n\\r\\n+ be at least 16 and under 19...         1.0    13.0   \n",
       "1  You must:\\r\\n\\r\\n+ be at least 16 and under 19...         2.0  1772.0   \n",
       "2  ##You reached State Pension age on or after 6 ...         1.0     0.0   \n",
       "3  ##You reached State Pension age on or after 6 ...         2.0   250.0   \n",
       "4  ##You reached State Pension age on or after 6 ...         3.0   306.0   \n",
       "\n",
       "      end                                           age_text  \n",
       "0    61.0  + be at least 16 and under 19 on 31 August 2019\\r  \n",
       "1  1828.0    <li>be at least 16 and under 19 on 31 August...  \n",
       "2    57.0  ##You reached State Pension age on or after 6 ...  \n",
       "3   303.0  ##You reached State Pension age before 6 April...  \n",
       "4   523.0  If you reached State Pension age before 6 Apri...  "
      ]
     },
     "execution_count": 250,
     "metadata": {},
     "output_type": "execute_result"
    }
   ],
   "source": [
    "df_eligibility.head()"
   ]
  },
  {
   "cell_type": "code",
   "execution_count": 251,
   "metadata": {},
   "outputs": [],
   "source": [
    "eligibility_path = os.path.join(DATA_DIR, \"eligibility_guides_text.csv\")\n",
    "df_eligibility.to_csv(eligibility_path, index=False)"
   ]
  },
  {
   "cell_type": "code",
   "execution_count": 144,
   "metadata": {},
   "outputs": [
    {
     "name": "stdout",
     "output_type": "stream",
     "text": [
      "array(['You must:\\r\\n\\r\\n+ be at least 16 and under 19 on 31 August 2019\\r\\n+ study at a publicly funded school or college, or be on an unpaid training course  \\r\\n+ meet the residency requirements - your school or college can check this\\r\\n\\r\\n##Bursary for students in vulnerable groups \\r\\n\\r\\nYou could get up to £1,200 if at least one of the following applies: \\r\\n\\r\\n+ you\\'re in or recently left local authority care\\r\\n+ you get Income Support or Universal Credit because you\\'re financially supporting yourself \\r\\n+ you get Disability Living Allowance (DLA) in your name and either Employment and Support Allowance (ESA) or Universal Credit\\r\\n+ you get Personal Independence Payment (PIP) in your name and either ESA or Universal Credit\\r\\n\\r\\nYou may get the full amount if you have expenses and study full-time on a course of at least 30 weeks.\\r\\n\\r\\nYou’ll usually get less than the full amount, or no bursary, if one of the following apply:\\r\\n\\r\\n+ your course is shorter than 30 weeks\\r\\n+ you study part time\\r\\n+ you have few expenses\\r\\n\\r\\nYou’ll be told what evidence you need, for example benefit letters.\\r\\n\\r\\n##Discretionary bursary \\r\\n\\r\\nYour school or college will have their own criteria for discretionary bursaries. They’ll look at your individual circumstances - this usually includes your family income.\\r\\n\\r\\nAsk student services about their criteria and any evidence you\\'ll need.\\r\\n\\r\\nYou can apply to a discretionary bursary if you\\'re over 19 and either:  \\r\\n\\r\\n* continuing on a course you started aged 16 to 18 (known as being a ‘19+ continuer’)  \\r\\n* have an [Education, Health and Care Plan (EHCP)](/children-with-special-educational-needs/extra-SEN-help)\\r\\n\\r\\n*[ESA]: Employment and Support Allowance\\r\\n*[DLA]: Disability Living Allowance\\r\\n*[PIP]: Personal Independence Payment\\r\\n<p>You must:</p>\\n\\n<ul>\\n  <li>be at least 16 and under 19 on 31 August 2019</li>\\n  <li>study at a publicly funded school or college, or be on an unpaid training course</li>\\n  <li>meet the residency requirements - your school or college can check this</li>\\n</ul>\\n\\n<h2 id=\"bursary-for-students-in-vulnerable-groups\">Bursary for students in vulnerable groups</h2>\\n\\n<p>You could get up to £1,200 if at least one of the following applies:</p>\\n\\n<ul>\\n  <li>you’re in or recently left local authority care</li>\\n  <li>you get Income Support or Universal Credit because you’re financially supporting yourself</li>\\n  <li>you get Disability Living Allowance (<abbr title=\"Disability Living Allowance\">DLA</abbr>) in your name and either Employment and Support Allowance (<abbr title=\"Employment and Support Allowance\">ESA</abbr>) or Universal Credit</li>\\n  <li>you get Personal Independence Payment (<abbr title=\"Personal Independence Payment\">PIP</abbr>) in your name and either <abbr title=\"Employment and Support Allowance\">ESA</abbr> or Universal Credit</li>\\n</ul>\\n\\n<p>You may get the full amount if you have expenses and study full-time on a course of at least 30 weeks.</p>\\n\\n<p>You’ll usually get less than the full amount, or no bursary, if one of the following apply:</p>\\n\\n<ul>\\n  <li>your course is shorter than 30 weeks</li>\\n  <li>you study part time</li>\\n  <li>you have few expenses</li>\\n</ul>\\n\\n<p>You’ll be told what evidence you need, for example benefit letters.</p>\\n\\n<h2 id=\"discretionary-bursary\">Discretionary bursary</h2>\\n\\n<p>Your school or college will have their own criteria for discretionary bursaries. They’ll look at your individual circumstances - this usually includes your family income.</p>\\n\\n<p>Ask student services about their criteria and any evidence you’ll need.</p>\\n\\n<p>You can apply to a discretionary bursary if you’re over 19 and either:</p>\\n\\n<ul>\\n  <li>continuing on a course you started aged 16 to 18 (known as being a ‘19+ continuer’)</li>\\n  <li>have an <a href=\"/children-with-special-educational-needs/extra-SEN-help\">Education, Health and Care Plan (EHCP)</a>\\n</li>\\n</ul>\\n\\n',\n",
      "       '##You reached State Pension age on or after 6 April 2016\\r\\n\\r\\nYou won\\'t get the Additional State Pension if you reached [State Pension age](/calculate-state-pension) on or after 6 April 2016. You\\'ll get the [new State Pension](/new-state-pension). \\r\\n\\r\\n##You reached State Pension age before 6 April 2016 \\r\\n\\r\\nIf you reached State Pension age before 6 April 2016 and started claiming the basic State Pension, you\\'ll automatically get any Additional State Pension you\\'re eligible for. There is no need to make a separate claim.\\r\\n \\r\\nYou may not get any Additional State Pension for periods when you were [contracted out](/additional-state-pension/contracting-out) of it.\\r\\n\\r\\n##When you have contributed to the Additional State Pension\\r\\n\\r\\nThe Additional State Pension is made up of 3 schemes. You might have contributed to more than one, depending on:\\r\\n\\r\\n- how long you\\'ve been working\\r\\n- whether you chose to top up your State Pension \\r\\n\\r\\n\\r\\nTime | Scheme | You contributed if \\r\\n- | - | -\\r\\n2002 to 2016 | State Second Pension | You were employed or claiming certain benefits \\r\\n1978 to 2002 | State Earnings-Related Pension Scheme (SERPS) | You were employed\\r\\n12 October 2015 to 5 April 2017 | State Pension top up | You reached State Pension age before 6 April 2016 and opted in\\r\\n\\r\\n###The State Second Pension since 2002\\r\\n\\r\\nYou contributed through your National Insurance contributions if at any time between 6 April 2002 and 5 April 2016 you were:\\r\\n\\r\\n- employed and earning at least the lower earnings limit - this was £5,824 in the 2015 to 2016 tax year\\r\\n- looking after children under 12 and claiming Child Benefit \\r\\n- caring for a sick or disabled person more than 20 hours a week and claiming Carer’s Credit \\r\\n- working as a registered foster carer and claiming Carer’s Credit \\r\\n- receiving certain other benefits due to illness or disability \\r\\n\\r\\n\\r\\n*[SERPS]: State Earnings-Related Pension Scheme\\r\\n<h2 id=\"you-reached-state-pension-age-on-or-after-6-april-2016\">You reached State Pension age on or after 6 April 2016</h2>\\n\\n<p>You won’t get the Additional State Pension if you reached <a href=\"/calculate-state-pension\">State Pension age</a> on or after 6 April 2016. You’ll get the <a href=\"/new-state-pension\">new State Pension</a>.</p>\\n\\n<h2 id=\"you-reached-state-pension-age-before-6-april-2016\">You reached State Pension age before 6 April 2016</h2>\\n\\n<p>If you reached State Pension age before 6 April 2016 and started claiming the basic State Pension, you’ll automatically get any Additional State Pension you’re eligible for. There is no need to make a separate claim.</p>\\n\\n<p>You may not get any Additional State Pension for periods when you were <a href=\"/additional-state-pension/contracting-out\">contracted out</a> of it.</p>\\n\\n<h2 id=\"when-you-have-contributed-to-the-additional-state-pension\">When you have contributed to the Additional State Pension</h2>\\n\\n<p>The Additional State Pension is made up of 3 schemes. You might have contributed to more than one, depending on:</p>\\n\\n<ul>\\n  <li>how long you’ve been working</li>\\n  <li>whether you chose to top up your State Pension</li>\\n</ul>\\n\\n<table>\\n  <thead>\\n    <tr>\\n      <th>Time</th>\\n      <th>Scheme</th>\\n      <th>You contributed if</th>\\n    </tr>\\n  </thead>\\n  <tbody>\\n    <tr>\\n      <td>2002 to 2016</td>\\n      <td>State Second Pension</td>\\n      <td>You were employed or claiming certain benefits</td>\\n    </tr>\\n    <tr>\\n      <td>1978 to 2002</td>\\n      <td>State Earnings-Related Pension Scheme (<abbr title=\"State Earnings-Related Pension Scheme\">SERPS</abbr>)</td>\\n      <td>You were employed</td>\\n    </tr>\\n    <tr>\\n      <td>12 October 2015 to 5 April 2017</td>\\n      <td>State Pension top up</td>\\n      <td>You reached State Pension age before 6 April 2016 and opted in</td>\\n    </tr>\\n  </tbody>\\n</table>\\n\\n<h3 id=\"the-state-second-pension-since-2002\">The State Second Pension since 2002</h3>\\n\\n<p>You contributed through your National Insurance contributions if at any time between 6 April 2002 and 5 April 2016 you were:</p>\\n\\n<ul>\\n  <li>employed and earning at least the lower earnings limit - this was £5,824 in the 2015 to 2016 tax year</li>\\n  <li>looking after children under 12 and claiming Child Benefit</li>\\n  <li>caring for a sick or disabled person more than 20 hours a week and claiming Carer’s Credit</li>\\n  <li>working as a registered foster carer and claiming Carer’s Credit</li>\\n  <li>receiving certain other benefits due to illness or disability</li>\\n</ul>\\n\\n',\n",
      "       '%This fund is currently closed. Find out if you can get help with disability-related expenses from the ‘[EnAble Fund for Elected Office](/government/news/fund-launched-to-support-disabled-candidates-stand-for-office)’ instead.%\\r\\n\\r\\nYou can apply to the Access to Elected Office Fund if:\\r\\n\\r\\n - you\\'re [eligible to stand for election](http://www.electoralcommission.org.uk/i-am-a/candidate-or-agent)\\r\\n - you can prove your disability, for example with a letter from a doctor \\r\\n - you can prove you’re involved or interested in civic, community or relevant activities, for example volunteering or student politics\\r\\n- your application is supported by a member of your political party, or an independent referee if you do not have a political party\\r\\n\\r\\n\\n<div role=\"note\" aria-label=\"Help\" class=\"application-notice help-notice\">\\n<p>This fund is currently closed. Find out if you can get help with disability-related expenses from the ‘<a href=\"/government/news/fund-launched-to-support-disabled-candidates-stand-for-office\">EnAble Fund for Elected Office</a>’ instead.</p>\\n</div>\\n\\n<p>You can apply to the Access to Elected Office Fund if:</p>\\n\\n<ul>\\n  <li>you’re <a rel=\"external\" href=\"http://www.electoralcommission.org.uk/i-am-a/candidate-or-agent\">eligible to stand for election</a>\\n</li>\\n  <li>you can prove your disability, for example with a letter from a doctor</li>\\n  <li>you can prove you’re involved or interested in civic, community or relevant activities, for example volunteering or student politics</li>\\n  <li>your application is supported by a member of your political party, or an independent referee if you do not have a political party</li>\\n</ul>\\n\\n',\n",
      "       'To get help from Access to Work you must: \\r\\n\\r\\n- have a disability or health condition (physical or mental) that makes it hard for you to do parts of your job or get to and from work\\r\\n- be 16 or over\\r\\n- live in England, Scotland or Wales - there\\'s a different system in [Northern Ireland](http://www.nidirect.gov.uk/index/information-and-services/people-with-disabilities/employment-support/work-schemes-and-programmes/access-to-work-practical-help-at-work.htm)\\r\\n\\r\\nYou also need to have a paid job, or be about to start or return to one. A paid job could include:\\r\\n\\r\\n- self-employment\\r\\n- an apprenticeship\\r\\n- a work trial or work experience\\r\\n- an internship\\r\\n\\r\\nYou cannot get a grant for voluntary work.\\r\\n\\r\\nYour job must be based in England, Scotland or Wales.\\r\\n\\r\\nYou cannot get Access to Work if you live in the Channel Islands or the Isle of Man. \\r\\n\\r\\n##If you get other benefits\\r\\n\\r\\nCertain benefits may affect whether you can get an Access to Work grant. \\r\\n\\r\\n###Universal Credit, Jobseeker\\'s Allowance or Income Support\\r\\n\\r\\nYou can still get help from Access to Work if you work more than one hour a week.\\r\\n\\r\\n###Employment and Support Allowance\\r\\n\\r\\nYou can only get help from Access to Work if you\\'re doing \\'permitted work\\'. It\\'s permitted work if all of the following apply:\\r\\n\\r\\n- you earn up to £131.50 a week\\r\\n- you work less than 16 hours a week\\r\\n- it\\'s been agreed with your work coach<p>To get help from Access to Work you must:</p>\\n\\n<ul>\\n  <li>have a disability or health condition (physical or mental) that makes it hard for you to do parts of your job or get to and from work</li>\\n  <li>be 16 or over</li>\\n  <li>live in England, Scotland or Wales - there’s a different system in <a rel=\"external\" href=\"http://www.nidirect.gov.uk/index/information-and-services/people-with-disabilities/employment-support/work-schemes-and-programmes/access-to-work-practical-help-at-work.htm\">Northern Ireland</a>\\n</li>\\n</ul>\\n\\n<p>You also need to have a paid job, or be about to start or return to one. A paid job could include:</p>\\n\\n<ul>\\n  <li>self-employment</li>\\n  <li>an apprenticeship</li>\\n  <li>a work trial or work experience</li>\\n  <li>an internship</li>\\n</ul>\\n\\n<p>You cannot get a grant for voluntary work.</p>\\n\\n<p>Your job must be based in England, Scotland or Wales.</p>\\n\\n<p>You cannot get Access to Work if you live in the Channel Islands or the Isle of Man.</p>\\n\\n<h2 id=\"if-you-get-other-benefits\">If you get other benefits</h2>\\n\\n<p>Certain benefits may affect whether you can get an Access to Work grant.</p>\\n\\n<h3 id=\"universal-credit-jobseekers-allowance-or-income-support\">Universal Credit, Jobseeker’s Allowance or Income Support</h3>\\n\\n<p>You can still get help from Access to Work if you work more than one hour a week.</p>\\n\\n<h3 id=\"employment-and-support-allowance\">Employment and Support Allowance</h3>\\n\\n<p>You can only get help from Access to Work if you’re doing ‘permitted work’. It’s permitted work if all of the following apply:</p>\\n\\n<ul>\\n  <li>you earn up to £131.50 a week</li>\\n  <li>you work less than 16 hours a week</li>\\n  <li>it’s been agreed with your work coach</li>\\n</ul>\\n',\n",
      "       'You can get Attendance Allowance if you\\'ve reached [State Pension age](/state-pension-age) and the following apply:\\r\\n\\r\\n- you have a physical disability (including sensory disability, for example blindness), a mental disability (including learning difficulties), or both \\r\\n- your disability is severe enough for you to need help caring for yourself or someone to supervise you, for your own or someone else’s safety \\r\\n- you have needed that help for at least 6 months (unless you\\'re terminally ill)\\r\\n\\r\\nYou must also:  \\r\\n\\r\\n- be in Great Britain when you claim - there are some exceptions, such as members and family members of the armed forces\\r\\n- have been in Great Britain for at least 2 of the last 3 years (this does not apply if you’re a refugee or have humanitarian protection status) \\r\\n- be [habitually resident](http://www.carersuk.org/help-and-advice/financial-support/help-with-benefits/attendance-allowance#sec9) in the UK, Ireland, Isle of Man or the Channel Islands\\r\\n- not be subject to [immigration control](http://www.adviceguide.org.uk/england/benefits_e/benefits_coming_from_abroad_and_claiming_benefits_hrt/non-eea_nationals_and_the_hrt/are_you_subject_to_immigration_control_hrt.htm) (unless you\\'re a sponsored immigrant)\\r\\n\\r\\nThere are some exceptions to these conditions if you\\'re [living in another European Economic Area (EEA) country or Switzerland](/claim-benefits-abroad).\\r\\n\\r\\n##If you\\'re terminally ill\\r\\n\\r\\nIf you\\'re not expected to live for more than 6 months, there are \\'special rules\\':\\r\\n\\r\\n- there\\'s no qualifying period for how long you\\'ve had your illness\\r\\n- if you\\'re eligible, you\\'ll automatically get the [higher rate](/attendance-allowance/what-youll-get) of Attendance Allowance \\r\\n\\r\\n##If you\\'re in a care home\\r\\n\\r\\nYou cannot usually get Attendance Allowance if you live in a care home and your care is paid for by your local authority. You can still claim Attendance Allowance if you pay for all your care home costs yourself.\\r\\n\\r\\n##If you need an assessment\\r\\n\\r\\nYou\\'ll only need to attend an assessment to check your eligibility if it\\'s unclear how your illness or disability affects you.\\r\\n\\r\\nIf you do need an assessment you\\'ll get a letter saying why and where you must go. During the assessment, a healthcare professional will need to examine you.\\r\\n\\r\\n^You cannot get Attendance Allowance if you already get [Disability Living Allowance (DLA)](/dla-disability-living-allowance-benefit) or [Personal Independence Payment (PIP)](/pip).^\\r\\n\\r\\n*[EEA]: European Economic Area<p>You can get Attendance Allowance if you’ve reached <a href=\"/state-pension-age\">State Pension age</a> and the following apply:</p>\\n\\n<ul>\\n  <li>you have a physical disability (including sensory disability, for example blindness), a mental disability (including learning difficulties), or both</li>\\n  <li>your disability is severe enough for you to need help caring for yourself or someone to supervise you, for your own or someone else’s safety</li>\\n  <li>you have needed that help for at least 6 months (unless you’re terminally ill)</li>\\n</ul>\\n\\n<p>You must also:</p>\\n\\n<ul>\\n  <li>be in Great Britain when you claim - there are some exceptions, such as members and family members of the armed forces</li>\\n  <li>have been in Great Britain for at least 2 of the last 3 years (this does not apply if you’re a refugee or have humanitarian protection status)</li>\\n  <li>be <a rel=\"external\" href=\"http://www.carersuk.org/help-and-advice/financial-support/help-with-benefits/attendance-allowance#sec9\">habitually resident</a> in the UK, Ireland, Isle of Man or the Channel Islands</li>\\n  <li>not be subject to <a rel=\"external\" href=\"http://www.adviceguide.org.uk/england/benefits_e/benefits_coming_from_abroad_and_claiming_benefits_hrt/non-eea_nationals_and_the_hrt/are_you_subject_to_immigration_control_hrt.htm\">immigration control</a> (unless you’re a sponsored immigrant)</li>\\n</ul>\\n\\n<p>There are some exceptions to these conditions if you’re <a href=\"/claim-benefits-abroad\">living in another European Economic Area (<abbr title=\"European Economic Area\">EEA</abbr>) country or Switzerland</a>.</p>\\n\\n<h2 id=\"if-youre-terminally-ill\">If you’re terminally ill</h2>\\n\\n<p>If you’re not expected to live for more than 6 months, there are ‘special rules’:</p>\\n\\n<ul>\\n  <li>there’s no qualifying period for how long you’ve had your illness</li>\\n  <li>if you’re eligible, you’ll automatically get the <a href=\"/attendance-allowance/what-youll-get\">higher rate</a> of Attendance Allowance</li>\\n</ul>\\n\\n<h2 id=\"if-youre-in-a-care-home\">If you’re in a care home</h2>\\n\\n<p>You cannot usually get Attendance Allowance if you live in a care home and your care is paid for by your local authority. You can still claim Attendance Allowance if you pay for all your care home costs yourself.</p>\\n\\n<h2 id=\"if-you-need-an-assessment\">If you need an assessment</h2>\\n\\n<p>You’ll only need to attend an assessment to check your eligibility if it’s unclear how your illness or disability affects you.</p>\\n\\n<p>If you do need an assessment you’ll get a letter saying why and where you must go. During the assessment, a healthcare professional will need to examine you.</p>\\n\\n<div role=\"note\" aria-label=\"Information\" class=\"application-notice info-notice\">\\n<p>You cannot get Attendance Allowance if you already get <a href=\"/dla-disability-living-allowance-benefit\">Disability Living Allowance (DLA)</a> or <a href=\"/pip\">Personal Independence Payment (PIP)</a>.</p>\\n</div>\\n\\n',\n",
      "       'To take an [MOT testing course](/become-an-mot-tester/mot-testing-course) you must: \\r\\n\\r\\n- have a current and full UK driving licence for the vehicle classes you want to test \\r\\n- be a skilled mechanic with at least 4 years\\' full-time employment servicing and repairing the types of vehicles you\\'re going to test \\r\\n- have no [unspent convictions](/exoffenders-and-employment) for criminal offences connected with MOT testing or the motor trade, or involving acts of violence or intimidation\\r\\n- be \\'of good repute\\' - the Driver and Vehicle Standards Agency will decide this to make sure you\\'re suitable to be an MOT tester\\r\\n\\r\\nTo become a class 3 or 5 MOT tester you must also have already:\\r\\n\\r\\n+ got a [level 2 testing certificate](/become-an-mot-tester/mot-testing-course) in class 4 and 7 vehicles (group B)\\r\\n+ passed an MOT demonstration test after getting your level 2 certificate\\r\\n\\r\\n## Qualifications or accreditations you need\\r\\n\\r\\nYou must have an accepted qualification or accreditation if you want to test class 3, 4, 5 or 7 vehicles (cars, private buses and light commercial vehicles). \\r\\n\\r\\nThese qualifications and accreditations are accepted. \\r\\n\\r\\n###National Vocational Qualifications (NVQs), Scottish Vocational Qualifications (SVQs) and Vocationally Related Qualifications (VRQs) \\r\\n\\r\\nYou can take the MOT testing course if you have a VRQ, NVQ or SVQ in:\\r\\n\\r\\n- Vehicle Mechanical and Electronic Systems, Maintenance and Repair (light vehicle or heavy vehicle), level 3\\r\\n- Vehicle Technician, Vehicle Maintenance and Repair (light vehicle or heavy vehicle), level 3\\r\\n\\r\\n###City and Guilds\\r\\n\\r\\nYou can take the MOT testing course if you have a City and Guilds qualification in:\\r\\n\\r\\n- Automotive Qualification, NVQ level 3\\r\\n- Repair and Servicing of Road Vehicles, 383 (full level 2 or 3)\\r\\n- Motor Vehicle Craft Studies, modular - part 3 (requires 3 modules)\\r\\n- Motor Vehicle Craft Studies, 381 (full part 2 or 3)\\r\\n- Motor Vehicle Craft Studies, pre 381 syllabus (full part 2)\\r\\n- Light or Heavy Vehicle Mechanics Craft Studies (full part 2 or 3)\\r\\n- Motor Vehicle Technician\\'s Certificate (full part 1)\\r\\n\\r\\n###Other qualifications\\r\\n\\r\\nYou can also take the MOT testing course if you have one of these qualifications:\\r\\n\\r\\n- IMI level 3 National Diploma in Vehicle Maintenance and Repair (light vehicle or heavy vehicle)\\r\\n- National Craft Certification with a specialism of Vehicle Maintenance and Electronic Systems\\r\\n- Business and Technology Education Council (BTEC), National Certificate or Ordinary National Certificate (ONC) in Motor Vehicle Engineering studies\\r\\n- Scottish Vocational Educational Council National Certificate in Vehicle Mechanics and Systems (part 3)\\r\\n\\r\\n^ Equivalent qualifications may also be accepted. Check with an [MOT course provider](/become-an-mot-tester/mot-testing-course) if your qualification will be accepted. ^\\r\\n\\r\\n### Accreditations\\r\\n\\r\\nYou can take the MOT testing course if you have an Institute of the Motor Industry (IMI) Accreditation or Automotive Technician Accreditation (ATA) in:\\r\\n\\r\\n- Light Vehicle Diagnostic Technician \\r\\n- Light Vehicle Inspection Technician\\r\\n\\r\\nYou must also have a valid IMI or ATA accreditation ID card. You’ll have received this when you got your qualification. \\r\\n\\r\\nYou can also take the course if you have either: \\r\\n\\r\\n+ an ABC Awards Accreditation in Vehicle Technician Accredited Assessment  \\r\\n+ a City and Guild Pre-Vehicle Testing Assessment (3428-01)  \\r\\n\\r\\n*[DVSA]: Driver and Vehicle Standards Agency\\r\\n*[ATT]: Automative Technician Accreditation\\r\\n*[ONC]: Ordinary National Certificate\\r\\n*[BTEC]: Business and Technology Education Council\\r\\n*[ATA]: Automotive Technician Accreditation\\r\\n*[IMI]: Insittute of the Motor Industry\\r\\n*[NVQs]: National Vocational Qualifications \\r\\n*[SVQs]: Scottish Vocational Qualifications \\r\\n*[VRQs]: Vocationally Related Qualifications\\r\\n*[NVQ]: National Vocational Qualification \\r\\n*[SVQ]: Scottish Vocational Qualification \\r\\n*[VRQ]: Vocationally Related Qualification<p>To take an <a href=\"/become-an-mot-tester/mot-testing-course\">MOT testing course</a> you must:</p>\\n\\n<ul>\\n  <li>have a current and full UK driving licence for the vehicle classes you want to test</li>\\n  <li>be a skilled mechanic with at least 4 years’ full-time employment servicing and repairing the types of vehicles you’re going to test</li>\\n  <li>have no <a href=\"/exoffenders-and-employment\">unspent convictions</a> for criminal offences connected with MOT testing or the motor trade, or involving acts of violence or intimidation</li>\\n  <li>be ‘of good repute’ - the Driver and Vehicle Standards Agency will decide this to make sure you’re suitable to be an MOT tester</li>\\n</ul>\\n\\n<p>To become a class 3 or 5 MOT tester you must also have already:</p>\\n\\n<ul>\\n  <li>got a <a href=\"/become-an-mot-tester/mot-testing-course\">level 2 testing certificate</a> in class 4 and 7 vehicles (group B)</li>\\n  <li>passed an MOT demonstration test after getting your level 2 certificate</li>\\n</ul>\\n\\n<h2 id=\"qualifications-or-accreditations-you-need\">Qualifications or accreditations you need</h2>\\n\\n<p>You must have an accepted qualification or accreditation if you want to test class 3, 4, 5 or 7 vehicles (cars, private buses and light commercial vehicles).</p>\\n\\n<p>These qualifications and accreditations are accepted.</p>\\n\\n<h3 id=\"national-vocational-qualifications-nvqs-scottish-vocational-qualifications-svqs-and-vocationally-related-qualifications-vrqs\">National Vocational Qualifications (<abbr title=\"National Vocational Qualifications\">NVQs</abbr>), Scottish Vocational Qualifications (<abbr title=\"Scottish Vocational Qualifications\">SVQs</abbr>) and Vocationally Related Qualifications (<abbr title=\"Vocationally Related Qualifications\">VRQs</abbr>)</h3>\\n\\n<p>You can take the MOT testing course if you have a <abbr title=\"Vocationally Related Qualification\">VRQ</abbr>, <abbr title=\"National Vocational Qualification\">NVQ</abbr> or <abbr title=\"Scottish Vocational Qualification\">SVQ</abbr> in:</p>\\n\\n<ul>\\n  <li>Vehicle Mechanical and Electronic Systems, Maintenance and Repair (light vehicle or heavy vehicle), level 3</li>\\n  <li>Vehicle Technician, Vehicle Maintenance and Repair (light vehicle or heavy vehicle), level 3</li>\\n</ul>\\n\\n<h3 id=\"city-and-guilds\">City and Guilds</h3>\\n\\n<p>You can take the MOT testing course if you have a City and Guilds qualification in:</p>\\n\\n<ul>\\n  <li>Automotive Qualification, <abbr title=\"National Vocational Qualification\">NVQ</abbr> level 3</li>\\n  <li>Repair and Servicing of Road Vehicles, 383 (full level 2 or 3)</li>\\n  <li>Motor Vehicle Craft Studies, modular - part 3 (requires 3 modules)</li>\\n  <li>Motor Vehicle Craft Studies, 381 (full part 2 or 3)</li>\\n  <li>Motor Vehicle Craft Studies, pre 381 syllabus (full part 2)</li>\\n  <li>Light or Heavy Vehicle Mechanics Craft Studies (full part 2 or 3)</li>\\n  <li>Motor Vehicle Technician’s Certificate (full part 1)</li>\\n</ul>\\n\\n<h3 id=\"other-qualifications\">Other qualifications</h3>\\n\\n<p>You can also take the MOT testing course if you have one of these qualifications:</p>\\n\\n<ul>\\n  <li>\\n<abbr title=\"Insittute of the Motor Industry\">IMI</abbr> level 3 National Diploma in Vehicle Maintenance and Repair (light vehicle or heavy vehicle)</li>\\n  <li>National Craft Certification with a specialism of Vehicle Maintenance and Electronic Systems</li>\\n  <li>Business and Technology Education Council (<abbr title=\"Business and Technology Education Council\">BTEC</abbr>), National Certificate or Ordinary National Certificate (<abbr title=\"Ordinary National Certificate\">ONC</abbr>) in Motor Vehicle Engineering studies</li>\\n  <li>Scottish Vocational Educational Council National Certificate in Vehicle Mechanics and Systems (part 3)</li>\\n</ul>\\n\\n<div role=\"note\" aria-label=\"Information\" class=\"application-notice info-notice\">\\n<p>Equivalent qualifications may also be accepted. Check with an <a href=\"/become-an-mot-tester/mot-testing-course\">MOT course provider</a> if your qualification will be accepted.</p>\\n</div>\\n\\n<h3 id=\"accreditations\">Accreditations</h3>\\n\\n<p>You can take the MOT testing course if you have an Institute of the Motor Industry (<abbr title=\"Insittute of the Motor Industry\">IMI</abbr>) Accreditation or Automotive Technician Accreditation (<abbr title=\"Automotive Technician Accreditation\">ATA</abbr>) in:</p>\\n\\n<ul>\\n  <li>Light Vehicle Diagnostic Technician</li>\\n  <li>Light Vehicle Inspection Technician</li>\\n</ul>\\n\\n<p>You must also have a valid <abbr title=\"Insittute of the Motor Industry\">IMI</abbr> or <abbr title=\"Automotive Technician Accreditation\">ATA</abbr> accreditation ID card. You’ll have received this when you got your qualification.</p>\\n\\n<p>You can also take the course if you have either:</p>\\n\\n<ul>\\n  <li>an ABC Awards Accreditation in Vehicle Technician Accredited Assessment</li>\\n  <li>a City and Guild Pre-Vehicle Testing Assessment (3428-01)</li>\\n</ul>\\n\\n',\n",
      "       'You may get Bereavement Allowance if all the following apply:\\r\\n\\r\\n- your husband, wife or civil partner died before 6 April 2017\\r\\n- you were 45 or over when your husband, wife or civil partner died\\r\\n- you\\'re under [State Pension age](/calculate-state-pension)\\r\\n- your late husband, wife or civil partner paid National Insurance contributions, or they died as a result of an industrial accident or disease\\r\\n\\r\\n^If your spouse or civil partner died on or after 6 April 2017 you may be eligible for [Bereavement Support Payment](/bereavement-support-payment) instead.^\\r\\n\\r\\nYou will not get Bereavement Allowance if you:\\r\\n\\r\\n- are bringing up children - you can claim [Widowed Parent\\'s Allowance](/widowed-parents-allowance) instead\\r\\n- remarry or form a new civil partnership\\r\\n- live with another person as if you\\'re married or in a civil partnership\\r\\n- were divorced from your husband, wife or civil partner before their death\\r\\n- were over State Pension age when you were widowed or became a surviving civil partner - you may be able to get extra [State Pension](/state-pension/how-to-claim)\\r\\n- are in prison\\r\\n\\r\\n^Use a [benefits calculator](/benefits-calculators) to check your eligibility.^\\r\\n\\r\\n##Other bereavement benefits\\r\\n\\r\\nYou may also be eligible for a [Bereavement Payment](/bereavement-payment).\\r\\n\\r\\nYou do not have to apply more than once - you\\'ll be considered for all bereavement benefits when you apply for one.\\r\\n\\r\\n##If you live abroad  \\r\\n\\r\\nContact the International Pension Centre to find out if you can claim if you’ve moved abroad.\\r\\n\\r\\n$C\\r\\n**International Pension Centre**  \\r\\nTelephone: +44 191 21 87608  \\r\\n[Find out about call charges](/call-charges)\\r\\n$C\\r\\n\\r\\n$A\\r\\nDepartment for Work and Pensions  \\r\\nBereavement and widows’ benefits \\r\\nInternational Pension Centre  \\r\\nTyneview Park  \\r\\nNewcastle-upon-Tyne  \\r\\nNE98 1BA\\r\\n$A\\r\\n\\r\\nYou must include your:\\r\\n\\r\\n- full name \\r\\n- date of birth\\r\\n- National Insurance number (if you know it)\\r\\n<p>You may get Bereavement Allowance if all the following apply:</p>\\n\\n<ul>\\n  <li>your husband, wife or civil partner died before 6 April 2017</li>\\n  <li>you were 45 or over when your husband, wife or civil partner died</li>\\n  <li>you’re under <a href=\"/calculate-state-pension\">State Pension age</a>\\n</li>\\n  <li>your late husband, wife or civil partner paid National Insurance contributions, or they died as a result of an industrial accident or disease</li>\\n</ul>\\n\\n<div role=\"note\" aria-label=\"Information\" class=\"application-notice info-notice\">\\n<p>If your spouse or civil partner died on or after 6 April 2017 you may be eligible for <a href=\"/bereavement-support-payment\">Bereavement Support Payment</a> instead.</p>\\n</div>\\n\\n<p>You will not get Bereavement Allowance if you:</p>\\n\\n<ul>\\n  <li>are bringing up children - you can claim <a href=\"/widowed-parents-allowance\">Widowed Parent’s Allowance</a> instead</li>\\n  <li>remarry or form a new civil partnership</li>\\n  <li>live with another person as if you’re married or in a civil partnership</li>\\n  <li>were divorced from your husband, wife or civil partner before their death</li>\\n  <li>were over State Pension age when you were widowed or became a surviving civil partner - you may be able to get extra <a href=\"/state-pension/how-to-claim\">State Pension</a>\\n</li>\\n  <li>are in prison</li>\\n</ul>\\n\\n<div role=\"note\" aria-label=\"Information\" class=\"application-notice info-notice\">\\n<p>Use a <a href=\"/benefits-calculators\">benefits calculator</a> to check your eligibility.</p>\\n</div>\\n\\n<h2 id=\"other-bereavement-benefits\">Other bereavement benefits</h2>\\n\\n<p>You may also be eligible for a <a href=\"/bereavement-payment\">Bereavement Payment</a>.</p>\\n\\n<p>You do not have to apply more than once - you’ll be considered for all bereavement benefits when you apply for one.</p>\\n\\n<h2 id=\"if-you-live-abroad\">If you live abroad</h2>\\n\\n<p>Contact the International Pension Centre to find out if you can claim if you’ve moved abroad.</p>\\n\\n<div class=\"contact\">\\n<p><strong>International Pension Centre</strong><br>\\nTelephone: +44 191 21 87608<br>\\n<a href=\"/call-charges\">Find out about call charges</a></p>\\n</div>\\n\\n<div class=\"address\"><div class=\"adr org fn\"><p>\\n\\nDepartment for Work and Pensions  \\n<br>Bereavement and widows’ benefits \\n<br>International Pension Centre  \\n<br>Tyneview Park  \\n<br>Newcastle-upon-Tyne  \\n<br>NE98 1BA\\n<br>\\n</p></div></div>\\n\\n<p>You must include your:</p>\\n\\n<ul>\\n  <li>full name</li>\\n  <li>date of birth</li>\\n  <li>National Insurance number (if you know it)</li>\\n</ul>\\n',\n",
      "       'You may be able to get a £2,000 Bereavement Payment if your spouse or civil partner died before 6 April 2017. This is a one-off, tax-free, lump-sum payment.\\r\\n\\r\\n^If your spouse or civil partner died on or after 6 April 2017 you may be eligible for [Bereavement Support Payment](/bereavement-support-payment) instead.^\\r\\n\\r\\nYou may be able to get Bereavement Payment if, when your husband, wife or civil partner died, you were either: \\r\\n\\r\\n- under State Pension age\\r\\n- over State Pension age and your husband, wife or civil partner wasn\\'t entitled to a State Pension based on their own national insurance contributions\\r\\n\\r\\nAdditionally, your husband, wife or civil partner must have either:\\r\\n\\r\\n- paid enough National Insurance contributions\\r\\n- died because of an industrial accident or disease\\r\\n\\r\\n##When you can\\'t get Bereavement Payment \\r\\n\\r\\nYou can’t get Bereavement Payment if any of the following are true: \\r\\n\\r\\n+ you were divorced from your husband, wife or civil partner \\r\\n+ you’re living with another person as husband, wife or civil partner \\r\\n+ you’re in prison\\r\\n\\r\\n##Other bereavement benefits\\r\\n\\r\\nYou may also be eligible for:\\r\\n\\r\\n- [Widowed Parent\\'s Allowance](/widowed-parents-allowance) - if you\\'re bringing up children\\r\\n- [Bereavement Allowance](/bereavement-allowance)\\r\\n\\r\\nYou don\\'t have to apply more than once - you\\'ll be considered for all bereavement benefits when you apply for one.\\r\\n\\r\\n##If you\\'re abroad\\r\\n\\r\\nIf you\\'ve moved abroad contact the International Pension Centre to find out if you can claim.\\r\\n\\r\\n$C\\r\\n\\r\\n**Bereavement and widows’ benefits if you\\'re abroad**  \\r\\nTelephone: +44 191 21 87608  \\r\\n[Find out about call charges](/call-charges)\\r\\n\\r\\n$C\\r\\n\\r\\n$A\\r\\nDepartment for Work and Pensions  \\r\\nBereavement and widows’ benefits \\r\\nInternational Pension Centre  \\r\\nTyneview Park  \\r\\nNewcastle-upon-Tyne  \\r\\nNE98 1BA\\r\\n$A\\r\\n\\r\\nYou must include your:\\r\\n\\r\\n- full name\\r\\n- date of birth\\r\\n- [National Insurance number](/national-insurance/your-national-insurance-number)\\r\\n<p>You may be able to get a £2,000 Bereavement Payment if your spouse or civil partner died before 6 April 2017. This is a one-off, tax-free, lump-sum payment.</p>\\n\\n<div role=\"note\" aria-label=\"Information\" class=\"application-notice info-notice\">\\n<p>If your spouse or civil partner died on or after 6 April 2017 you may be eligible for <a href=\"/bereavement-support-payment\">Bereavement Support Payment</a> instead.</p>\\n</div>\\n\\n<p>You may be able to get Bereavement Payment if, when your husband, wife or civil partner died, you were either:</p>\\n\\n<ul>\\n  <li>under State Pension age</li>\\n  <li>over State Pension age and your husband, wife or civil partner wasn’t entitled to a State Pension based on their own national insurance contributions</li>\\n</ul>\\n\\n<p>Additionally, your husband, wife or civil partner must have either:</p>\\n\\n<ul>\\n  <li>paid enough National Insurance contributions</li>\\n  <li>died because of an industrial accident or disease</li>\\n</ul>\\n\\n<h2 id=\"when-you-cant-get-bereavement-payment\">When you can’t get Bereavement Payment</h2>\\n\\n<p>You can’t get Bereavement Payment if any of the following are true:</p>\\n\\n<ul>\\n  <li>you were divorced from your husband, wife or civil partner</li>\\n  <li>you’re living with another person as husband, wife or civil partner</li>\\n  <li>you’re in prison</li>\\n</ul>\\n\\n<h2 id=\"other-bereavement-benefits\">Other bereavement benefits</h2>\\n\\n<p>You may also be eligible for:</p>\\n\\n<ul>\\n  <li>\\n<a href=\"/widowed-parents-allowance\">Widowed Parent’s Allowance</a> - if you’re bringing up children</li>\\n  <li><a href=\"/bereavement-allowance\">Bereavement Allowance</a></li>\\n</ul>\\n\\n<p>You don’t have to apply more than once - you’ll be considered for all bereavement benefits when you apply for one.</p>\\n\\n<h2 id=\"if-youre-abroad\">If you’re abroad</h2>\\n\\n<p>If you’ve moved abroad contact the International Pension Centre to find out if you can claim.</p>\\n\\n<div class=\"contact\">\\n<p><strong>Bereavement and widows’ benefits if you’re abroad</strong><br>\\nTelephone: +44 191 21 87608<br>\\n<a href=\"/call-charges\">Find out about call charges</a></p>\\n</div>\\n\\n<div class=\"address\"><div class=\"adr org fn\"><p>\\n\\nDepartment for Work and Pensions  \\n<br>Bereavement and widows’ benefits \\n<br>International Pension Centre  \\n<br>Tyneview Park  \\n<br>Newcastle-upon-Tyne  \\n<br>NE98 1BA\\n<br>\\n</p></div></div>\\n\\n<p>You must include your:</p>\\n\\n<ul>\\n  <li>full name</li>\\n  <li>date of birth</li>\\n  <li><a href=\"/national-insurance/your-national-insurance-number\">National Insurance number</a></li>\\n</ul>\\n',\n",
      "       'You may be able to get Bereavement Support Payment if your husband, wife or civil partner died on or after 6 April 2017.\\r\\n\\r\\nYou could be eligible if your partner either:\\r\\n\\r\\n- paid National Insurance contributions for at least 25 weeks\\r\\n- died because of an accident at work or a disease caused by work\\r\\n\\r\\nWhen they died you must have been:\\r\\n\\r\\n- under State Pension age\\r\\n- living in the UK or a [country that pays bereavement benefits](/claim-benefits-abroad/bereavement-benefits)\\r\\n\\r\\nYou cannot claim Bereavement Support Payment if you\\'re in prison. \\r\\n\\r\\n## If your husband, wife or civil partner died before 6 April 2017\\r\\n\\r\\nYou may be able to get one or more of the following:\\r\\n\\r\\n- [Bereavement Payment](/bereavement-payment) (a one-off payment)\\r\\n- [Bereavement Allowance](/bereavement-allowance) (monthly payments)\\r\\n- [Widowed Parent\\'s Allowance](/widowed-parents-allowance) (if you\\'re bringing up children)<p>You may be able to get Bereavement Support Payment if your husband, wife or civil partner died on or after 6 April 2017.</p>\\n\\n<p>You could be eligible if your partner either:</p>\\n\\n<ul>\\n  <li>paid National Insurance contributions for at least 25 weeks</li>\\n  <li>died because of an accident at work or a disease caused by work</li>\\n</ul>\\n\\n<p>When they died you must have been:</p>\\n\\n<ul>\\n  <li>under State Pension age</li>\\n  <li>living in the UK or a <a href=\"/claim-benefits-abroad/bereavement-benefits\">country that pays bereavement benefits</a>\\n</li>\\n</ul>\\n\\n<p>You cannot claim Bereavement Support Payment if you’re in prison.</p>\\n\\n<h2 id=\"if-your-husband-wife-or-civil-partner-died-before-6-april-2017\">If your husband, wife or civil partner died before 6 April 2017</h2>\\n\\n<p>You may be able to get one or more of the following:</p>\\n\\n<ul>\\n  <li>\\n<a href=\"/bereavement-payment\">Bereavement Payment</a> (a one-off payment)</li>\\n  <li>\\n<a href=\"/bereavement-allowance\">Bereavement Allowance</a> (monthly payments)</li>\\n  <li>\\n<a href=\"/widowed-parents-allowance\">Widowed Parent’s Allowance</a> (if you’re bringing up children)</li>\\n</ul>\\n',\n",
      "       '##England and Wales\\r\\n\\r\\nYou can claim Blind Person\\'s Allowance if you\\'re registered with your local council as blind or severely sight impaired.\\r\\n\\r\\n##Scotland and Northern Ireland \\r\\n\\r\\nYou can claim Blind Person\\'s Allowance if you cannot do work for which eyesight is essential.<h2 id=\"england-and-wales\">England and Wales</h2>\\n\\n<p>You can claim Blind Person’s Allowance if you’re registered with your local council as blind or severely sight impaired.</p>\\n\\n<h2 id=\"scotland-and-northern-ireland\">Scotland and Northern Ireland</h2>\\n\\n<p>You can claim Blind Person’s Allowance if you cannot do work for which eyesight is essential.</p>\\n'],\n",
      "      dtype=object)\n"
     ]
    }
   ],
   "source": [
    "pprint(df_welig[0:10].eligibility_html.values)"
   ]
  }
 ],
 "metadata": {
  "kernelspec": {
   "display_name": "Python 3",
   "language": "python",
   "name": "python3"
  },
  "language_info": {
   "codemirror_mode": {
    "name": "ipython",
    "version": 3
   },
   "file_extension": ".py",
   "mimetype": "text/x-python",
   "name": "python",
   "nbconvert_exporter": "python",
   "pygments_lexer": "ipython3",
   "version": "3.6.0"
  }
 },
 "nbformat": 4,
 "nbformat_minor": 2
}
