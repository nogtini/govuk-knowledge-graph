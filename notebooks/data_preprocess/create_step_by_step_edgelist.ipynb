{
 "cells": [
  {
   "cell_type": "code",
   "execution_count": 59,
   "metadata": {},
   "outputs": [],
   "source": [
    "import os \n",
    "import pandas as pd\n",
    "import numpy as np\n",
    "from collections import Counter\n",
    "from ast import literal_eval\n",
    "import re"
   ]
  },
  {
   "cell_type": "code",
   "execution_count": 68,
   "metadata": {},
   "outputs": [],
   "source": [
    "DATA_DIR = os.getenv(\"DATA_DIR\")\n",
    "content_path = os.path.join(DATA_DIR, \"preprocessed_content_store_en_june.csv.gz\")\n",
    "map_path = os.path.join(DATA_DIR, \"base_path_cid_map.csv\")\n",
    "df = pd.read_csv(content_path, compression=\"gzip\")\n",
    "mappings = pd.read_csv(map_path)"
   ]
  },
  {
   "cell_type": "code",
   "execution_count": 69,
   "metadata": {},
   "outputs": [
    {
     "data": {
      "text/plain": [
       "Index(['base_path', 'content_id', 'title', 'description', 'document_type',\n",
       "       'orgs_id', 'orgs_title', 'sbs_details', 'pages_part_of_step_nav',\n",
       "       'text', 'taxons', 'locale'],\n",
       "      dtype='object')"
      ]
     },
     "execution_count": 69,
     "metadata": {},
     "output_type": "execute_result"
    }
   ],
   "source": [
    "df.columns"
   ]
  },
  {
   "cell_type": "code",
   "execution_count": 70,
   "metadata": {},
   "outputs": [
    {
     "name": "stdout",
     "output_type": "stream",
     "text": [
      "orgs_id\n",
      "orgs_title\n",
      "sbs_details\n",
      "pages_part_of_step_nav\n",
      "taxons\n"
     ]
    }
   ],
   "source": [
    "columns = ['orgs_id', 'orgs_title', 'sbs_details', 'pages_part_of_step_nav','taxons']\n",
    "for col in columns:\n",
    "    print(col)\n",
    "    df[col] = df[col].map(lambda x: literal_eval(x) if not isinstance(x,float) else np.nan)"
   ]
  },
  {
   "cell_type": "code",
   "execution_count": 71,
   "metadata": {},
   "outputs": [
    {
     "data": {
      "text/html": [
       "<div>\n",
       "<style scoped>\n",
       "    .dataframe tbody tr th:only-of-type {\n",
       "        vertical-align: middle;\n",
       "    }\n",
       "\n",
       "    .dataframe tbody tr th {\n",
       "        vertical-align: top;\n",
       "    }\n",
       "\n",
       "    .dataframe thead th {\n",
       "        text-align: right;\n",
       "    }\n",
       "</style>\n",
       "<table border=\"1\" class=\"dataframe\">\n",
       "  <thead>\n",
       "    <tr style=\"text-align: right;\">\n",
       "      <th></th>\n",
       "      <th>base_path</th>\n",
       "      <th>content_id</th>\n",
       "      <th>title</th>\n",
       "      <th>description</th>\n",
       "      <th>document_type</th>\n",
       "      <th>orgs_id</th>\n",
       "      <th>orgs_title</th>\n",
       "      <th>sbs_details</th>\n",
       "      <th>pages_part_of_step_nav</th>\n",
       "      <th>text</th>\n",
       "      <th>taxons</th>\n",
       "      <th>locale</th>\n",
       "    </tr>\n",
       "  </thead>\n",
       "  <tbody>\n",
       "    <tr>\n",
       "      <th>0</th>\n",
       "      <td>/aaib-reports/aaib-investigation-to-hawker-sea...</td>\n",
       "      <td>96eacfbe-0385-45ef-9289-8428dacad258</td>\n",
       "      <td>AAIB investigation to Hawker Sea Fury T MK 20,...</td>\n",
       "      <td>Engine failure and landing gear collapse, RNAS...</td>\n",
       "      <td>aaib_report</td>\n",
       "      <td>{'organisations': ['38eb5d8f-2d89-480c-8655-e2...</td>\n",
       "      <td>{'organisations': ['Air Accidents Investigatio...</td>\n",
       "      <td>NaN</td>\n",
       "      <td>NaN</td>\n",
       "      <td>Summary: The aircraft was performing in a publ...</td>\n",
       "      <td>[{'title': 'Transport', 'content_id': 'a4038b2...</td>\n",
       "      <td>en</td>\n",
       "    </tr>\n",
       "    <tr>\n",
       "      <th>1</th>\n",
       "      <td>/aaib-reports/aaib-investigation-to-hph-glasfl...</td>\n",
       "      <td>1d697c99-b1d0-4855-b72d-a97d83a4fc91</td>\n",
       "      <td>AAIB investigation to HPH Glasflugel 304 eS, G...</td>\n",
       "      <td>Front Electric Sustainer (FES) battery fire du...</td>\n",
       "      <td>aaib_report</td>\n",
       "      <td>{'organisations': ['38eb5d8f-2d89-480c-8655-e2...</td>\n",
       "      <td>{'organisations': ['Air Accidents Investigatio...</td>\n",
       "      <td>NaN</td>\n",
       "      <td>NaN</td>\n",
       "      <td>Summary: During a normal touchdown following a...</td>\n",
       "      <td>[{'title': 'Transport', 'content_id': 'a4038b2...</td>\n",
       "      <td>en</td>\n",
       "    </tr>\n",
       "    <tr>\n",
       "      <th>2</th>\n",
       "      <td>/aaib-reports/aaib-investigation-to-ikarus-c42...</td>\n",
       "      <td>5814334a-77d0-426e-8e78-ff2b05ea6322</td>\n",
       "      <td>AAIB investigation to Ikarus C42 FB UK, G-IKUS\\t</td>\n",
       "      <td>Aircraft crashed whilst avoiding a hedge when ...</td>\n",
       "      <td>aaib_report</td>\n",
       "      <td>{'organisations': ['38eb5d8f-2d89-480c-8655-e2...</td>\n",
       "      <td>{'organisations': ['Air Accidents Investigatio...</td>\n",
       "      <td>NaN</td>\n",
       "      <td>NaN</td>\n",
       "      <td>Summary: The pilot was attempting to take off ...</td>\n",
       "      <td>[{'title': 'Transport', 'content_id': 'a4038b2...</td>\n",
       "      <td>en</td>\n",
       "    </tr>\n",
       "    <tr>\n",
       "      <th>3</th>\n",
       "      <td>/aaib-reports/aaib-investigation-to-ikarus-c42...</td>\n",
       "      <td>c8f31c76-eab0-4be6-95a5-5e6e7f32056c</td>\n",
       "      <td>AAIB investigation to Ikarus C42 FB100, G-CEHG\\t</td>\n",
       "      <td>Overturned on landing, Farm Strip, Hardwicke, ...</td>\n",
       "      <td>aaib_report</td>\n",
       "      <td>{'organisations': ['38eb5d8f-2d89-480c-8655-e2...</td>\n",
       "      <td>{'organisations': ['Air Accidents Investigatio...</td>\n",
       "      <td>NaN</td>\n",
       "      <td>NaN</td>\n",
       "      <td>Summary: G-CEHG was landing on a private airst...</td>\n",
       "      <td>[{'title': 'Transport', 'content_id': 'a4038b2...</td>\n",
       "      <td>en</td>\n",
       "    </tr>\n",
       "    <tr>\n",
       "      <th>4</th>\n",
       "      <td>/aaib-reports/aaib-investigation-to-ikarus-c42...</td>\n",
       "      <td>4cc0ae15-ad87-42ce-8a89-2bdb14e19e26</td>\n",
       "      <td>AAIB investigation to Ikarus C42 FB100, G-ZAVI</td>\n",
       "      <td>Aircraft struck sheep on landing, Lundy Island...</td>\n",
       "      <td>aaib_report</td>\n",
       "      <td>{'organisations': ['38eb5d8f-2d89-480c-8655-e2...</td>\n",
       "      <td>{'organisations': ['Air Accidents Investigatio...</td>\n",
       "      <td>NaN</td>\n",
       "      <td>NaN</td>\n",
       "      <td>Summary: The pilot reported that this was his ...</td>\n",
       "      <td>[{'title': 'Transport', 'content_id': 'a4038b2...</td>\n",
       "      <td>en</td>\n",
       "    </tr>\n",
       "  </tbody>\n",
       "</table>\n",
       "</div>"
      ],
      "text/plain": [
       "                                           base_path  \\\n",
       "0  /aaib-reports/aaib-investigation-to-hawker-sea...   \n",
       "1  /aaib-reports/aaib-investigation-to-hph-glasfl...   \n",
       "2  /aaib-reports/aaib-investigation-to-ikarus-c42...   \n",
       "3  /aaib-reports/aaib-investigation-to-ikarus-c42...   \n",
       "4  /aaib-reports/aaib-investigation-to-ikarus-c42...   \n",
       "\n",
       "                             content_id  \\\n",
       "0  96eacfbe-0385-45ef-9289-8428dacad258   \n",
       "1  1d697c99-b1d0-4855-b72d-a97d83a4fc91   \n",
       "2  5814334a-77d0-426e-8e78-ff2b05ea6322   \n",
       "3  c8f31c76-eab0-4be6-95a5-5e6e7f32056c   \n",
       "4  4cc0ae15-ad87-42ce-8a89-2bdb14e19e26   \n",
       "\n",
       "                                               title  \\\n",
       "0  AAIB investigation to Hawker Sea Fury T MK 20,...   \n",
       "1  AAIB investigation to HPH Glasflugel 304 eS, G...   \n",
       "2   AAIB investigation to Ikarus C42 FB UK, G-IKUS\\t   \n",
       "3   AAIB investigation to Ikarus C42 FB100, G-CEHG\\t   \n",
       "4     AAIB investigation to Ikarus C42 FB100, G-ZAVI   \n",
       "\n",
       "                                         description document_type  \\\n",
       "0  Engine failure and landing gear collapse, RNAS...   aaib_report   \n",
       "1  Front Electric Sustainer (FES) battery fire du...   aaib_report   \n",
       "2  Aircraft crashed whilst avoiding a hedge when ...   aaib_report   \n",
       "3  Overturned on landing, Farm Strip, Hardwicke, ...   aaib_report   \n",
       "4  Aircraft struck sheep on landing, Lundy Island...   aaib_report   \n",
       "\n",
       "                                             orgs_id  \\\n",
       "0  {'organisations': ['38eb5d8f-2d89-480c-8655-e2...   \n",
       "1  {'organisations': ['38eb5d8f-2d89-480c-8655-e2...   \n",
       "2  {'organisations': ['38eb5d8f-2d89-480c-8655-e2...   \n",
       "3  {'organisations': ['38eb5d8f-2d89-480c-8655-e2...   \n",
       "4  {'organisations': ['38eb5d8f-2d89-480c-8655-e2...   \n",
       "\n",
       "                                          orgs_title sbs_details  \\\n",
       "0  {'organisations': ['Air Accidents Investigatio...         NaN   \n",
       "1  {'organisations': ['Air Accidents Investigatio...         NaN   \n",
       "2  {'organisations': ['Air Accidents Investigatio...         NaN   \n",
       "3  {'organisations': ['Air Accidents Investigatio...         NaN   \n",
       "4  {'organisations': ['Air Accidents Investigatio...         NaN   \n",
       "\n",
       "  pages_part_of_step_nav                                               text  \\\n",
       "0                    NaN  Summary: The aircraft was performing in a publ...   \n",
       "1                    NaN  Summary: During a normal touchdown following a...   \n",
       "2                    NaN  Summary: The pilot was attempting to take off ...   \n",
       "3                    NaN  Summary: G-CEHG was landing on a private airst...   \n",
       "4                    NaN  Summary: The pilot reported that this was his ...   \n",
       "\n",
       "                                              taxons locale  \n",
       "0  [{'title': 'Transport', 'content_id': 'a4038b2...     en  \n",
       "1  [{'title': 'Transport', 'content_id': 'a4038b2...     en  \n",
       "2  [{'title': 'Transport', 'content_id': 'a4038b2...     en  \n",
       "3  [{'title': 'Transport', 'content_id': 'a4038b2...     en  \n",
       "4  [{'title': 'Transport', 'content_id': 'a4038b2...     en  "
      ]
     },
     "execution_count": 71,
     "metadata": {},
     "output_type": "execute_result"
    }
   ],
   "source": [
    "df.head()"
   ]
  },
  {
   "cell_type": "markdown",
   "metadata": {},
   "source": [
    "### Create edgelist for `content_id` --> `step` (many to one)\n",
    "#### Order of steps from `sbs_details`, node/page info (`base_path`, `content_id`)"
   ]
  },
  {
   "cell_type": "code",
   "execution_count": 72,
   "metadata": {},
   "outputs": [],
   "source": [
    "example = df[~df.sbs_details.isna()].iloc[2]"
   ]
  },
  {
   "cell_type": "code",
   "execution_count": 73,
   "metadata": {},
   "outputs": [
    {
     "data": {
      "text/plain": [
       "base_path                           /apply-30-hours-free-tax-free-childcare\n",
       "content_id                             f517cd57-3c18-4bb9-aa8b-1b907e279bf9\n",
       "title                             Get 30 hours free childcare: step by step\n",
       "description               How to apply and get a code for 30 hours free ...\n",
       "document_type                                              step_by_step_nav\n",
       "orgs_id                   {'organisations': ['77c1621f-a392-4393-9d8c-99...\n",
       "orgs_title                {'organisations': ['Department for Education a...\n",
       "sbs_details               {'title': 'Get 30 hours free childcare: step b...\n",
       "pages_part_of_step_nav    [{'analytics_identifier': None, 'api_path': '/...\n",
       "text                                                                    NaN\n",
       "taxons                                                                  NaN\n",
       "locale                                                                   en\n",
       "Name: 11488, dtype: object"
      ]
     },
     "execution_count": 73,
     "metadata": {},
     "output_type": "execute_result"
    }
   ],
   "source": [
    "example"
   ]
  },
  {
   "cell_type": "code",
   "execution_count": 74,
   "metadata": {},
   "outputs": [
    {
     "data": {
      "text/plain": [
       "[{'title': \"Check you're eligible\",\n",
       "  'contents': [{'type': 'list',\n",
       "    'contents': [{'text': \"Check if you're eligible for 30 hours free childcare\",\n",
       "      'href': '/30-hours-free-childcare'},\n",
       "     {'text': 'Find out what types of childcare you can use',\n",
       "      'href': '/help-with-childcare-costs'}]}],\n",
       "  'optional': False},\n",
       " {'title': \"Check if you'll be better off\",\n",
       "  'contents': [{'type': 'paragraph',\n",
       "    'text': 'Getting 30 hours free childcare might affect how much you get in tax credits.'},\n",
       "   {'type': 'list',\n",
       "    'contents': [{'text': 'Check if you’ll be better off',\n",
       "      'href': '/childcare-calculator'}]}],\n",
       "  'optional': False},\n",
       " {'title': 'Apply for 30 hours free childcare',\n",
       "  'contents': [{'type': 'paragraph',\n",
       "    'text': \"There's one application for 30 hours free childcare and Tax-Free Childcare. As part of your application, you will find out if you can get both.\"},\n",
       "   {'type': 'list',\n",
       "    'contents': [{'text': 'Apply online',\n",
       "      'href': '/apply-30-hours-free-childcare'}]},\n",
       "   {'type': 'paragraph',\n",
       "    'text': \"If you're eligible you'll get a childcare account and a code for 30 hours free childcare.\"}],\n",
       "  'optional': False},\n",
       " {'title': 'Give your code to your childcare provider',\n",
       "  'contents': [{'type': 'paragraph',\n",
       "    'text': 'Give the code in your childcare account to your provider along with:'},\n",
       "   {'type': 'list',\n",
       "    'style': 'choice',\n",
       "    'contents': [{'text': 'your National Insurance number'},\n",
       "     {'text': \"your child's date of birth\"}]}],\n",
       "  'optional': False},\n",
       " {'title': 'Sign in to your account to reconfirm your details',\n",
       "  'contents': [{'type': 'paragraph',\n",
       "    'text': 'You must confirm your details are up to date every 3 months or your code will expire.'},\n",
       "   {'type': 'list',\n",
       "    'contents': [{'text': 'Sign in to your childcare account to confirm your details',\n",
       "      'href': '/sign-in-childcare-account'}]}],\n",
       "  'optional': False}]"
      ]
     },
     "execution_count": 74,
     "metadata": {},
     "output_type": "execute_result"
    }
   ],
   "source": [
    "example.sbs_details['steps']"
   ]
  },
  {
   "cell_type": "code",
   "execution_count": 94,
   "metadata": {},
   "outputs": [],
   "source": [
    "mappings['full_part_path'] = mappings[['base_path', 'part']].\\\n",
    "                                    apply(lambda x: \"/\".join(x) if not isinstance(x[1],float)\n",
    "                                         else x[0], axis=1)"
   ]
  },
  {
   "cell_type": "code",
   "execution_count": 95,
   "metadata": {},
   "outputs": [
    {
     "data": {
      "text/plain": [
       "array(['/aaib-reports/aaib-investigation-to-hawker-sea-fury-t-mk-20-g-rnhf',\n",
       "       '/aaib-reports/aaib-investigation-to-hph-glasflugel-304-es-g-gsgs',\n",
       "       '/aaib-reports/aaib-investigation-to-ikarus-c42-fb-uk-g-ikus', ...,\n",
       "       '/yswiriant-gwladol', '/zoo-licence',\n",
       "       '/zoo-licence-northern-ireland'], dtype=object)"
      ]
     },
     "execution_count": 95,
     "metadata": {},
     "output_type": "execute_result"
    }
   ],
   "source": [
    "mappings.base_path.values"
   ]
  },
  {
   "cell_type": "markdown",
   "metadata": {},
   "source": [
    "Create a dictionary mapping full urls of \"parts\" to the `content_id` they refer to"
   ]
  },
  {
   "cell_type": "code",
   "execution_count": 100,
   "metadata": {},
   "outputs": [],
   "source": [
    "map_dict = mappings[['full_part_path','content_id']].\\\n",
    "                            set_index('full_part_path').T.to_dict('records')[0]\n",
    "map_dict.update(dict(zip(mappings.base_path, mappings.content_id)))"
   ]
  },
  {
   "cell_type": "markdown",
   "metadata": {},
   "source": [
    "### Create edgelist\n",
    "Also map href to actual `content_id`"
   ]
  },
  {
   "cell_type": "code",
   "execution_count": 101,
   "metadata": {},
   "outputs": [
    {
     "data": {
      "text/html": [
       "<div>\n",
       "<style scoped>\n",
       "    .dataframe tbody tr th:only-of-type {\n",
       "        vertical-align: middle;\n",
       "    }\n",
       "\n",
       "    .dataframe tbody tr th {\n",
       "        vertical-align: top;\n",
       "    }\n",
       "\n",
       "    .dataframe thead th {\n",
       "        text-align: right;\n",
       "    }\n",
       "</style>\n",
       "<table border=\"1\" class=\"dataframe\">\n",
       "  <thead>\n",
       "    <tr style=\"text-align: right;\">\n",
       "      <th></th>\n",
       "      <th>base_path</th>\n",
       "      <th>content_id</th>\n",
       "      <th>part</th>\n",
       "      <th>full_part_path</th>\n",
       "    </tr>\n",
       "  </thead>\n",
       "  <tbody>\n",
       "    <tr>\n",
       "      <th>8744</th>\n",
       "      <td>/adi-standards-check</td>\n",
       "      <td>2574c147-77ee-4c4d-b149-546d508cb65d</td>\n",
       "      <td>overview</td>\n",
       "      <td>/adi-standards-check/overview</td>\n",
       "    </tr>\n",
       "    <tr>\n",
       "      <th>8745</th>\n",
       "      <td>/adi-standards-check</td>\n",
       "      <td>2574c147-77ee-4c4d-b149-546d508cb65d</td>\n",
       "      <td>book-adi-standards-check</td>\n",
       "      <td>/adi-standards-check/book-adi-standards-check</td>\n",
       "    </tr>\n",
       "    <tr>\n",
       "      <th>8746</th>\n",
       "      <td>/adi-standards-check</td>\n",
       "      <td>2574c147-77ee-4c4d-b149-546d508cb65d</td>\n",
       "      <td>what-to-take-to-your-standards-check</td>\n",
       "      <td>/adi-standards-check/what-to-take-to-your-stan...</td>\n",
       "    </tr>\n",
       "    <tr>\n",
       "      <th>8747</th>\n",
       "      <td>/adi-standards-check</td>\n",
       "      <td>2574c147-77ee-4c4d-b149-546d508cb65d</td>\n",
       "      <td>what-happens-at-the-standards-check</td>\n",
       "      <td>/adi-standards-check/what-happens-at-the-stand...</td>\n",
       "    </tr>\n",
       "    <tr>\n",
       "      <th>8748</th>\n",
       "      <td>/adi-standards-check</td>\n",
       "      <td>2574c147-77ee-4c4d-b149-546d508cb65d</td>\n",
       "      <td>your-standards-check-grade</td>\n",
       "      <td>/adi-standards-check/your-standards-check-grade</td>\n",
       "    </tr>\n",
       "    <tr>\n",
       "      <th>8749</th>\n",
       "      <td>/adi-standards-check</td>\n",
       "      <td>2574c147-77ee-4c4d-b149-546d508cb65d</td>\n",
       "      <td>old-adi-check-test-grades</td>\n",
       "      <td>/adi-standards-check/old-adi-check-test-grades</td>\n",
       "    </tr>\n",
       "  </tbody>\n",
       "</table>\n",
       "</div>"
      ],
      "text/plain": [
       "                 base_path                            content_id  \\\n",
       "8744  /adi-standards-check  2574c147-77ee-4c4d-b149-546d508cb65d   \n",
       "8745  /adi-standards-check  2574c147-77ee-4c4d-b149-546d508cb65d   \n",
       "8746  /adi-standards-check  2574c147-77ee-4c4d-b149-546d508cb65d   \n",
       "8747  /adi-standards-check  2574c147-77ee-4c4d-b149-546d508cb65d   \n",
       "8748  /adi-standards-check  2574c147-77ee-4c4d-b149-546d508cb65d   \n",
       "8749  /adi-standards-check  2574c147-77ee-4c4d-b149-546d508cb65d   \n",
       "\n",
       "                                      part  \\\n",
       "8744                              overview   \n",
       "8745              book-adi-standards-check   \n",
       "8746  what-to-take-to-your-standards-check   \n",
       "8747   what-happens-at-the-standards-check   \n",
       "8748            your-standards-check-grade   \n",
       "8749             old-adi-check-test-grades   \n",
       "\n",
       "                                         full_part_path  \n",
       "8744                      /adi-standards-check/overview  \n",
       "8745      /adi-standards-check/book-adi-standards-check  \n",
       "8746  /adi-standards-check/what-to-take-to-your-stan...  \n",
       "8747  /adi-standards-check/what-happens-at-the-stand...  \n",
       "8748    /adi-standards-check/your-standards-check-grade  \n",
       "8749     /adi-standards-check/old-adi-check-test-grades  "
      ]
     },
     "execution_count": 101,
     "metadata": {},
     "output_type": "execute_result"
    }
   ],
   "source": [
    "mappings[mappings.base_path==\"/adi-standards-check\"]"
   ]
  },
  {
   "cell_type": "code",
   "execution_count": 102,
   "metadata": {},
   "outputs": [
    {
     "data": {
      "text/plain": [
       "[('/aaib-reports/aaib-investigation-to-hawker-sea-fury-t-mk-20-g-rnhf',\n",
       "  '96eacfbe-0385-45ef-9289-8428dacad258'),\n",
       " ('/aaib-reports/aaib-investigation-to-hph-glasflugel-304-es-g-gsgs',\n",
       "  '1d697c99-b1d0-4855-b72d-a97d83a4fc91'),\n",
       " ('/aaib-reports/aaib-investigation-to-ikarus-c42-fb-uk-g-ikus',\n",
       "  '5814334a-77d0-426e-8e78-ff2b05ea6322'),\n",
       " ('/aaib-reports/aaib-investigation-to-ikarus-c42-fb100-g-cehg',\n",
       "  'c8f31c76-eab0-4be6-95a5-5e6e7f32056c'),\n",
       " ('/aaib-reports/aaib-investigation-to-ikarus-c42-fb100-g-zavi',\n",
       "  '4cc0ae15-ad87-42ce-8a89-2bdb14e19e26')]"
      ]
     },
     "execution_count": 102,
     "metadata": {},
     "output_type": "execute_result"
    }
   ],
   "source": [
    "list(map_dict.items())[0:5]"
   ]
  },
  {
   "cell_type": "code",
   "execution_count": 79,
   "metadata": {},
   "outputs": [
    {
     "data": {
      "text/plain": [
       "True"
      ]
     },
     "execution_count": 79,
     "metadata": {},
     "output_type": "execute_result"
    }
   ],
   "source": [
    "bool(re.match(\"^(/|www.gov.uk)\",\"www.gov.uk\"))"
   ]
  },
  {
   "cell_type": "code",
   "execution_count": 104,
   "metadata": {},
   "outputs": [],
   "source": [
    "rowlist = []\n",
    "sbs_details_col = df.columns.get_loc('sbs_details')\n",
    "cid_col = df.columns.get_loc('content_id')\n",
    "base_path_col = df.columns.get_loc('base_path')\n",
    "missing = []\n",
    "outerlinks = []\n",
    "\n",
    "for tup in df.itertuples(index=False):\n",
    "    if not isinstance(tup[sbs_details_col],float):\n",
    "        for i,step in enumerate(tup[sbs_details_col]['steps']):\n",
    "            for content in step['contents']:\n",
    "                if \"contents\" in content.keys():\n",
    "                    for item in content['contents']:\n",
    "                        if \"href\" in item.keys():\n",
    "                            if re.match(\"^(/|www.gov.uk)\",item['href']): \n",
    "                                task_cid = np.nan\n",
    "                                if item['href'] in map_dict.keys():\n",
    "                                    task_cid = map_dict[item['href']]\n",
    "                                else:\n",
    "                                    missing.append(item['href'])\n",
    "                                rowlist.append({\n",
    "                                    'content_id': tup[cid_col],\n",
    "                                    'base_path': tup[base_path_col],\n",
    "                                    'step_title': step['title'],\n",
    "                                    'step_number': i+1,\n",
    "                                    'task_base_path': item['href'],\n",
    "                                    'task_cid' : task_cid})\n",
    "                            else:\n",
    "                                outerlinks.append(item['href'])\n",
    "df_steps = pd.DataFrame(rowlist)"
   ]
  },
  {
   "cell_type": "code",
   "execution_count": 105,
   "metadata": {},
   "outputs": [
    {
     "data": {
      "text/plain": [
       "(6, 6)"
      ]
     },
     "execution_count": 105,
     "metadata": {},
     "output_type": "execute_result"
    }
   ],
   "source": [
    "df_steps[df_steps.task_cid.isna()].shape"
   ]
  },
  {
   "cell_type": "code",
   "execution_count": 106,
   "metadata": {},
   "outputs": [
    {
     "data": {
      "text/plain": [
       "((6, 6), (490, 6))"
      ]
     },
     "execution_count": 106,
     "metadata": {},
     "output_type": "execute_result"
    }
   ],
   "source": [
    "df_steps[df_steps.task_cid.isna()].shape, df_steps.shape"
   ]
  },
  {
   "cell_type": "code",
   "execution_count": 108,
   "metadata": {},
   "outputs": [
    {
     "data": {
      "text/plain": [
       "{'/contact-the-dvla/y/vehicle-tax-and-sorn',\n",
       " '/dbs-check-applicant-criminal-record/how-to-apply-for-a-check',\n",
       " '/foreign-travel-advice',\n",
       " '/government/publications/uk-trade-tariff-excise-duties-reliefs-drawbacks-and-allowances/uk-trade-tariff-excise-duties-reliefs-drawbacks-and-allowances',\n",
       " '/topic/driving-motorcyle-instructors/improving-training-skills'}"
      ]
     },
     "execution_count": 108,
     "metadata": {},
     "output_type": "execute_result"
    }
   ],
   "source": [
    "set(missing)"
   ]
  },
  {
   "cell_type": "markdown",
   "metadata": {},
   "source": [
    "### Save out additional sbs stuff"
   ]
  },
  {
   "cell_type": "code",
   "execution_count": null,
   "metadata": {},
   "outputs": [],
   "source": [
    "# sbs_content_path = os.path.join(DATA_DIR, \"preprocessed_step_by_step_content_en_june.csv.gz\")"
   ]
  },
  {
   "cell_type": "code",
   "execution_count": 113,
   "metadata": {},
   "outputs": [],
   "source": [
    "cid_to_step_path = os.path.join(DATA_DIR, \n",
    "                                \"task_cid_is_part_of_step_title_edgelist.csv\")\n",
    "df_steps[['task_base_path','task_cid','step_title']].to_csv(cid_to_step_path, index=False)"
   ]
  },
  {
   "cell_type": "code",
   "execution_count": 130,
   "metadata": {},
   "outputs": [],
   "source": [
    "node_list = df_steps[['step_title', 'step_number']].drop_duplicates('step_title').\\\n",
    "                        reset_index(drop=True).\\\n",
    "                        reset_index().rename(columns={'index':'step_id'})\n",
    "node_list.to_csv(os.path.join(DATA_DIR, \"step_title_nodelist.csv\"),index=False)"
   ]
  },
  {
   "cell_type": "code",
   "execution_count": 131,
   "metadata": {},
   "outputs": [],
   "source": [
    "step_title_to_cid_path = os.path.join(DATA_DIR, \n",
    "                                      \"step_title_is_part_of_step_by_step_cid_edgelist.csv\")\n",
    "df_steps[['step_title', 'step_number', 'base_path', 'content_id']].\\\n",
    "                                        drop_duplicates('step_title').\\\n",
    "                                        to_csv(step_title_to_cid_path, index=False)"
   ]
  },
  {
   "cell_type": "code",
   "execution_count": null,
   "metadata": {},
   "outputs": [],
   "source": []
  }
 ],
 "metadata": {
  "kernelspec": {
   "display_name": "Python 3",
   "language": "python",
   "name": "python3"
  },
  "language_info": {
   "codemirror_mode": {
    "name": "ipython",
    "version": 3
   },
   "file_extension": ".py",
   "mimetype": "text/x-python",
   "name": "python",
   "nbconvert_exporter": "python",
   "pygments_lexer": "ipython3",
   "version": "3.6.0"
  }
 },
 "nbformat": 4,
 "nbformat_minor": 2
}
